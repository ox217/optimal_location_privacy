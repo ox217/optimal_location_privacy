{
 "cells": [
  {
   "cell_type": "code",
   "execution_count": 1,
   "id": "f4b03deb",
   "metadata": {},
   "outputs": [
    {
     "data": {
      "text/html": [
       "<div class=\"bk-root\">\n",
       "        <a href=\"https://bokeh.org\" target=\"_blank\" class=\"bk-logo bk-logo-small bk-logo-notebook\"></a>\n",
       "        <span id=\"1002\">Loading BokehJS ...</span>\n",
       "    </div>\n"
      ]
     },
     "metadata": {},
     "output_type": "display_data"
    },
    {
     "data": {
      "application/javascript": [
       "(function(root) {\n",
       "  function now() {\n",
       "    return new Date();\n",
       "  }\n",
       "\n",
       "  const force = true;\n",
       "\n",
       "  if (typeof root._bokeh_onload_callbacks === \"undefined\" || force === true) {\n",
       "    root._bokeh_onload_callbacks = [];\n",
       "    root._bokeh_is_loading = undefined;\n",
       "  }\n",
       "\n",
       "const JS_MIME_TYPE = 'application/javascript';\n",
       "  const HTML_MIME_TYPE = 'text/html';\n",
       "  const EXEC_MIME_TYPE = 'application/vnd.bokehjs_exec.v0+json';\n",
       "  const CLASS_NAME = 'output_bokeh rendered_html';\n",
       "\n",
       "  /**\n",
       "   * Render data to the DOM node\n",
       "   */\n",
       "  function render(props, node) {\n",
       "    const script = document.createElement(\"script\");\n",
       "    node.appendChild(script);\n",
       "  }\n",
       "\n",
       "  /**\n",
       "   * Handle when an output is cleared or removed\n",
       "   */\n",
       "  function handleClearOutput(event, handle) {\n",
       "    const cell = handle.cell;\n",
       "\n",
       "    const id = cell.output_area._bokeh_element_id;\n",
       "    const server_id = cell.output_area._bokeh_server_id;\n",
       "    // Clean up Bokeh references\n",
       "    if (id != null && id in Bokeh.index) {\n",
       "      Bokeh.index[id].model.document.clear();\n",
       "      delete Bokeh.index[id];\n",
       "    }\n",
       "\n",
       "    if (server_id !== undefined) {\n",
       "      // Clean up Bokeh references\n",
       "      const cmd_clean = \"from bokeh.io.state import curstate; print(curstate().uuid_to_server['\" + server_id + \"'].get_sessions()[0].document.roots[0]._id)\";\n",
       "      cell.notebook.kernel.execute(cmd_clean, {\n",
       "        iopub: {\n",
       "          output: function(msg) {\n",
       "            const id = msg.content.text.trim();\n",
       "            if (id in Bokeh.index) {\n",
       "              Bokeh.index[id].model.document.clear();\n",
       "              delete Bokeh.index[id];\n",
       "            }\n",
       "          }\n",
       "        }\n",
       "      });\n",
       "      // Destroy server and session\n",
       "      const cmd_destroy = \"import bokeh.io.notebook as ion; ion.destroy_server('\" + server_id + \"')\";\n",
       "      cell.notebook.kernel.execute(cmd_destroy);\n",
       "    }\n",
       "  }\n",
       "\n",
       "  /**\n",
       "   * Handle when a new output is added\n",
       "   */\n",
       "  function handleAddOutput(event, handle) {\n",
       "    const output_area = handle.output_area;\n",
       "    const output = handle.output;\n",
       "\n",
       "    // limit handleAddOutput to display_data with EXEC_MIME_TYPE content only\n",
       "    if ((output.output_type != \"display_data\") || (!Object.prototype.hasOwnProperty.call(output.data, EXEC_MIME_TYPE))) {\n",
       "      return\n",
       "    }\n",
       "\n",
       "    const toinsert = output_area.element.find(\".\" + CLASS_NAME.split(' ')[0]);\n",
       "\n",
       "    if (output.metadata[EXEC_MIME_TYPE][\"id\"] !== undefined) {\n",
       "      toinsert[toinsert.length - 1].firstChild.textContent = output.data[JS_MIME_TYPE];\n",
       "      // store reference to embed id on output_area\n",
       "      output_area._bokeh_element_id = output.metadata[EXEC_MIME_TYPE][\"id\"];\n",
       "    }\n",
       "    if (output.metadata[EXEC_MIME_TYPE][\"server_id\"] !== undefined) {\n",
       "      const bk_div = document.createElement(\"div\");\n",
       "      bk_div.innerHTML = output.data[HTML_MIME_TYPE];\n",
       "      const script_attrs = bk_div.children[0].attributes;\n",
       "      for (let i = 0; i < script_attrs.length; i++) {\n",
       "        toinsert[toinsert.length - 1].firstChild.setAttribute(script_attrs[i].name, script_attrs[i].value);\n",
       "        toinsert[toinsert.length - 1].firstChild.textContent = bk_div.children[0].textContent\n",
       "      }\n",
       "      // store reference to server id on output_area\n",
       "      output_area._bokeh_server_id = output.metadata[EXEC_MIME_TYPE][\"server_id\"];\n",
       "    }\n",
       "  }\n",
       "\n",
       "  function register_renderer(events, OutputArea) {\n",
       "\n",
       "    function append_mime(data, metadata, element) {\n",
       "      // create a DOM node to render to\n",
       "      const toinsert = this.create_output_subarea(\n",
       "        metadata,\n",
       "        CLASS_NAME,\n",
       "        EXEC_MIME_TYPE\n",
       "      );\n",
       "      this.keyboard_manager.register_events(toinsert);\n",
       "      // Render to node\n",
       "      const props = {data: data, metadata: metadata[EXEC_MIME_TYPE]};\n",
       "      render(props, toinsert[toinsert.length - 1]);\n",
       "      element.append(toinsert);\n",
       "      return toinsert\n",
       "    }\n",
       "\n",
       "    /* Handle when an output is cleared or removed */\n",
       "    events.on('clear_output.CodeCell', handleClearOutput);\n",
       "    events.on('delete.Cell', handleClearOutput);\n",
       "\n",
       "    /* Handle when a new output is added */\n",
       "    events.on('output_added.OutputArea', handleAddOutput);\n",
       "\n",
       "    /**\n",
       "     * Register the mime type and append_mime function with output_area\n",
       "     */\n",
       "    OutputArea.prototype.register_mime_type(EXEC_MIME_TYPE, append_mime, {\n",
       "      /* Is output safe? */\n",
       "      safe: true,\n",
       "      /* Index of renderer in `output_area.display_order` */\n",
       "      index: 0\n",
       "    });\n",
       "  }\n",
       "\n",
       "  // register the mime type if in Jupyter Notebook environment and previously unregistered\n",
       "  if (root.Jupyter !== undefined) {\n",
       "    const events = require('base/js/events');\n",
       "    const OutputArea = require('notebook/js/outputarea').OutputArea;\n",
       "\n",
       "    if (OutputArea.prototype.mime_types().indexOf(EXEC_MIME_TYPE) == -1) {\n",
       "      register_renderer(events, OutputArea);\n",
       "    }\n",
       "  }\n",
       "  if (typeof (root._bokeh_timeout) === \"undefined\" || force === true) {\n",
       "    root._bokeh_timeout = Date.now() + 5000;\n",
       "    root._bokeh_failed_load = false;\n",
       "  }\n",
       "\n",
       "  const NB_LOAD_WARNING = {'data': {'text/html':\n",
       "     \"<div style='background-color: #fdd'>\\n\"+\n",
       "     \"<p>\\n\"+\n",
       "     \"BokehJS does not appear to have successfully loaded. If loading BokehJS from CDN, this \\n\"+\n",
       "     \"may be due to a slow or bad network connection. Possible fixes:\\n\"+\n",
       "     \"</p>\\n\"+\n",
       "     \"<ul>\\n\"+\n",
       "     \"<li>re-rerun `output_notebook()` to attempt to load from CDN again, or</li>\\n\"+\n",
       "     \"<li>use INLINE resources instead, as so:</li>\\n\"+\n",
       "     \"</ul>\\n\"+\n",
       "     \"<code>\\n\"+\n",
       "     \"from bokeh.resources import INLINE\\n\"+\n",
       "     \"output_notebook(resources=INLINE)\\n\"+\n",
       "     \"</code>\\n\"+\n",
       "     \"</div>\"}};\n",
       "\n",
       "  function display_loaded() {\n",
       "    const el = document.getElementById(\"1002\");\n",
       "    if (el != null) {\n",
       "      el.textContent = \"BokehJS is loading...\";\n",
       "    }\n",
       "    if (root.Bokeh !== undefined) {\n",
       "      if (el != null) {\n",
       "        el.textContent = \"BokehJS \" + root.Bokeh.version + \" successfully loaded.\";\n",
       "      }\n",
       "    } else if (Date.now() < root._bokeh_timeout) {\n",
       "      setTimeout(display_loaded, 100)\n",
       "    }\n",
       "  }\n",
       "\n",
       "  function run_callbacks() {\n",
       "    try {\n",
       "      root._bokeh_onload_callbacks.forEach(function(callback) {\n",
       "        if (callback != null)\n",
       "          callback();\n",
       "      });\n",
       "    } finally {\n",
       "      delete root._bokeh_onload_callbacks\n",
       "    }\n",
       "    console.debug(\"Bokeh: all callbacks have finished\");\n",
       "  }\n",
       "\n",
       "  function load_libs(css_urls, js_urls, callback) {\n",
       "    if (css_urls == null) css_urls = [];\n",
       "    if (js_urls == null) js_urls = [];\n",
       "\n",
       "    root._bokeh_onload_callbacks.push(callback);\n",
       "    if (root._bokeh_is_loading > 0) {\n",
       "      console.debug(\"Bokeh: BokehJS is being loaded, scheduling callback at\", now());\n",
       "      return null;\n",
       "    }\n",
       "    if (js_urls == null || js_urls.length === 0) {\n",
       "      run_callbacks();\n",
       "      return null;\n",
       "    }\n",
       "    console.debug(\"Bokeh: BokehJS not loaded, scheduling load and callback at\", now());\n",
       "    root._bokeh_is_loading = css_urls.length + js_urls.length;\n",
       "\n",
       "    function on_load() {\n",
       "      root._bokeh_is_loading--;\n",
       "      if (root._bokeh_is_loading === 0) {\n",
       "        console.debug(\"Bokeh: all BokehJS libraries/stylesheets loaded\");\n",
       "        run_callbacks()\n",
       "      }\n",
       "    }\n",
       "\n",
       "    function on_error(url) {\n",
       "      console.error(\"failed to load \" + url);\n",
       "    }\n",
       "\n",
       "    for (let i = 0; i < css_urls.length; i++) {\n",
       "      const url = css_urls[i];\n",
       "      const element = document.createElement(\"link\");\n",
       "      element.onload = on_load;\n",
       "      element.onerror = on_error.bind(null, url);\n",
       "      element.rel = \"stylesheet\";\n",
       "      element.type = \"text/css\";\n",
       "      element.href = url;\n",
       "      console.debug(\"Bokeh: injecting link tag for BokehJS stylesheet: \", url);\n",
       "      document.body.appendChild(element);\n",
       "    }\n",
       "\n",
       "    for (let i = 0; i < js_urls.length; i++) {\n",
       "      const url = js_urls[i];\n",
       "      const element = document.createElement('script');\n",
       "      element.onload = on_load;\n",
       "      element.onerror = on_error.bind(null, url);\n",
       "      element.async = false;\n",
       "      element.src = url;\n",
       "      console.debug(\"Bokeh: injecting script tag for BokehJS library: \", url);\n",
       "      document.head.appendChild(element);\n",
       "    }\n",
       "  };\n",
       "\n",
       "  function inject_raw_css(css) {\n",
       "    const element = document.createElement(\"style\");\n",
       "    element.appendChild(document.createTextNode(css));\n",
       "    document.body.appendChild(element);\n",
       "  }\n",
       "\n",
       "  const js_urls = [\"https://cdn.bokeh.org/bokeh/release/bokeh-2.4.3.min.js\", \"https://cdn.bokeh.org/bokeh/release/bokeh-gl-2.4.3.min.js\", \"https://cdn.bokeh.org/bokeh/release/bokeh-widgets-2.4.3.min.js\", \"https://cdn.bokeh.org/bokeh/release/bokeh-tables-2.4.3.min.js\", \"https://cdn.bokeh.org/bokeh/release/bokeh-mathjax-2.4.3.min.js\"];\n",
       "  const css_urls = [];\n",
       "\n",
       "  const inline_js = [    function(Bokeh) {\n",
       "      Bokeh.set_log_level(\"info\");\n",
       "    },\n",
       "function(Bokeh) {\n",
       "    }\n",
       "  ];\n",
       "\n",
       "  function run_inline_js() {\n",
       "    if (root.Bokeh !== undefined || force === true) {\n",
       "          for (let i = 0; i < inline_js.length; i++) {\n",
       "      inline_js[i].call(root, root.Bokeh);\n",
       "    }\n",
       "if (force === true) {\n",
       "        display_loaded();\n",
       "      }} else if (Date.now() < root._bokeh_timeout) {\n",
       "      setTimeout(run_inline_js, 100);\n",
       "    } else if (!root._bokeh_failed_load) {\n",
       "      console.log(\"Bokeh: BokehJS failed to load within specified timeout.\");\n",
       "      root._bokeh_failed_load = true;\n",
       "    } else if (force !== true) {\n",
       "      const cell = $(document.getElementById(\"1002\")).parents('.cell').data().cell;\n",
       "      cell.output_area.append_execute_result(NB_LOAD_WARNING)\n",
       "    }\n",
       "  }\n",
       "\n",
       "  if (root._bokeh_is_loading === 0) {\n",
       "    console.debug(\"Bokeh: BokehJS loaded, going straight to plotting\");\n",
       "    run_inline_js();\n",
       "  } else {\n",
       "    load_libs(css_urls, js_urls, function() {\n",
       "      console.debug(\"Bokeh: BokehJS plotting callback run at\", now());\n",
       "      run_inline_js();\n",
       "    });\n",
       "  }\n",
       "}(window));"
      ],
      "application/vnd.bokehjs_load.v0+json": "(function(root) {\n  function now() {\n    return new Date();\n  }\n\n  const force = true;\n\n  if (typeof root._bokeh_onload_callbacks === \"undefined\" || force === true) {\n    root._bokeh_onload_callbacks = [];\n    root._bokeh_is_loading = undefined;\n  }\n\n\n  if (typeof (root._bokeh_timeout) === \"undefined\" || force === true) {\n    root._bokeh_timeout = Date.now() + 5000;\n    root._bokeh_failed_load = false;\n  }\n\n  const NB_LOAD_WARNING = {'data': {'text/html':\n     \"<div style='background-color: #fdd'>\\n\"+\n     \"<p>\\n\"+\n     \"BokehJS does not appear to have successfully loaded. If loading BokehJS from CDN, this \\n\"+\n     \"may be due to a slow or bad network connection. Possible fixes:\\n\"+\n     \"</p>\\n\"+\n     \"<ul>\\n\"+\n     \"<li>re-rerun `output_notebook()` to attempt to load from CDN again, or</li>\\n\"+\n     \"<li>use INLINE resources instead, as so:</li>\\n\"+\n     \"</ul>\\n\"+\n     \"<code>\\n\"+\n     \"from bokeh.resources import INLINE\\n\"+\n     \"output_notebook(resources=INLINE)\\n\"+\n     \"</code>\\n\"+\n     \"</div>\"}};\n\n  function display_loaded() {\n    const el = document.getElementById(\"1002\");\n    if (el != null) {\n      el.textContent = \"BokehJS is loading...\";\n    }\n    if (root.Bokeh !== undefined) {\n      if (el != null) {\n        el.textContent = \"BokehJS \" + root.Bokeh.version + \" successfully loaded.\";\n      }\n    } else if (Date.now() < root._bokeh_timeout) {\n      setTimeout(display_loaded, 100)\n    }\n  }\n\n  function run_callbacks() {\n    try {\n      root._bokeh_onload_callbacks.forEach(function(callback) {\n        if (callback != null)\n          callback();\n      });\n    } finally {\n      delete root._bokeh_onload_callbacks\n    }\n    console.debug(\"Bokeh: all callbacks have finished\");\n  }\n\n  function load_libs(css_urls, js_urls, callback) {\n    if (css_urls == null) css_urls = [];\n    if (js_urls == null) js_urls = [];\n\n    root._bokeh_onload_callbacks.push(callback);\n    if (root._bokeh_is_loading > 0) {\n      console.debug(\"Bokeh: BokehJS is being loaded, scheduling callback at\", now());\n      return null;\n    }\n    if (js_urls == null || js_urls.length === 0) {\n      run_callbacks();\n      return null;\n    }\n    console.debug(\"Bokeh: BokehJS not loaded, scheduling load and callback at\", now());\n    root._bokeh_is_loading = css_urls.length + js_urls.length;\n\n    function on_load() {\n      root._bokeh_is_loading--;\n      if (root._bokeh_is_loading === 0) {\n        console.debug(\"Bokeh: all BokehJS libraries/stylesheets loaded\");\n        run_callbacks()\n      }\n    }\n\n    function on_error(url) {\n      console.error(\"failed to load \" + url);\n    }\n\n    for (let i = 0; i < css_urls.length; i++) {\n      const url = css_urls[i];\n      const element = document.createElement(\"link\");\n      element.onload = on_load;\n      element.onerror = on_error.bind(null, url);\n      element.rel = \"stylesheet\";\n      element.type = \"text/css\";\n      element.href = url;\n      console.debug(\"Bokeh: injecting link tag for BokehJS stylesheet: \", url);\n      document.body.appendChild(element);\n    }\n\n    for (let i = 0; i < js_urls.length; i++) {\n      const url = js_urls[i];\n      const element = document.createElement('script');\n      element.onload = on_load;\n      element.onerror = on_error.bind(null, url);\n      element.async = false;\n      element.src = url;\n      console.debug(\"Bokeh: injecting script tag for BokehJS library: \", url);\n      document.head.appendChild(element);\n    }\n  };\n\n  function inject_raw_css(css) {\n    const element = document.createElement(\"style\");\n    element.appendChild(document.createTextNode(css));\n    document.body.appendChild(element);\n  }\n\n  const js_urls = [\"https://cdn.bokeh.org/bokeh/release/bokeh-2.4.3.min.js\", \"https://cdn.bokeh.org/bokeh/release/bokeh-gl-2.4.3.min.js\", \"https://cdn.bokeh.org/bokeh/release/bokeh-widgets-2.4.3.min.js\", \"https://cdn.bokeh.org/bokeh/release/bokeh-tables-2.4.3.min.js\", \"https://cdn.bokeh.org/bokeh/release/bokeh-mathjax-2.4.3.min.js\"];\n  const css_urls = [];\n\n  const inline_js = [    function(Bokeh) {\n      Bokeh.set_log_level(\"info\");\n    },\nfunction(Bokeh) {\n    }\n  ];\n\n  function run_inline_js() {\n    if (root.Bokeh !== undefined || force === true) {\n          for (let i = 0; i < inline_js.length; i++) {\n      inline_js[i].call(root, root.Bokeh);\n    }\nif (force === true) {\n        display_loaded();\n      }} else if (Date.now() < root._bokeh_timeout) {\n      setTimeout(run_inline_js, 100);\n    } else if (!root._bokeh_failed_load) {\n      console.log(\"Bokeh: BokehJS failed to load within specified timeout.\");\n      root._bokeh_failed_load = true;\n    } else if (force !== true) {\n      const cell = $(document.getElementById(\"1002\")).parents('.cell').data().cell;\n      cell.output_area.append_execute_result(NB_LOAD_WARNING)\n    }\n  }\n\n  if (root._bokeh_is_loading === 0) {\n    console.debug(\"Bokeh: BokehJS loaded, going straight to plotting\");\n    run_inline_js();\n  } else {\n    load_libs(css_urls, js_urls, function() {\n      console.debug(\"Bokeh: BokehJS plotting callback run at\", now());\n      run_inline_js();\n    });\n  }\n}(window));"
     },
     "metadata": {},
     "output_type": "display_data"
    }
   ],
   "source": [
    "import pandas as pd\n",
    "import numpy as np\n",
    "import math \n",
    "import os \n",
    "from datetime import datetime, timedelta\n",
    "import pymap3d # python3 -m pip install pymap3d\n",
    "import random\n",
    "import pickle\n",
    "from scipy.special import lambertw\n",
    "from scipy import stats\n",
    "from IPython.display import clear_output\n",
    "import matplotlib.pyplot as plt\n",
    "%matplotlib inline\n",
    "from bokeh.plotting import figure, show, output_notebook, output_file, reset_output, save\n",
    "from bokeh.layouts import gridplot, row, column\n",
    "from bokeh.models import Range1d\n",
    "output_notebook() \n",
    "# output_notebook() \n",
    "\n",
    "save_data_bool = False # Save data or not"
   ]
  },
  {
   "cell_type": "markdown",
   "id": "1aad7b0e",
   "metadata": {},
   "source": [
    "## Import data"
   ]
  },
  {
   "cell_type": "code",
   "execution_count": 2,
   "id": "0d1fe33e",
   "metadata": {},
   "outputs": [],
   "source": [
    "dataset=\"cabspotting\" # OPTIONS ARE: cabspotting privamov\n",
    "user=\"oilrag\" # Examples: abboip oilrag 51 90 14"
   ]
  },
  {
   "cell_type": "code",
   "execution_count": 3,
   "id": "6bfb5b82",
   "metadata": {},
   "outputs": [
    {
     "name": "stdout",
     "output_type": "stream",
     "text": [
      "uploaded from local file\n"
     ]
    }
   ],
   "source": [
    "local_url=\"datasets/\"+dataset+\"-tree/\"+user+\".csv\"\n",
    "sol_file='solutions/'+dataset+'/'+user\n",
    "exists = os.path.isfile(local_url)\n",
    "if exists:\n",
    "    data = pd.read_csv(local_url,names=[\"latitude\",\"longitude\",\"timestamp\"])\n",
    "    print(\"uploaded from local file\")\n",
    "else:\n",
    "    print(\"data not found\")\n",
    "#[x,y,time]=import_trace(dataset,user)\n",
    "\n",
    "\n",
    "if not os.path.exists(sol_file):\n",
    "    os.makedirs(sol_file)\n",
    "\n",
    "    "
   ]
  },
  {
   "cell_type": "code",
   "execution_count": 4,
   "id": "f2bf8c3f",
   "metadata": {},
   "outputs": [
    {
     "name": "stdout",
     "output_type": "stream",
     "text": [
      "Whole duration: 1126 min\n"
     ]
    }
   ],
   "source": [
    "data['time']=[datetime.utcfromtimestamp(tstamp/1000) for tstamp in data['timestamp']]\n",
    "data['elapsedtime']=(data['timestamp']-data['timestamp'][0])/1000\n",
    "whole_duration = data['elapsedtime'][len(data['timestamp'])-1]/60\n",
    "print('Whole duration: '+str(math.floor(whole_duration))+' min')"
   ]
  },
  {
   "cell_type": "code",
   "execution_count": 5,
   "id": "1b1a5164",
   "metadata": {
    "scrolled": true
   },
   "outputs": [
    {
     "data": {
      "text/html": [
       "<div>\n",
       "<style scoped>\n",
       "    .dataframe tbody tr th:only-of-type {\n",
       "        vertical-align: middle;\n",
       "    }\n",
       "\n",
       "    .dataframe tbody tr th {\n",
       "        vertical-align: top;\n",
       "    }\n",
       "\n",
       "    .dataframe thead th {\n",
       "        text-align: right;\n",
       "    }\n",
       "</style>\n",
       "<table border=\"1\" class=\"dataframe\">\n",
       "  <thead>\n",
       "    <tr style=\"text-align: right;\">\n",
       "      <th></th>\n",
       "      <th>latitude</th>\n",
       "      <th>longitude</th>\n",
       "      <th>timestamp</th>\n",
       "      <th>elapsedtime</th>\n",
       "      <th>altitude</th>\n",
       "      <th>x</th>\n",
       "      <th>y</th>\n",
       "      <th>u_enu</th>\n",
       "    </tr>\n",
       "    <tr>\n",
       "      <th>time</th>\n",
       "      <th></th>\n",
       "      <th></th>\n",
       "      <th></th>\n",
       "      <th></th>\n",
       "      <th></th>\n",
       "      <th></th>\n",
       "      <th></th>\n",
       "      <th></th>\n",
       "    </tr>\n",
       "  </thead>\n",
       "  <tbody>\n",
       "    <tr>\n",
       "      <th>2008-05-17 10:00:06</th>\n",
       "      <td>37.74574</td>\n",
       "      <td>-122.42685</td>\n",
       "      <td>1211018406000</td>\n",
       "      <td>0.0</td>\n",
       "      <td>0.0</td>\n",
       "      <td>0.000000</td>\n",
       "      <td>0.000000</td>\n",
       "      <td>0.000000</td>\n",
       "    </tr>\n",
       "    <tr>\n",
       "      <th>2008-05-17 10:01:17</th>\n",
       "      <td>37.74967</td>\n",
       "      <td>-122.42729</td>\n",
       "      <td>1211018477000</td>\n",
       "      <td>71.0</td>\n",
       "      <td>0.0</td>\n",
       "      <td>-38.777282</td>\n",
       "      <td>436.197503</td>\n",
       "      <td>-0.015077</td>\n",
       "    </tr>\n",
       "    <tr>\n",
       "      <th>2008-05-17 10:03:13</th>\n",
       "      <td>37.75233</td>\n",
       "      <td>-122.43419</td>\n",
       "      <td>1211018593000</td>\n",
       "      <td>187.0</td>\n",
       "      <td>0.0</td>\n",
       "      <td>-646.852405</td>\n",
       "      <td>731.460882</td>\n",
       "      <td>-0.074827</td>\n",
       "    </tr>\n",
       "    <tr>\n",
       "      <th>2008-05-17 10:04:03</th>\n",
       "      <td>37.75696</td>\n",
       "      <td>-122.43463</td>\n",
       "      <td>1211018643000</td>\n",
       "      <td>237.0</td>\n",
       "      <td>0.0</td>\n",
       "      <td>-685.585574</td>\n",
       "      <td>1245.356220</td>\n",
       "      <td>-0.158740</td>\n",
       "    </tr>\n",
       "    <tr>\n",
       "      <th>2008-05-17 10:05:13</th>\n",
       "      <td>37.76122</td>\n",
       "      <td>-122.43501</td>\n",
       "      <td>1211018713000</td>\n",
       "      <td>307.0</td>\n",
       "      <td>0.0</td>\n",
       "      <td>-719.030524</td>\n",
       "      <td>1718.184648</td>\n",
       "      <td>-0.272590</td>\n",
       "    </tr>\n",
       "  </tbody>\n",
       "</table>\n",
       "</div>"
      ],
      "text/plain": [
       "                     latitude  longitude      timestamp  elapsedtime  \\\n",
       "time                                                                   \n",
       "2008-05-17 10:00:06  37.74574 -122.42685  1211018406000          0.0   \n",
       "2008-05-17 10:01:17  37.74967 -122.42729  1211018477000         71.0   \n",
       "2008-05-17 10:03:13  37.75233 -122.43419  1211018593000        187.0   \n",
       "2008-05-17 10:04:03  37.75696 -122.43463  1211018643000        237.0   \n",
       "2008-05-17 10:05:13  37.76122 -122.43501  1211018713000        307.0   \n",
       "\n",
       "                     altitude           x            y     u_enu  \n",
       "time                                                              \n",
       "2008-05-17 10:00:06       0.0    0.000000     0.000000  0.000000  \n",
       "2008-05-17 10:01:17       0.0  -38.777282   436.197503 -0.015077  \n",
       "2008-05-17 10:03:13       0.0 -646.852405   731.460882 -0.074827  \n",
       "2008-05-17 10:04:03       0.0 -685.585574  1245.356220 -0.158740  \n",
       "2008-05-17 10:05:13       0.0 -719.030524  1718.184648 -0.272590  "
      ]
     },
     "execution_count": 5,
     "metadata": {},
     "output_type": "execute_result"
    }
   ],
   "source": [
    "data=data.set_index('time').sort_index().copy()\n",
    "ell_grs80 = pymap3d.Ellipsoid('grs80') \n",
    "data['altitude']=np.zeros(len(data.index))\n",
    "lat0, lon0, h0 = data['latitude'][0],data['longitude'][0],data['altitude'][0]\n",
    "data['x'], data['y'], data['u_enu'] = pymap3d.geodetic2enu(data['latitude'], data['longitude'], data['altitude'], lat0, lon0, h0, ell=ell_grs80)\n",
    "data.head()"
   ]
  },
  {
   "cell_type": "markdown",
   "id": "9588ac3c",
   "metadata": {},
   "source": [
    "Code for resampling the data: for every ts-long interval, $[i t_s, \\ (i+1) t_s ]$, the mean of the transmitted data is computed and associated to the smpling instant $(i+1) t_s$."
   ]
  },
  {
   "cell_type": "code",
   "execution_count": 6,
   "id": "c37002ff",
   "metadata": {},
   "outputs": [],
   "source": [
    "# Real transmitted data in seconds\n",
    "Tmin = 0\n",
    "Tmax = 5000 \n",
    "# Tmax = data['elapsedtime'][-1]\n",
    "xr = data['x'][(data['elapsedtime'] >= Tmin) & (data['elapsedtime'] < Tmax)]\n",
    "yr = data['y'][(data['elapsedtime'] >= Tmin) & (data['elapsedtime'] < Tmax)]\n",
    "ur = data['u_enu'][(data['elapsedtime'] >= Tmin) & (data['elapsedtime'] < Tmax)]\n",
    "Timer = data['elapsedtime'][(data['elapsedtime'] >= Tmin) & (data['elapsedtime'] < Tmax)]"
   ]
  },
  {
   "cell_type": "code",
   "execution_count": 7,
   "id": "ca345c21",
   "metadata": {
    "scrolled": true
   },
   "outputs": [
    {
     "name": "stdout",
     "output_type": "stream",
     "text": [
      "number of points 160\n"
     ]
    }
   ],
   "source": [
    "# Resampling the data with sample time ts, averaging over the intervals\n",
    "ts = 30  # Sampling time\n",
    "tmax = Timer[-1]  # Final time\n",
    "nt = int(tmax/ts)+1\n",
    "print('number of points',nt)\n",
    "\n",
    "newx = []\n",
    "newy = []\n",
    "newu = []\n",
    "newb = []\n",
    "newTimer = []\n",
    "for i in range(0,nt):\n",
    "    xt = data['x'][(data['elapsedtime'] >= i*ts) & (data['elapsedtime'] < (i+1)*ts)].mean() \n",
    "    yt = data['y'][(data['elapsedtime'] >= i*ts) & (data['elapsedtime'] < (i+1)*ts)].mean() \n",
    "    ut = data['u_enu'][(data['elapsedtime'] >= i*ts) & (data['elapsedtime'] < (i+1)*ts)].mean() \n",
    "    if np.isnan(xt) == False:\n",
    "        newx += [xt]\n",
    "        newy += [yt]\n",
    "        newu += [ut]\n",
    "        newb += [1]\n",
    "    else:  # Fill with zeros when no transmitted\n",
    "        newx += [0]\n",
    "        newy += [0]\n",
    "        newu += [0]\n",
    "        newb += [0]\n",
    "    newTimer += [(i+1)*ts]\n",
    "\n",
    "xs = np.array(newx)\n",
    "ys = np.array(newy)\n",
    "bs = np.array(newb)\n",
    "us = np.array(newu)\n",
    "Time = np.array(newTimer)\n"
   ]
  },
  {
   "cell_type": "code",
   "execution_count": 8,
   "id": "b0279dca",
   "metadata": {},
   "outputs": [],
   "source": [
    "save_data_raw = pd.DataFrame()\n",
    "save_data_raw['Timer'] = Timer\n",
    "save_data_raw['xr'] = xr\n",
    "save_data_raw['yr'] = yr\n",
    "pickle.dump( save_data_raw, open( sol_file+\"/save_data_raw.pkl\", \"wb\" ) )\n",
    "save_data_raw.to_csv(sol_file+'/save_data_raw.csv')\n",
    "\n",
    "save_data = pd.DataFrame()\n",
    "save_data['Time'] = Time\n",
    "save_data['xs'] = xs\n",
    "save_data['ys'] = ys\n",
    "save_data['us'] = us\n",
    "save_data['bs'] = bs\n",
    "pickle.dump( save_data, open( sol_file+\"/save_data.pkl\", \"wb\" ) )\n",
    "save_data.to_csv(sol_file+'/save_data.csv')\n"
   ]
  },
  {
   "cell_type": "code",
   "execution_count": 9,
   "id": "e2128f04",
   "metadata": {},
   "outputs": [],
   "source": [
    "save_data_raw = pickle.load( open( sol_file+\"/save_data_raw.pkl\", \"rb\" ) )\n",
    "save_data = pickle.load( open( sol_file+\"/save_data.pkl\", \"rb\" ) )"
   ]
  },
  {
   "cell_type": "code",
   "execution_count": 10,
   "id": "f8a24c78",
   "metadata": {},
   "outputs": [],
   "source": [
    "# Vector for plotting, removed the non-transmitted instants\n",
    "Timep = Time[bs != 0]\n",
    "xsp = xs[bs != 0] \n",
    "ysp = ys[bs != 0] "
   ]
  },
  {
   "cell_type": "code",
   "execution_count": 11,
   "id": "c6880574",
   "metadata": {
    "scrolled": false
   },
   "outputs": [
    {
     "data": {
      "text/html": [
       "\n",
       "  <div class=\"bk-root\" id=\"7f7f169f-93f6-4521-9ada-7e8a4223de08\" data-root-id=\"1003\"></div>\n"
      ]
     },
     "metadata": {},
     "output_type": "display_data"
    },
    {
     "data": {
      "application/javascript": [
       "(function(root) {\n",
       "  function embed_document(root) {\n",
       "  const docs_json = {\"321e2909-c9c8-4add-b28b-41262827f037\":{\"defs\":[],\"roots\":{\"references\":[{\"attributes\":{\"below\":[{\"id\":\"1012\"}],\"center\":[{\"id\":\"1015\"},{\"id\":\"1019\"},{\"id\":\"1051\"}],\"height\":450,\"left\":[{\"id\":\"1016\"}],\"renderers\":[{\"id\":\"1038\"},{\"id\":\"1057\"},{\"id\":\"1076\"},{\"id\":\"1097\"},{\"id\":\"1120\"},{\"id\":\"1146\"},{\"id\":\"1173\"},{\"id\":\"1202\"}],\"title\":{\"id\":\"1040\"},\"toolbar\":{\"id\":\"1027\"},\"width\":900,\"x_range\":{\"id\":\"1004\"},\"x_scale\":{\"id\":\"1008\"},\"y_range\":{\"id\":\"1006\"},\"y_scale\":{\"id\":\"1010\"}},\"id\":\"1003\",\"subtype\":\"Figure\",\"type\":\"Plot\"},{\"attributes\":{\"coordinates\":null,\"group\":null},\"id\":\"1040\",\"type\":\"Title\"},{\"attributes\":{\"line_alpha\":0.2,\"line_color\":\"red\",\"x\":{\"field\":\"x\"},\"y\":{\"field\":\"y\"}},\"id\":\"1172\",\"type\":\"Line\"},{\"attributes\":{\"coordinates\":null,\"data_source\":{\"id\":\"1169\"},\"glyph\":{\"id\":\"1170\"},\"group\":null,\"hover_glyph\":null,\"muted_glyph\":{\"id\":\"1172\"},\"nonselection_glyph\":{\"id\":\"1171\"},\"view\":{\"id\":\"1174\"}},\"id\":\"1173\",\"type\":\"GlyphRenderer\"},{\"attributes\":{\"source\":{\"id\":\"1169\"}},\"id\":\"1174\",\"type\":\"CDSView\"},{\"attributes\":{},\"id\":\"1020\",\"type\":\"PanTool\"},{\"attributes\":{},\"id\":\"1024\",\"type\":\"ResetTool\"},{\"attributes\":{},\"id\":\"1021\",\"type\":\"WheelZoomTool\"},{\"attributes\":{\"line_alpha\":0.2,\"line_color\":\"navy\",\"x\":{\"field\":\"x\"},\"y\":{\"field\":\"y\"}},\"id\":\"1037\",\"type\":\"Line\"},{\"attributes\":{\"overlay\":{\"id\":\"1026\"}},\"id\":\"1022\",\"type\":\"BoxZoomTool\"},{\"attributes\":{},\"id\":\"1196\",\"type\":\"Selection\"},{\"attributes\":{},\"id\":\"1023\",\"type\":\"SaveTool\"},{\"attributes\":{},\"id\":\"1025\",\"type\":\"HelpTool\"},{\"attributes\":{},\"id\":\"1195\",\"type\":\"UnionRenderers\"},{\"attributes\":{\"tools\":[{\"id\":\"1020\"},{\"id\":\"1021\"},{\"id\":\"1022\"},{\"id\":\"1023\"},{\"id\":\"1024\"},{\"id\":\"1025\"}]},\"id\":\"1027\",\"type\":\"Toolbar\"},{\"attributes\":{},\"id\":\"1008\",\"type\":\"LinearScale\"},{\"attributes\":{\"source\":{\"id\":\"1198\"}},\"id\":\"1203\",\"type\":\"CDSView\"},{\"attributes\":{},\"id\":\"1226\",\"type\":\"UnionRenderers\"},{\"attributes\":{},\"id\":\"1227\",\"type\":\"Selection\"},{\"attributes\":{\"bottom_units\":\"screen\",\"coordinates\":null,\"fill_alpha\":0.5,\"fill_color\":\"lightgrey\",\"group\":null,\"left_units\":\"screen\",\"level\":\"overlay\",\"line_alpha\":1.0,\"line_color\":\"black\",\"line_dash\":[4,4],\"line_width\":2,\"right_units\":\"screen\",\"syncable\":false,\"top_units\":\"screen\"},\"id\":\"1026\",\"type\":\"BoxAnnotation\"},{\"attributes\":{\"coordinates\":null,\"data_source\":{\"id\":\"1034\"},\"glyph\":{\"id\":\"1035\"},\"group\":null,\"hover_glyph\":null,\"muted_glyph\":{\"id\":\"1037\"},\"nonselection_glyph\":{\"id\":\"1036\"},\"view\":{\"id\":\"1039\"}},\"id\":\"1038\",\"type\":\"GlyphRenderer\"},{\"attributes\":{\"coordinates\":null,\"data_source\":{\"id\":\"1198\"},\"glyph\":{\"id\":\"1199\"},\"group\":null,\"hover_glyph\":null,\"muted_glyph\":{\"id\":\"1201\"},\"nonselection_glyph\":{\"id\":\"1200\"},\"view\":{\"id\":\"1203\"}},\"id\":\"1202\",\"type\":\"GlyphRenderer\"},{\"attributes\":{},\"id\":\"1069\",\"type\":\"UnionRenderers\"},{\"attributes\":{\"fill_color\":{\"value\":\"pink\"},\"hatch_color\":{\"value\":\"pink\"},\"line_color\":{\"value\":\"red\"},\"x\":{\"field\":\"x\"},\"y\":{\"field\":\"y\"}},\"id\":\"1199\",\"type\":\"Circle\"},{\"attributes\":{\"fill_alpha\":{\"value\":0.1},\"fill_color\":{\"value\":\"pink\"},\"hatch_alpha\":{\"value\":0.1},\"hatch_color\":{\"value\":\"pink\"},\"line_alpha\":{\"value\":0.1},\"line_color\":{\"value\":\"red\"},\"x\":{\"field\":\"x\"},\"y\":{\"field\":\"y\"}},\"id\":\"1200\",\"type\":\"Circle\"},{\"attributes\":{},\"id\":\"1046\",\"type\":\"BasicTickFormatter\"},{\"attributes\":{},\"id\":\"1047\",\"type\":\"AllLabels\"},{\"attributes\":{\"fill_alpha\":{\"value\":0.2},\"fill_color\":{\"value\":\"pink\"},\"hatch_alpha\":{\"value\":0.2},\"hatch_color\":{\"value\":\"pink\"},\"line_alpha\":{\"value\":0.2},\"line_color\":{\"value\":\"red\"},\"x\":{\"field\":\"x\"},\"y\":{\"field\":\"y\"}},\"id\":\"1201\",\"type\":\"Circle\"},{\"attributes\":{},\"id\":\"1044\",\"type\":\"AllLabels\"},{\"attributes\":{},\"id\":\"1049\",\"type\":\"Selection\"},{\"attributes\":{},\"id\":\"1048\",\"type\":\"UnionRenderers\"},{\"attributes\":{\"data\":{\"x\":{\"__ndarray__\":\"AAAAAAAAAAAAAAAAAMBRQAAAAAAAYGdAAAAAAACgbUAAAAAAADBzQAAAAAAAoHZAAAAAAAAQekAAAAAAAOB9QAAAAAAA+IBAAAAAAACogkAAAAAAALCEQAAAAAAAaIZAAAAAAABQiEAAAAAAADCKQAAAAAAAgIxAAAAAAAAAjkAAAAAAAOCPQAAAAAAANJBAAAAAAAAckUAAAAAAAAySQAAAAAAALJNAAAAAAADck0AAAAAAANSUQAAAAAAArJVAAAAAAACclkAAAAAAAIyXQAAAAAAAfJhAAAAAAAB4mUAAAAAAAGCaQAAAAAAAUJtAAAAAAABEnEAAAAAAAFydQAAAAAAAJJ5AAAAAAAAUn0AAAAAAAAKgQAAAAAAAhqBAAAAAAAD2oEAAAAAAAHChQAAAAAAAmKFAAAAAAACmoUAAAAAAABSiQAAAAAAAjKJAAAAAAAAEo0AAAAAAAHyjQAAAAAAA9KNAAAAAAAB2pEAAAAAAAOSkQAAAAAAAXKVAAAAAAADepUAAAAAAAF6mQAAAAAAAxqZAAAAAAABKp0AAAAAAALinQAAAAAAAMqhAAAAAAACqqEAAAAAAAPqoQAAAAAAAdKlAAAAAAADsqUAAAAAAAIiqQAAAAAAA3qpAAAAAAABWq0AAAAAAAM6rQAAAAAAARqxAAAAAAADSrEAAAAAAABytQAAAAAAAlK5AAAAAAAD+rkAAAAAAAIyvQAAAAAAA9K9AAAAAAABBsEAAAAAAAHKwQAAAAAAArrBAAAAAAADusEAAAAAAACuxQAAAAAAAYrFAAAAAAACesUAAAAAAANqxQAAAAAAAFrJAAAAAAABYskAAAAAAAJCyQAAAAAAApLJA\",\"dtype\":\"float64\",\"order\":\"little\",\"shape\":[81]},\"y\":{\"__ndarray__\":\"AAAAAAAAAAAQXHD3fWNDwCAV0rnRNoTAuxxAQa9shcC+kCODPniGwB+9WWMKUIXADGqmC9ceeMA+hZcmyEFlwOKqaNJYEGLAZW1kaKKcf8DZ6zEcnLCGwDGYNTykpIXA+DdMX0Q9d8CA4qoDXoRdwDz5MhFwC2RAPIC/IjkxdkCQGU7zXKd6QAfdFW6Vw3pA8JSFhYOETUBsoQMkYap/wIJ2QDjwvYPA5pUjHIdjj8CSHsMwSaeSwMOLKBluFJPADWrFktmkk8C1IrdHl1aYwLTKoSHnw6HAqLkO4Ou5o8CuVes5WKWpwOpGz0LH3q7AZBWfmtaassC57ag3I9ezwOryO7JZ8rXAYDR8BvLKtsAwha5Pwx23wI6Ias89urbAUrf9AT26tsDgg6LOPLq2wPw+dBJdubbABAZ5iX24tsDKEeHJHna1wHI1G/Z1rLLAAiv/LsBrr8AFOD5sVDGswCh1IHtubqbANiKRDtOGo8Aw2vQCJyqiwBY59YssnJrASrnQmgSTkMC0wbCcX613wGCkrnabRk/AYElwMXEGVkCwm3NLuxJtQLREuvl883FAVOrP1dd6k0AAkQU4EWidQKrOvrVuSJ9AGnHpcf3nn0C0wc2V2yyjQBWHmw5GBKdApjNWd2K8pUDwNRmuJb6lQEKqa1VXtaVAghdxUBu3pUAgwmeH3rilQKZ6LO8AhKVAkEo+8yaZpUA+JDb796GlQBQZPMZCp6VAro2VvvihpUBKq6bMBamlQFxrMrDVsaVAbCTctM3PpUBGJNBHfg2mQMXlwIooAaZAth+EkOsCpkAFH/bHrgSmQOkeBNn3CaZA3ces+a4EpkCtF2glixSmQFaS6fo3LaZA\",\"dtype\":\"float64\",\"order\":\"little\",\"shape\":[81]}},\"selected\":{\"id\":\"1049\"},\"selection_policy\":{\"id\":\"1048\"}},\"id\":\"1034\",\"type\":\"ColumnDataSource\"},{\"attributes\":{\"source\":{\"id\":\"1034\"}},\"id\":\"1039\",\"type\":\"CDSView\"},{\"attributes\":{\"axis_label\":\"y\",\"coordinates\":null,\"formatter\":{\"id\":\"1043\"},\"group\":null,\"major_label_policy\":{\"id\":\"1044\"},\"ticker\":{\"id\":\"1017\"}},\"id\":\"1016\",\"type\":\"LinearAxis\"},{\"attributes\":{},\"id\":\"1004\",\"type\":\"DataRange1d\"},{\"attributes\":{\"coordinates\":null,\"group\":null,\"items\":[{\"id\":\"1052\"},{\"id\":\"1141\"}]},\"id\":\"1051\",\"type\":\"Legend\"},{\"attributes\":{\"label\":{\"value\":\"x\"},\"renderers\":[{\"id\":\"1038\"},{\"id\":\"1057\"},{\"id\":\"1076\"},{\"id\":\"1097\"}]},\"id\":\"1052\",\"type\":\"LegendItem\"},{\"attributes\":{},\"id\":\"1113\",\"type\":\"UnionRenderers\"},{\"attributes\":{\"line_color\":\"navy\",\"x\":{\"field\":\"x\"},\"y\":{\"field\":\"y\"}},\"id\":\"1073\",\"type\":\"Line\"},{\"attributes\":{},\"id\":\"1114\",\"type\":\"Selection\"},{\"attributes\":{\"source\":{\"id\":\"1053\"}},\"id\":\"1058\",\"type\":\"CDSView\"},{\"attributes\":{\"line_alpha\":0.1,\"line_color\":\"navy\",\"x\":{\"field\":\"x\"},\"y\":{\"field\":\"y\"}},\"id\":\"1036\",\"type\":\"Line\"},{\"attributes\":{\"source\":{\"id\":\"1116\"}},\"id\":\"1121\",\"type\":\"CDSView\"},{\"attributes\":{\"coordinates\":null,\"data_source\":{\"id\":\"1053\"},\"glyph\":{\"id\":\"1054\"},\"group\":null,\"hover_glyph\":null,\"muted_glyph\":{\"id\":\"1056\"},\"nonselection_glyph\":{\"id\":\"1055\"},\"view\":{\"id\":\"1058\"}},\"id\":\"1057\",\"type\":\"GlyphRenderer\"},{\"attributes\":{\"fill_alpha\":{\"value\":0.2},\"fill_color\":{\"value\":\"cyan\"},\"hatch_alpha\":{\"value\":0.2},\"hatch_color\":{\"value\":\"cyan\"},\"line_alpha\":{\"value\":0.2},\"line_color\":{\"value\":\"navy\"},\"x\":{\"field\":\"x\"},\"y\":{\"field\":\"y\"}},\"id\":\"1096\",\"type\":\"Circle\"},{\"attributes\":{\"line_alpha\":0.2,\"line_color\":\"red\",\"x\":{\"field\":\"x\"},\"y\":{\"field\":\"y\"}},\"id\":\"1119\",\"type\":\"Line\"},{\"attributes\":{\"data\":{\"x\":{\"__ndarray__\":\"AAAAAAAAAAAAAAAAAMBRQAAAAAAAYGdAAAAAAACgbUAAAAAAADBzQAAAAAAAoHZAAAAAAAAQekAAAAAAAOB9QAAAAAAA+IBAAAAAAACogkAAAAAAALCEQAAAAAAAaIZAAAAAAABQiEAAAAAAADCKQAAAAAAAgIxAAAAAAAAAjkAAAAAAAOCPQAAAAAAANJBAAAAAAAAckUAAAAAAAAySQAAAAAAALJNAAAAAAADck0AAAAAAANSUQAAAAAAArJVAAAAAAACclkAAAAAAAIyXQAAAAAAAfJhAAAAAAAB4mUAAAAAAAGCaQAAAAAAAUJtAAAAAAABEnEAAAAAAAFydQAAAAAAAJJ5AAAAAAAAUn0AAAAAAAAKgQAAAAAAAhqBAAAAAAAD2oEAAAAAAAHChQAAAAAAAmKFAAAAAAACmoUAAAAAAABSiQAAAAAAAjKJAAAAAAAAEo0AAAAAAAHyjQAAAAAAA9KNAAAAAAAB2pEAAAAAAAOSkQAAAAAAAXKVAAAAAAADepUAAAAAAAF6mQAAAAAAAxqZAAAAAAABKp0AAAAAAALinQAAAAAAAMqhAAAAAAACqqEAAAAAAAPqoQAAAAAAAdKlAAAAAAADsqUAAAAAAAIiqQAAAAAAA3qpAAAAAAABWq0AAAAAAAM6rQAAAAAAARqxAAAAAAADSrEAAAAAAABytQAAAAAAAlK5AAAAAAAD+rkAAAAAAAIyvQAAAAAAA9K9AAAAAAABBsEAAAAAAAHKwQAAAAAAArrBAAAAAAADusEAAAAAAACuxQAAAAAAAYrFAAAAAAACesUAAAAAAANqxQAAAAAAAFrJAAAAAAABYskAAAAAAAJCyQAAAAAAApLJA\",\"dtype\":\"float64\",\"order\":\"little\",\"shape\":[81]},\"y\":{\"__ndarray__\":\"AAAAAAAAAAAQXHD3fWNDwCAV0rnRNoTAuxxAQa9shcC+kCODPniGwB+9WWMKUIXADGqmC9ceeMA+hZcmyEFlwOKqaNJYEGLAZW1kaKKcf8DZ6zEcnLCGwDGYNTykpIXA+DdMX0Q9d8CA4qoDXoRdwDz5MhFwC2RAPIC/IjkxdkCQGU7zXKd6QAfdFW6Vw3pA8JSFhYOETUBsoQMkYap/wIJ2QDjwvYPA5pUjHIdjj8CSHsMwSaeSwMOLKBluFJPADWrFktmkk8C1IrdHl1aYwLTKoSHnw6HAqLkO4Ou5o8CuVes5WKWpwOpGz0LH3q7AZBWfmtaassC57ag3I9ezwOryO7JZ8rXAYDR8BvLKtsAwha5Pwx23wI6Ias89urbAUrf9AT26tsDgg6LOPLq2wPw+dBJdubbABAZ5iX24tsDKEeHJHna1wHI1G/Z1rLLAAiv/LsBrr8AFOD5sVDGswCh1IHtubqbANiKRDtOGo8Aw2vQCJyqiwBY59YssnJrASrnQmgSTkMC0wbCcX613wGCkrnabRk/AYElwMXEGVkCwm3NLuxJtQLREuvl883FAVOrP1dd6k0AAkQU4EWidQKrOvrVuSJ9AGnHpcf3nn0C0wc2V2yyjQBWHmw5GBKdApjNWd2K8pUDwNRmuJb6lQEKqa1VXtaVAghdxUBu3pUAgwmeH3rilQKZ6LO8AhKVAkEo+8yaZpUA+JDb796GlQBQZPMZCp6VAro2VvvihpUBKq6bMBamlQFxrMrDVsaVAbCTctM3PpUBGJNBHfg2mQMXlwIooAaZAth+EkOsCpkAFH/bHrgSmQOkeBNn3CaZA3ces+a4EpkCtF2glixSmQFaS6fo3LaZA\",\"dtype\":\"float64\",\"order\":\"little\",\"shape\":[81]}},\"selected\":{\"id\":\"1070\"},\"selection_policy\":{\"id\":\"1069\"}},\"id\":\"1053\",\"type\":\"ColumnDataSource\"},{\"attributes\":{\"line_alpha\":0.2,\"line_color\":\"red\",\"x\":{\"field\":\"x\"},\"y\":{\"field\":\"y\"}},\"id\":\"1117\",\"type\":\"Line\"},{\"attributes\":{\"fill_alpha\":{\"value\":0.2},\"fill_color\":{\"value\":\"#1f77b4\"},\"hatch_alpha\":{\"value\":0.2},\"line_alpha\":{\"value\":0.2},\"line_color\":{\"value\":\"navy\"},\"x\":{\"field\":\"x\"},\"y\":{\"field\":\"y\"}},\"id\":\"1054\",\"type\":\"Circle\"},{\"attributes\":{\"fill_alpha\":{\"value\":0.1},\"fill_color\":{\"value\":\"#1f77b4\"},\"hatch_alpha\":{\"value\":0.1},\"line_alpha\":{\"value\":0.1},\"line_color\":{\"value\":\"navy\"},\"x\":{\"field\":\"x\"},\"y\":{\"field\":\"y\"}},\"id\":\"1055\",\"type\":\"Circle\"},{\"attributes\":{\"coordinates\":null,\"data_source\":{\"id\":\"1116\"},\"glyph\":{\"id\":\"1117\"},\"group\":null,\"hover_glyph\":null,\"muted_glyph\":{\"id\":\"1119\"},\"nonselection_glyph\":{\"id\":\"1118\"},\"view\":{\"id\":\"1121\"}},\"id\":\"1120\",\"type\":\"GlyphRenderer\"},{\"attributes\":{},\"id\":\"1070\",\"type\":\"Selection\"},{\"attributes\":{\"fill_alpha\":{\"value\":0.2},\"fill_color\":{\"value\":\"#1f77b4\"},\"hatch_alpha\":{\"value\":0.2},\"line_alpha\":{\"value\":0.2},\"line_color\":{\"value\":\"navy\"},\"x\":{\"field\":\"x\"},\"y\":{\"field\":\"y\"}},\"id\":\"1056\",\"type\":\"Circle\"},{\"attributes\":{\"line_alpha\":0.1,\"line_color\":\"red\",\"x\":{\"field\":\"x\"},\"y\":{\"field\":\"y\"}},\"id\":\"1118\",\"type\":\"Line\"},{\"attributes\":{\"data\":{\"x\":{\"__ndarray__\":\"HgAAAFoAAADSAAAA8AAAAEoBAACGAQAApAEAAOABAAA6AgAAWAIAALICAADQAgAADAMAAEgDAACiAwAA3gMAABoEAABWBAAAkgQAAM4EAAAKBQAARgUAAIIFAAC+BQAA+gUAADYGAAByBgAArgYAAOoGAAAmBwAAYgcAAJ4HAADaBwAAFggAAFIIAACOCAAAyggAAOgIAAAkCQAAYAkAAJwJAADYCQAAFAoAAFAKAACMCgAAyAoAAAQLAABACwAAfAsAALgLAAD0CwAAMAwAAGwMAACKDAAAxgwAAAINAABcDQAAeg0AALYNAADyDQAALg4AAGoOAACmDgAAWg8AAJYPAADSDwAADhAAAEoQAACGEAAAwhAAAP4QAAA6EQAAdhEAALIRAADuEQAAKhIAAGYSAACiEgAAwBIAAA==\",\"dtype\":\"int32\",\"order\":\"little\",\"shape\":[79]},\"y\":{\"__ndarray__\":\"AAAAAAAAAAAQXHD3fWNDwCAV0rnRNoTAuxxAQa9shcC+kCODPniGwB+9WWMKUIXADGqmC9ceeMA+hZcmyEFlwOKqaNJYEGLAZW1kaKKcf8DZ6zEcnLCGwDGYNTykpIXA+DdMX0Q9d8CA4qoDXoRdwDz5MhFwC2RAPIC/IjkxdkBM+7EwebV6QPCUhYWDhE1AbKEDJGGqf8CCdkA48L2DwOaVIxyHY4/Akh7DMEmnksDDiygZbhSTwA1qxZLZpJPAtSK3R5dWmMC0yqEh58OhwKi5DuDruaPArlXrOVilqcDqRs9Cx96uwGQVn5rWmrLAue2oNyPXs8Dq8juyWfK1wGA0fAbyyrbAMIWuT8Mdt8COiGrPPbq2wFK3/QE9urbA4IOizjy6tsCAovZN7bi2wMoR4ckedrXAcjUb9nWsssACK/8uwGuvwAU4PmxUMazAKHUge25upsA2IpEO04ajwDDa9AInKqLAFjn1iyycmsBKudCaBJOQwLTBsJxfrXfAYKSudptGT8BgSXAxcQZWQLCbc0u7Em1AtES6+XzzcUBU6s/V13qTQACRBTgRaJ1Aqs6+tW5In0Aacelx/eefQLTBzZXbLKNAFYebDkYEp0CmM1Z3YrylQPA1Ga4lvqVAQqprVVe1pUCCF3FQG7elQCDCZ4feuKVApnos7wCEpUCQSj7zJpmlQD4kNvv3oaVAFBk8xkKnpUCujZW++KGlQEqrpswFqaVAXGsysNWxpUBsJNy0zc+lQEYk0Ed+DaZAxeXAiigBpkC2H4SQ6wKmQAUf9seuBKZA6R4E2fcJpkDdx6z5rgSmQK0XaCWLFKZAVpLp+jctpkA=\",\"dtype\":\"float64\",\"order\":\"little\",\"shape\":[79]}},\"selected\":{\"id\":\"1091\"},\"selection_policy\":{\"id\":\"1090\"}},\"id\":\"1072\",\"type\":\"ColumnDataSource\"},{\"attributes\":{},\"id\":\"1138\",\"type\":\"UnionRenderers\"},{\"attributes\":{},\"id\":\"1010\",\"type\":\"LinearScale\"},{\"attributes\":{},\"id\":\"1139\",\"type\":\"Selection\"},{\"attributes\":{\"label\":{\"value\":\"y\"},\"renderers\":[{\"id\":\"1120\"},{\"id\":\"1146\"},{\"id\":\"1173\"},{\"id\":\"1202\"}]},\"id\":\"1141\",\"type\":\"LegendItem\"},{\"attributes\":{\"source\":{\"id\":\"1072\"}},\"id\":\"1077\",\"type\":\"CDSView\"},{\"attributes\":{\"source\":{\"id\":\"1142\"}},\"id\":\"1147\",\"type\":\"CDSView\"},{\"attributes\":{},\"id\":\"1090\",\"type\":\"UnionRenderers\"},{\"attributes\":{\"data\":{\"x\":{\"__ndarray__\":\"AAAAAAAAAAAAAAAAAMBRQAAAAAAAYGdAAAAAAACgbUAAAAAAADBzQAAAAAAAoHZAAAAAAAAQekAAAAAAAOB9QAAAAAAA+IBAAAAAAACogkAAAAAAALCEQAAAAAAAaIZAAAAAAABQiEAAAAAAADCKQAAAAAAAgIxAAAAAAAAAjkAAAAAAAOCPQAAAAAAANJBAAAAAAAAckUAAAAAAAAySQAAAAAAALJNAAAAAAADck0AAAAAAANSUQAAAAAAArJVAAAAAAACclkAAAAAAAIyXQAAAAAAAfJhAAAAAAAB4mUAAAAAAAGCaQAAAAAAAUJtAAAAAAABEnEAAAAAAAFydQAAAAAAAJJ5AAAAAAAAUn0AAAAAAAAKgQAAAAAAAhqBAAAAAAAD2oEAAAAAAAHChQAAAAAAAmKFAAAAAAACmoUAAAAAAABSiQAAAAAAAjKJAAAAAAAAEo0AAAAAAAHyjQAAAAAAA9KNAAAAAAAB2pEAAAAAAAOSkQAAAAAAAXKVAAAAAAADepUAAAAAAAF6mQAAAAAAAxqZAAAAAAABKp0AAAAAAALinQAAAAAAAMqhAAAAAAACqqEAAAAAAAPqoQAAAAAAAdKlAAAAAAADsqUAAAAAAAIiqQAAAAAAA3qpAAAAAAABWq0AAAAAAAM6rQAAAAAAARqxAAAAAAADSrEAAAAAAABytQAAAAAAAlK5AAAAAAAD+rkAAAAAAAIyvQAAAAAAA9K9AAAAAAABBsEAAAAAAAHKwQAAAAAAArrBAAAAAAADusEAAAAAAACuxQAAAAAAAYrFAAAAAAACesUAAAAAAANqxQAAAAAAAFrJAAAAAAABYskAAAAAAAJCyQAAAAAAApLJA\",\"dtype\":\"float64\",\"order\":\"little\",\"shape\":[81]},\"y\":{\"__ndarray__\":\"AAAAAAAAAACYkZ74KEN7QCIFHuOv24ZASsAKxWx1k0AghXQUvdiaQMTn/ETe951A7CG9DWU2oUATm7G3BuKgQAwfctsDBZtAbiA9gBSWmkCOJMxYAn2bQLw+V81GtZ1A6ma1g5dMoUCkbfnH6LShQHSXvLazRqNA7Fp+BQNoo0DRB9/QrvygQJzH/1K/wKBAf9GIP0B1oEC2StapRBqgQJ8bnH4Y0aJA8TngSsn/okDAG9pRC+OlQDPLlGpySKdAqUKLv+EqqEDoVnIVadSnQLTaYZ5w6aZAUi5pkvwYqUAI66A4/yuoQMIl7IV4xqdANEygSRhqp0BgOR+7LEmnQOnwpWdHB6dABAVF/n2QqECqwsxe84moQLZf+leTLKhAZ/iIdnQ1qEABwyy+rDeoQKrO8+exI6hAuCcgyn4NqECm8DI6bhSnQI50Lat0Y6dAyJALu8e0p0DkQYS5A+OnQLiIzQPIpahAbITJBogUqUBYR6fPGTqmQCnJ/cWGzqZA7BAw+fmep0AQjcQ2n3qoQAWmeVye1ahAF5KVhZP9qECGOzlSOBipQElJR3SGx6ZALFwNa4uGpEBNq7sS+5miQL/qbLbTT5RAEIvnzcjvdUCH4HQWapd6QCSFzEkEeIJAym51TFvThEB/klToW9OEQKpNY9xug4RActLUBetfhECOGo6h61+EQBJaFMuo2oNACxt6X1P1g0BeiK/X8MiDQL6qAv6rk4NAMBCJZWylg0Bm9tK1jZyDQMzUf9txpYNAL2RJb1Rng0Bv4TPvaWeDQNfpeivhQ4NAbknN5cJMg0CeKKaDw0yDQOtlELNoZ4NAuhYgZ+JDg0DedRJobGeDQAjy3DFWcINA\",\"dtype\":\"float64\",\"order\":\"little\",\"shape\":[81]}},\"selected\":{\"id\":\"1167\"},\"selection_policy\":{\"id\":\"1166\"}},\"id\":\"1142\",\"type\":\"ColumnDataSource\"},{\"attributes\":{\"line_alpha\":0.2,\"line_color\":\"navy\",\"x\":{\"field\":\"x\"},\"y\":{\"field\":\"y\"}},\"id\":\"1035\",\"type\":\"Line\"},{\"attributes\":{\"line_alpha\":0.1,\"line_color\":\"red\",\"x\":{\"field\":\"x\"},\"y\":{\"field\":\"y\"}},\"id\":\"1171\",\"type\":\"Line\"},{\"attributes\":{\"coordinates\":null,\"data_source\":{\"id\":\"1072\"},\"glyph\":{\"id\":\"1073\"},\"group\":null,\"hover_glyph\":null,\"muted_glyph\":{\"id\":\"1075\"},\"nonselection_glyph\":{\"id\":\"1074\"},\"view\":{\"id\":\"1077\"}},\"id\":\"1076\",\"type\":\"GlyphRenderer\"},{\"attributes\":{\"line_alpha\":0.2,\"line_color\":\"navy\",\"x\":{\"field\":\"x\"},\"y\":{\"field\":\"y\"}},\"id\":\"1075\",\"type\":\"Line\"},{\"attributes\":{},\"id\":\"1166\",\"type\":\"UnionRenderers\"},{\"attributes\":{\"line_alpha\":0.1,\"line_color\":\"navy\",\"x\":{\"field\":\"x\"},\"y\":{\"field\":\"y\"}},\"id\":\"1074\",\"type\":\"Line\"},{\"attributes\":{},\"id\":\"1006\",\"type\":\"DataRange1d\"},{\"attributes\":{\"coordinates\":null,\"data_source\":{\"id\":\"1142\"},\"glyph\":{\"id\":\"1143\"},\"group\":null,\"hover_glyph\":null,\"muted_glyph\":{\"id\":\"1145\"},\"nonselection_glyph\":{\"id\":\"1144\"},\"view\":{\"id\":\"1147\"}},\"id\":\"1146\",\"type\":\"GlyphRenderer\"},{\"attributes\":{\"data\":{\"x\":{\"__ndarray__\":\"AAAAAAAAAAAAAAAAAMBRQAAAAAAAYGdAAAAAAACgbUAAAAAAADBzQAAAAAAAoHZAAAAAAAAQekAAAAAAAOB9QAAAAAAA+IBAAAAAAACogkAAAAAAALCEQAAAAAAAaIZAAAAAAABQiEAAAAAAADCKQAAAAAAAgIxAAAAAAAAAjkAAAAAAAOCPQAAAAAAANJBAAAAAAAAckUAAAAAAAAySQAAAAAAALJNAAAAAAADck0AAAAAAANSUQAAAAAAArJVAAAAAAACclkAAAAAAAIyXQAAAAAAAfJhAAAAAAAB4mUAAAAAAAGCaQAAAAAAAUJtAAAAAAABEnEAAAAAAAFydQAAAAAAAJJ5AAAAAAAAUn0AAAAAAAAKgQAAAAAAAhqBAAAAAAAD2oEAAAAAAAHChQAAAAAAAmKFAAAAAAACmoUAAAAAAABSiQAAAAAAAjKJAAAAAAAAEo0AAAAAAAHyjQAAAAAAA9KNAAAAAAAB2pEAAAAAAAOSkQAAAAAAAXKVAAAAAAADepUAAAAAAAF6mQAAAAAAAxqZAAAAAAABKp0AAAAAAALinQAAAAAAAMqhAAAAAAACqqEAAAAAAAPqoQAAAAAAAdKlAAAAAAADsqUAAAAAAAIiqQAAAAAAA3qpAAAAAAABWq0AAAAAAAM6rQAAAAAAARqxAAAAAAADSrEAAAAAAABytQAAAAAAAlK5AAAAAAAD+rkAAAAAAAIyvQAAAAAAA9K9AAAAAAABBsEAAAAAAAHKwQAAAAAAArrBAAAAAAADusEAAAAAAACuxQAAAAAAAYrFAAAAAAACesUAAAAAAANqxQAAAAAAAFrJAAAAAAABYskAAAAAAAJCyQAAAAAAApLJA\",\"dtype\":\"float64\",\"order\":\"little\",\"shape\":[81]},\"y\":{\"__ndarray__\":\"AAAAAAAAAACYkZ74KEN7QCIFHuOv24ZASsAKxWx1k0AghXQUvdiaQMTn/ETe951A7CG9DWU2oUATm7G3BuKgQAwfctsDBZtAbiA9gBSWmkCOJMxYAn2bQLw+V81GtZ1A6ma1g5dMoUCkbfnH6LShQHSXvLazRqNA7Fp+BQNoo0DRB9/QrvygQJzH/1K/wKBAf9GIP0B1oEC2StapRBqgQJ8bnH4Y0aJA8TngSsn/okDAG9pRC+OlQDPLlGpySKdAqUKLv+EqqEDoVnIVadSnQLTaYZ5w6aZAUi5pkvwYqUAI66A4/yuoQMIl7IV4xqdANEygSRhqp0BgOR+7LEmnQOnwpWdHB6dABAVF/n2QqECqwsxe84moQLZf+leTLKhAZ/iIdnQ1qEABwyy+rDeoQKrO8+exI6hAuCcgyn4NqECm8DI6bhSnQI50Lat0Y6dAyJALu8e0p0DkQYS5A+OnQLiIzQPIpahAbITJBogUqUBYR6fPGTqmQCnJ/cWGzqZA7BAw+fmep0AQjcQ2n3qoQAWmeVye1ahAF5KVhZP9qECGOzlSOBipQElJR3SGx6ZALFwNa4uGpEBNq7sS+5miQL/qbLbTT5RAEIvnzcjvdUCH4HQWapd6QCSFzEkEeIJAym51TFvThEB/klToW9OEQKpNY9xug4RActLUBetfhECOGo6h61+EQBJaFMuo2oNACxt6X1P1g0BeiK/X8MiDQL6qAv6rk4NAMBCJZWylg0Bm9tK1jZyDQMzUf9txpYNAL2RJb1Rng0Bv4TPvaWeDQNfpeivhQ4NAbknN5cJMg0CeKKaDw0yDQOtlELNoZ4NAuhYgZ+JDg0DedRJobGeDQAjy3DFWcINA\",\"dtype\":\"float64\",\"order\":\"little\",\"shape\":[81]}},\"selected\":{\"id\":\"1139\"},\"selection_policy\":{\"id\":\"1138\"}},\"id\":\"1116\",\"type\":\"ColumnDataSource\"},{\"attributes\":{\"data\":{\"x\":{\"__ndarray__\":\"HgAAAFoAAADSAAAA8AAAAEoBAACGAQAApAEAAOABAAA6AgAAWAIAALICAADQAgAADAMAAEgDAACiAwAA3gMAABoEAABWBAAAkgQAAM4EAAAKBQAARgUAAIIFAAC+BQAA+gUAADYGAAByBgAArgYAAOoGAAAmBwAAYgcAAJ4HAADaBwAAFggAAFIIAACOCAAAyggAAOgIAAAkCQAAYAkAAJwJAADYCQAAFAoAAFAKAACMCgAAyAoAAAQLAABACwAAfAsAALgLAAD0CwAAMAwAAGwMAACKDAAAxgwAAAINAABcDQAAeg0AALYNAADyDQAALg4AAGoOAACmDgAAWg8AAJYPAADSDwAADhAAAEoQAACGEAAAwhAAAP4QAAA6EQAAdhEAALIRAADuEQAAKhIAAGYSAACiEgAAwBIAAA==\",\"dtype\":\"int32\",\"order\":\"little\",\"shape\":[79]},\"y\":{\"__ndarray__\":\"AAAAAAAAAACYkZ74KEN7QCIFHuOv24ZASsAKxWx1k0AghXQUvdiaQMTn/ETe951A7CG9DWU2oUATm7G3BuKgQAwfctsDBZtAbiA9gBSWmkCOJMxYAn2bQLw+V81GtZ1A6ma1g5dMoUCkbfnH6LShQHSXvLazRqNA7Fp+BQNoo0C2Z+8Rt96gQH/RiD9AdaBAtkrWqUQaoECfG5x+GNGiQPE54ErJ/6JAwBvaUQvjpUAzy5RqckinQKlCi7/hKqhA6FZyFWnUp0C02mGecOmmQFIuaZL8GKlACOugOP8rqEDCJeyFeManQDRMoEkYaqdAYDkfuyxJp0Dp8KVnRwenQAQFRf59kKhAqsLMXvOJqEC2X/pXkyyoQGf4iHZ0NahAAcMsvqw3qEAx+wlZmBioQKbwMjpuFKdAjnQtq3Rjp0DIkAu7x7SnQORBhLkD46dAuIjNA8ilqEBshMkGiBSpQFhHp88ZOqZAKcn9xYbOpkDsEDD5+Z6nQBCNxDafeqhABaZ5XJ7VqEAXkpWFk/2oQIY7OVI4GKlASUlHdIbHpkAsXA1ri4akQE2ruxL7maJAv+psttNPlEAQi+fNyO91QIfgdBZql3pAJIXMSQR4gkDKbnVMW9OEQH+SVOhb04RAqk1j3G6DhEBy0tQF61+EQI4ajqHrX4RAEloUy6jag0ALG3pfU/WDQF6Ir9fwyINAvqoC/quTg0AwEIllbKWDQGb20rWNnINAzNR/23Glg0AvZElvVGeDQG/hM+9pZ4NA1+l6K+FDg0BuSc3lwkyDQJ4opoPDTINA62UQs2hng0C6FiBn4kODQN51EmhsZ4NACPLcMVZwg0A=\",\"dtype\":\"float64\",\"order\":\"little\",\"shape\":[79]}},\"selected\":{\"id\":\"1196\"},\"selection_policy\":{\"id\":\"1195\"}},\"id\":\"1169\",\"type\":\"ColumnDataSource\"},{\"attributes\":{},\"id\":\"1017\",\"type\":\"BasicTicker\"},{\"attributes\":{},\"id\":\"1091\",\"type\":\"Selection\"},{\"attributes\":{},\"id\":\"1013\",\"type\":\"BasicTicker\"},{\"attributes\":{},\"id\":\"1167\",\"type\":\"Selection\"},{\"attributes\":{\"axis_label\":\"time [s]\",\"coordinates\":null,\"formatter\":{\"id\":\"1046\"},\"group\":null,\"major_label_policy\":{\"id\":\"1047\"},\"ticker\":{\"id\":\"1013\"}},\"id\":\"1012\",\"type\":\"LinearAxis\"},{\"attributes\":{\"data\":{\"x\":{\"__ndarray__\":\"HgAAAFoAAADSAAAA8AAAAEoBAACGAQAApAEAAOABAAA6AgAAWAIAALICAADQAgAADAMAAEgDAACiAwAA3gMAABoEAABWBAAAkgQAAM4EAAAKBQAARgUAAIIFAAC+BQAA+gUAADYGAAByBgAArgYAAOoGAAAmBwAAYgcAAJ4HAADaBwAAFggAAFIIAACOCAAAyggAAOgIAAAkCQAAYAkAAJwJAADYCQAAFAoAAFAKAACMCgAAyAoAAAQLAABACwAAfAsAALgLAAD0CwAAMAwAAGwMAACKDAAAxgwAAAINAABcDQAAeg0AALYNAADyDQAALg4AAGoOAACmDgAAWg8AAJYPAADSDwAADhAAAEoQAACGEAAAwhAAAP4QAAA6EQAAdhEAALIRAADuEQAAKhIAAGYSAACiEgAAwBIAAA==\",\"dtype\":\"int32\",\"order\":\"little\",\"shape\":[79]},\"y\":{\"__ndarray__\":\"AAAAAAAAAAAQXHD3fWNDwCAV0rnRNoTAuxxAQa9shcC+kCODPniGwB+9WWMKUIXADGqmC9ceeMA+hZcmyEFlwOKqaNJYEGLAZW1kaKKcf8DZ6zEcnLCGwDGYNTykpIXA+DdMX0Q9d8CA4qoDXoRdwDz5MhFwC2RAPIC/IjkxdkBM+7EwebV6QPCUhYWDhE1AbKEDJGGqf8CCdkA48L2DwOaVIxyHY4/Akh7DMEmnksDDiygZbhSTwA1qxZLZpJPAtSK3R5dWmMC0yqEh58OhwKi5DuDruaPArlXrOVilqcDqRs9Cx96uwGQVn5rWmrLAue2oNyPXs8Dq8juyWfK1wGA0fAbyyrbAMIWuT8Mdt8COiGrPPbq2wFK3/QE9urbA4IOizjy6tsCAovZN7bi2wMoR4ckedrXAcjUb9nWsssACK/8uwGuvwAU4PmxUMazAKHUge25upsA2IpEO04ajwDDa9AInKqLAFjn1iyycmsBKudCaBJOQwLTBsJxfrXfAYKSudptGT8BgSXAxcQZWQLCbc0u7Em1AtES6+XzzcUBU6s/V13qTQACRBTgRaJ1Aqs6+tW5In0Aacelx/eefQLTBzZXbLKNAFYebDkYEp0CmM1Z3YrylQPA1Ga4lvqVAQqprVVe1pUCCF3FQG7elQCDCZ4feuKVApnos7wCEpUCQSj7zJpmlQD4kNvv3oaVAFBk8xkKnpUCujZW++KGlQEqrpswFqaVAXGsysNWxpUBsJNy0zc+lQEYk0Ed+DaZAxeXAiigBpkC2H4SQ6wKmQAUf9seuBKZA6R4E2fcJpkDdx6z5rgSmQK0XaCWLFKZAVpLp+jctpkA=\",\"dtype\":\"float64\",\"order\":\"little\",\"shape\":[79]}},\"selected\":{\"id\":\"1114\"},\"selection_policy\":{\"id\":\"1113\"}},\"id\":\"1093\",\"type\":\"ColumnDataSource\"},{\"attributes\":{\"fill_alpha\":{\"value\":0.2},\"fill_color\":{\"value\":\"#1f77b4\"},\"hatch_alpha\":{\"value\":0.2},\"line_alpha\":{\"value\":0.2},\"line_color\":{\"value\":\"red\"},\"x\":{\"field\":\"x\"},\"y\":{\"field\":\"y\"}},\"id\":\"1143\",\"type\":\"Circle\"},{\"attributes\":{\"fill_alpha\":{\"value\":0.1},\"fill_color\":{\"value\":\"#1f77b4\"},\"hatch_alpha\":{\"value\":0.1},\"line_alpha\":{\"value\":0.1},\"line_color\":{\"value\":\"red\"},\"x\":{\"field\":\"x\"},\"y\":{\"field\":\"y\"}},\"id\":\"1144\",\"type\":\"Circle\"},{\"attributes\":{\"axis\":{\"id\":\"1012\"},\"coordinates\":null,\"group\":null,\"ticker\":null},\"id\":\"1015\",\"type\":\"Grid\"},{\"attributes\":{\"data\":{\"x\":{\"__ndarray__\":\"HgAAAFoAAADSAAAA8AAAAEoBAACGAQAApAEAAOABAAA6AgAAWAIAALICAADQAgAADAMAAEgDAACiAwAA3gMAABoEAABWBAAAkgQAAM4EAAAKBQAARgUAAIIFAAC+BQAA+gUAADYGAAByBgAArgYAAOoGAAAmBwAAYgcAAJ4HAADaBwAAFggAAFIIAACOCAAAyggAAOgIAAAkCQAAYAkAAJwJAADYCQAAFAoAAFAKAACMCgAAyAoAAAQLAABACwAAfAsAALgLAAD0CwAAMAwAAGwMAACKDAAAxgwAAAINAABcDQAAeg0AALYNAADyDQAALg4AAGoOAACmDgAAWg8AAJYPAADSDwAADhAAAEoQAACGEAAAwhAAAP4QAAA6EQAAdhEAALIRAADuEQAAKhIAAGYSAACiEgAAwBIAAA==\",\"dtype\":\"int32\",\"order\":\"little\",\"shape\":[79]},\"y\":{\"__ndarray__\":\"AAAAAAAAAACYkZ74KEN7QCIFHuOv24ZASsAKxWx1k0AghXQUvdiaQMTn/ETe951A7CG9DWU2oUATm7G3BuKgQAwfctsDBZtAbiA9gBSWmkCOJMxYAn2bQLw+V81GtZ1A6ma1g5dMoUCkbfnH6LShQHSXvLazRqNA7Fp+BQNoo0C2Z+8Rt96gQH/RiD9AdaBAtkrWqUQaoECfG5x+GNGiQPE54ErJ/6JAwBvaUQvjpUAzy5RqckinQKlCi7/hKqhA6FZyFWnUp0C02mGecOmmQFIuaZL8GKlACOugOP8rqEDCJeyFeManQDRMoEkYaqdAYDkfuyxJp0Dp8KVnRwenQAQFRf59kKhAqsLMXvOJqEC2X/pXkyyoQGf4iHZ0NahAAcMsvqw3qEAx+wlZmBioQKbwMjpuFKdAjnQtq3Rjp0DIkAu7x7SnQORBhLkD46dAuIjNA8ilqEBshMkGiBSpQFhHp88ZOqZAKcn9xYbOpkDsEDD5+Z6nQBCNxDafeqhABaZ5XJ7VqEAXkpWFk/2oQIY7OVI4GKlASUlHdIbHpkAsXA1ri4akQE2ruxL7maJAv+psttNPlEAQi+fNyO91QIfgdBZql3pAJIXMSQR4gkDKbnVMW9OEQH+SVOhb04RAqk1j3G6DhEBy0tQF61+EQI4ajqHrX4RAEloUy6jag0ALG3pfU/WDQF6Ir9fwyINAvqoC/quTg0AwEIllbKWDQGb20rWNnINAzNR/23Glg0AvZElvVGeDQG/hM+9pZ4NA1+l6K+FDg0BuSc3lwkyDQJ4opoPDTINA62UQs2hng0C6FiBn4kODQN51EmhsZ4NACPLcMVZwg0A=\",\"dtype\":\"float64\",\"order\":\"little\",\"shape\":[79]}},\"selected\":{\"id\":\"1227\"},\"selection_policy\":{\"id\":\"1226\"}},\"id\":\"1198\",\"type\":\"ColumnDataSource\"},{\"attributes\":{\"fill_alpha\":{\"value\":0.2},\"fill_color\":{\"value\":\"#1f77b4\"},\"hatch_alpha\":{\"value\":0.2},\"line_alpha\":{\"value\":0.2},\"line_color\":{\"value\":\"red\"},\"x\":{\"field\":\"x\"},\"y\":{\"field\":\"y\"}},\"id\":\"1145\",\"type\":\"Circle\"},{\"attributes\":{\"fill_alpha\":{\"value\":0.1},\"fill_color\":{\"value\":\"cyan\"},\"hatch_alpha\":{\"value\":0.1},\"hatch_color\":{\"value\":\"cyan\"},\"line_alpha\":{\"value\":0.1},\"line_color\":{\"value\":\"navy\"},\"x\":{\"field\":\"x\"},\"y\":{\"field\":\"y\"}},\"id\":\"1095\",\"type\":\"Circle\"},{\"attributes\":{\"source\":{\"id\":\"1093\"}},\"id\":\"1098\",\"type\":\"CDSView\"},{\"attributes\":{},\"id\":\"1043\",\"type\":\"BasicTickFormatter\"},{\"attributes\":{\"axis\":{\"id\":\"1016\"},\"coordinates\":null,\"dimension\":1,\"group\":null,\"ticker\":null},\"id\":\"1019\",\"type\":\"Grid\"},{\"attributes\":{\"fill_color\":{\"value\":\"cyan\"},\"hatch_color\":{\"value\":\"cyan\"},\"line_color\":{\"value\":\"navy\"},\"x\":{\"field\":\"x\"},\"y\":{\"field\":\"y\"}},\"id\":\"1094\",\"type\":\"Circle\"},{\"attributes\":{\"coordinates\":null,\"data_source\":{\"id\":\"1093\"},\"glyph\":{\"id\":\"1094\"},\"group\":null,\"hover_glyph\":null,\"muted_glyph\":{\"id\":\"1096\"},\"nonselection_glyph\":{\"id\":\"1095\"},\"view\":{\"id\":\"1098\"}},\"id\":\"1097\",\"type\":\"GlyphRenderer\"},{\"attributes\":{\"line_color\":\"red\",\"x\":{\"field\":\"x\"},\"y\":{\"field\":\"y\"}},\"id\":\"1170\",\"type\":\"Line\"}],\"root_ids\":[\"1003\"]},\"title\":\"Bokeh Application\",\"version\":\"2.4.3\"}};\n",
       "  const render_items = [{\"docid\":\"321e2909-c9c8-4add-b28b-41262827f037\",\"root_ids\":[\"1003\"],\"roots\":{\"1003\":\"7f7f169f-93f6-4521-9ada-7e8a4223de08\"}}];\n",
       "  root.Bokeh.embed.embed_items_notebook(docs_json, render_items);\n",
       "  }\n",
       "  if (root.Bokeh !== undefined) {\n",
       "    embed_document(root);\n",
       "  } else {\n",
       "    let attempts = 0;\n",
       "    const timer = setInterval(function(root) {\n",
       "      if (root.Bokeh !== undefined) {\n",
       "        clearInterval(timer);\n",
       "        embed_document(root);\n",
       "      } else {\n",
       "        attempts++;\n",
       "        if (attempts > 100) {\n",
       "          clearInterval(timer);\n",
       "          console.log(\"Bokeh: ERROR: Unable to run BokehJS code because BokehJS library is missing\");\n",
       "        }\n",
       "      }\n",
       "    }, 10, root)\n",
       "  }\n",
       "})(window);"
      ],
      "application/vnd.bokehjs_exec.v0+json": ""
     },
     "metadata": {
      "application/vnd.bokehjs_exec.v0+json": {
       "id": "1003"
      }
     },
     "output_type": "display_data"
    },
    {
     "data": {
      "text/html": [
       "\n",
       "  <div class=\"bk-root\" id=\"9f08d82e-b95a-4e5d-8a33-183543a206e7\" data-root-id=\"1379\"></div>\n"
      ]
     },
     "metadata": {},
     "output_type": "display_data"
    },
    {
     "data": {
      "application/javascript": [
       "(function(root) {\n",
       "  function embed_document(root) {\n",
       "  const docs_json = {\"b9185f15-d3ca-4913-8723-a0facb804b71\":{\"defs\":[],\"roots\":{\"references\":[{\"attributes\":{\"below\":[{\"id\":\"1388\"}],\"center\":[{\"id\":\"1391\"},{\"id\":\"1395\"},{\"id\":\"1427\"}],\"height\":450,\"left\":[{\"id\":\"1392\"}],\"renderers\":[{\"id\":\"1414\"},{\"id\":\"1433\"},{\"id\":\"1452\"},{\"id\":\"1474\"}],\"title\":{\"id\":\"1416\"},\"toolbar\":{\"id\":\"1403\"},\"width\":900,\"x_range\":{\"id\":\"1380\"},\"x_scale\":{\"id\":\"1384\"},\"y_range\":{\"id\":\"1382\"},\"y_scale\":{\"id\":\"1386\"}},\"id\":\"1379\",\"subtype\":\"Figure\",\"type\":\"Plot\"},{\"attributes\":{\"coordinates\":null,\"group\":null,\"items\":[{\"id\":\"1428\"},{\"id\":\"1469\"}]},\"id\":\"1427\",\"type\":\"Legend\"},{\"attributes\":{},\"id\":\"1400\",\"type\":\"ResetTool\"},{\"attributes\":{\"line_color\":\"navy\",\"x\":{\"field\":\"x\"},\"y\":{\"field\":\"y\"}},\"id\":\"1411\",\"type\":\"Line\"},{\"attributes\":{\"line_alpha\":0.2,\"line_color\":\"navy\",\"x\":{\"field\":\"x\"},\"y\":{\"field\":\"y\"}},\"id\":\"1449\",\"type\":\"Line\"},{\"attributes\":{},\"id\":\"1467\",\"type\":\"Selection\"},{\"attributes\":{},\"id\":\"1425\",\"type\":\"Selection\"},{\"attributes\":{},\"id\":\"1386\",\"type\":\"LinearScale\"},{\"attributes\":{\"line_alpha\":0.2,\"line_color\":\"navy\",\"x\":{\"field\":\"x\"},\"y\":{\"field\":\"y\"}},\"id\":\"1413\",\"type\":\"Line\"},{\"attributes\":{\"label\":{\"value\":\"p raw\"},\"renderers\":[{\"id\":\"1452\"},{\"id\":\"1474\"}]},\"id\":\"1469\",\"type\":\"LegendItem\"},{\"attributes\":{\"overlay\":{\"id\":\"1402\"}},\"id\":\"1398\",\"type\":\"BoxZoomTool\"},{\"attributes\":{\"label\":{\"value\":\"p\"},\"renderers\":[{\"id\":\"1414\"},{\"id\":\"1433\"}]},\"id\":\"1428\",\"type\":\"LegendItem\"},{\"attributes\":{\"coordinates\":null,\"data_source\":{\"id\":\"1470\"},\"glyph\":{\"id\":\"1471\"},\"group\":null,\"hover_glyph\":null,\"muted_glyph\":{\"id\":\"1473\"},\"nonselection_glyph\":{\"id\":\"1472\"},\"view\":{\"id\":\"1475\"}},\"id\":\"1474\",\"type\":\"GlyphRenderer\"},{\"attributes\":{\"data\":{\"x\":{\"__ndarray__\":\"AAAAAAAAAAAQXHD3fWNDwCAV0rnRNoTAuxxAQa9shcC+kCODPniGwB+9WWMKUIXADGqmC9ceeMA+hZcmyEFlwOKqaNJYEGLAZW1kaKKcf8DZ6zEcnLCGwDGYNTykpIXA+DdMX0Q9d8CA4qoDXoRdwDz5MhFwC2RAPIC/IjkxdkBM+7EwebV6QPCUhYWDhE1AbKEDJGGqf8CCdkA48L2DwOaVIxyHY4/Akh7DMEmnksDDiygZbhSTwA1qxZLZpJPAtSK3R5dWmMC0yqEh58OhwKi5DuDruaPArlXrOVilqcDqRs9Cx96uwGQVn5rWmrLAue2oNyPXs8Dq8juyWfK1wGA0fAbyyrbAMIWuT8Mdt8COiGrPPbq2wFK3/QE9urbA4IOizjy6tsCAovZN7bi2wMoR4ckedrXAcjUb9nWsssACK/8uwGuvwAU4PmxUMazAKHUge25upsA2IpEO04ajwDDa9AInKqLAFjn1iyycmsBKudCaBJOQwLTBsJxfrXfAYKSudptGT8BgSXAxcQZWQLCbc0u7Em1AtES6+XzzcUBU6s/V13qTQACRBTgRaJ1Aqs6+tW5In0Aacelx/eefQLTBzZXbLKNAFYebDkYEp0CmM1Z3YrylQPA1Ga4lvqVAQqprVVe1pUCCF3FQG7elQCDCZ4feuKVApnos7wCEpUCQSj7zJpmlQD4kNvv3oaVAFBk8xkKnpUCujZW++KGlQEqrpswFqaVAXGsysNWxpUBsJNy0zc+lQEYk0Ed+DaZAxeXAiigBpkC2H4SQ6wKmQAUf9seuBKZA6R4E2fcJpkDdx6z5rgSmQK0XaCWLFKZAVpLp+jctpkA=\",\"dtype\":\"float64\",\"order\":\"little\",\"shape\":[79]},\"y\":{\"__ndarray__\":\"AAAAAAAAAACYkZ74KEN7QCIFHuOv24ZASsAKxWx1k0AghXQUvdiaQMTn/ETe951A7CG9DWU2oUATm7G3BuKgQAwfctsDBZtAbiA9gBSWmkCOJMxYAn2bQLw+V81GtZ1A6ma1g5dMoUCkbfnH6LShQHSXvLazRqNA7Fp+BQNoo0C2Z+8Rt96gQH/RiD9AdaBAtkrWqUQaoECfG5x+GNGiQPE54ErJ/6JAwBvaUQvjpUAzy5RqckinQKlCi7/hKqhA6FZyFWnUp0C02mGecOmmQFIuaZL8GKlACOugOP8rqEDCJeyFeManQDRMoEkYaqdAYDkfuyxJp0Dp8KVnRwenQAQFRf59kKhAqsLMXvOJqEC2X/pXkyyoQGf4iHZ0NahAAcMsvqw3qEAx+wlZmBioQKbwMjpuFKdAjnQtq3Rjp0DIkAu7x7SnQORBhLkD46dAuIjNA8ilqEBshMkGiBSpQFhHp88ZOqZAKcn9xYbOpkDsEDD5+Z6nQBCNxDafeqhABaZ5XJ7VqEAXkpWFk/2oQIY7OVI4GKlASUlHdIbHpkAsXA1ri4akQE2ruxL7maJAv+psttNPlEAQi+fNyO91QIfgdBZql3pAJIXMSQR4gkDKbnVMW9OEQH+SVOhb04RAqk1j3G6DhEBy0tQF61+EQI4ajqHrX4RAEloUy6jag0ALG3pfU/WDQF6Ir9fwyINAvqoC/quTg0AwEIllbKWDQGb20rWNnINAzNR/23Glg0AvZElvVGeDQG/hM+9pZ4NA1+l6K+FDg0BuSc3lwkyDQJ4opoPDTINA62UQs2hng0C6FiBn4kODQN51EmhsZ4NACPLcMVZwg0A=\",\"dtype\":\"float64\",\"order\":\"little\",\"shape\":[79]}},\"selected\":{\"id\":\"1446\"},\"selection_policy\":{\"id\":\"1445\"}},\"id\":\"1429\",\"type\":\"ColumnDataSource\"},{\"attributes\":{\"axis_label\":\"x\",\"coordinates\":null,\"formatter\":{\"id\":\"1422\"},\"group\":null,\"major_label_policy\":{\"id\":\"1423\"},\"ticker\":{\"id\":\"1389\"}},\"id\":\"1388\",\"type\":\"LinearAxis\"},{\"attributes\":{},\"id\":\"1490\",\"type\":\"UnionRenderers\"},{\"attributes\":{\"coordinates\":null,\"data_source\":{\"id\":\"1448\"},\"glyph\":{\"id\":\"1449\"},\"group\":null,\"hover_glyph\":null,\"muted_glyph\":{\"id\":\"1451\"},\"nonselection_glyph\":{\"id\":\"1450\"},\"view\":{\"id\":\"1453\"}},\"id\":\"1452\",\"type\":\"GlyphRenderer\"},{\"attributes\":{\"data\":{\"x\":{\"__ndarray__\":\"AAAAAAAAAAAQXHD3fWNDwCAV0rnRNoTAuxxAQa9shcC+kCODPniGwB+9WWMKUIXADGqmC9ceeMA+hZcmyEFlwOKqaNJYEGLAZW1kaKKcf8DZ6zEcnLCGwDGYNTykpIXA+DdMX0Q9d8CA4qoDXoRdwDz5MhFwC2RAPIC/IjkxdkBM+7EwebV6QPCUhYWDhE1AbKEDJGGqf8CCdkA48L2DwOaVIxyHY4/Akh7DMEmnksDDiygZbhSTwA1qxZLZpJPAtSK3R5dWmMC0yqEh58OhwKi5DuDruaPArlXrOVilqcDqRs9Cx96uwGQVn5rWmrLAue2oNyPXs8Dq8juyWfK1wGA0fAbyyrbAMIWuT8Mdt8COiGrPPbq2wFK3/QE9urbA4IOizjy6tsCAovZN7bi2wMoR4ckedrXAcjUb9nWsssACK/8uwGuvwAU4PmxUMazAKHUge25upsA2IpEO04ajwDDa9AInKqLAFjn1iyycmsBKudCaBJOQwLTBsJxfrXfAYKSudptGT8BgSXAxcQZWQLCbc0u7Em1AtES6+XzzcUBU6s/V13qTQACRBTgRaJ1Aqs6+tW5In0Aacelx/eefQLTBzZXbLKNAFYebDkYEp0CmM1Z3YrylQPA1Ga4lvqVAQqprVVe1pUCCF3FQG7elQCDCZ4feuKVApnos7wCEpUCQSj7zJpmlQD4kNvv3oaVAFBk8xkKnpUCujZW++KGlQEqrpswFqaVAXGsysNWxpUBsJNy0zc+lQEYk0Ed+DaZAxeXAiigBpkC2H4SQ6wKmQAUf9seuBKZA6R4E2fcJpkDdx6z5rgSmQK0XaCWLFKZAVpLp+jctpkA=\",\"dtype\":\"float64\",\"order\":\"little\",\"shape\":[79]},\"y\":{\"__ndarray__\":\"AAAAAAAAAACYkZ74KEN7QCIFHuOv24ZASsAKxWx1k0AghXQUvdiaQMTn/ETe951A7CG9DWU2oUATm7G3BuKgQAwfctsDBZtAbiA9gBSWmkCOJMxYAn2bQLw+V81GtZ1A6ma1g5dMoUCkbfnH6LShQHSXvLazRqNA7Fp+BQNoo0C2Z+8Rt96gQH/RiD9AdaBAtkrWqUQaoECfG5x+GNGiQPE54ErJ/6JAwBvaUQvjpUAzy5RqckinQKlCi7/hKqhA6FZyFWnUp0C02mGecOmmQFIuaZL8GKlACOugOP8rqEDCJeyFeManQDRMoEkYaqdAYDkfuyxJp0Dp8KVnRwenQAQFRf59kKhAqsLMXvOJqEC2X/pXkyyoQGf4iHZ0NahAAcMsvqw3qEAx+wlZmBioQKbwMjpuFKdAjnQtq3Rjp0DIkAu7x7SnQORBhLkD46dAuIjNA8ilqEBshMkGiBSpQFhHp88ZOqZAKcn9xYbOpkDsEDD5+Z6nQBCNxDafeqhABaZ5XJ7VqEAXkpWFk/2oQIY7OVI4GKlASUlHdIbHpkAsXA1ri4akQE2ruxL7maJAv+psttNPlEAQi+fNyO91QIfgdBZql3pAJIXMSQR4gkDKbnVMW9OEQH+SVOhb04RAqk1j3G6DhEBy0tQF61+EQI4ajqHrX4RAEloUy6jag0ALG3pfU/WDQF6Ir9fwyINAvqoC/quTg0AwEIllbKWDQGb20rWNnINAzNR/23Glg0AvZElvVGeDQG/hM+9pZ4NA1+l6K+FDg0BuSc3lwkyDQJ4opoPDTINA62UQs2hng0C6FiBn4kODQN51EmhsZ4NACPLcMVZwg0A=\",\"dtype\":\"float64\",\"order\":\"little\",\"shape\":[79]}},\"selected\":{\"id\":\"1425\"},\"selection_policy\":{\"id\":\"1424\"}},\"id\":\"1410\",\"type\":\"ColumnDataSource\"},{\"attributes\":{},\"id\":\"1397\",\"type\":\"WheelZoomTool\"},{\"attributes\":{},\"id\":\"1446\",\"type\":\"Selection\"},{\"attributes\":{},\"id\":\"1419\",\"type\":\"BasicTickFormatter\"},{\"attributes\":{},\"id\":\"1382\",\"type\":\"DataRange1d\"},{\"attributes\":{\"coordinates\":null,\"group\":null},\"id\":\"1416\",\"type\":\"Title\"},{\"attributes\":{},\"id\":\"1389\",\"type\":\"BasicTicker\"},{\"attributes\":{\"axis_label\":\"y\",\"coordinates\":null,\"formatter\":{\"id\":\"1419\"},\"group\":null,\"major_label_policy\":{\"id\":\"1420\"},\"ticker\":{\"id\":\"1393\"}},\"id\":\"1392\",\"type\":\"LinearAxis\"},{\"attributes\":{\"line_alpha\":0.1,\"line_color\":\"navy\",\"x\":{\"field\":\"x\"},\"y\":{\"field\":\"y\"}},\"id\":\"1450\",\"type\":\"Line\"},{\"attributes\":{},\"id\":\"1491\",\"type\":\"Selection\"},{\"attributes\":{},\"id\":\"1384\",\"type\":\"LinearScale\"},{\"attributes\":{\"source\":{\"id\":\"1470\"}},\"id\":\"1475\",\"type\":\"CDSView\"},{\"attributes\":{\"fill_alpha\":{\"value\":0.2},\"fill_color\":{\"value\":\"navy\"},\"hatch_alpha\":{\"value\":0.2},\"hatch_color\":{\"value\":\"navy\"},\"line_alpha\":{\"value\":0.2},\"line_color\":{\"value\":\"navy\"},\"x\":{\"field\":\"x\"},\"y\":{\"field\":\"y\"}},\"id\":\"1471\",\"type\":\"Circle\"},{\"attributes\":{},\"id\":\"1423\",\"type\":\"AllLabels\"},{\"attributes\":{\"fill_alpha\":{\"value\":0.1},\"fill_color\":{\"value\":\"navy\"},\"hatch_alpha\":{\"value\":0.1},\"hatch_color\":{\"value\":\"navy\"},\"line_alpha\":{\"value\":0.1},\"line_color\":{\"value\":\"navy\"},\"x\":{\"field\":\"x\"},\"y\":{\"field\":\"y\"}},\"id\":\"1472\",\"type\":\"Circle\"},{\"attributes\":{\"coordinates\":null,\"data_source\":{\"id\":\"1429\"},\"glyph\":{\"id\":\"1430\"},\"group\":null,\"hover_glyph\":null,\"muted_glyph\":{\"id\":\"1432\"},\"nonselection_glyph\":{\"id\":\"1431\"},\"view\":{\"id\":\"1434\"}},\"id\":\"1433\",\"type\":\"GlyphRenderer\"},{\"attributes\":{},\"id\":\"1396\",\"type\":\"PanTool\"},{\"attributes\":{\"tools\":[{\"id\":\"1396\"},{\"id\":\"1397\"},{\"id\":\"1398\"},{\"id\":\"1399\"},{\"id\":\"1400\"},{\"id\":\"1401\"}]},\"id\":\"1403\",\"type\":\"Toolbar\"},{\"attributes\":{\"source\":{\"id\":\"1429\"}},\"id\":\"1434\",\"type\":\"CDSView\"},{\"attributes\":{\"fill_alpha\":{\"value\":0.2},\"fill_color\":{\"value\":\"navy\"},\"hatch_alpha\":{\"value\":0.2},\"hatch_color\":{\"value\":\"navy\"},\"line_alpha\":{\"value\":0.2},\"line_color\":{\"value\":\"navy\"},\"x\":{\"field\":\"x\"},\"y\":{\"field\":\"y\"}},\"id\":\"1473\",\"type\":\"Circle\"},{\"attributes\":{},\"id\":\"1420\",\"type\":\"AllLabels\"},{\"attributes\":{},\"id\":\"1424\",\"type\":\"UnionRenderers\"},{\"attributes\":{\"source\":{\"id\":\"1410\"}},\"id\":\"1415\",\"type\":\"CDSView\"},{\"attributes\":{\"axis\":{\"id\":\"1392\"},\"coordinates\":null,\"dimension\":1,\"group\":null,\"ticker\":null},\"id\":\"1395\",\"type\":\"Grid\"},{\"attributes\":{},\"id\":\"1380\",\"type\":\"DataRange1d\"},{\"attributes\":{\"coordinates\":null,\"data_source\":{\"id\":\"1410\"},\"glyph\":{\"id\":\"1411\"},\"group\":null,\"hover_glyph\":null,\"muted_glyph\":{\"id\":\"1413\"},\"nonselection_glyph\":{\"id\":\"1412\"},\"view\":{\"id\":\"1415\"}},\"id\":\"1414\",\"type\":\"GlyphRenderer\"},{\"attributes\":{\"fill_alpha\":{\"value\":0.1},\"fill_color\":{\"value\":\"navy\"},\"hatch_alpha\":{\"value\":0.1},\"hatch_color\":{\"value\":\"navy\"},\"line_alpha\":{\"value\":0.1},\"line_color\":{\"value\":\"navy\"},\"x\":{\"field\":\"x\"},\"y\":{\"field\":\"y\"}},\"id\":\"1431\",\"type\":\"Circle\"},{\"attributes\":{\"fill_color\":{\"value\":\"navy\"},\"hatch_color\":{\"value\":\"navy\"},\"line_color\":{\"value\":\"navy\"},\"x\":{\"field\":\"x\"},\"y\":{\"field\":\"y\"}},\"id\":\"1430\",\"type\":\"Circle\"},{\"attributes\":{},\"id\":\"1466\",\"type\":\"UnionRenderers\"},{\"attributes\":{\"line_alpha\":0.1,\"line_color\":\"navy\",\"x\":{\"field\":\"x\"},\"y\":{\"field\":\"y\"}},\"id\":\"1412\",\"type\":\"Line\"},{\"attributes\":{\"data\":{\"x\":{\"__ndarray__\":\"AAAAAAAAAAAQXHD3fWNDwCAV0rnRNoTAuxxAQa9shcC+kCODPniGwB+9WWMKUIXADGqmC9ceeMA+hZcmyEFlwOKqaNJYEGLAZW1kaKKcf8DZ6zEcnLCGwDGYNTykpIXA+DdMX0Q9d8CA4qoDXoRdwDz5MhFwC2RAPIC/IjkxdkCQGU7zXKd6QAfdFW6Vw3pA8JSFhYOETUBsoQMkYap/wIJ2QDjwvYPA5pUjHIdjj8CSHsMwSaeSwMOLKBluFJPADWrFktmkk8C1IrdHl1aYwLTKoSHnw6HAqLkO4Ou5o8CuVes5WKWpwOpGz0LH3q7AZBWfmtaassC57ag3I9ezwOryO7JZ8rXAYDR8BvLKtsAwha5Pwx23wI6Ias89urbAUrf9AT26tsDgg6LOPLq2wPw+dBJdubbABAZ5iX24tsDKEeHJHna1wHI1G/Z1rLLAAiv/LsBrr8AFOD5sVDGswCh1IHtubqbANiKRDtOGo8Aw2vQCJyqiwBY59YssnJrASrnQmgSTkMC0wbCcX613wGCkrnabRk/AYElwMXEGVkCwm3NLuxJtQLREuvl883FAVOrP1dd6k0AAkQU4EWidQKrOvrVuSJ9AGnHpcf3nn0C0wc2V2yyjQBWHmw5GBKdApjNWd2K8pUDwNRmuJb6lQEKqa1VXtaVAghdxUBu3pUAgwmeH3rilQKZ6LO8AhKVAkEo+8yaZpUA+JDb796GlQBQZPMZCp6VAro2VvvihpUBKq6bMBamlQFxrMrDVsaVAbCTctM3PpUBGJNBHfg2mQMXlwIooAaZAth+EkOsCpkAFH/bHrgSmQOkeBNn3CaZA3ces+a4EpkCtF2glixSmQFaS6fo3LaZA\",\"dtype\":\"float64\",\"order\":\"little\",\"shape\":[81]},\"y\":{\"__ndarray__\":\"AAAAAAAAAACYkZ74KEN7QCIFHuOv24ZASsAKxWx1k0AghXQUvdiaQMTn/ETe951A7CG9DWU2oUATm7G3BuKgQAwfctsDBZtAbiA9gBSWmkCOJMxYAn2bQLw+V81GtZ1A6ma1g5dMoUCkbfnH6LShQHSXvLazRqNA7Fp+BQNoo0DRB9/QrvygQJzH/1K/wKBAf9GIP0B1oEC2StapRBqgQJ8bnH4Y0aJA8TngSsn/okDAG9pRC+OlQDPLlGpySKdAqUKLv+EqqEDoVnIVadSnQLTaYZ5w6aZAUi5pkvwYqUAI66A4/yuoQMIl7IV4xqdANEygSRhqp0BgOR+7LEmnQOnwpWdHB6dABAVF/n2QqECqwsxe84moQLZf+leTLKhAZ/iIdnQ1qEABwyy+rDeoQKrO8+exI6hAuCcgyn4NqECm8DI6bhSnQI50Lat0Y6dAyJALu8e0p0DkQYS5A+OnQLiIzQPIpahAbITJBogUqUBYR6fPGTqmQCnJ/cWGzqZA7BAw+fmep0AQjcQ2n3qoQAWmeVye1ahAF5KVhZP9qECGOzlSOBipQElJR3SGx6ZALFwNa4uGpEBNq7sS+5miQL/qbLbTT5RAEIvnzcjvdUCH4HQWapd6QCSFzEkEeIJAym51TFvThEB/klToW9OEQKpNY9xug4RActLUBetfhECOGo6h61+EQBJaFMuo2oNACxt6X1P1g0BeiK/X8MiDQL6qAv6rk4NAMBCJZWylg0Bm9tK1jZyDQMzUf9txpYNAL2RJb1Rng0Bv4TPvaWeDQNfpeivhQ4NAbknN5cJMg0CeKKaDw0yDQOtlELNoZ4NAuhYgZ+JDg0DedRJobGeDQAjy3DFWcINA\",\"dtype\":\"float64\",\"order\":\"little\",\"shape\":[81]}},\"selected\":{\"id\":\"1491\"},\"selection_policy\":{\"id\":\"1490\"}},\"id\":\"1470\",\"type\":\"ColumnDataSource\"},{\"attributes\":{},\"id\":\"1445\",\"type\":\"UnionRenderers\"},{\"attributes\":{\"line_alpha\":0.2,\"line_color\":\"navy\",\"x\":{\"field\":\"x\"},\"y\":{\"field\":\"y\"}},\"id\":\"1451\",\"type\":\"Line\"},{\"attributes\":{},\"id\":\"1399\",\"type\":\"SaveTool\"},{\"attributes\":{},\"id\":\"1422\",\"type\":\"BasicTickFormatter\"},{\"attributes\":{\"source\":{\"id\":\"1448\"}},\"id\":\"1453\",\"type\":\"CDSView\"},{\"attributes\":{\"fill_alpha\":{\"value\":0.2},\"fill_color\":{\"value\":\"navy\"},\"hatch_alpha\":{\"value\":0.2},\"hatch_color\":{\"value\":\"navy\"},\"line_alpha\":{\"value\":0.2},\"line_color\":{\"value\":\"navy\"},\"x\":{\"field\":\"x\"},\"y\":{\"field\":\"y\"}},\"id\":\"1432\",\"type\":\"Circle\"},{\"attributes\":{\"data\":{\"x\":{\"__ndarray__\":\"AAAAAAAAAAAQXHD3fWNDwCAV0rnRNoTAuxxAQa9shcC+kCODPniGwB+9WWMKUIXADGqmC9ceeMA+hZcmyEFlwOKqaNJYEGLAZW1kaKKcf8DZ6zEcnLCGwDGYNTykpIXA+DdMX0Q9d8CA4qoDXoRdwDz5MhFwC2RAPIC/IjkxdkCQGU7zXKd6QAfdFW6Vw3pA8JSFhYOETUBsoQMkYap/wIJ2QDjwvYPA5pUjHIdjj8CSHsMwSaeSwMOLKBluFJPADWrFktmkk8C1IrdHl1aYwLTKoSHnw6HAqLkO4Ou5o8CuVes5WKWpwOpGz0LH3q7AZBWfmtaassC57ag3I9ezwOryO7JZ8rXAYDR8BvLKtsAwha5Pwx23wI6Ias89urbAUrf9AT26tsDgg6LOPLq2wPw+dBJdubbABAZ5iX24tsDKEeHJHna1wHI1G/Z1rLLAAiv/LsBrr8AFOD5sVDGswCh1IHtubqbANiKRDtOGo8Aw2vQCJyqiwBY59YssnJrASrnQmgSTkMC0wbCcX613wGCkrnabRk/AYElwMXEGVkCwm3NLuxJtQLREuvl883FAVOrP1dd6k0AAkQU4EWidQKrOvrVuSJ9AGnHpcf3nn0C0wc2V2yyjQBWHmw5GBKdApjNWd2K8pUDwNRmuJb6lQEKqa1VXtaVAghdxUBu3pUAgwmeH3rilQKZ6LO8AhKVAkEo+8yaZpUA+JDb796GlQBQZPMZCp6VAro2VvvihpUBKq6bMBamlQFxrMrDVsaVAbCTctM3PpUBGJNBHfg2mQMXlwIooAaZAth+EkOsCpkAFH/bHrgSmQOkeBNn3CaZA3ces+a4EpkCtF2glixSmQFaS6fo3LaZA\",\"dtype\":\"float64\",\"order\":\"little\",\"shape\":[81]},\"y\":{\"__ndarray__\":\"AAAAAAAAAACYkZ74KEN7QCIFHuOv24ZASsAKxWx1k0AghXQUvdiaQMTn/ETe951A7CG9DWU2oUATm7G3BuKgQAwfctsDBZtAbiA9gBSWmkCOJMxYAn2bQLw+V81GtZ1A6ma1g5dMoUCkbfnH6LShQHSXvLazRqNA7Fp+BQNoo0DRB9/QrvygQJzH/1K/wKBAf9GIP0B1oEC2StapRBqgQJ8bnH4Y0aJA8TngSsn/okDAG9pRC+OlQDPLlGpySKdAqUKLv+EqqEDoVnIVadSnQLTaYZ5w6aZAUi5pkvwYqUAI66A4/yuoQMIl7IV4xqdANEygSRhqp0BgOR+7LEmnQOnwpWdHB6dABAVF/n2QqECqwsxe84moQLZf+leTLKhAZ/iIdnQ1qEABwyy+rDeoQKrO8+exI6hAuCcgyn4NqECm8DI6bhSnQI50Lat0Y6dAyJALu8e0p0DkQYS5A+OnQLiIzQPIpahAbITJBogUqUBYR6fPGTqmQCnJ/cWGzqZA7BAw+fmep0AQjcQ2n3qoQAWmeVye1ahAF5KVhZP9qECGOzlSOBipQElJR3SGx6ZALFwNa4uGpEBNq7sS+5miQL/qbLbTT5RAEIvnzcjvdUCH4HQWapd6QCSFzEkEeIJAym51TFvThEB/klToW9OEQKpNY9xug4RActLUBetfhECOGo6h61+EQBJaFMuo2oNACxt6X1P1g0BeiK/X8MiDQL6qAv6rk4NAMBCJZWylg0Bm9tK1jZyDQMzUf9txpYNAL2RJb1Rng0Bv4TPvaWeDQNfpeivhQ4NAbknN5cJMg0CeKKaDw0yDQOtlELNoZ4NAuhYgZ+JDg0DedRJobGeDQAjy3DFWcINA\",\"dtype\":\"float64\",\"order\":\"little\",\"shape\":[81]}},\"selected\":{\"id\":\"1467\"},\"selection_policy\":{\"id\":\"1466\"}},\"id\":\"1448\",\"type\":\"ColumnDataSource\"},{\"attributes\":{},\"id\":\"1401\",\"type\":\"HelpTool\"},{\"attributes\":{},\"id\":\"1393\",\"type\":\"BasicTicker\"},{\"attributes\":{\"bottom_units\":\"screen\",\"coordinates\":null,\"fill_alpha\":0.5,\"fill_color\":\"lightgrey\",\"group\":null,\"left_units\":\"screen\",\"level\":\"overlay\",\"line_alpha\":1.0,\"line_color\":\"black\",\"line_dash\":[4,4],\"line_width\":2,\"right_units\":\"screen\",\"syncable\":false,\"top_units\":\"screen\"},\"id\":\"1402\",\"type\":\"BoxAnnotation\"},{\"attributes\":{\"axis\":{\"id\":\"1388\"},\"coordinates\":null,\"group\":null,\"ticker\":null},\"id\":\"1391\",\"type\":\"Grid\"}],\"root_ids\":[\"1379\"]},\"title\":\"Bokeh Application\",\"version\":\"2.4.3\"}};\n",
       "  const render_items = [{\"docid\":\"b9185f15-d3ca-4913-8723-a0facb804b71\",\"root_ids\":[\"1379\"],\"roots\":{\"1379\":\"9f08d82e-b95a-4e5d-8a33-183543a206e7\"}}];\n",
       "  root.Bokeh.embed.embed_items_notebook(docs_json, render_items);\n",
       "  }\n",
       "  if (root.Bokeh !== undefined) {\n",
       "    embed_document(root);\n",
       "  } else {\n",
       "    let attempts = 0;\n",
       "    const timer = setInterval(function(root) {\n",
       "      if (root.Bokeh !== undefined) {\n",
       "        clearInterval(timer);\n",
       "        embed_document(root);\n",
       "      } else {\n",
       "        attempts++;\n",
       "        if (attempts > 100) {\n",
       "          clearInterval(timer);\n",
       "          console.log(\"Bokeh: ERROR: Unable to run BokehJS code because BokehJS library is missing\");\n",
       "        }\n",
       "      }\n",
       "    }, 10, root)\n",
       "  }\n",
       "})(window);"
      ],
      "application/vnd.bokehjs_exec.v0+json": ""
     },
     "metadata": {
      "application/vnd.bokehjs_exec.v0+json": {
       "id": "1379"
      }
     },
     "output_type": "display_data"
    }
   ],
   "source": [
    "fig = figure(plot_width=900, plot_height=450)\n",
    "fig.line(Timer, xr, line_color='navy', legend_label=\"x\", alpha=0.2)\n",
    "fig.circle(Timer, xr, line_color='navy', legend_label=\"x\", fill_alpha=0.2, alpha=0.2)\n",
    "fig.line(Timep, xsp, line_color='navy', legend_label=\"x\")\n",
    "fig.circle(Timep, xsp, line_color='navy', color = 'cyan', legend_label=\"x\")\n",
    "fig.line(Timer, yr, line_color='red', legend_label=\"y\", alpha=0.2)\n",
    "fig.circle(Timer, yr, line_color='red', legend_label=\"y\", fill_alpha=0.2, alpha=0.2)\n",
    "fig.line(Timep, ysp, line_color='red', legend_label=\"y\")\n",
    "fig.circle(Timep, ysp, line_color='red', color = 'pink', legend_label=\"y\")\n",
    "fig.xaxis.axis_label = \"time [s]\"\n",
    "fig.yaxis.axis_label = \"y\"\n",
    "show(fig)\n",
    "\n",
    "fig = figure(plot_width=900, plot_height=450)\n",
    "fig.line(xsp, ysp, line_color='navy', legend_label=\"p\")\n",
    "fig.circle(xsp, ysp, color='navy', legend_label=\"p\")\n",
    "fig.line(xr, yr, line_color='navy', legend_label=\"p raw\", alpha=0.2)\n",
    "fig.circle(xr, yr, color='navy', legend_label=\"p raw\", fill_alpha=0.2, alpha=0.2)\n",
    "fig.xaxis.axis_label = \"x\"\n",
    "fig.yaxis.axis_label = \"y\"\n",
    "show(fig)\n"
   ]
  },
  {
   "cell_type": "code",
   "execution_count": 12,
   "id": "cadf4155",
   "metadata": {},
   "outputs": [],
   "source": [
    "# Create the dynamic system state\n",
    "n = 30\n",
    "X = np.array([0]*n)\n",
    "Y = np.array([0]*n)\n",
    "N = np.array([0]*n)\n",
    "\n",
    "system = pd.DataFrame()\n",
    "system['X'] = X\n",
    "system['Y'] = Y\n",
    "system['N'] = N\n"
   ]
  },
  {
   "cell_type": "code",
   "execution_count": 13,
   "id": "d5614751",
   "metadata": {},
   "outputs": [],
   "source": [
    "def system_update(system,x,y,b):\n",
    "    dict = {'X': x, 'Y': y, 'N': b}\n",
    "    system = system.append(dict, ignore_index = True).drop(index=[0]).reset_index(drop=True)\n",
    "    return system\n",
    "\n",
    "def privacy(system):\n",
    "    n = system['N'].sum()\n",
    "    if n == 0:\n",
    "        barx = 0\n",
    "        bary = 0\n",
    "        priv = 0\n",
    "    else:\n",
    "        barx = np.dot(system['X'], system['N'])/n\n",
    "        bary = np.dot(system['Y'], system['N'])/n\n",
    "        #priv = np.sqrt(np.dot((system['X'] - barx)**2 + (system['Y'] - bary)**2, system['N'])/n) \n",
    "        priv = np.dot(np.sqrt((system['X'] - barx)**2 + (system['Y'] - bary)**2), system['N'])/n \n",
    "    return barx, bary, priv\n",
    "\n",
    "def utility(x,y):\n",
    "    return np.sqrt(x**2 + y**2)\n",
    "\n",
    "def reset_system(system):\n",
    "    n = len(system)\n",
    "    X = np.array([0]*n)\n",
    "    Y = np.array([0]*n)\n",
    "    N = np.array([0]*n)\n",
    "\n",
    "    system['X'] = X\n",
    "    system['Y'] = Y\n",
    "    system['N'] = N\n",
    "    return system\n",
    "\n"
   ]
  },
  {
   "cell_type": "markdown",
   "id": "fe71e73c",
   "metadata": {},
   "source": [
    "## Random obfuscation protocol"
   ]
  },
  {
   "cell_type": "markdown",
   "id": "7a949bfe",
   "metadata": {},
   "source": [
    "Generate random obfuscation signal and positions"
   ]
  },
  {
   "cell_type": "code",
   "execution_count": 14,
   "id": "e886d4e6",
   "metadata": {},
   "outputs": [],
   "source": [
    "def GeoI_LPPM(x,y,epsilon):\n",
    "    theta_GeoI = random.uniform(0,2*math.pi)\n",
    "    r_GeoI = -1/epsilon*(np.real(lambertw((random.random()-1)/math.exp(1),k=-1))+1);\n",
    "    x_ctrl = x + r_GeoI*math.cos(theta_GeoI)\n",
    "    y_ctrl = y + r_GeoI*math.sin(theta_GeoI)\n",
    "    return x_ctrl, y_ctrl, r_GeoI \n"
   ]
  },
  {
   "cell_type": "code",
   "execution_count": 15,
   "id": "e551c916",
   "metadata": {},
   "outputs": [],
   "source": [
    "#delta = np.random.normal(loc=0.0, scale=350, size=(2,nt))\n",
    "#x_obf = xs + delta[0,]\n",
    "#y_obf = ys + delta[1,]\n",
    "x_obf=np.zeros_like(xs)\n",
    "y_obf=np.zeros_like(ys)\n",
    "for i in range(nt):\n",
    "    x_obf[i] ,y_obf[i], r =GeoI_LPPM(xs[i],ys[i],0.005)\n",
    "    \n",
    "delta=np.zeros((2,nt))\n",
    "delta[0,]=x_obf-xs\n",
    "delta[1,]=y_obf-ys\n",
    "\n"
   ]
  },
  {
   "cell_type": "markdown",
   "id": "603d4cb5",
   "metadata": {},
   "source": [
    "## Simulate real and obfuscated trajectories and transmissions"
   ]
  },
  {
   "cell_type": "code",
   "execution_count": 16,
   "id": "0265eb74",
   "metadata": {},
   "outputs": [],
   "source": [
    "\n",
    "system = reset_system(system)\n",
    "barxk = []\n",
    "baryk = []\n",
    "privk = []\n",
    "system_obf = reset_system(system)\n",
    "barxk_obf = []\n",
    "baryk_obf = []\n",
    "privk_obf = []\n",
    "\n",
    "util = []\n",
    "for i in range(0,nt,1):\n",
    "    bi = bs[i] \n",
    "    # Update the real system\n",
    "    system = system_update(system,xs[i],ys[i],bi)\n",
    "    barx, bary, priv = privacy(system)\n",
    "    barxk += [barx] \n",
    "    baryk += [bary] \n",
    "    privk += [priv] \n",
    "    # Update the obfuscated system\n",
    "    system_obf = system_update(system_obf,x_obf[i],y_obf[i],bi)\n",
    "    barx_obf, bary_obf, priv_obf = privacy(system_obf)\n",
    "    barxk_obf += [barx_obf] \n",
    "    baryk_obf += [bary_obf] \n",
    "    privk_obf += [priv_obf] \n",
    "    # Compute utility\n",
    "    util += [utility(delta[0,i],delta[1,i])*bi]\n",
    "\n",
    "Data_real = pd.DataFrame()\n",
    "Data_real['x'] = xs\n",
    "Data_real['y'] = ys\n",
    "Data_real['b'] = bs\n",
    "Data_real['barx'] = barxk\n",
    "Data_real['bary'] = baryk\n",
    "Data_real['priv'] = privk\n",
    "Data_real['u_enu'] = us\n",
    "\n",
    "Data_obf = pd.DataFrame()\n",
    "Data_obf['x'] = x_obf\n",
    "Data_obf['y'] = y_obf\n",
    "Data_obf['U'] = delta[0,]\n",
    "Data_obf['V'] = delta[1,]\n",
    "Data_obf['barx'] = barxk_obf\n",
    "Data_obf['bary'] = baryk_obf\n",
    "Data_obf['priv'] = privk_obf\n",
    "Data_obf['util'] = util\n",
    "Data_obf['u_enu'] = us\n",
    "\n",
    "pickle.dump( Data_real, open( sol_file+\"/Data_real.pkl\", \"wb\" ) )\n",
    "Data_real.to_csv(sol_file+\"/Data_real.csv\")\n",
    "pickle.dump( Data_obf, open( sol_file+\"/Data_GeoI.pkl\", \"wb\" ) )\n",
    "Data_obf.to_csv(sol_file+\"/Data_GeoI.csv\")    "
   ]
  },
  {
   "cell_type": "code",
   "execution_count": 17,
   "id": "dd13ff96",
   "metadata": {},
   "outputs": [
    {
     "data": {
      "text/html": [
       "\n",
       "  <div class=\"bk-root\" id=\"3552be0f-0dd8-4066-af6a-4b7580c3b156\" data-root-id=\"1620\"></div>\n"
      ]
     },
     "metadata": {},
     "output_type": "display_data"
    },
    {
     "data": {
      "application/javascript": [
       "(function(root) {\n",
       "  function embed_document(root) {\n",
       "  const docs_json = {\"3296cb14-2af9-4c75-92da-b10577b6f042\":{\"defs\":[],\"roots\":{\"references\":[{\"attributes\":{\"below\":[{\"id\":\"1629\"}],\"center\":[{\"id\":\"1632\"},{\"id\":\"1636\"},{\"id\":\"1668\"}],\"height\":450,\"left\":[{\"id\":\"1633\"}],\"renderers\":[{\"id\":\"1655\"},{\"id\":\"1674\"},{\"id\":\"1693\"},{\"id\":\"1715\"},{\"id\":\"1739\"},{\"id\":\"1764\"},{\"id\":\"1792\"}],\"title\":{\"id\":\"1657\"},\"toolbar\":{\"id\":\"1644\"},\"width\":900,\"x_range\":{\"id\":\"1621\"},\"x_scale\":{\"id\":\"1625\"},\"y_range\":{\"id\":\"1623\"},\"y_scale\":{\"id\":\"1627\"}},\"id\":\"1620\",\"subtype\":\"Figure\",\"type\":\"Plot\"},{\"attributes\":{},\"id\":\"1665\",\"type\":\"UnionRenderers\"},{\"attributes\":{},\"id\":\"1661\",\"type\":\"AllLabels\"},{\"attributes\":{},\"id\":\"1666\",\"type\":\"Selection\"},{\"attributes\":{\"label\":{\"value\":\"p\"},\"renderers\":[{\"id\":\"1655\"},{\"id\":\"1674\"}]},\"id\":\"1669\",\"type\":\"LegendItem\"},{\"attributes\":{\"source\":{\"id\":\"1670\"}},\"id\":\"1675\",\"type\":\"CDSView\"},{\"attributes\":{\"coordinates\":null,\"group\":null,\"items\":[{\"id\":\"1669\"},{\"id\":\"1710\"},{\"id\":\"1734\"},{\"id\":\"1787\"}]},\"id\":\"1668\",\"type\":\"Legend\"},{\"attributes\":{},\"id\":\"1687\",\"type\":\"Selection\"},{\"attributes\":{\"coordinates\":null,\"data_source\":{\"id\":\"1670\"},\"glyph\":{\"id\":\"1671\"},\"group\":null,\"hover_glyph\":null,\"muted_glyph\":{\"id\":\"1673\"},\"nonselection_glyph\":{\"id\":\"1672\"},\"view\":{\"id\":\"1675\"}},\"id\":\"1674\",\"type\":\"GlyphRenderer\"},{\"attributes\":{},\"id\":\"1686\",\"type\":\"UnionRenderers\"},{\"attributes\":{\"fill_color\":{\"value\":\"navy\"},\"hatch_color\":{\"value\":\"navy\"},\"line_color\":{\"value\":\"navy\"},\"x\":{\"field\":\"x\"},\"y\":{\"field\":\"y\"}},\"id\":\"1671\",\"type\":\"Circle\"},{\"attributes\":{\"fill_alpha\":{\"value\":0.1},\"fill_color\":{\"value\":\"navy\"},\"hatch_alpha\":{\"value\":0.1},\"hatch_color\":{\"value\":\"navy\"},\"line_alpha\":{\"value\":0.1},\"line_color\":{\"value\":\"navy\"},\"x\":{\"field\":\"x\"},\"y\":{\"field\":\"y\"}},\"id\":\"1672\",\"type\":\"Circle\"},{\"attributes\":{\"fill_alpha\":{\"value\":0.2},\"fill_color\":{\"value\":\"navy\"},\"hatch_alpha\":{\"value\":0.2},\"hatch_color\":{\"value\":\"navy\"},\"line_alpha\":{\"value\":0.2},\"line_color\":{\"value\":\"navy\"},\"x\":{\"field\":\"x\"},\"y\":{\"field\":\"y\"}},\"id\":\"1673\",\"type\":\"Circle\"},{\"attributes\":{\"data\":{\"x\":{\"__ndarray__\":\"4GjtR8CcRcAAAAAAAAAAALy/wp+kf0tAAAAAAAAAAAAAAAAAAAAAAAAAAAAAAAAAWVhx72aUhsAkbQ9ccweQwAAAAAAAAACAAAAAAAAAAICW4qcIe8mawAAAAAAAAACAF+N43ng6hsC46KtZ6Fd8wAAAAAAAAAAAwoYXE6PPZcAAAAAAAAAAgAAAAAAAAAAAiNWOtaEiO8CAlICUPmiEwAAAAAAAAACAAAAAAAAAAIBepis5gDiKwPyFjpeiB4zAAAAAAAAAAIBEkLmkZCmHwAAAAAAAAAAAFi9wVUrjgMAAAAAAAAAAgAAAAAAAAACA0zptyGBLdEAAAAAAAAAAgArJJuGUkoBAAAAAAAAAAAAAgTNTmFBZQAAAAAAAAACA5P2QKJkacUAAAAAAAAAAgBSSabYIzpDAAAAAAAAAAIBvywoh2dOCwAAAAAAAAAAAjCPGcKpDlMAAAAAAAAAAgK0cpbHxmpPAAAAAAAAAAAA6CbXPGIWTwAAAAAAAAAAAISGvsb3NoMAAAAAAAAAAgOYZwyea25fAAAAAAAAAAAD2C041g1ygwAAAAAAAAACA0V0RwdTgocAAAAAAAAAAgF047t0oK6jAAAAAAAAAAIAaeNtlRVCswAAAAAAAAACAD04tgILfssAAAAAAAAAAAJzMKf7GvrPAAAAAAAAAAIDMh1cVFlC0wAAAAAAAAACAcjVOd8dhssAAAAAAAAAAgNoadONj+7fAAAAAAAAAAACEha0PdqS2wAAAAAAAAAAAPxQ3zai1tcAAAAAAAAAAAGE+BgluDLfAJd7uM3yitsAAAAAAAAAAACK6nAJwfrTAAAAAAAAAAADR4X7vQ6SywAAAAAAAAAAATwORoqY6tMAAAAAAAAAAAPaMO7N5KKrAAAAAAAAAAIACha4eakejwAAAAAAAAAAABLAX5ZSbpMAAAAAAAAAAAOox7NN686TAAAAAAAAAAIASl4N7q46YwAAAAAAAAACA+B9k4g/YlMAAAAAAAAAAAAm3g87Hb2fAAAAAAAAAAICgoY4MdFtGQAAAAAAAAAAAmJjZRkOcT8AAAAAAAAAAgI6uU6dB1WbAAAAAAAAAAIAI4QKsDPVLwAAAAAAAAACAWMcg7a+bk0CaCz+OWemgQAAAAAAAAAAA4m2Ln2QspkAAAAAAAAAAgHbMP2EgDqZAAAAAAAAAAIAAAAAAAAAAAHeBthJQ7KJAJV0IFWrYo0AAAAAAAAAAgMJhFF8X26lAAAAAAAAAAIBJrOMCSHKnQAAAAAAAAACAToE4pG/EpEAAAAAAAAAAgEU51ZgqH6NAAAAAAAAAAICf3LQEN9OmQAAAAAAAAAAAAAAAAAAAAIAAAAAAAAAAAAAAAAAAAACAAAAAAAAAAIDgJh19q2qnQAAAAAAAAAAAluGgHjhvokAAAAAAAAAAAASpWgcGLqdAAAAAAAAAAADWCdarVNaiQAAAAAAAAACAj3ioB2TtoUAAAAAAAAAAgJhNi8S4VqdAAAAAAAAAAIBx04M3ImGlQAAAAAAAAAAAd4iWrLcjq0AAAAAAAAAAgFynqCNmy6ZAAAAAAAAAAIBHTPdVcMOjQAAAAAAAAAAACixD5VjrpkAAAAAAAAAAAD9AMQJ64qVAAAAAAAAAAACG+18v462kQAAAAAAAAACA5WK7VnZuokAAAAAAAAAAAI0FsJeZwalAvjrBDLQjp0A=\",\"dtype\":\"float64\",\"order\":\"little\",\"shape\":[160]},\"y\":{\"__ndarray__\":\"P3UDZ+LZKcAAAAAAAAAAgCAiEymZKixAAAAAAAAAAIAAAAAAAAAAgAAAAAAAAACAX55cM4uXg0D//4nlsyGGQAAAAAAAAAAAAAAAAAAAAID/OAVdRBeiQAAAAAAAAAAAPgu3vpi8nUBJ0Q+OqZ6gQAAAAAAAAAAA9IIinEGcoUAAAAAAAAAAgAAAAAAAAACAl2v6dVuNmkBRSa1a2HSZQAAAAAAAAACAAAAAAAAAAICWzfaQWXSeQGVkJwL/n5FAAAAAAAAAAACQSxZl/YujQAAAAAAAAAAAEXnoJAk4nEAAAAAAAAAAgAAAAAAAAAAAvZytiVIzokAAAAAAAAAAAHV6Q943I6JAAAAAAAAAAABSxZNvsSeZQAAAAAAAAACAr7uEyH6mokAAAAAAAAAAgCBhJsHbx6JAAAAAAAAAAAAlUD+hJXSgQAAAAAAAAACA4E1b7AU6pEAAAAAAAAAAgAFzbkr60aZAAAAAAAAAAIAAjtv+356nQAAAAAAAAACAfhNBPPjFpkAAAAAAAAAAAHd+bgaSdKZAAAAAAAAAAACj9foRyJilQAAAAAAAAAAAMP2cjWJKp0AAAAAAAAAAAOISEvZ3lKRAAAAAAAAAAID/4JDrDsmnQAAAAAAAAAAA7yBaNqW+pEAAAAAAAAAAgBxnQP/dZKdAAAAAAAAAAIC4RyJuHy6nQAAAAAAAAACAseJAtFQvp0AAAAAAAAAAgDik6sCWMKdAAAAAAAAAAIB6usHeI7CoQAAAAAAAAACAJZ87jJzIqkAAAAAAAAAAANzx0vcI+aRABQtgsM3Gp0AAAAAAAAAAgF8cHUbEBKpAAAAAAAAAAACg9pafMImoQAAAAAAAAAAAHarTHRwerkAAAAAAAAAAAK7uSY+gvKZAAAAAAAAAAAD7x6vnMVWoQAAAAAAAAAAA7dBZLyGorEAAAAAAAAAAAN2PKgLB+ahAAAAAAAAAAABkHcmXJDmoQAAAAAAAAACAcr3307vQpUAAAAAAAAAAgHRGMDRqE6lAAAAAAAAAAACVgTreSmCqQAAAAAAAAACAYkptJPFup0AAAAAAAAAAANbLVpXZKqxAAAAAAAAAAIDZIHMmwRCmQAAAAAAAAACAc2wBl8TapEAjdlGBG3SiQAAAAAAAAACAiAfl4DQ1mEAAAAAAAAAAAFD8k5+1xHlAAAAAAAAAAAAAAAAAAAAAgDBQZs1N0n9AUEKfUbDUc0AAAAAAAAAAgAcT9gz7QIRAAAAAAAAAAIB784cdVIWIQAAAAAAAAAAA/EqrTwLDlUAAAAAAAAAAAH534JznzoxAAAAAAAAAAABIFkrGY+5ZwAAAAAAAAAAAAAAAAAAAAIAAAAAAAAAAgAAAAAAAAAAAAAAAAAAAAIDJFCbyYH58QAAAAAAAAACAxmsX8L22gEAAAAAAAAAAgJD0aut4+pRAAAAAAAAAAACAAZBiQ71awAAAAAAAAAAAoLTzDUPGh0AAAAAAAAAAAKfGzlxBw5NAAAAAAAAAAAAYiGH495yJQAAAAAAAAAAAFD21TJy7jEAAAAAAAAAAAG2K/TaSwJVAAAAAAAAAAIAGgIArAt6DQAAAAAAAAACADdT44QKdi0AAAAAAAAAAAPNUB2vFTolAAAAAAAAAAACbloByQdeDQAAAAAAAAACAWyOoTlHjiEAAAAAAAAAAgAxMNkl2831AKPt+5N0QVMA=\",\"dtype\":\"float64\",\"order\":\"little\",\"shape\":[160]}},\"selected\":{\"id\":\"1708\"},\"selection_policy\":{\"id\":\"1707\"}},\"id\":\"1689\",\"type\":\"ColumnDataSource\"},{\"attributes\":{\"source\":{\"id\":\"1689\"}},\"id\":\"1694\",\"type\":\"CDSView\"},{\"attributes\":{},\"id\":\"1708\",\"type\":\"Selection\"},{\"attributes\":{\"coordinates\":null,\"data_source\":{\"id\":\"1689\"},\"glyph\":{\"id\":\"1690\"},\"group\":null,\"hover_glyph\":null,\"muted_glyph\":{\"id\":\"1692\"},\"nonselection_glyph\":{\"id\":\"1691\"},\"view\":{\"id\":\"1694\"}},\"id\":\"1693\",\"type\":\"GlyphRenderer\"},{\"attributes\":{\"label\":{\"value\":\"p GeoI\"},\"renderers\":[{\"id\":\"1693\"}]},\"id\":\"1710\",\"type\":\"LegendItem\"},{\"attributes\":{\"fill_color\":{\"value\":\"orange\"},\"hatch_color\":{\"value\":\"orange\"},\"line_color\":{\"value\":\"orange\"},\"x\":{\"field\":\"x\"},\"y\":{\"field\":\"y\"}},\"id\":\"1690\",\"type\":\"Circle\"},{\"attributes\":{\"fill_alpha\":{\"value\":0.1},\"fill_color\":{\"value\":\"orange\"},\"hatch_alpha\":{\"value\":0.1},\"hatch_color\":{\"value\":\"orange\"},\"line_alpha\":{\"value\":0.1},\"line_color\":{\"value\":\"orange\"},\"x\":{\"field\":\"x\"},\"y\":{\"field\":\"y\"}},\"id\":\"1691\",\"type\":\"Circle\"},{\"attributes\":{\"data\":{\"x\":{\"__ndarray__\":\"AAAAAAAAAAAAAAAAAAAAABBccPd9Y0PAAAAAAAAAAAAAAAAAAAAAAAAAAAAAAAAAIBXSudE2hMC7HEBBr2yFwAAAAAAAAAAAAAAAAAAAAAC+kCODPniGwAAAAAAAAAAAH71ZYwpQhcAMaqYL1x54wAAAAAAAAAAAPoWXJshBZcAAAAAAAAAAAAAAAAAAAAAA4qpo0lgQYsBlbWRoopx/wAAAAAAAAAAAAAAAAAAAAADZ6zEcnLCGwDGYNTykpIXAAAAAAAAAAAD4N0xfRD13wAAAAAAAAAAAgOKqA16EXcAAAAAAAAAAAAAAAAAAAAAAPPkyEXALZEAAAAAAAAAAADyAvyI5MXZAAAAAAAAAAABM+7EwebV6QAAAAAAAAAAA8JSFhYOETUAAAAAAAAAAAGyhAyRhqn/AAAAAAAAAAACCdkA48L2DwAAAAAAAAAAA5pUjHIdjj8AAAAAAAAAAAJIewzBJp5LAAAAAAAAAAADDiygZbhSTwAAAAAAAAAAADWrFktmkk8AAAAAAAAAAALUit0eXVpjAAAAAAAAAAAC0yqEh58OhwAAAAAAAAAAAqLkO4Ou5o8AAAAAAAAAAAK5V6zlYpanAAAAAAAAAAADqRs9Cx96uwAAAAAAAAAAAZBWfmtaassAAAAAAAAAAALntqDcj17PAAAAAAAAAAADq8juyWfK1wAAAAAAAAAAAYDR8BvLKtsAAAAAAAAAAADCFrk/DHbfAAAAAAAAAAACOiGrPPbq2wAAAAAAAAAAAUrf9AT26tsAAAAAAAAAAAOCDos48urbAgKL2Te24tsAAAAAAAAAAAMoR4ckedrXAAAAAAAAAAAByNRv2dayywAAAAAAAAAAAAiv/LsBrr8AAAAAAAAAAAAU4PmxUMazAAAAAAAAAAAAodSB7bm6mwAAAAAAAAAAANiKRDtOGo8AAAAAAAAAAADDa9AInKqLAAAAAAAAAAAAWOfWLLJyawAAAAAAAAAAASrnQmgSTkMAAAAAAAAAAALTBsJxfrXfAAAAAAAAAAABgpK52m0ZPwAAAAAAAAAAAYElwMXEGVkAAAAAAAAAAALCbc0u7Em1AAAAAAAAAAAC0RLr5fPNxQAAAAAAAAAAAVOrP1dd6k0AAkQU4EWidQAAAAAAAAAAAqs6+tW5In0AAAAAAAAAAABpx6XH9559AAAAAAAAAAAAAAAAAAAAAALTBzZXbLKNAFYebDkYEp0AAAAAAAAAAAKYzVndivKVAAAAAAAAAAADwNRmuJb6lQAAAAAAAAAAAQqprVVe1pUAAAAAAAAAAAIIXcVAbt6VAAAAAAAAAAAAgwmeH3rilQAAAAAAAAAAAAAAAAAAAAAAAAAAAAAAAAAAAAAAAAAAAAAAAAAAAAACmeizvAISlQAAAAAAAAAAAkEo+8yaZpUAAAAAAAAAAAD4kNvv3oaVAAAAAAAAAAAAUGTzGQqelQAAAAAAAAAAAro2VvvihpUAAAAAAAAAAAEqrpswFqaVAAAAAAAAAAABcazKw1bGlQAAAAAAAAAAAbCTctM3PpUAAAAAAAAAAAEYk0Ed+DaZAAAAAAAAAAADF5cCKKAGmQAAAAAAAAAAAth+EkOsCpkAAAAAAAAAAAAUf9seuBKZAAAAAAAAAAADpHgTZ9wmmQAAAAAAAAAAA3ces+a4EpkAAAAAAAAAAAK0XaCWLFKZAVpLp+jctpkA=\",\"dtype\":\"float64\",\"order\":\"little\",\"shape\":[160]},\"y\":{\"__ndarray__\":\"AAAAAAAAAAAAAAAAAAAAAJiRnvgoQ3tAAAAAAAAAAAAAAAAAAAAAAAAAAAAAAAAAIgUe46/bhkBKwArFbHWTQAAAAAAAAAAAAAAAAAAAAAAghXQUvdiaQAAAAAAAAAAAxOf8RN73nUDsIb0NZTahQAAAAAAAAAAAE5uxtwbioEAAAAAAAAAAAAAAAAAAAAAADB9y2wMFm0BuID2AFJaaQAAAAAAAAAAAAAAAAAAAAACOJMxYAn2bQLw+V81GtZ1AAAAAAAAAAADqZrWDl0yhQAAAAAAAAAAApG35x+i0oUAAAAAAAAAAAAAAAAAAAAAAdJe8trNGo0AAAAAAAAAAAOxafgUDaKNAAAAAAAAAAAC2Z+8Rt96gQAAAAAAAAAAAf9GIP0B1oEAAAAAAAAAAALZK1qlEGqBAAAAAAAAAAACfG5x+GNGiQAAAAAAAAAAA8TngSsn/okAAAAAAAAAAAMAb2lEL46VAAAAAAAAAAAAzy5RqckinQAAAAAAAAAAAqUKLv+EqqEAAAAAAAAAAAOhWchVp1KdAAAAAAAAAAAC02mGecOmmQAAAAAAAAAAAUi5pkvwYqUAAAAAAAAAAAAjroDj/K6hAAAAAAAAAAADCJeyFeManQAAAAAAAAAAANEygSRhqp0AAAAAAAAAAAGA5H7ssSadAAAAAAAAAAADp8KVnRwenQAAAAAAAAAAABAVF/n2QqEAAAAAAAAAAAKrCzF7ziahAAAAAAAAAAAC2X/pXkyyoQAAAAAAAAAAAZ/iIdnQ1qEAAAAAAAAAAAAHDLL6sN6hAMfsJWZgYqEAAAAAAAAAAAKbwMjpuFKdAAAAAAAAAAACOdC2rdGOnQAAAAAAAAAAAyJALu8e0p0AAAAAAAAAAAORBhLkD46dAAAAAAAAAAAC4iM0DyKWoQAAAAAAAAAAAbITJBogUqUAAAAAAAAAAAFhHp88ZOqZAAAAAAAAAAAApyf3Fhs6mQAAAAAAAAAAA7BAw+fmep0AAAAAAAAAAABCNxDafeqhAAAAAAAAAAAAFpnlcntWoQAAAAAAAAAAAF5KVhZP9qEAAAAAAAAAAAIY7OVI4GKlAAAAAAAAAAABJSUd0hsemQAAAAAAAAAAALFwNa4uGpEBNq7sS+5miQAAAAAAAAAAAv+psttNPlEAAAAAAAAAAABCL583I73VAAAAAAAAAAAAAAAAAAAAAAIfgdBZql3pAJIXMSQR4gkAAAAAAAAAAAMpudUxb04RAAAAAAAAAAAB/klToW9OEQAAAAAAAAAAAqk1j3G6DhEAAAAAAAAAAAHLS1AXrX4RAAAAAAAAAAACOGo6h61+EQAAAAAAAAAAAAAAAAAAAAAAAAAAAAAAAAAAAAAAAAAAAAAAAAAAAAAASWhTLqNqDQAAAAAAAAAAACxt6X1P1g0AAAAAAAAAAAF6Ir9fwyINAAAAAAAAAAAC+qgL+q5ODQAAAAAAAAAAAMBCJZWylg0AAAAAAAAAAAGb20rWNnINAAAAAAAAAAADM1H/bcaWDQAAAAAAAAAAAL2RJb1Rng0AAAAAAAAAAAG/hM+9pZ4NAAAAAAAAAAADX6Xor4UODQAAAAAAAAAAAbknN5cJMg0AAAAAAAAAAAJ4opoPDTINAAAAAAAAAAADrZRCzaGeDQAAAAAAAAAAAuhYgZ+JDg0AAAAAAAAAAAN51EmhsZ4NACPLcMVZwg0A=\",\"dtype\":\"float64\",\"order\":\"little\",\"shape\":[160]}},\"selected\":{\"id\":\"1687\"},\"selection_policy\":{\"id\":\"1686\"}},\"id\":\"1670\",\"type\":\"ColumnDataSource\"},{\"attributes\":{},\"id\":\"1623\",\"type\":\"DataRange1d\"},{\"attributes\":{\"fill_alpha\":{\"value\":0.2},\"fill_color\":{\"value\":\"orange\"},\"hatch_alpha\":{\"value\":0.2},\"hatch_color\":{\"value\":\"orange\"},\"line_alpha\":{\"value\":0.2},\"line_color\":{\"value\":\"orange\"},\"x\":{\"field\":\"x\"},\"y\":{\"field\":\"y\"}},\"id\":\"1692\",\"type\":\"Circle\"},{\"attributes\":{\"data\":{\"x\":[0.0,0.0,-19.388640847140834,-19.388640847140834,-19.388640847140834,-19.388640847140834,-228.54322896675515,-342.8038151435875,-342.8038151435875,-342.8038151435875,-418.0491568279007,-418.0491568279007,-462.0418094080207,-451.1683368275512,-451.1683368275512,-416.0292550321749,-416.0292550321749,-416.0292550321749,-385.86054253062895,-397.85345331131606,-397.85345331131606,-397.85345331131606,-427.6918871605332,-449.76591264425775,-449.76591264425775,-443.7707803212761,-443.7707803212761,-420.5063130254058,-420.5063130254058,-420.5063130254058,-409.0522108771074,-409.0522108771074,-380.9198015308053,-380.9198015308053,-327.03567559841656,-327.03567559841656,-279.9764976700327,-251.0044208126004,-268.04737382418875,-268.04737382418875,-262.2281585726325,-262.2281585726325,-283.72388519470076,-276.42362689826984,-337.58348344341687,-349.54975494190796,-407.6536058022217,-407.6536058022217,-481.83371456433764,-480.1225762948261,-551.9575868425003,-551.9575868425003,-655.1492670301061,-652.4756294633116,-777.3079670856389,-806.2707367027919,-971.3641753818731,-1032.3138851820718,-1226.9189049427587,-1226.9189049427587,-1555.131953403546,-1555.131953403546,-1917.4128878839645,-1917.4128878839645,-2320.4590521068117,-2320.4590521068117,-2713.3910971185237,-2713.3910971185237,-3074.1320450258654,-3074.1320450258654,-3419.898655117693,-3419.898655117693,-3740.8184777838133,-3740.8184777838133,-4049.1128813119285,-4159.601261909766,-4355.50084484731,-4426.66455879009,-4637.961364446096,-4646.867578326583,-4852.815567914358,-4800.881804829508,-4969.343829920355,-4884.301396070888,-5041.590776222399,-4905.942339154301,-5014.160340638655,-4856.988583130729,-4917.361876566619,-4755.34402143314,-4754.844403072974,-4564.106846796352,-4529.7714653792855,-4312.957904844556,-4225.931740108348,-3985.488246526016,-3862.191102197357,-3624.7136345208114,-3471.8436811824286,-3249.3471599360428,-3078.0875408538313,-2871.1704843550565,-2674.699295869964,-2489.579464153322,-2267.66892656373,-1796.7597434008283,-1566.8362084839957,-1305.0172711874761,-1098.3219345396053,-852.8460110733207,-671.9182913279978,-448.5878201794141,-448.5878201794141,-44.381569138368256,142.52583082006782,343.44193841692817,495.8638370606803,695.5489075655152,826.0192004608571,1036.092226786978,1145.0033734616795,1334.87316520226,1425.1656766331787,1590.8936881969644,1665.2399968603104,1801.5117195037337,1801.5117195037337,1934.6591008520452,1934.6591008520452,2076.7020579360687,2125.080612708555,2270.657170368708,2305.9370920958927,2461.2231752112457,2483.206115443769,2578.321141511274,2646.7529571568657,2646.7529571568657,2705.7435505309845,2705.7435505309845,2761.936921464582,2761.936921464582,2763.006952781473,2786.743727819524,2774.879492456458,2774.879492456458,2777.9990559120856,2777.9990559120856,2780.5764089670283,2780.5764089670283,2783.5602176872753,2783.5602176872753,2786.543911628624,2786.543911628624,2789.66310014908,2789.66310014908,2791.7115750397534,2791.7115750397534,2794.0155880214224,2796.8026972816215],\"y\":[0.0,0.0,218.0987513634725,218.0987513634725,218.0987513634725,218.0987513634725,389.2194617125005,603.2536513857667,603.2536513857667,603.2536513857667,826.2398507771592,826.2398507771592,1008.1943856547988,1178.9090977675016,1178.9090977675016,1301.6721005743468,1301.6721005743468,1301.6721005743468,1349.1811746001683,1384.4150591843622,1384.4150591843622,1384.4150591843622,1418.4911712458133,1458.7268355326617,1458.7268355326617,1516.8475348556788,1516.8475348556788,1570.3909002719197,1570.3909002719197,1570.3909002719197,1746.6302576680105,1746.6302576680105,1892.9022861366325,1892.9022861366325,1910.6659709748262,1910.6659709748262,2002.343611129413,2056.4141390382592,2056.7288036526465,2056.7288036526465,2102.7530164935374,2102.7530164935374,2137.014755782848,2132.2874261642146,2176.9030716770067,2178.0380682094883,2231.5170949555372,2231.5170949555372,2322.4629048010634,2366.8159679695605,2412.375252888248,2412.375252888248,2490.6064306549333,2532.69837979543,2578.01804144415,2603.998192495026,2636.6648782564794,2663.1084659402954,2688.4502613274235,2688.4502613274235,2723.7633568726087,2723.7633568726087,2756.868787795254,2756.868787795254,2809.4209147244896,2809.4209147244896,2878.595621112409,2878.595621112409,2950.5850360714994,2950.5850360714994,2996.3010320473627,2996.3010320473627,3040.7566532118913,3040.7566532118913,3060.6443385160824,3062.1226645034258,3067.5826108436395,3060.4971531517253,3058.300902395865,3054.2650877761944,3054.5357441779493,3053.2766413491063,3061.3137535483393,3061.0758486237282,3050.9813515635606,3057.4756829666867,3055.0408299033443,3064.7423828332635,3066.176181905667,3052.3558213112474,3056.0430469504604,3047.494308347565,3051.954771228914,3050.175612356902,3057.0113556708247,3061.780081236397,3056.2823479489466,3063.940282407119,3058.8046123915647,3067.5535821509684,3065.771302254763,3074.9174710085913,3073.330137952458,3063.482167198196,3061.058485783478,3030.5901355704646,2989.990150678378,2992.375141538736,2886.598992104152,2879.457067012353,2721.427658104756,2700.563495383976,2700.563495383976,2525.0939037551707,2404.2131656383003,2354.167999746615,2248.683723476651,2184.5782599229574,2089.693360973319,2039.336224211876,1952.904530904513,1888.480617677872,1811.199938899014,1730.3807195405,1662.981302958946,1564.9593255082104,1564.9593255082104,1449.684327381675,1449.684327381675,1315.1378811385714,1266.580348099631,1116.9242208522169,1082.7628986093175,941.7629211266296,919.7168266809973,788.3664055704297,653.4024519768216,653.4024519768216,601.7656194732078,601.7656194732078,623.041209470696,623.041209470696,623.4440226830046,638.6733013261214,640.9743885570648,640.9743885570648,637.474938276059,637.474938276059,633.6337897748491,633.6337897748491,630.646561588755,630.646561588755,628.0008468755443,628.0008468755443,625.6113136872323,625.6113136872323,624.9594732994649,624.9594732994649,624.6907039379538,624.5251653976914]},\"selected\":{\"id\":\"1732\"},\"selection_policy\":{\"id\":\"1731\"}},\"id\":\"1711\",\"type\":\"ColumnDataSource\"},{\"attributes\":{},\"id\":\"1621\",\"type\":\"DataRange1d\"},{\"attributes\":{},\"id\":\"1627\",\"type\":\"LinearScale\"},{\"attributes\":{},\"id\":\"1625\",\"type\":\"LinearScale\"},{\"attributes\":{\"data\":{\"x\":[0.0,0.0,-19.388640847140834,-19.388640847140834,-19.388640847140834,-19.388640847140834,-228.54322896675515,-342.8038151435875,-342.8038151435875,-342.8038151435875,-418.0491568279007,-418.0491568279007,-462.0418094080207,-451.1683368275512,-451.1683368275512,-416.0292550321749,-416.0292550321749,-416.0292550321749,-385.86054253062895,-397.85345331131606,-397.85345331131606,-397.85345331131606,-427.6918871605332,-449.76591264425775,-449.76591264425775,-443.7707803212761,-443.7707803212761,-420.5063130254058,-420.5063130254058,-420.5063130254058,-409.0522108771074,-409.0522108771074,-380.9198015308053,-380.9198015308053,-327.03567559841656,-327.03567559841656,-279.9764976700327,-251.0044208126004,-268.04737382418875,-268.04737382418875,-262.2281585726325,-262.2281585726325,-283.72388519470076,-276.42362689826984,-337.58348344341687,-349.54975494190796,-407.6536058022217,-407.6536058022217,-481.83371456433764,-480.1225762948261,-551.9575868425003,-551.9575868425003,-655.1492670301061,-652.4756294633116,-777.3079670856389,-806.2707367027919,-971.3641753818731,-1032.3138851820718,-1226.9189049427587,-1226.9189049427587,-1555.131953403546,-1555.131953403546,-1917.4128878839645,-1917.4128878839645,-2320.4590521068117,-2320.4590521068117,-2713.3910971185237,-2713.3910971185237,-3074.1320450258654,-3074.1320450258654,-3419.898655117693,-3419.898655117693,-3740.8184777838133,-3740.8184777838133,-4049.1128813119285,-4159.601261909766,-4355.50084484731,-4426.66455879009,-4637.961364446096,-4646.867578326583,-4852.815567914358,-4800.881804829508,-4969.343829920355,-4884.301396070888,-5041.590776222399,-4905.942339154301,-5014.160340638655,-4856.988583130729,-4917.361876566619,-4755.34402143314,-4754.844403072974,-4564.106846796352,-4529.7714653792855,-4312.957904844556,-4225.931740108348,-3985.488246526016,-3862.191102197357,-3624.7136345208114,-3471.8436811824286,-3249.3471599360428,-3078.0875408538313,-2871.1704843550565,-2674.699295869964,-2489.579464153322,-2267.66892656373,-1796.7597434008283,-1566.8362084839957,-1305.0172711874761,-1098.3219345396053,-852.8460110733207,-671.9182913279978,-448.5878201794141,-448.5878201794141,-44.381569138368256,142.52583082006782,343.44193841692817,495.8638370606803,695.5489075655152,826.0192004608571,1036.092226786978,1145.0033734616795,1334.87316520226,1425.1656766331787,1590.8936881969644,1665.2399968603104,1801.5117195037337,1801.5117195037337,1934.6591008520452,1934.6591008520452,2076.7020579360687,2125.080612708555,2270.657170368708,2305.9370920958927,2461.2231752112457,2483.206115443769,2578.321141511274,2646.7529571568657,2646.7529571568657,2705.7435505309845,2705.7435505309845,2761.936921464582,2761.936921464582,2763.006952781473,2786.743727819524,2774.879492456458,2774.879492456458,2777.9990559120856,2777.9990559120856,2780.5764089670283,2780.5764089670283,2783.5602176872753,2783.5602176872753,2786.543911628624,2786.543911628624,2789.66310014908,2789.66310014908,2791.7115750397534,2791.7115750397534,2794.0155880214224,2796.8026972816215],\"y\":[0.0,0.0,218.0987513634725,218.0987513634725,218.0987513634725,218.0987513634725,389.2194617125005,603.2536513857667,603.2536513857667,603.2536513857667,826.2398507771592,826.2398507771592,1008.1943856547988,1178.9090977675016,1178.9090977675016,1301.6721005743468,1301.6721005743468,1301.6721005743468,1349.1811746001683,1384.4150591843622,1384.4150591843622,1384.4150591843622,1418.4911712458133,1458.7268355326617,1458.7268355326617,1516.8475348556788,1516.8475348556788,1570.3909002719197,1570.3909002719197,1570.3909002719197,1746.6302576680105,1746.6302576680105,1892.9022861366325,1892.9022861366325,1910.6659709748262,1910.6659709748262,2002.343611129413,2056.4141390382592,2056.7288036526465,2056.7288036526465,2102.7530164935374,2102.7530164935374,2137.014755782848,2132.2874261642146,2176.9030716770067,2178.0380682094883,2231.5170949555372,2231.5170949555372,2322.4629048010634,2366.8159679695605,2412.375252888248,2412.375252888248,2490.6064306549333,2532.69837979543,2578.01804144415,2603.998192495026,2636.6648782564794,2663.1084659402954,2688.4502613274235,2688.4502613274235,2723.7633568726087,2723.7633568726087,2756.868787795254,2756.868787795254,2809.4209147244896,2809.4209147244896,2878.595621112409,2878.595621112409,2950.5850360714994,2950.5850360714994,2996.3010320473627,2996.3010320473627,3040.7566532118913,3040.7566532118913,3060.6443385160824,3062.1226645034258,3067.5826108436395,3060.4971531517253,3058.300902395865,3054.2650877761944,3054.5357441779493,3053.2766413491063,3061.3137535483393,3061.0758486237282,3050.9813515635606,3057.4756829666867,3055.0408299033443,3064.7423828332635,3066.176181905667,3052.3558213112474,3056.0430469504604,3047.494308347565,3051.954771228914,3050.175612356902,3057.0113556708247,3061.780081236397,3056.2823479489466,3063.940282407119,3058.8046123915647,3067.5535821509684,3065.771302254763,3074.9174710085913,3073.330137952458,3063.482167198196,3061.058485783478,3030.5901355704646,2989.990150678378,2992.375141538736,2886.598992104152,2879.457067012353,2721.427658104756,2700.563495383976,2700.563495383976,2525.0939037551707,2404.2131656383003,2354.167999746615,2248.683723476651,2184.5782599229574,2089.693360973319,2039.336224211876,1952.904530904513,1888.480617677872,1811.199938899014,1730.3807195405,1662.981302958946,1564.9593255082104,1564.9593255082104,1449.684327381675,1449.684327381675,1315.1378811385714,1266.580348099631,1116.9242208522169,1082.7628986093175,941.7629211266296,919.7168266809973,788.3664055704297,653.4024519768216,653.4024519768216,601.7656194732078,601.7656194732078,623.041209470696,623.041209470696,623.4440226830046,638.6733013261214,640.9743885570648,640.9743885570648,637.474938276059,637.474938276059,633.6337897748491,633.6337897748491,630.646561588755,630.646561588755,628.0008468755443,628.0008468755443,625.6113136872323,625.6113136872323,624.9594732994649,624.9594732994649,624.6907039379538,624.5251653976914]},\"selected\":{\"id\":\"1758\"},\"selection_policy\":{\"id\":\"1757\"}},\"id\":\"1735\",\"type\":\"ColumnDataSource\"},{\"attributes\":{\"source\":{\"id\":\"1711\"}},\"id\":\"1716\",\"type\":\"CDSView\"},{\"attributes\":{\"label\":{\"value\":\"centr obf\"},\"renderers\":[{\"id\":\"1764\"},{\"id\":\"1792\"}]},\"id\":\"1787\",\"type\":\"LegendItem\"},{\"attributes\":{\"line_alpha\":0.2,\"line_color\":\"navy\",\"x\":{\"field\":\"x\"},\"y\":{\"field\":\"y\"}},\"id\":\"1714\",\"type\":\"Line\"},{\"attributes\":{\"source\":{\"id\":\"1788\"}},\"id\":\"1793\",\"type\":\"CDSView\"},{\"attributes\":{},\"id\":\"1630\",\"type\":\"BasicTicker\"},{\"attributes\":{\"line_alpha\":0.2,\"line_color\":\"navy\",\"x\":{\"field\":\"x\"},\"y\":{\"field\":\"y\"}},\"id\":\"1712\",\"type\":\"Line\"},{\"attributes\":{\"axis_label\":\"time [s]\",\"coordinates\":null,\"formatter\":{\"id\":\"1663\"},\"group\":null,\"major_label_policy\":{\"id\":\"1664\"},\"ticker\":{\"id\":\"1630\"}},\"id\":\"1629\",\"type\":\"LinearAxis\"},{\"attributes\":{\"coordinates\":null,\"data_source\":{\"id\":\"1711\"},\"glyph\":{\"id\":\"1712\"},\"group\":null,\"hover_glyph\":null,\"muted_glyph\":{\"id\":\"1714\"},\"nonselection_glyph\":{\"id\":\"1713\"},\"view\":{\"id\":\"1716\"}},\"id\":\"1715\",\"type\":\"GlyphRenderer\"},{\"attributes\":{\"axis\":{\"id\":\"1629\"},\"coordinates\":null,\"group\":null,\"ticker\":null},\"id\":\"1632\",\"type\":\"Grid\"},{\"attributes\":{},\"id\":\"1634\",\"type\":\"BasicTicker\"},{\"attributes\":{\"axis_label\":\"y\",\"coordinates\":null,\"formatter\":{\"id\":\"1660\"},\"group\":null,\"major_label_policy\":{\"id\":\"1661\"},\"ticker\":{\"id\":\"1634\"}},\"id\":\"1633\",\"type\":\"LinearAxis\"},{\"attributes\":{\"line_alpha\":0.1,\"line_color\":\"navy\",\"x\":{\"field\":\"x\"},\"y\":{\"field\":\"y\"}},\"id\":\"1713\",\"type\":\"Line\"},{\"attributes\":{},\"id\":\"1815\",\"type\":\"Selection\"},{\"attributes\":{},\"id\":\"1814\",\"type\":\"UnionRenderers\"},{\"attributes\":{},\"id\":\"1732\",\"type\":\"Selection\"},{\"attributes\":{\"coordinates\":null,\"data_source\":{\"id\":\"1788\"},\"glyph\":{\"id\":\"1789\"},\"group\":null,\"hover_glyph\":null,\"muted_glyph\":{\"id\":\"1791\"},\"nonselection_glyph\":{\"id\":\"1790\"},\"view\":{\"id\":\"1793\"}},\"id\":\"1792\",\"type\":\"GlyphRenderer\"},{\"attributes\":{},\"id\":\"1731\",\"type\":\"UnionRenderers\"},{\"attributes\":{\"axis\":{\"id\":\"1633\"},\"coordinates\":null,\"dimension\":1,\"group\":null,\"ticker\":null},\"id\":\"1636\",\"type\":\"Grid\"},{\"attributes\":{\"source\":{\"id\":\"1651\"}},\"id\":\"1656\",\"type\":\"CDSView\"},{\"attributes\":{\"source\":{\"id\":\"1735\"}},\"id\":\"1740\",\"type\":\"CDSView\"},{\"attributes\":{\"coordinates\":null,\"data_source\":{\"id\":\"1651\"},\"glyph\":{\"id\":\"1652\"},\"group\":null,\"hover_glyph\":null,\"muted_glyph\":{\"id\":\"1654\"},\"nonselection_glyph\":{\"id\":\"1653\"},\"view\":{\"id\":\"1656\"}},\"id\":\"1655\",\"type\":\"GlyphRenderer\"},{\"attributes\":{\"fill_alpha\":{\"value\":0.2},\"fill_color\":{\"value\":\"orange\"},\"hatch_alpha\":{\"value\":0.2},\"hatch_color\":{\"value\":\"orange\"},\"line_alpha\":{\"value\":0.2},\"line_color\":{\"value\":\"orange\"},\"x\":{\"field\":\"x\"},\"y\":{\"field\":\"y\"}},\"id\":\"1789\",\"type\":\"Circle\"},{\"attributes\":{\"fill_alpha\":{\"value\":0.1},\"fill_color\":{\"value\":\"orange\"},\"hatch_alpha\":{\"value\":0.1},\"hatch_color\":{\"value\":\"orange\"},\"line_alpha\":{\"value\":0.1},\"line_color\":{\"value\":\"orange\"},\"x\":{\"field\":\"x\"},\"y\":{\"field\":\"y\"}},\"id\":\"1790\",\"type\":\"Circle\"},{\"attributes\":{\"label\":{\"value\":\"centr\"},\"renderers\":[{\"id\":\"1715\"},{\"id\":\"1739\"}]},\"id\":\"1734\",\"type\":\"LegendItem\"},{\"attributes\":{\"line_color\":\"navy\",\"x\":{\"field\":\"x\"},\"y\":{\"field\":\"y\"}},\"id\":\"1652\",\"type\":\"Line\"},{\"attributes\":{\"line_alpha\":0.2,\"line_color\":\"orange\",\"x\":{\"field\":\"x\"},\"y\":{\"field\":\"y\"}},\"id\":\"1763\",\"type\":\"Line\"},{\"attributes\":{},\"id\":\"1637\",\"type\":\"PanTool\"},{\"attributes\":{\"data\":{\"x\":{\"__ndarray__\":\"AAAAAAAAAAAQXHD3fWNDwCAV0rnRNoTAuxxAQa9shcC+kCODPniGwB+9WWMKUIXADGqmC9ceeMA+hZcmyEFlwOKqaNJYEGLAZW1kaKKcf8DZ6zEcnLCGwDGYNTykpIXA+DdMX0Q9d8CA4qoDXoRdwDz5MhFwC2RAPIC/IjkxdkBM+7EwebV6QPCUhYWDhE1AbKEDJGGqf8CCdkA48L2DwOaVIxyHY4/Akh7DMEmnksDDiygZbhSTwA1qxZLZpJPAtSK3R5dWmMC0yqEh58OhwKi5DuDruaPArlXrOVilqcDqRs9Cx96uwGQVn5rWmrLAue2oNyPXs8Dq8juyWfK1wGA0fAbyyrbAMIWuT8Mdt8COiGrPPbq2wFK3/QE9urbA4IOizjy6tsCAovZN7bi2wMoR4ckedrXAcjUb9nWsssACK/8uwGuvwAU4PmxUMazAKHUge25upsA2IpEO04ajwDDa9AInKqLAFjn1iyycmsBKudCaBJOQwLTBsJxfrXfAYKSudptGT8BgSXAxcQZWQLCbc0u7Em1AtES6+XzzcUBU6s/V13qTQACRBTgRaJ1Aqs6+tW5In0Aacelx/eefQLTBzZXbLKNAFYebDkYEp0CmM1Z3YrylQPA1Ga4lvqVAQqprVVe1pUCCF3FQG7elQCDCZ4feuKVApnos7wCEpUCQSj7zJpmlQD4kNvv3oaVAFBk8xkKnpUCujZW++KGlQEqrpswFqaVAXGsysNWxpUBsJNy0zc+lQEYk0Ed+DaZAxeXAiigBpkC2H4SQ6wKmQAUf9seuBKZA6R4E2fcJpkDdx6z5rgSmQK0XaCWLFKZAVpLp+jctpkA=\",\"dtype\":\"float64\",\"order\":\"little\",\"shape\":[79]},\"y\":{\"__ndarray__\":\"AAAAAAAAAACYkZ74KEN7QCIFHuOv24ZASsAKxWx1k0AghXQUvdiaQMTn/ETe951A7CG9DWU2oUATm7G3BuKgQAwfctsDBZtAbiA9gBSWmkCOJMxYAn2bQLw+V81GtZ1A6ma1g5dMoUCkbfnH6LShQHSXvLazRqNA7Fp+BQNoo0C2Z+8Rt96gQH/RiD9AdaBAtkrWqUQaoECfG5x+GNGiQPE54ErJ/6JAwBvaUQvjpUAzy5RqckinQKlCi7/hKqhA6FZyFWnUp0C02mGecOmmQFIuaZL8GKlACOugOP8rqEDCJeyFeManQDRMoEkYaqdAYDkfuyxJp0Dp8KVnRwenQAQFRf59kKhAqsLMXvOJqEC2X/pXkyyoQGf4iHZ0NahAAcMsvqw3qEAx+wlZmBioQKbwMjpuFKdAjnQtq3Rjp0DIkAu7x7SnQORBhLkD46dAuIjNA8ilqEBshMkGiBSpQFhHp88ZOqZAKcn9xYbOpkDsEDD5+Z6nQBCNxDafeqhABaZ5XJ7VqEAXkpWFk/2oQIY7OVI4GKlASUlHdIbHpkAsXA1ri4akQE2ruxL7maJAv+psttNPlEAQi+fNyO91QIfgdBZql3pAJIXMSQR4gkDKbnVMW9OEQH+SVOhb04RAqk1j3G6DhEBy0tQF61+EQI4ajqHrX4RAEloUy6jag0ALG3pfU/WDQF6Ir9fwyINAvqoC/quTg0AwEIllbKWDQGb20rWNnINAzNR/23Glg0AvZElvVGeDQG/hM+9pZ4NA1+l6K+FDg0BuSc3lwkyDQJ4opoPDTINA62UQs2hng0C6FiBn4kODQN51EmhsZ4NACPLcMVZwg0A=\",\"dtype\":\"float64\",\"order\":\"little\",\"shape\":[79]}},\"selected\":{\"id\":\"1666\"},\"selection_policy\":{\"id\":\"1665\"}},\"id\":\"1651\",\"type\":\"ColumnDataSource\"},{\"attributes\":{\"fill_alpha\":{\"value\":0.2},\"fill_color\":{\"value\":\"orange\"},\"hatch_alpha\":{\"value\":0.2},\"hatch_color\":{\"value\":\"orange\"},\"line_alpha\":{\"value\":0.2},\"line_color\":{\"value\":\"orange\"},\"x\":{\"field\":\"x\"},\"y\":{\"field\":\"y\"}},\"id\":\"1791\",\"type\":\"Circle\"},{\"attributes\":{},\"id\":\"1641\",\"type\":\"ResetTool\"},{\"attributes\":{},\"id\":\"1638\",\"type\":\"WheelZoomTool\"},{\"attributes\":{\"data\":{\"x\":[-43.22461794941205,-43.22461794941205,5.886296739182271,5.886296739182271,5.886296739182271,5.886296739182271,-236.9258893033152,-434.1600809448661,-434.1600809448661,-434.1600809448661,-690.2020947972451,-690.2020947972451,-693.7199153447168,-659.4019597443894,-659.4019597443894,-598.7877968469238,-598.7877968469238,-598.7877968469238,-535.2708505291253,-547.046821144522,-547.046821144522,-547.046821144522,-573.5937109535736,-600.540434260278,-600.540434260278,-611.3584118027744,-611.3584118027744,-606.2907606577883,-606.2907606577883,-606.2907606577883,-580.0096359012748,-580.0096359012748,-546.0578156413006,-546.0578156413006,-502.9033414531834,-502.9033414531834,-436.4891645471138,-394.39105802408494,-439.7988880456811,-439.7988880456811,-365.6729460355091,-365.672946035509,-404.7134412182769,-401.22909943798055,-458.1295614237336,-478.38962605652426,-529.7819329754215,-529.7819329754215,-671.3642807261119,-672.6738324434704,-729.6222797676008,-729.6222797676008,-813.3018569019206,-807.3266759210559,-906.0659332256993,-917.8439182909112,-1062.8929782845642,-1100.2130984639637,-1268.4745947486688,-1268.4745947486688,-1612.2226545464794,-1612.2226545464794,-1984.5626552658973,-1984.5626552658973,-2337.9856926213806,-2337.9856926213806,-2669.9484630487295,-2669.9484630487295,-3007.540575119895,-3007.540575119895,-3353.805918897918,-3353.805918897918,-3637.855447931994,-3637.855447931994,-3947.5683676637923,-4063.0006676495473,-4250.582430170185,-4312.823374525751,-4456.953566410995,-4476.660554333017,-4673.311221801522,-4704.894952818132,-4878.937531935416,-4783.268792162038,-4949.592342606793,-4794.474525277176,-4907.867505749274,-4765.987712286024,-4842.111190256124,-4707.087984495829,-4698.793198907192,-4503.347840435249,-4466.58587541601,-4270.8002277057,-4208.847825342627,-3957.513157537837,-3907.6287570931922,-3660.6073048351186,-3495.3551125297595,-3280.8467181918813,-3113.139087623038,-2929.9844111689727,-2754.8060798245892,-2586.1253529115697,-2365.1717214255905,-1895.2112567292527,-1641.4683710975544,-1401.1370931801089,-1136.1787417482867,-893.7729663206155,-661.4707033035384,-360.32535565262305,-360.32535565262305,24.367583569348092,181.60755907854804,358.2285473726461,542.6858661165375,754.7176445467926,895.1190822028664,1133.576347555818,1228.8664539448098,1415.5687150982044,1480.0696202340998,1667.675295719777,1746.0460558487084,1874.9486689363544,1874.9486689363544,2005.679682500666,2005.679682500666,2164.8258737025412,2224.2908069322248,2409.441197031472,2405.8817978632574,2595.2507399462984,2621.805099582823,2726.949968550026,2745.9107731752088,2745.9107731752088,2704.102991728866,2704.102991728866,2716.7412711565785,2716.7412711565785,2718.157382487924,2740.9266893894423,2812.7460391510226,2812.7460391510226,2782.604027114882,2782.604027114882,2746.3408547167755,2746.3408547167755,2767.5297450516637,2767.5297450516637,2794.73398356736,2794.73398356736,2773.6060038007727,2773.6060038007727,2744.007798562322,2744.007798562322,2780.8606110187966,2792.1725515683356],\"y\":[-12.925555438205832,-12.925555438205832,0.5788221666400384,0.5788221666400384,0.5788221666400384,0.5788221666400384,209.36687113062433,334.07836338666,334.07836338666,334.07836338666,730.3893951471957,730.3893951471957,925.8493567926711,1097.489614675207,1097.489614675207,1242.0694308831899,1242.0694308831899,1242.0694308831899,1292.8771960337947,1326.5106047709073,1326.5106047709073,1326.5106047709073,1383.1085013423303,1361.8493788682931,1361.8493788682931,1449.5528814059855,1449.5528814059855,1475.0140277238236,1475.0140277238236,1475.0140277238236,1642.3416535873455,1642.3416535873455,1807.1649334330675,1807.1649334330675,1794.0154896839201,1794.0154896839201,1911.3691333189915,1997.3088685450075,2024.416891174803,2024.416891174803,2010.4462227518068,2010.4462227518065,2056.1703830093493,2051.0874702264155,2109.080895485777,2098.720377710542,2160.368185282136,2160.3681852821355,2241.4112197797663,2285.139786663684,2324.4161479073946,2324.4161479073946,2378.7697009155495,2468.1104630056684,2502.315931250175,2502.338861206738,2511.131890409268,2561.4978161630934,2593.6999044839167,2593.6999044839167,2615.4106693937333,2615.4106693937333,2660.265634088957,2660.265634088957,2750.7415080845685,2750.7415080845685,2789.436029027242,2789.436029027242,2827.0603778668865,2827.0603778668865,2897.326815402203,2897.326815402203,2953.279761302797,2953.279761302797,2937.5150057448136,2944.132926402059,2938.8459554099,2963.3170424108553,2966.5391895913726,2977.4176757152113,2984.2931737416025,3038.715782574036,3057.0041172670462,3047.8359595132792,3052.278857702613,3056.173771010863,3084.303069128608,3120.7881782070244,3125.8721140224634,3130.309917499324,3161.9757333127227,3158.137966888944,3169.051592145543,3145.508795858976,3157.405289774239,3160.674173501926,3173.541422553737,3186.2042228140785,3200.731541629243,3188.1527565924353,3190.0249364403217,3215.987438381021,3201.8328837802824,3178.2419064485825,3211.156865828682,3186.222347716699,3134.71180854657,3121.667039287996,3023.394201779683,3015.5808173934765,2852.8754126587987,2786.0634458320155,2786.0634458320155,2625.985472599065,2481.692195973555,2439.498510996151,2327.5375155160996,2238.1690289249545,2147.325094114084,2077.354969078207,2034.5672995757284,1963.5003548452928,1898.3980259291839,1838.8001042204312,1717.3922952218827,1617.9046196088598,1617.9046196088598,1492.3159333866918,1492.3159333866918,1376.3809297210285,1310.6321967717442,1134.1096759471466,1091.3048950290945,957.9916372257107,985.4649549629896,855.9327234539118,666.0088035424321,666.0088035424321,605.3535037193581,605.3535037193581,670.9319259468365,670.9319259468365,681.552579751911,694.8147786010959,741.1346456467053,741.1346456467053,798.3669690760418,798.3669690760418,786.9119681210316,786.9119681210316,747.7484412388245,747.7484412388245,739.1317722664888,739.1317722664888,795.9496027613657,795.9496027613657,795.9828240503517,795.9828240503517,774.8650610079446,721.4195232419964]},\"selected\":{\"id\":\"1815\"},\"selection_policy\":{\"id\":\"1814\"}},\"id\":\"1788\",\"type\":\"ColumnDataSource\"},{\"attributes\":{\"overlay\":{\"id\":\"1643\"}},\"id\":\"1639\",\"type\":\"BoxZoomTool\"},{\"attributes\":{},\"id\":\"1640\",\"type\":\"SaveTool\"},{\"attributes\":{\"coordinates\":null,\"data_source\":{\"id\":\"1735\"},\"glyph\":{\"id\":\"1736\"},\"group\":null,\"hover_glyph\":null,\"muted_glyph\":{\"id\":\"1738\"},\"nonselection_glyph\":{\"id\":\"1737\"},\"view\":{\"id\":\"1740\"}},\"id\":\"1739\",\"type\":\"GlyphRenderer\"},{\"attributes\":{},\"id\":\"1642\",\"type\":\"HelpTool\"},{\"attributes\":{},\"id\":\"1663\",\"type\":\"BasicTickFormatter\"},{\"attributes\":{\"fill_alpha\":{\"value\":0.2},\"fill_color\":{\"value\":\"navy\"},\"hatch_alpha\":{\"value\":0.2},\"hatch_color\":{\"value\":\"navy\"},\"line_alpha\":{\"value\":0.2},\"line_color\":{\"value\":\"navy\"},\"x\":{\"field\":\"x\"},\"y\":{\"field\":\"y\"}},\"id\":\"1736\",\"type\":\"Circle\"},{\"attributes\":{\"fill_alpha\":{\"value\":0.1},\"fill_color\":{\"value\":\"navy\"},\"hatch_alpha\":{\"value\":0.1},\"hatch_color\":{\"value\":\"navy\"},\"line_alpha\":{\"value\":0.1},\"line_color\":{\"value\":\"navy\"},\"x\":{\"field\":\"x\"},\"y\":{\"field\":\"y\"}},\"id\":\"1737\",\"type\":\"Circle\"},{\"attributes\":{},\"id\":\"1784\",\"type\":\"UnionRenderers\"},{\"attributes\":{},\"id\":\"1757\",\"type\":\"UnionRenderers\"},{\"attributes\":{\"fill_alpha\":{\"value\":0.2},\"fill_color\":{\"value\":\"navy\"},\"hatch_alpha\":{\"value\":0.2},\"hatch_color\":{\"value\":\"navy\"},\"line_alpha\":{\"value\":0.2},\"line_color\":{\"value\":\"navy\"},\"x\":{\"field\":\"x\"},\"y\":{\"field\":\"y\"}},\"id\":\"1738\",\"type\":\"Circle\"},{\"attributes\":{\"line_alpha\":0.2,\"line_color\":\"navy\",\"x\":{\"field\":\"x\"},\"y\":{\"field\":\"y\"}},\"id\":\"1654\",\"type\":\"Line\"},{\"attributes\":{},\"id\":\"1758\",\"type\":\"Selection\"},{\"attributes\":{\"data\":{\"x\":[-43.22461794941205,-43.22461794941205,5.886296739182271,5.886296739182271,5.886296739182271,5.886296739182271,-236.9258893033152,-434.1600809448661,-434.1600809448661,-434.1600809448661,-690.2020947972451,-690.2020947972451,-693.7199153447168,-659.4019597443894,-659.4019597443894,-598.7877968469238,-598.7877968469238,-598.7877968469238,-535.2708505291253,-547.046821144522,-547.046821144522,-547.046821144522,-573.5937109535736,-600.540434260278,-600.540434260278,-611.3584118027744,-611.3584118027744,-606.2907606577883,-606.2907606577883,-606.2907606577883,-580.0096359012748,-580.0096359012748,-546.0578156413006,-546.0578156413006,-502.9033414531834,-502.9033414531834,-436.4891645471138,-394.39105802408494,-439.7988880456811,-439.7988880456811,-365.6729460355091,-365.672946035509,-404.7134412182769,-401.22909943798055,-458.1295614237336,-478.38962605652426,-529.7819329754215,-529.7819329754215,-671.3642807261119,-672.6738324434704,-729.6222797676008,-729.6222797676008,-813.3018569019206,-807.3266759210559,-906.0659332256993,-917.8439182909112,-1062.8929782845642,-1100.2130984639637,-1268.4745947486688,-1268.4745947486688,-1612.2226545464794,-1612.2226545464794,-1984.5626552658973,-1984.5626552658973,-2337.9856926213806,-2337.9856926213806,-2669.9484630487295,-2669.9484630487295,-3007.540575119895,-3007.540575119895,-3353.805918897918,-3353.805918897918,-3637.855447931994,-3637.855447931994,-3947.5683676637923,-4063.0006676495473,-4250.582430170185,-4312.823374525751,-4456.953566410995,-4476.660554333017,-4673.311221801522,-4704.894952818132,-4878.937531935416,-4783.268792162038,-4949.592342606793,-4794.474525277176,-4907.867505749274,-4765.987712286024,-4842.111190256124,-4707.087984495829,-4698.793198907192,-4503.347840435249,-4466.58587541601,-4270.8002277057,-4208.847825342627,-3957.513157537837,-3907.6287570931922,-3660.6073048351186,-3495.3551125297595,-3280.8467181918813,-3113.139087623038,-2929.9844111689727,-2754.8060798245892,-2586.1253529115697,-2365.1717214255905,-1895.2112567292527,-1641.4683710975544,-1401.1370931801089,-1136.1787417482867,-893.7729663206155,-661.4707033035384,-360.32535565262305,-360.32535565262305,24.367583569348092,181.60755907854804,358.2285473726461,542.6858661165375,754.7176445467926,895.1190822028664,1133.576347555818,1228.8664539448098,1415.5687150982044,1480.0696202340998,1667.675295719777,1746.0460558487084,1874.9486689363544,1874.9486689363544,2005.679682500666,2005.679682500666,2164.8258737025412,2224.2908069322248,2409.441197031472,2405.8817978632574,2595.2507399462984,2621.805099582823,2726.949968550026,2745.9107731752088,2745.9107731752088,2704.102991728866,2704.102991728866,2716.7412711565785,2716.7412711565785,2718.157382487924,2740.9266893894423,2812.7460391510226,2812.7460391510226,2782.604027114882,2782.604027114882,2746.3408547167755,2746.3408547167755,2767.5297450516637,2767.5297450516637,2794.73398356736,2794.73398356736,2773.6060038007727,2773.6060038007727,2744.007798562322,2744.007798562322,2780.8606110187966,2792.1725515683356],\"y\":[-12.925555438205832,-12.925555438205832,0.5788221666400384,0.5788221666400384,0.5788221666400384,0.5788221666400384,209.36687113062433,334.07836338666,334.07836338666,334.07836338666,730.3893951471957,730.3893951471957,925.8493567926711,1097.489614675207,1097.489614675207,1242.0694308831899,1242.0694308831899,1242.0694308831899,1292.8771960337947,1326.5106047709073,1326.5106047709073,1326.5106047709073,1383.1085013423303,1361.8493788682931,1361.8493788682931,1449.5528814059855,1449.5528814059855,1475.0140277238236,1475.0140277238236,1475.0140277238236,1642.3416535873455,1642.3416535873455,1807.1649334330675,1807.1649334330675,1794.0154896839201,1794.0154896839201,1911.3691333189915,1997.3088685450075,2024.416891174803,2024.416891174803,2010.4462227518068,2010.4462227518065,2056.1703830093493,2051.0874702264155,2109.080895485777,2098.720377710542,2160.368185282136,2160.3681852821355,2241.4112197797663,2285.139786663684,2324.4161479073946,2324.4161479073946,2378.7697009155495,2468.1104630056684,2502.315931250175,2502.338861206738,2511.131890409268,2561.4978161630934,2593.6999044839167,2593.6999044839167,2615.4106693937333,2615.4106693937333,2660.265634088957,2660.265634088957,2750.7415080845685,2750.7415080845685,2789.436029027242,2789.436029027242,2827.0603778668865,2827.0603778668865,2897.326815402203,2897.326815402203,2953.279761302797,2953.279761302797,2937.5150057448136,2944.132926402059,2938.8459554099,2963.3170424108553,2966.5391895913726,2977.4176757152113,2984.2931737416025,3038.715782574036,3057.0041172670462,3047.8359595132792,3052.278857702613,3056.173771010863,3084.303069128608,3120.7881782070244,3125.8721140224634,3130.309917499324,3161.9757333127227,3158.137966888944,3169.051592145543,3145.508795858976,3157.405289774239,3160.674173501926,3173.541422553737,3186.2042228140785,3200.731541629243,3188.1527565924353,3190.0249364403217,3215.987438381021,3201.8328837802824,3178.2419064485825,3211.156865828682,3186.222347716699,3134.71180854657,3121.667039287996,3023.394201779683,3015.5808173934765,2852.8754126587987,2786.0634458320155,2786.0634458320155,2625.985472599065,2481.692195973555,2439.498510996151,2327.5375155160996,2238.1690289249545,2147.325094114084,2077.354969078207,2034.5672995757284,1963.5003548452928,1898.3980259291839,1838.8001042204312,1717.3922952218827,1617.9046196088598,1617.9046196088598,1492.3159333866918,1492.3159333866918,1376.3809297210285,1310.6321967717442,1134.1096759471466,1091.3048950290945,957.9916372257107,985.4649549629896,855.9327234539118,666.0088035424321,666.0088035424321,605.3535037193581,605.3535037193581,670.9319259468365,670.9319259468365,681.552579751911,694.8147786010959,741.1346456467053,741.1346456467053,798.3669690760418,798.3669690760418,786.9119681210316,786.9119681210316,747.7484412388245,747.7484412388245,739.1317722664888,739.1317722664888,795.9496027613657,795.9496027613657,795.9828240503517,795.9828240503517,774.8650610079446,721.4195232419964]},\"selected\":{\"id\":\"1785\"},\"selection_policy\":{\"id\":\"1784\"}},\"id\":\"1760\",\"type\":\"ColumnDataSource\"},{\"attributes\":{},\"id\":\"1664\",\"type\":\"AllLabels\"},{\"attributes\":{\"tools\":[{\"id\":\"1637\"},{\"id\":\"1638\"},{\"id\":\"1639\"},{\"id\":\"1640\"},{\"id\":\"1641\"},{\"id\":\"1642\"}]},\"id\":\"1644\",\"type\":\"Toolbar\"},{\"attributes\":{\"source\":{\"id\":\"1760\"}},\"id\":\"1765\",\"type\":\"CDSView\"},{\"attributes\":{\"bottom_units\":\"screen\",\"coordinates\":null,\"fill_alpha\":0.5,\"fill_color\":\"lightgrey\",\"group\":null,\"left_units\":\"screen\",\"level\":\"overlay\",\"line_alpha\":1.0,\"line_color\":\"black\",\"line_dash\":[4,4],\"line_width\":2,\"right_units\":\"screen\",\"syncable\":false,\"top_units\":\"screen\"},\"id\":\"1643\",\"type\":\"BoxAnnotation\"},{\"attributes\":{\"line_alpha\":0.2,\"line_color\":\"orange\",\"x\":{\"field\":\"x\"},\"y\":{\"field\":\"y\"}},\"id\":\"1761\",\"type\":\"Line\"},{\"attributes\":{\"coordinates\":null,\"data_source\":{\"id\":\"1760\"},\"glyph\":{\"id\":\"1761\"},\"group\":null,\"hover_glyph\":null,\"muted_glyph\":{\"id\":\"1763\"},\"nonselection_glyph\":{\"id\":\"1762\"},\"view\":{\"id\":\"1765\"}},\"id\":\"1764\",\"type\":\"GlyphRenderer\"},{\"attributes\":{\"line_alpha\":0.1,\"line_color\":\"orange\",\"x\":{\"field\":\"x\"},\"y\":{\"field\":\"y\"}},\"id\":\"1762\",\"type\":\"Line\"},{\"attributes\":{\"line_alpha\":0.1,\"line_color\":\"navy\",\"x\":{\"field\":\"x\"},\"y\":{\"field\":\"y\"}},\"id\":\"1653\",\"type\":\"Line\"},{\"attributes\":{},\"id\":\"1707\",\"type\":\"UnionRenderers\"},{\"attributes\":{\"coordinates\":null,\"group\":null},\"id\":\"1657\",\"type\":\"Title\"},{\"attributes\":{},\"id\":\"1785\",\"type\":\"Selection\"},{\"attributes\":{},\"id\":\"1660\",\"type\":\"BasicTickFormatter\"}],\"root_ids\":[\"1620\"]},\"title\":\"Bokeh Application\",\"version\":\"2.4.3\"}};\n",
       "  const render_items = [{\"docid\":\"3296cb14-2af9-4c75-92da-b10577b6f042\",\"root_ids\":[\"1620\"],\"roots\":{\"1620\":\"3552be0f-0dd8-4066-af6a-4b7580c3b156\"}}];\n",
       "  root.Bokeh.embed.embed_items_notebook(docs_json, render_items);\n",
       "  }\n",
       "  if (root.Bokeh !== undefined) {\n",
       "    embed_document(root);\n",
       "  } else {\n",
       "    let attempts = 0;\n",
       "    const timer = setInterval(function(root) {\n",
       "      if (root.Bokeh !== undefined) {\n",
       "        clearInterval(timer);\n",
       "        embed_document(root);\n",
       "      } else {\n",
       "        attempts++;\n",
       "        if (attempts > 100) {\n",
       "          clearInterval(timer);\n",
       "          console.log(\"Bokeh: ERROR: Unable to run BokehJS code because BokehJS library is missing\");\n",
       "        }\n",
       "      }\n",
       "    }, 10, root)\n",
       "  }\n",
       "})(window);"
      ],
      "application/vnd.bokehjs_exec.v0+json": ""
     },
     "metadata": {
      "application/vnd.bokehjs_exec.v0+json": {
       "id": "1620"
      }
     },
     "output_type": "display_data"
    },
    {
     "data": {
      "text/html": [
       "\n",
       "  <div class=\"bk-root\" id=\"4a205205-dc24-4f7b-b498-538087e68222\" data-root-id=\"1997\"></div>\n"
      ]
     },
     "metadata": {},
     "output_type": "display_data"
    },
    {
     "data": {
      "application/javascript": [
       "(function(root) {\n",
       "  function embed_document(root) {\n",
       "  const docs_json = {\"2885c798-571f-4772-a49b-bd7c83d37af5\":{\"defs\":[],\"roots\":{\"references\":[{\"attributes\":{\"below\":[{\"id\":\"2006\"}],\"center\":[{\"id\":\"2009\"},{\"id\":\"2013\"},{\"id\":\"2045\"}],\"height\":250,\"left\":[{\"id\":\"2010\"}],\"renderers\":[{\"id\":\"2032\"},{\"id\":\"2051\"},{\"id\":\"2070\"},{\"id\":\"2092\"}],\"title\":{\"id\":\"2034\"},\"toolbar\":{\"id\":\"2021\"},\"width\":900,\"x_range\":{\"id\":\"1998\"},\"x_scale\":{\"id\":\"2002\"},\"y_range\":{\"id\":\"2000\"},\"y_scale\":{\"id\":\"2004\"}},\"id\":\"1997\",\"subtype\":\"Figure\",\"type\":\"Plot\"},{\"attributes\":{},\"id\":\"2038\",\"type\":\"AllLabels\"},{\"attributes\":{},\"id\":\"2002\",\"type\":\"LinearScale\"},{\"attributes\":{\"coordinates\":null,\"data_source\":{\"id\":\"2066\"},\"glyph\":{\"id\":\"2067\"},\"group\":null,\"hover_glyph\":null,\"muted_glyph\":{\"id\":\"2069\"},\"nonselection_glyph\":{\"id\":\"2068\"},\"view\":{\"id\":\"2071\"}},\"id\":\"2070\",\"type\":\"GlyphRenderer\"},{\"attributes\":{\"line_alpha\":0.1,\"line_color\":\"orange\",\"x\":{\"field\":\"x\"},\"y\":{\"field\":\"y\"}},\"id\":\"2068\",\"type\":\"Line\"},{\"attributes\":{},\"id\":\"2037\",\"type\":\"BasicTickFormatter\"},{\"attributes\":{\"coordinates\":null,\"group\":null},\"id\":\"2034\",\"type\":\"Title\"},{\"attributes\":{\"line_alpha\":0.2,\"line_color\":\"orange\",\"x\":{\"field\":\"x\"},\"y\":{\"field\":\"y\"}},\"id\":\"2069\",\"type\":\"Line\"},{\"attributes\":{},\"id\":\"2041\",\"type\":\"AllLabels\"},{\"attributes\":{},\"id\":\"2018\",\"type\":\"ResetTool\"},{\"attributes\":{\"label\":{\"value\":\"p\"},\"renderers\":[{\"id\":\"2032\"},{\"id\":\"2051\"}]},\"id\":\"2046\",\"type\":\"LegendItem\"},{\"attributes\":{},\"id\":\"2000\",\"type\":\"DataRange1d\"},{\"attributes\":{},\"id\":\"2015\",\"type\":\"WheelZoomTool\"},{\"attributes\":{},\"id\":\"2084\",\"type\":\"UnionRenderers\"},{\"attributes\":{\"coordinates\":null,\"data_source\":{\"id\":\"2028\"},\"glyph\":{\"id\":\"2029\"},\"group\":null,\"hover_glyph\":null,\"muted_glyph\":{\"id\":\"2031\"},\"nonselection_glyph\":{\"id\":\"2030\"},\"view\":{\"id\":\"2033\"}},\"id\":\"2032\",\"type\":\"GlyphRenderer\"},{\"attributes\":{\"coordinates\":null,\"data_source\":{\"id\":\"2047\"},\"glyph\":{\"id\":\"2048\"},\"group\":null,\"hover_glyph\":null,\"muted_glyph\":{\"id\":\"2050\"},\"nonselection_glyph\":{\"id\":\"2049\"},\"view\":{\"id\":\"2052\"}},\"id\":\"2051\",\"type\":\"GlyphRenderer\"},{\"attributes\":{\"overlay\":{\"id\":\"2020\"}},\"id\":\"2016\",\"type\":\"BoxZoomTool\"},{\"attributes\":{},\"id\":\"2085\",\"type\":\"Selection\"},{\"attributes\":{\"data\":{\"x\":{\"__ndarray__\":\"HgAAAFoAAADSAAAA8AAAAEoBAACGAQAApAEAAOABAAA6AgAAWAIAALICAADQAgAADAMAAEgDAACiAwAA3gMAABoEAABWBAAAkgQAAM4EAAAKBQAARgUAAIIFAAC+BQAA+gUAADYGAAByBgAArgYAAOoGAAAmBwAAYgcAAJ4HAADaBwAAFggAAFIIAACOCAAAyggAAOgIAAAkCQAAYAkAAJwJAADYCQAAFAoAAFAKAACMCgAAyAoAAAQLAABACwAAfAsAALgLAAD0CwAAMAwAAGwMAACKDAAAxgwAAAINAABcDQAAeg0AALYNAADyDQAALg4AAGoOAACmDgAAWg8AAJYPAADSDwAADhAAAEoQAACGEAAAwhAAAP4QAAA6EQAAdhEAALIRAADuEQAAKhIAAGYSAACiEgAAwBIAAA==\",\"dtype\":\"int32\",\"order\":\"little\",\"shape\":[79]},\"y\":{\"__ndarray__\":\"AAAAAAAAAABUZoEGr15rQM0ERGpnvHhAJL9r4DBlgEBnsx66BLqDQKO7JctxuIVAUgD5wB1sh0DppHJIYSeIQNSw6Y2LF4dAWejkYjmphUBsPeArpLOEQNmG/ETn84NAd1AwgTy1g0D3APCnvrCDQFEvDQRl1YBAu/PwCr0Hf0CKEqkDlVGAQHO+YW7prnxAe/uuA966eUA7S1n47Cl5QKUFJ69IYHpAwC+yaAiDfkB2uxzp4HCBQJlOExgNE4NAdkloFLWzhEAU26h01lGHQC4UVHYKkYpAhenY9vWkjkDJQDXO1muRQEJMIZIMMZRAJcoJaeSUlkDtzds0y2mYQCmvB0wyGZpAs7/Vp7c0m0CZ12K3H1SbQNqvPYuv3ZpAzXYY8b+amUAR+1W004OZQPca61+76ZZAyfBWy6jlkkAx/tfP14GPQK70ESiXg4xASwPPlu27i0BEzkFgc4CNQPQNF5Uoo5BA+k4wkd5GlEACODYZgK2XQNyalDCLUppAWuTwufBYnECvngSnK7idQNE4diz4+Z1AL79hg5GRnUDcS3r+Kk+bQKsVXptgCZ1AWVleiHlWnEDW9N3X60acQA4POXLV1ZpACbp+vKD+nECziruHz0ydQAcBKrDB+pxA0kf99Jbim0CAmcsIvXOaQDi6+pS/s5hAQJwHAZE2kkA9DUqvzSKNQMLiSmPKqoRAIWdy+nwTcEDgYNo8kN5jQIqH2aFf1k9AD+xQOrXITUBG1Mxu6qMwQGck/jHOdzJAWj3U/SevM0AFEm7x3IU1QEewLSAqKTdAwA9Z9REnOEDSHSebIKQ4QEZlXPsGVTlAPMXA5K96OkA=\",\"dtype\":\"float64\",\"order\":\"little\",\"shape\":[79]}},\"selected\":{\"id\":\"2064\"},\"selection_policy\":{\"id\":\"2063\"}},\"id\":\"2047\",\"type\":\"ColumnDataSource\"},{\"attributes\":{},\"id\":\"1998\",\"type\":\"DataRange1d\"},{\"attributes\":{\"source\":{\"id\":\"2047\"}},\"id\":\"2052\",\"type\":\"CDSView\"},{\"attributes\":{\"line_color\":\"orange\",\"x\":{\"field\":\"x\"},\"y\":{\"field\":\"y\"}},\"id\":\"2067\",\"type\":\"Line\"},{\"attributes\":{\"label\":{\"value\":\"p GeoI\"},\"renderers\":[{\"id\":\"2070\"},{\"id\":\"2092\"}]},\"id\":\"2087\",\"type\":\"LegendItem\"},{\"attributes\":{\"source\":{\"id\":\"2028\"}},\"id\":\"2033\",\"type\":\"CDSView\"},{\"attributes\":{},\"id\":\"2042\",\"type\":\"UnionRenderers\"},{\"attributes\":{},\"id\":\"2064\",\"type\":\"Selection\"},{\"attributes\":{\"bottom_units\":\"screen\",\"coordinates\":null,\"fill_alpha\":0.5,\"fill_color\":\"lightgrey\",\"group\":null,\"left_units\":\"screen\",\"level\":\"overlay\",\"line_alpha\":1.0,\"line_color\":\"black\",\"line_dash\":[4,4],\"line_width\":2,\"right_units\":\"screen\",\"syncable\":false,\"top_units\":\"screen\"},\"id\":\"2020\",\"type\":\"BoxAnnotation\"},{\"attributes\":{\"data\":{\"x\":{\"__ndarray__\":\"HgAAAFoAAADSAAAA8AAAAEoBAACGAQAApAEAAOABAAA6AgAAWAIAALICAADQAgAADAMAAEgDAACiAwAA3gMAABoEAABWBAAAkgQAAM4EAAAKBQAARgUAAIIFAAC+BQAA+gUAADYGAAByBgAArgYAAOoGAAAmBwAAYgcAAJ4HAADaBwAAFggAAFIIAACOCAAAyggAAOgIAAAkCQAAYAkAAJwJAADYCQAAFAoAAFAKAACMCgAAyAoAAAQLAABACwAAfAsAALgLAAD0CwAAMAwAAGwMAACKDAAAxgwAAAINAABcDQAAeg0AALYNAADyDQAALg4AAGoOAACmDgAAWg8AAJYPAADSDwAADhAAAEoQAACGEAAAwhAAAP4QAAA6EQAAdhEAALIRAADuEQAAKhIAAGYSAACiEgAAwBIAAA==\",\"dtype\":\"int32\",\"order\":\"little\",\"shape\":[79]},\"y\":{\"__ndarray__\":\"AAAAAAAAAAC7BsArhndJQHVd0fiDzXpA/lnUu6xUgUBWk3h83jGLQB+s0joUzI1AX4P7Iap0j0Drt0B0DTCQQI69BNQFJo9ApbHeRmj7jEDjpGAf1uaLQPkASTnmrIpAvLt3/vzYikCHLr3lxZCJQGmUCel2XodABmEgqRRJhUCcnKNizWKFQJOEJ7XpsoRA1sY/XVRmg0DwXe46wEGBQLfPHP9Ml4JAolXSRe7YhEAwhPMU4IWGQPrsWF+5gohAqoaccJZQiUBdCcZOsjOLQAu+4hd6ZotAhejsvxzgjkCwo4S/x7SQQMTjty2owpJA5pvMUKpFlECqRnV9qqmVQMUlnzSIN5ZAUQRolSWGmEB0C8otsfmYQI29xmx37JhAEhoZtOtqmEB7rd+IzHmYQBhmhSHLAZZAl0duC5J6k0Be5HQebzaQQNzlpF7fTo1AEYZ7OAPijECuOjw7FwqOQNInI4V3PZBASxgBHwHPk0BCHAHmTSqXQM9cd367yZpAsjm9m274nUCqRa8ZoJSeQHhqNZgmdZ5AZ4SAmbLMnUC6+tLTGsWbQFMhy2uAm51AZ8VgH0oKnkACA/7VfpSeQIJ6LzZpeZxATObIyom6nkAZHNWCtRSgQJxTMleGzZ9ATNmehr67nUC0fEj4dOmbQJ/TPeXbf5pAED47ia5VlECjcd5rj02PQO/ZrJkdrYdAp6VlRsW/gEB+uQTc3dx+QLHVRGsklIBA2easBFNtf0C1UnBvjo+AQHPKUt+LnYBAf0go57ipgEA8vP3Gb7N/QAeLhl81Y35AnovL1uiNekBXznbGhGd6QMMt6VjwYHtAaFDsfB1ZfUA=\",\"dtype\":\"float64\",\"order\":\"little\",\"shape\":[79]}},\"selected\":{\"id\":\"2109\"},\"selection_policy\":{\"id\":\"2108\"}},\"id\":\"2088\",\"type\":\"ColumnDataSource\"},{\"attributes\":{},\"id\":\"2014\",\"type\":\"PanTool\"},{\"attributes\":{},\"id\":\"2011\",\"type\":\"BasicTicker\"},{\"attributes\":{},\"id\":\"2043\",\"type\":\"Selection\"},{\"attributes\":{\"coordinates\":null,\"data_source\":{\"id\":\"2088\"},\"glyph\":{\"id\":\"2089\"},\"group\":null,\"hover_glyph\":null,\"muted_glyph\":{\"id\":\"2091\"},\"nonselection_glyph\":{\"id\":\"2090\"},\"view\":{\"id\":\"2093\"}},\"id\":\"2092\",\"type\":\"GlyphRenderer\"},{\"attributes\":{\"coordinates\":null,\"group\":null,\"items\":[{\"id\":\"2046\"},{\"id\":\"2087\"}]},\"id\":\"2045\",\"type\":\"Legend\"},{\"attributes\":{},\"id\":\"2017\",\"type\":\"SaveTool\"},{\"attributes\":{},\"id\":\"2063\",\"type\":\"UnionRenderers\"},{\"attributes\":{\"fill_color\":{\"value\":\"navy\"},\"hatch_color\":{\"value\":\"navy\"},\"line_color\":{\"value\":\"navy\"},\"x\":{\"field\":\"x\"},\"y\":{\"field\":\"y\"}},\"id\":\"2048\",\"type\":\"Circle\"},{\"attributes\":{},\"id\":\"2019\",\"type\":\"HelpTool\"},{\"attributes\":{},\"id\":\"2108\",\"type\":\"UnionRenderers\"},{\"attributes\":{\"line_alpha\":0.2,\"line_color\":\"navy\",\"x\":{\"field\":\"x\"},\"y\":{\"field\":\"y\"}},\"id\":\"2031\",\"type\":\"Line\"},{\"attributes\":{},\"id\":\"2004\",\"type\":\"LinearScale\"},{\"attributes\":{\"axis\":{\"id\":\"2006\"},\"coordinates\":null,\"group\":null,\"ticker\":null},\"id\":\"2009\",\"type\":\"Grid\"},{\"attributes\":{\"axis\":{\"id\":\"2010\"},\"coordinates\":null,\"dimension\":1,\"group\":null,\"ticker\":null},\"id\":\"2013\",\"type\":\"Grid\"},{\"attributes\":{},\"id\":\"2040\",\"type\":\"BasicTickFormatter\"},{\"attributes\":{},\"id\":\"2109\",\"type\":\"Selection\"},{\"attributes\":{\"source\":{\"id\":\"2088\"}},\"id\":\"2093\",\"type\":\"CDSView\"},{\"attributes\":{\"line_color\":\"navy\",\"x\":{\"field\":\"x\"},\"y\":{\"field\":\"y\"}},\"id\":\"2029\",\"type\":\"Line\"},{\"attributes\":{\"fill_color\":{\"value\":\"orange\"},\"hatch_color\":{\"value\":\"orange\"},\"line_color\":{\"value\":\"orange\"},\"x\":{\"field\":\"x\"},\"y\":{\"field\":\"y\"}},\"id\":\"2089\",\"type\":\"Circle\"},{\"attributes\":{\"line_alpha\":0.1,\"line_color\":\"navy\",\"x\":{\"field\":\"x\"},\"y\":{\"field\":\"y\"}},\"id\":\"2030\",\"type\":\"Line\"},{\"attributes\":{\"fill_alpha\":{\"value\":0.1},\"fill_color\":{\"value\":\"navy\"},\"hatch_alpha\":{\"value\":0.1},\"hatch_color\":{\"value\":\"navy\"},\"line_alpha\":{\"value\":0.1},\"line_color\":{\"value\":\"navy\"},\"x\":{\"field\":\"x\"},\"y\":{\"field\":\"y\"}},\"id\":\"2049\",\"type\":\"Circle\"},{\"attributes\":{\"fill_alpha\":{\"value\":0.1},\"fill_color\":{\"value\":\"orange\"},\"hatch_alpha\":{\"value\":0.1},\"hatch_color\":{\"value\":\"orange\"},\"line_alpha\":{\"value\":0.1},\"line_color\":{\"value\":\"orange\"},\"x\":{\"field\":\"x\"},\"y\":{\"field\":\"y\"}},\"id\":\"2090\",\"type\":\"Circle\"},{\"attributes\":{\"data\":{\"x\":{\"__ndarray__\":\"HgAAAFoAAADSAAAA8AAAAEoBAACGAQAApAEAAOABAAA6AgAAWAIAALICAADQAgAADAMAAEgDAACiAwAA3gMAABoEAABWBAAAkgQAAM4EAAAKBQAARgUAAIIFAAC+BQAA+gUAADYGAAByBgAArgYAAOoGAAAmBwAAYgcAAJ4HAADaBwAAFggAAFIIAACOCAAAyggAAOgIAAAkCQAAYAkAAJwJAADYCQAAFAoAAFAKAACMCgAAyAoAAAQLAABACwAAfAsAALgLAAD0CwAAMAwAAGwMAACKDAAAxgwAAAINAABcDQAAeg0AALYNAADyDQAALg4AAGoOAACmDgAAWg8AAJYPAADSDwAADhAAAEoQAACGEAAAwhAAAP4QAAA6EQAAdhEAALIRAADuEQAAKhIAAGYSAACiEgAAwBIAAA==\",\"dtype\":\"int32\",\"order\":\"little\",\"shape\":[79]},\"y\":{\"__ndarray__\":\"AAAAAAAAAAC7BsArhndJQHVd0fiDzXpA/lnUu6xUgUBWk3h83jGLQB+s0joUzI1AX4P7Iap0j0Drt0B0DTCQQI69BNQFJo9ApbHeRmj7jEDjpGAf1uaLQPkASTnmrIpAvLt3/vzYikCHLr3lxZCJQGmUCel2XodABmEgqRRJhUCcnKNizWKFQJOEJ7XpsoRA1sY/XVRmg0DwXe46wEGBQLfPHP9Ml4JAolXSRe7YhEAwhPMU4IWGQPrsWF+5gohAqoaccJZQiUBdCcZOsjOLQAu+4hd6ZotAhejsvxzgjkCwo4S/x7SQQMTjty2owpJA5pvMUKpFlECqRnV9qqmVQMUlnzSIN5ZAUQRolSWGmEB0C8otsfmYQI29xmx37JhAEhoZtOtqmEB7rd+IzHmYQBhmhSHLAZZAl0duC5J6k0Be5HQebzaQQNzlpF7fTo1AEYZ7OAPijECuOjw7FwqOQNInI4V3PZBASxgBHwHPk0BCHAHmTSqXQM9cd367yZpAsjm9m274nUCqRa8ZoJSeQHhqNZgmdZ5AZ4SAmbLMnUC6+tLTGsWbQFMhy2uAm51AZ8VgH0oKnkACA/7VfpSeQIJ6LzZpeZxATObIyom6nkAZHNWCtRSgQJxTMleGzZ9ATNmehr67nUC0fEj4dOmbQJ/TPeXbf5pAED47ia5VlECjcd5rj02PQO/ZrJkdrYdAp6VlRsW/gEB+uQTc3dx+QLHVRGsklIBA2easBFNtf0C1UnBvjo+AQHPKUt+LnYBAf0go57ipgEA8vP3Gb7N/QAeLhl81Y35AnovL1uiNekBXznbGhGd6QMMt6VjwYHtAaFDsfB1ZfUA=\",\"dtype\":\"float64\",\"order\":\"little\",\"shape\":[79]}},\"selected\":{\"id\":\"2085\"},\"selection_policy\":{\"id\":\"2084\"}},\"id\":\"2066\",\"type\":\"ColumnDataSource\"},{\"attributes\":{\"source\":{\"id\":\"2066\"}},\"id\":\"2071\",\"type\":\"CDSView\"},{\"attributes\":{},\"id\":\"2007\",\"type\":\"BasicTicker\"},{\"attributes\":{\"fill_alpha\":{\"value\":0.2},\"fill_color\":{\"value\":\"orange\"},\"hatch_alpha\":{\"value\":0.2},\"hatch_color\":{\"value\":\"orange\"},\"line_alpha\":{\"value\":0.2},\"line_color\":{\"value\":\"orange\"},\"x\":{\"field\":\"x\"},\"y\":{\"field\":\"y\"}},\"id\":\"2091\",\"type\":\"Circle\"},{\"attributes\":{\"data\":{\"x\":{\"__ndarray__\":\"HgAAAFoAAADSAAAA8AAAAEoBAACGAQAApAEAAOABAAA6AgAAWAIAALICAADQAgAADAMAAEgDAACiAwAA3gMAABoEAABWBAAAkgQAAM4EAAAKBQAARgUAAIIFAAC+BQAA+gUAADYGAAByBgAArgYAAOoGAAAmBwAAYgcAAJ4HAADaBwAAFggAAFIIAACOCAAAyggAAOgIAAAkCQAAYAkAAJwJAADYCQAAFAoAAFAKAACMCgAAyAoAAAQLAABACwAAfAsAALgLAAD0CwAAMAwAAGwMAACKDAAAxgwAAAINAABcDQAAeg0AALYNAADyDQAALg4AAGoOAACmDgAAWg8AAJYPAADSDwAADhAAAEoQAACGEAAAwhAAAP4QAAA6EQAAdhEAALIRAADuEQAAKhIAAGYSAACiEgAAwBIAAA==\",\"dtype\":\"int32\",\"order\":\"little\",\"shape\":[79]},\"y\":{\"__ndarray__\":\"AAAAAAAAAABUZoEGr15rQM0ERGpnvHhAJL9r4DBlgEBnsx66BLqDQKO7JctxuIVAUgD5wB1sh0DppHJIYSeIQNSw6Y2LF4dAWejkYjmphUBsPeArpLOEQNmG/ETn84NAd1AwgTy1g0D3APCnvrCDQFEvDQRl1YBAu/PwCr0Hf0CKEqkDlVGAQHO+YW7prnxAe/uuA966eUA7S1n47Cl5QKUFJ69IYHpAwC+yaAiDfkB2uxzp4HCBQJlOExgNE4NAdkloFLWzhEAU26h01lGHQC4UVHYKkYpAhenY9vWkjkDJQDXO1muRQEJMIZIMMZRAJcoJaeSUlkDtzds0y2mYQCmvB0wyGZpAs7/Vp7c0m0CZ12K3H1SbQNqvPYuv3ZpAzXYY8b+amUAR+1W004OZQPca61+76ZZAyfBWy6jlkkAx/tfP14GPQK70ESiXg4xASwPPlu27i0BEzkFgc4CNQPQNF5Uoo5BA+k4wkd5GlEACODYZgK2XQNyalDCLUppAWuTwufBYnECvngSnK7idQNE4diz4+Z1AL79hg5GRnUDcS3r+Kk+bQKsVXptgCZ1AWVleiHlWnEDW9N3X60acQA4POXLV1ZpACbp+vKD+nECziruHz0ydQAcBKrDB+pxA0kf99Jbim0CAmcsIvXOaQDi6+pS/s5hAQJwHAZE2kkA9DUqvzSKNQMLiSmPKqoRAIWdy+nwTcEDgYNo8kN5jQIqH2aFf1k9AD+xQOrXITUBG1Mxu6qMwQGck/jHOdzJAWj3U/SevM0AFEm7x3IU1QEewLSAqKTdAwA9Z9REnOEDSHSebIKQ4QEZlXPsGVTlAPMXA5K96OkA=\",\"dtype\":\"float64\",\"order\":\"little\",\"shape\":[79]}},\"selected\":{\"id\":\"2043\"},\"selection_policy\":{\"id\":\"2042\"}},\"id\":\"2028\",\"type\":\"ColumnDataSource\"},{\"attributes\":{\"tools\":[{\"id\":\"2014\"},{\"id\":\"2015\"},{\"id\":\"2016\"},{\"id\":\"2017\"},{\"id\":\"2018\"},{\"id\":\"2019\"}]},\"id\":\"2021\",\"type\":\"Toolbar\"},{\"attributes\":{\"axis_label\":\"privacy\",\"coordinates\":null,\"formatter\":{\"id\":\"2037\"},\"group\":null,\"major_label_policy\":{\"id\":\"2038\"},\"ticker\":{\"id\":\"2011\"}},\"id\":\"2010\",\"type\":\"LinearAxis\"},{\"attributes\":{\"axis_label\":\"time [s]\",\"coordinates\":null,\"formatter\":{\"id\":\"2040\"},\"group\":null,\"major_label_policy\":{\"id\":\"2041\"},\"ticker\":{\"id\":\"2007\"}},\"id\":\"2006\",\"type\":\"LinearAxis\"},{\"attributes\":{\"fill_alpha\":{\"value\":0.2},\"fill_color\":{\"value\":\"navy\"},\"hatch_alpha\":{\"value\":0.2},\"hatch_color\":{\"value\":\"navy\"},\"line_alpha\":{\"value\":0.2},\"line_color\":{\"value\":\"navy\"},\"x\":{\"field\":\"x\"},\"y\":{\"field\":\"y\"}},\"id\":\"2050\",\"type\":\"Circle\"}],\"root_ids\":[\"1997\"]},\"title\":\"Bokeh Application\",\"version\":\"2.4.3\"}};\n",
       "  const render_items = [{\"docid\":\"2885c798-571f-4772-a49b-bd7c83d37af5\",\"root_ids\":[\"1997\"],\"roots\":{\"1997\":\"4a205205-dc24-4f7b-b498-538087e68222\"}}];\n",
       "  root.Bokeh.embed.embed_items_notebook(docs_json, render_items);\n",
       "  }\n",
       "  if (root.Bokeh !== undefined) {\n",
       "    embed_document(root);\n",
       "  } else {\n",
       "    let attempts = 0;\n",
       "    const timer = setInterval(function(root) {\n",
       "      if (root.Bokeh !== undefined) {\n",
       "        clearInterval(timer);\n",
       "        embed_document(root);\n",
       "      } else {\n",
       "        attempts++;\n",
       "        if (attempts > 100) {\n",
       "          clearInterval(timer);\n",
       "          console.log(\"Bokeh: ERROR: Unable to run BokehJS code because BokehJS library is missing\");\n",
       "        }\n",
       "      }\n",
       "    }, 10, root)\n",
       "  }\n",
       "})(window);"
      ],
      "application/vnd.bokehjs_exec.v0+json": ""
     },
     "metadata": {
      "application/vnd.bokehjs_exec.v0+json": {
       "id": "1997"
      }
     },
     "output_type": "display_data"
    },
    {
     "data": {
      "text/html": [
       "\n",
       "  <div class=\"bk-root\" id=\"c48ae342-f0d5-437d-bc53-1b92fed5cdbe\" data-root-id=\"2278\"></div>\n"
      ]
     },
     "metadata": {},
     "output_type": "display_data"
    },
    {
     "data": {
      "application/javascript": [
       "(function(root) {\n",
       "  function embed_document(root) {\n",
       "  const docs_json = {\"3a7d21f7-9c2e-4123-ab70-c01793709b6c\":{\"defs\":[],\"roots\":{\"references\":[{\"attributes\":{\"below\":[{\"id\":\"2287\"}],\"center\":[{\"id\":\"2290\"},{\"id\":\"2294\"},{\"id\":\"2326\"}],\"height\":250,\"left\":[{\"id\":\"2291\"}],\"renderers\":[{\"id\":\"2313\"},{\"id\":\"2332\"},{\"id\":\"2352\"},{\"id\":\"2373\"}],\"title\":{\"id\":\"2315\"},\"toolbar\":{\"id\":\"2302\"},\"width\":900,\"x_range\":{\"id\":\"2279\"},\"x_scale\":{\"id\":\"2283\"},\"y_range\":{\"id\":\"2281\"},\"y_scale\":{\"id\":\"2285\"}},\"id\":\"2278\",\"subtype\":\"Figure\",\"type\":\"Plot\"},{\"attributes\":{\"line_alpha\":0.1,\"line_color\":\"orange\",\"x\":{\"field\":\"x\"},\"y\":{\"field\":\"y\"}},\"id\":\"2350\",\"type\":\"Line\"},{\"attributes\":{},\"id\":\"2279\",\"type\":\"DataRange1d\"},{\"attributes\":{\"line_alpha\":0.2,\"line_color\":\"orange\",\"x\":{\"field\":\"x\"},\"y\":{\"field\":\"y\"}},\"id\":\"2351\",\"type\":\"Line\"},{\"attributes\":{},\"id\":\"2318\",\"type\":\"BasicTickFormatter\"},{\"attributes\":{},\"id\":\"2367\",\"type\":\"Selection\"},{\"attributes\":{\"coordinates\":null,\"data_source\":{\"id\":\"2309\"},\"glyph\":{\"id\":\"2310\"},\"group\":null,\"hover_glyph\":null,\"muted_glyph\":{\"id\":\"2312\"},\"nonselection_glyph\":{\"id\":\"2311\"},\"view\":{\"id\":\"2314\"}},\"id\":\"2313\",\"type\":\"GlyphRenderer\"},{\"attributes\":{\"fill_alpha\":{\"value\":0.1},\"fill_color\":{\"value\":\"orange\"},\"hatch_alpha\":{\"value\":0.1},\"hatch_color\":{\"value\":\"orange\"},\"line_alpha\":{\"value\":0.1},\"line_color\":{\"value\":\"orange\"},\"x\":{\"field\":\"x\"},\"y\":{\"field\":\"y\"}},\"id\":\"2371\",\"type\":\"Circle\"},{\"attributes\":{},\"id\":\"2344\",\"type\":\"UnionRenderers\"},{\"attributes\":{\"coordinates\":null,\"data_source\":{\"id\":\"2328\"},\"glyph\":{\"id\":\"2329\"},\"group\":null,\"hover_glyph\":null,\"muted_glyph\":{\"id\":\"2331\"},\"nonselection_glyph\":{\"id\":\"2330\"},\"view\":{\"id\":\"2333\"}},\"id\":\"2332\",\"type\":\"GlyphRenderer\"},{\"attributes\":{},\"id\":\"2281\",\"type\":\"DataRange1d\"},{\"attributes\":{\"coordinates\":null,\"group\":null,\"items\":[{\"id\":\"2327\"},{\"id\":\"2347\"}]},\"id\":\"2326\",\"type\":\"Legend\"},{\"attributes\":{},\"id\":\"2288\",\"type\":\"BasicTicker\"},{\"attributes\":{\"line_alpha\":0.1,\"line_color\":\"navy\",\"x\":{\"field\":\"x\"},\"y\":{\"field\":\"y\"}},\"id\":\"2311\",\"type\":\"Line\"},{\"attributes\":{\"line_alpha\":0.2,\"line_color\":\"navy\",\"x\":{\"field\":\"x\"},\"y\":{\"field\":\"y\"}},\"id\":\"2312\",\"type\":\"Line\"},{\"attributes\":{},\"id\":\"2324\",\"type\":\"Selection\"},{\"attributes\":{\"source\":{\"id\":\"2309\"}},\"id\":\"2314\",\"type\":\"CDSView\"},{\"attributes\":{\"label\":{\"value\":\"p\"},\"renderers\":[{\"id\":\"2313\"}]},\"id\":\"2327\",\"type\":\"LegendItem\"},{\"attributes\":{\"source\":{\"id\":\"2328\"}},\"id\":\"2333\",\"type\":\"CDSView\"},{\"attributes\":{\"coordinates\":null,\"data_source\":{\"id\":\"2348\"},\"glyph\":{\"id\":\"2349\"},\"group\":null,\"hover_glyph\":null,\"muted_glyph\":{\"id\":\"2351\"},\"nonselection_glyph\":{\"id\":\"2350\"},\"view\":{\"id\":\"2353\"}},\"id\":\"2352\",\"type\":\"GlyphRenderer\"},{\"attributes\":{\"data\":{\"x\":{\"__ndarray__\":\"WgAAANIAAADwAAAASgEAAIYBAACkAQAA4AEAADoCAABYAgAAsgIAANACAAAMAwAASAMAAKIDAADeAwAAGgQAAFYEAACSBAAAzgQAAAoFAABGBQAAggUAAL4FAAD6BQAANgYAAHIGAACuBgAA6gYAACYHAABiBwAAngcAANoHAAAWCAAAUggAAI4IAADKCAAA6AgAACQJAABgCQAAnAkAANgJAAAUCgAAUAoAAIwKAADICgAABAsAAEALAAB8CwAAuAsAAPQLAAAwDAAAbAwAAIoMAADGDAAAAg0AAFwNAAB6DQAAtg0AAPINAAAuDgAAag4AAKYOAABaDwAAlg8AANIPAAAOEAAAShAAAIYQAADCEAAA/hAAADoRAAB2EQAAshEAAO4RAAAqEgAAZhIAAKISAADAEgAA\",\"dtype\":\"int32\",\"order\":\"little\",\"shape\":[78]},\"y\":{\"__ndarray__\":\"8WAC/g+5AkAef6Ylk8cEQIsufYpKwgVA4tjK0dBmBkC+emq7dLwGQDSvia+M/wZA/8h2BecaB0D0Ff1V6vIGQHYxJZ4EugZAWv01frqRBkD8tXvk83AGQJxy3Rn5ZQZA6nUzTS5lBkD5Zh2XwdkFQOnOyZ02kQVAL119RyC+BUAb74y1QksFQH/5At+d6gRAUq0SktPWBECyvIJjrQAFQG/ngq06ggVAv6u4KEj5BUDhUsdT6UgGQNQoqVS9kQZAdm31mKT7BkCKkkUKlm8HQDm5cPeX7gdAAwYpbslgCEA0+XnRC+QIQHQVcfCLRwlA9p0qAOqMCUCCn0paSMgJQOF4eFw/7QlAVXLb0D/xCUAinDwiEOIJQNeOrL5JtwlAjze3ESy0CUB73XNJgVQJQOnjKTwdqQhAxQ1VWUoHCEBWUk3Mga4HQNwE1vzWlQdAJOZ1tMvMB0DJBBcX1jcIQMTHY/nK5whAEo7Ri7RxCUA0q4to4s8JQNE4Ce7NEQpALmoR09c7CkBTcSqSgEMKQAq9GJxRNwpA7Bx5dp7wCUDoj8ChKycKQPWjMo6AEQpAGgoy25cPCkB+SiEJDOEJQO6x3B7iJQpAs1mg5jMvCkBt57BVayUKQG9QY+stAwpAb3TGTUHUCUCohzGIYJcJQG6xfEBTiAhATqMrurLBB0DHlwbpPZAGQHDBuBZMSANAHFU7zDWcAUCvJ4oSDd38Pw13FEl0Zvw/LRX2KeCJ8z/SX1A7QUP0Pxs19+y0tPQ/czy81I9T9T+3DGDOB9b1P9Cm8BOfIPY/aobEyT1E9j+fWdyacHX2PzyDS684xPY/\",\"dtype\":\"float64\",\"order\":\"little\",\"shape\":[78]}},\"selected\":{\"id\":\"2345\"},\"selection_policy\":{\"id\":\"2344\"}},\"id\":\"2328\",\"type\":\"ColumnDataSource\"},{\"attributes\":{\"coordinates\":null,\"data_source\":{\"id\":\"2369\"},\"glyph\":{\"id\":\"2370\"},\"group\":null,\"hover_glyph\":null,\"muted_glyph\":{\"id\":\"2372\"},\"nonselection_glyph\":{\"id\":\"2371\"},\"view\":{\"id\":\"2374\"}},\"id\":\"2373\",\"type\":\"GlyphRenderer\"},{\"attributes\":{\"fill_alpha\":{\"value\":0.1},\"fill_color\":{\"value\":\"navy\"},\"hatch_alpha\":{\"value\":0.1},\"hatch_color\":{\"value\":\"navy\"},\"line_alpha\":{\"value\":0.1},\"line_color\":{\"value\":\"navy\"},\"x\":{\"field\":\"x\"},\"y\":{\"field\":\"y\"}},\"id\":\"2330\",\"type\":\"Circle\"},{\"attributes\":{},\"id\":\"2295\",\"type\":\"PanTool\"},{\"attributes\":{\"axis\":{\"id\":\"2291\"},\"coordinates\":null,\"dimension\":1,\"group\":null,\"ticker\":null},\"id\":\"2294\",\"type\":\"Grid\"},{\"attributes\":{\"bottom_units\":\"screen\",\"coordinates\":null,\"fill_alpha\":0.5,\"fill_color\":\"lightgrey\",\"group\":null,\"left_units\":\"screen\",\"level\":\"overlay\",\"line_alpha\":1.0,\"line_color\":\"black\",\"line_dash\":[4,4],\"line_width\":2,\"right_units\":\"screen\",\"syncable\":false,\"top_units\":\"screen\"},\"id\":\"2301\",\"type\":\"BoxAnnotation\"},{\"attributes\":{\"fill_alpha\":{\"value\":0.2},\"fill_color\":{\"value\":\"navy\"},\"hatch_alpha\":{\"value\":0.2},\"hatch_color\":{\"value\":\"navy\"},\"line_alpha\":{\"value\":0.2},\"line_color\":{\"value\":\"navy\"},\"x\":{\"field\":\"x\"},\"y\":{\"field\":\"y\"}},\"id\":\"2331\",\"type\":\"Circle\"},{\"attributes\":{},\"id\":\"2319\",\"type\":\"AllLabels\"},{\"attributes\":{},\"id\":\"2321\",\"type\":\"BasicTickFormatter\"},{\"attributes\":{\"line_color\":\"navy\",\"x\":{\"field\":\"x\"},\"y\":{\"field\":\"y\"}},\"id\":\"2310\",\"type\":\"Line\"},{\"attributes\":{},\"id\":\"2345\",\"type\":\"Selection\"},{\"attributes\":{\"fill_color\":{\"value\":\"orange\"},\"hatch_color\":{\"value\":\"orange\"},\"line_color\":{\"value\":\"orange\"},\"x\":{\"field\":\"x\"},\"y\":{\"field\":\"y\"}},\"id\":\"2370\",\"type\":\"Circle\"},{\"attributes\":{\"fill_color\":{\"value\":\"navy\"},\"hatch_color\":{\"value\":\"navy\"},\"line_color\":{\"value\":\"navy\"},\"x\":{\"field\":\"x\"},\"y\":{\"field\":\"y\"}},\"id\":\"2329\",\"type\":\"Circle\"},{\"attributes\":{\"coordinates\":null,\"group\":null},\"id\":\"2315\",\"type\":\"Title\"},{\"attributes\":{\"axis_label\":\"privacy (log10)\",\"coordinates\":null,\"formatter\":{\"id\":\"2318\"},\"group\":null,\"major_label_policy\":{\"id\":\"2319\"},\"ticker\":{\"id\":\"2292\"}},\"id\":\"2291\",\"type\":\"LinearAxis\"},{\"attributes\":{},\"id\":\"2300\",\"type\":\"HelpTool\"},{\"attributes\":{\"axis\":{\"id\":\"2287\"},\"coordinates\":null,\"group\":null,\"ticker\":null},\"id\":\"2290\",\"type\":\"Grid\"},{\"attributes\":{\"source\":{\"id\":\"2348\"}},\"id\":\"2353\",\"type\":\"CDSView\"},{\"attributes\":{\"data\":{\"x\":{\"__ndarray__\":\"WgAAANIAAADwAAAASgEAAIYBAACkAQAA4AEAADoCAABYAgAAsgIAANACAAAMAwAASAMAAKIDAADeAwAAGgQAAFYEAACSBAAAzgQAAAoFAABGBQAAggUAAL4FAAD6BQAANgYAAHIGAACuBgAA6gYAACYHAABiBwAAngcAANoHAAAWCAAAUggAAI4IAADKCAAA6AgAACQJAABgCQAAnAkAANgJAAAUCgAAUAoAAIwKAADICgAABAsAAEALAAB8CwAAuAsAAPQLAAAwDAAAbAwAAIoMAADGDAAAAg0AAFwNAAB6DQAAtg0AAPINAAAuDgAAag4AAKYOAABaDwAAlg8AANIPAAAOEAAAShAAAIYQAADCEAAA/hAAADoRAAB2EQAAshEAAO4RAAAqEgAAZhIAAKISAADAEgAA\",\"dtype\":\"int32\",\"order\":\"little\",\"shape\":[78]},\"y\":{\"__ndarray__\":\"TMkTcuVP+z/+K2pW8w4FQNioiEml8wVAUwYBz1+EB0A2MtdyqNUHQE604wXWBQhAUka30ncfCECAVVlvG/0HQBL8TeT8vAdARdGt6zKbB0Ao8FPSOHMHQOfOdibyeAdACtH7f2xNB0DCIbSvhf0GQA3qJDJ2qgZAryI0eKauBkDiFGAym5EGQG0hzdXzVwZAIeMlBNjvBUCa8CWAFDIGQLs7mP/2lwZAg+qJRrncBkCS4JcN8icHQMuBGXGoRAdATGqZkZuEB0C5E6DvEYsHQJ0rOF1G9QdAiBpMNYI7CEDf/VXHp6IIQE85fiaW5whAZnJALJkiCUDZa8WwEDkJQBaUs6LwkAlAAzrWICmhCUAk/cekUZ8JQPFj4A0TjQlA7ZAcXTCPCUBHa+QVnzAJQPxE0l0UxAhAQtqNL9YgCEDeQX8R8MYHQOnVHzbwuQdAAG0h/tvcB0D9BhavVyIIQBVqnnwD0whArLppJz5eCUDfK1WXet8JQEZKd/NSQwpAp2jTwj9VCkA4mRd6qlEKQFpKAlQ9PgpArb+Rgn//CUB92Yw1fDgKQETJBUtkRQpAuKNS+ztVCkAivKx2xhUKQIRzTMuLWQpAqLm43RaCCkDk/kVEG3gKQKcQvcBCPApAZsm72ggECkAMCz582NUJQBbQs8lT6ghAuXCvn4EBCEAdNp6tIwkHQGdE/ipI1QVAE32ZbmaMBUD1czZ8L8wFQAFOJvaDnAVA2+G4UjnLBUCHN5ZzJ84FQM9TG06y0AVAfvO5pzukBUDinFsWmX4FQJDsE8SqBgVAUf7hOKEBBUCDKjuu2yEFQL5VkkikXwVA\",\"dtype\":\"float64\",\"order\":\"little\",\"shape\":[78]}},\"selected\":{\"id\":\"2367\"},\"selection_policy\":{\"id\":\"2366\"}},\"id\":\"2348\",\"type\":\"ColumnDataSource\"},{\"attributes\":{\"data\":{\"x\":{\"__ndarray__\":\"WgAAANIAAADwAAAASgEAAIYBAACkAQAA4AEAADoCAABYAgAAsgIAANACAAAMAwAASAMAAKIDAADeAwAAGgQAAFYEAACSBAAAzgQAAAoFAABGBQAAggUAAL4FAAD6BQAANgYAAHIGAACuBgAA6gYAACYHAABiBwAAngcAANoHAAAWCAAAUggAAI4IAADKCAAA6AgAACQJAABgCQAAnAkAANgJAAAUCgAAUAoAAIwKAADICgAABAsAAEALAAB8CwAAuAsAAPQLAAAwDAAAbAwAAIoMAADGDAAAAg0AAFwNAAB6DQAAtg0AAPINAAAuDgAAag4AAKYOAABaDwAAlg8AANIPAAAOEAAAShAAAIYQAADCEAAA/hAAADoRAAB2EQAAshEAAO4RAAAqEgAAZhIAAKISAADAEgAA\",\"dtype\":\"int32\",\"order\":\"little\",\"shape\":[78]},\"y\":{\"__ndarray__\":\"TMkTcuVP+z/+K2pW8w4FQNioiEml8wVAUwYBz1+EB0A2MtdyqNUHQE604wXWBQhAUka30ncfCECAVVlvG/0HQBL8TeT8vAdARdGt6zKbB0Ao8FPSOHMHQOfOdibyeAdACtH7f2xNB0DCIbSvhf0GQA3qJDJ2qgZAryI0eKauBkDiFGAym5EGQG0hzdXzVwZAIeMlBNjvBUCa8CWAFDIGQLs7mP/2lwZAg+qJRrncBkCS4JcN8icHQMuBGXGoRAdATGqZkZuEB0C5E6DvEYsHQJ0rOF1G9QdAiBpMNYI7CEDf/VXHp6IIQE85fiaW5whAZnJALJkiCUDZa8WwEDkJQBaUs6LwkAlAAzrWICmhCUAk/cekUZ8JQPFj4A0TjQlA7ZAcXTCPCUBHa+QVnzAJQPxE0l0UxAhAQtqNL9YgCEDeQX8R8MYHQOnVHzbwuQdAAG0h/tvcB0D9BhavVyIIQBVqnnwD0whArLppJz5eCUDfK1WXet8JQEZKd/NSQwpAp2jTwj9VCkA4mRd6qlEKQFpKAlQ9PgpArb+Rgn//CUB92Yw1fDgKQETJBUtkRQpAuKNS+ztVCkAivKx2xhUKQIRzTMuLWQpAqLm43RaCCkDk/kVEG3gKQKcQvcBCPApAZsm72ggECkAMCz582NUJQBbQs8lT6ghAuXCvn4EBCEAdNp6tIwkHQGdE/ipI1QVAE32ZbmaMBUD1czZ8L8wFQAFOJvaDnAVA2+G4UjnLBUCHN5ZzJ84FQM9TG06y0AVAfvO5pzukBUDinFsWmX4FQJDsE8SqBgVAUf7hOKEBBUCDKjuu2yEFQL5VkkikXwVA\",\"dtype\":\"float64\",\"order\":\"little\",\"shape\":[78]}},\"selected\":{\"id\":\"2390\"},\"selection_policy\":{\"id\":\"2389\"}},\"id\":\"2369\",\"type\":\"ColumnDataSource\"},{\"attributes\":{\"fill_alpha\":{\"value\":0.2},\"fill_color\":{\"value\":\"orange\"},\"hatch_alpha\":{\"value\":0.2},\"hatch_color\":{\"value\":\"orange\"},\"line_alpha\":{\"value\":0.2},\"line_color\":{\"value\":\"orange\"},\"x\":{\"field\":\"x\"},\"y\":{\"field\":\"y\"}},\"id\":\"2372\",\"type\":\"Circle\"},{\"attributes\":{},\"id\":\"2283\",\"type\":\"LinearScale\"},{\"attributes\":{\"line_color\":\"orange\",\"x\":{\"field\":\"x\"},\"y\":{\"field\":\"y\"}},\"id\":\"2349\",\"type\":\"Line\"},{\"attributes\":{\"overlay\":{\"id\":\"2301\"}},\"id\":\"2297\",\"type\":\"BoxZoomTool\"},{\"attributes\":{\"source\":{\"id\":\"2369\"}},\"id\":\"2374\",\"type\":\"CDSView\"},{\"attributes\":{},\"id\":\"2298\",\"type\":\"SaveTool\"},{\"attributes\":{},\"id\":\"2292\",\"type\":\"BasicTicker\"},{\"attributes\":{\"label\":{\"value\":\"p GeoI\"},\"renderers\":[{\"id\":\"2332\"},{\"id\":\"2352\"},{\"id\":\"2373\"}]},\"id\":\"2347\",\"type\":\"LegendItem\"},{\"attributes\":{},\"id\":\"2323\",\"type\":\"UnionRenderers\"},{\"attributes\":{\"axis_label\":\"time [s]\",\"coordinates\":null,\"formatter\":{\"id\":\"2321\"},\"group\":null,\"major_label_policy\":{\"id\":\"2322\"},\"ticker\":{\"id\":\"2288\"}},\"id\":\"2287\",\"type\":\"LinearAxis\"},{\"attributes\":{},\"id\":\"2389\",\"type\":\"UnionRenderers\"},{\"attributes\":{},\"id\":\"2296\",\"type\":\"WheelZoomTool\"},{\"attributes\":{},\"id\":\"2285\",\"type\":\"LinearScale\"},{\"attributes\":{},\"id\":\"2299\",\"type\":\"ResetTool\"},{\"attributes\":{},\"id\":\"2366\",\"type\":\"UnionRenderers\"},{\"attributes\":{\"data\":{\"x\":{\"__ndarray__\":\"WgAAANIAAADwAAAASgEAAIYBAACkAQAA4AEAADoCAABYAgAAsgIAANACAAAMAwAASAMAAKIDAADeAwAAGgQAAFYEAACSBAAAzgQAAAoFAABGBQAAggUAAL4FAAD6BQAANgYAAHIGAACuBgAA6gYAACYHAABiBwAAngcAANoHAAAWCAAAUggAAI4IAADKCAAA6AgAACQJAABgCQAAnAkAANgJAAAUCgAAUAoAAIwKAADICgAABAsAAEALAAB8CwAAuAsAAPQLAAAwDAAAbAwAAIoMAADGDAAAAg0AAFwNAAB6DQAAtg0AAPINAAAuDgAAag4AAKYOAABaDwAAlg8AANIPAAAOEAAAShAAAIYQAADCEAAA/hAAADoRAAB2EQAAshEAAO4RAAAqEgAAZhIAAKISAADAEgAA\",\"dtype\":\"int32\",\"order\":\"little\",\"shape\":[78]},\"y\":{\"__ndarray__\":\"8WAC/g+5AkAef6Ylk8cEQIsufYpKwgVA4tjK0dBmBkC+emq7dLwGQDSvia+M/wZA/8h2BecaB0D0Ff1V6vIGQHYxJZ4EugZAWv01frqRBkD8tXvk83AGQJxy3Rn5ZQZA6nUzTS5lBkD5Zh2XwdkFQOnOyZ02kQVAL119RyC+BUAb74y1QksFQH/5At+d6gRAUq0SktPWBECyvIJjrQAFQG/ngq06ggVAv6u4KEj5BUDhUsdT6UgGQNQoqVS9kQZAdm31mKT7BkCKkkUKlm8HQDm5cPeX7gdAAwYpbslgCEA0+XnRC+QIQHQVcfCLRwlA9p0qAOqMCUCCn0paSMgJQOF4eFw/7QlAVXLb0D/xCUAinDwiEOIJQNeOrL5JtwlAjze3ESy0CUB73XNJgVQJQOnjKTwdqQhAxQ1VWUoHCEBWUk3Mga4HQNwE1vzWlQdAJOZ1tMvMB0DJBBcX1jcIQMTHY/nK5whAEo7Ri7RxCUA0q4to4s8JQNE4Ce7NEQpALmoR09c7CkBTcSqSgEMKQAq9GJxRNwpA7Bx5dp7wCUDoj8ChKycKQPWjMo6AEQpAGgoy25cPCkB+SiEJDOEJQO6x3B7iJQpAs1mg5jMvCkBt57BVayUKQG9QY+stAwpAb3TGTUHUCUCohzGIYJcJQG6xfEBTiAhATqMrurLBB0DHlwbpPZAGQHDBuBZMSANAHFU7zDWcAUCvJ4oSDd38Pw13FEl0Zvw/LRX2KeCJ8z/SX1A7QUP0Pxs19+y0tPQ/czy81I9T9T+3DGDOB9b1P9Cm8BOfIPY/aobEyT1E9j+fWdyacHX2PzyDS684xPY/\",\"dtype\":\"float64\",\"order\":\"little\",\"shape\":[78]}},\"selected\":{\"id\":\"2324\"},\"selection_policy\":{\"id\":\"2323\"}},\"id\":\"2309\",\"type\":\"ColumnDataSource\"},{\"attributes\":{},\"id\":\"2322\",\"type\":\"AllLabels\"},{\"attributes\":{},\"id\":\"2390\",\"type\":\"Selection\"},{\"attributes\":{\"tools\":[{\"id\":\"2295\"},{\"id\":\"2296\"},{\"id\":\"2297\"},{\"id\":\"2298\"},{\"id\":\"2299\"},{\"id\":\"2300\"}]},\"id\":\"2302\",\"type\":\"Toolbar\"}],\"root_ids\":[\"2278\"]},\"title\":\"Bokeh Application\",\"version\":\"2.4.3\"}};\n",
       "  const render_items = [{\"docid\":\"3a7d21f7-9c2e-4123-ab70-c01793709b6c\",\"root_ids\":[\"2278\"],\"roots\":{\"2278\":\"c48ae342-f0d5-437d-bc53-1b92fed5cdbe\"}}];\n",
       "  root.Bokeh.embed.embed_items_notebook(docs_json, render_items);\n",
       "  }\n",
       "  if (root.Bokeh !== undefined) {\n",
       "    embed_document(root);\n",
       "  } else {\n",
       "    let attempts = 0;\n",
       "    const timer = setInterval(function(root) {\n",
       "      if (root.Bokeh !== undefined) {\n",
       "        clearInterval(timer);\n",
       "        embed_document(root);\n",
       "      } else {\n",
       "        attempts++;\n",
       "        if (attempts > 100) {\n",
       "          clearInterval(timer);\n",
       "          console.log(\"Bokeh: ERROR: Unable to run BokehJS code because BokehJS library is missing\");\n",
       "        }\n",
       "      }\n",
       "    }, 10, root)\n",
       "  }\n",
       "})(window);"
      ],
      "application/vnd.bokehjs_exec.v0+json": ""
     },
     "metadata": {
      "application/vnd.bokehjs_exec.v0+json": {
       "id": "2278"
      }
     },
     "output_type": "display_data"
    },
    {
     "data": {
      "text/html": [
       "\n",
       "  <div class=\"bk-root\" id=\"429ff47b-8f85-431a-b680-59b33bdd49f1\" data-root-id=\"2576\"></div>\n"
      ]
     },
     "metadata": {},
     "output_type": "display_data"
    },
    {
     "data": {
      "application/javascript": [
       "(function(root) {\n",
       "  function embed_document(root) {\n",
       "  const docs_json = {\"60076be1-0169-4253-a498-399188a3e608\":{\"defs\":[],\"roots\":{\"references\":[{\"attributes\":{\"below\":[{\"id\":\"2585\"}],\"center\":[{\"id\":\"2588\"},{\"id\":\"2592\"},{\"id\":\"2624\"}],\"height\":250,\"left\":[{\"id\":\"2589\"}],\"renderers\":[{\"id\":\"2611\"}],\"title\":{\"id\":\"2613\"},\"toolbar\":{\"id\":\"2600\"},\"width\":900,\"x_range\":{\"id\":\"2577\"},\"x_scale\":{\"id\":\"2581\"},\"y_range\":{\"id\":\"2579\"},\"y_scale\":{\"id\":\"2583\"}},\"id\":\"2576\",\"subtype\":\"Figure\",\"type\":\"Plot\"},{\"attributes\":{\"axis_label\":\"time [s]\",\"coordinates\":null,\"formatter\":{\"id\":\"2619\"},\"group\":null,\"major_label_policy\":{\"id\":\"2620\"},\"ticker\":{\"id\":\"2586\"}},\"id\":\"2585\",\"type\":\"LinearAxis\"},{\"attributes\":{},\"id\":\"2583\",\"type\":\"LinearScale\"},{\"attributes\":{},\"id\":\"2622\",\"type\":\"Selection\"},{\"attributes\":{\"fill_color\":{\"value\":\"navy\"},\"hatch_color\":{\"value\":\"navy\"},\"line_color\":{\"value\":\"navy\"},\"x\":{\"field\":\"x\"},\"y\":{\"field\":\"y\"}},\"id\":\"2608\",\"type\":\"Circle\"},{\"attributes\":{\"coordinates\":null,\"data_source\":{\"id\":\"2607\"},\"glyph\":{\"id\":\"2608\"},\"group\":null,\"hover_glyph\":null,\"muted_glyph\":{\"id\":\"2610\"},\"nonselection_glyph\":{\"id\":\"2609\"},\"view\":{\"id\":\"2612\"}},\"id\":\"2611\",\"type\":\"GlyphRenderer\"},{\"attributes\":{\"coordinates\":null,\"group\":null,\"items\":[{\"id\":\"2625\"}]},\"id\":\"2624\",\"type\":\"Legend\"},{\"attributes\":{},\"id\":\"2597\",\"type\":\"ResetTool\"},{\"attributes\":{},\"id\":\"2593\",\"type\":\"PanTool\"},{\"attributes\":{},\"id\":\"2616\",\"type\":\"BasicTickFormatter\"},{\"attributes\":{\"overlay\":{\"id\":\"2599\"}},\"id\":\"2595\",\"type\":\"BoxZoomTool\"},{\"attributes\":{\"fill_alpha\":{\"value\":0.1},\"fill_color\":{\"value\":\"navy\"},\"hatch_alpha\":{\"value\":0.1},\"hatch_color\":{\"value\":\"navy\"},\"line_alpha\":{\"value\":0.1},\"line_color\":{\"value\":\"navy\"},\"x\":{\"field\":\"x\"},\"y\":{\"field\":\"y\"}},\"id\":\"2609\",\"type\":\"Circle\"},{\"attributes\":{},\"id\":\"2579\",\"type\":\"DataRange1d\"},{\"attributes\":{},\"id\":\"2621\",\"type\":\"UnionRenderers\"},{\"attributes\":{\"source\":{\"id\":\"2607\"}},\"id\":\"2612\",\"type\":\"CDSView\"},{\"attributes\":{\"coordinates\":null,\"group\":null},\"id\":\"2613\",\"type\":\"Title\"},{\"attributes\":{\"label\":{\"value\":\"u\"},\"renderers\":[{\"id\":\"2611\"}]},\"id\":\"2625\",\"type\":\"LegendItem\"},{\"attributes\":{\"fill_alpha\":{\"value\":0.2},\"fill_color\":{\"value\":\"navy\"},\"hatch_alpha\":{\"value\":0.2},\"hatch_color\":{\"value\":\"navy\"},\"line_alpha\":{\"value\":0.2},\"line_color\":{\"value\":\"navy\"},\"x\":{\"field\":\"x\"},\"y\":{\"field\":\"y\"}},\"id\":\"2610\",\"type\":\"Circle\"},{\"attributes\":{},\"id\":\"2586\",\"type\":\"BasicTicker\"},{\"attributes\":{},\"id\":\"2581\",\"type\":\"LinearScale\"},{\"attributes\":{\"bottom_units\":\"screen\",\"coordinates\":null,\"fill_alpha\":0.5,\"fill_color\":\"lightgrey\",\"group\":null,\"left_units\":\"screen\",\"level\":\"overlay\",\"line_alpha\":1.0,\"line_color\":\"black\",\"line_dash\":[4,4],\"line_width\":2,\"right_units\":\"screen\",\"syncable\":false,\"top_units\":\"screen\"},\"id\":\"2599\",\"type\":\"BoxAnnotation\"},{\"attributes\":{\"tools\":[{\"id\":\"2593\"},{\"id\":\"2594\"},{\"id\":\"2595\"},{\"id\":\"2596\"},{\"id\":\"2597\"},{\"id\":\"2598\"}]},\"id\":\"2600\",\"type\":\"Toolbar\"},{\"attributes\":{},\"id\":\"2596\",\"type\":\"SaveTool\"},{\"attributes\":{\"axis\":{\"id\":\"2589\"},\"coordinates\":null,\"dimension\":1,\"group\":null,\"ticker\":null},\"id\":\"2592\",\"type\":\"Grid\"},{\"attributes\":{},\"id\":\"2617\",\"type\":\"AllLabels\"},{\"attributes\":{},\"id\":\"2594\",\"type\":\"WheelZoomTool\"},{\"attributes\":{},\"id\":\"2598\",\"type\":\"HelpTool\"},{\"attributes\":{},\"id\":\"2577\",\"type\":\"DataRange1d\"},{\"attributes\":{\"data\":{\"x\":{\"__ndarray__\":\"HgAAADwAAABaAAAAeAAAAJYAAAC0AAAA0gAAAPAAAAAOAQAALAEAAEoBAABoAQAAhgEAAKQBAADCAQAA4AEAAP4BAAAcAgAAOgIAAFgCAAB2AgAAlAIAALICAADQAgAA7gIAAAwDAAAqAwAASAMAAGYDAACEAwAAogMAAMADAADeAwAA/AMAABoEAAA4BAAAVgQAAHQEAACSBAAAsAQAAM4EAADsBAAACgUAACgFAABGBQAAZAUAAIIFAACgBQAAvgUAANwFAAD6BQAAGAYAADYGAABUBgAAcgYAAJAGAACuBgAAzAYAAOoGAAAIBwAAJgcAAEQHAABiBwAAgAcAAJ4HAAC8BwAA2gcAAPgHAAAWCAAANAgAAFIIAABwCAAAjggAAKwIAADKCAAA6AgAAAYJAAAkCQAAQgkAAGAJAAB+CQAAnAkAALoJAADYCQAA9gkAABQKAAAyCgAAUAoAAG4KAACMCgAAqgoAAMgKAADmCgAABAsAACILAABACwAAXgsAAHwLAACaCwAAuAsAANYLAAD0CwAAEgwAADAMAABODAAAbAwAAIoMAACoDAAAxgwAAOQMAAACDQAAIA0AAD4NAABcDQAAeg0AAJgNAAC2DQAA1A0AAPINAAAQDgAALg4AAEwOAABqDgAAiA4AAKYOAADEDgAA4g4AAAAPAAAeDwAAPA8AAFoPAAB4DwAAlg8AALQPAADSDwAA8A8AAA4QAAAsEAAAShAAAGgQAACGEAAApBAAAMIQAADgEAAA/hAAABwRAAA6EQAAWBEAAHYRAACUEQAAshEAANARAADuEQAADBIAACoSAABIEgAAZhIAAIQSAACiEgAAwBIAAA==\",\"dtype\":\"int32\",\"order\":\"little\",\"shape\":[160]},\"y\":[45.11582405607557,0.0,432.40506509507037,0.0,0.0,0.0,129.0509962846034,635.8549391289592,0.0,0.0,1160.8816172304719,0.0,32.83734536780868,101.59204638159608,0.0,93.2204858153293,0.0,0.0,121.12760615382015,164.03791620654334,0.0,0.0,220.9147269279485,799.8704937691917,0.0,468.1734700249441,0.0,624.807106334387,0.0,0.0,214.40759874815626,0.0,238.92250219493775,0.0,638.9115868535364,0.0,353.289667407024,0.0,664.1610826975491,0.0,303.88641241427433,0.0,332.00617576404886,0.0,134.10027940193004,0.0,51.58309172517804,0.0,911.3019440496839,0.0,178.58681095248147,0.0,246.22158654349198,0.0,330.83784586739915,0.0,497.13084190348224,0.0,327.25619615191994,0.0,348.5564231944165,0.0,28.020345866053166,0.0,418.7147945240612,0.0,1142.8898185498726,0.0,280.95788040039946,0.0,69.29421529105836,0.0,420.146674996776,0.0,423.3747398651204,46.648713550491806,0.0,450.3877694697547,0.0,147.09557979732392,0.0,1418.3160562927008,0.0,299.14595538024065,0.0,405.51530743474524,0.0,478.2558776539002,0.0,500.98994391134613,0.0,223.90252798262043,0.0,357.8947801807033,0.0,206.03021514159866,0.0,224.60605245422684,0.0,250.25089433359403,0.0,571.951846711821,0.0,355.0931843587119,0.0,42.904698517028024,283.2917178082614,0.0,872.4773409100696,0.0,783.4681449275433,0.0,0.0,89.68809917972051,489.58708517211494,0.0,527.6706504224727,0.0,248.06330312114537,0.0,746.1102840710064,0.0,427.8268317520336,0.0,768.787857088034,0.0,0.0,0.0,0.0,0.0,302.33669169925844,0.0,418.06344832421837,0.0,736.6178155150541,0.0,817.2113546949734,0.0,492.3445139200482,0.0,672.4887020297525,0.0,195.15745951888283,0.0,744.4383833020577,0.0,777.0394185885416,0.0,287.5060263815191,0.0,290.3070931196111,0.0,193.01019398727928,0.0,174.6010008481507,0.0,493.1095817772117,0.0,491.4050939763604,713.0370740869668]},\"selected\":{\"id\":\"2622\"},\"selection_policy\":{\"id\":\"2621\"}},\"id\":\"2607\",\"type\":\"ColumnDataSource\"},{\"attributes\":{},\"id\":\"2590\",\"type\":\"BasicTicker\"},{\"attributes\":{\"axis_label\":\"utility loss\",\"coordinates\":null,\"formatter\":{\"id\":\"2616\"},\"group\":null,\"major_label_policy\":{\"id\":\"2617\"},\"ticker\":{\"id\":\"2590\"}},\"id\":\"2589\",\"type\":\"LinearAxis\"},{\"attributes\":{},\"id\":\"2619\",\"type\":\"BasicTickFormatter\"},{\"attributes\":{},\"id\":\"2620\",\"type\":\"AllLabels\"},{\"attributes\":{\"axis\":{\"id\":\"2585\"},\"coordinates\":null,\"group\":null,\"ticker\":null},\"id\":\"2588\",\"type\":\"Grid\"}],\"root_ids\":[\"2576\"]},\"title\":\"Bokeh Application\",\"version\":\"2.4.3\"}};\n",
       "  const render_items = [{\"docid\":\"60076be1-0169-4253-a498-399188a3e608\",\"root_ids\":[\"2576\"],\"roots\":{\"2576\":\"429ff47b-8f85-431a-b680-59b33bdd49f1\"}}];\n",
       "  root.Bokeh.embed.embed_items_notebook(docs_json, render_items);\n",
       "  }\n",
       "  if (root.Bokeh !== undefined) {\n",
       "    embed_document(root);\n",
       "  } else {\n",
       "    let attempts = 0;\n",
       "    const timer = setInterval(function(root) {\n",
       "      if (root.Bokeh !== undefined) {\n",
       "        clearInterval(timer);\n",
       "        embed_document(root);\n",
       "      } else {\n",
       "        attempts++;\n",
       "        if (attempts > 100) {\n",
       "          clearInterval(timer);\n",
       "          console.log(\"Bokeh: ERROR: Unable to run BokehJS code because BokehJS library is missing\");\n",
       "        }\n",
       "      }\n",
       "    }, 10, root)\n",
       "  }\n",
       "})(window);"
      ],
      "application/vnd.bokehjs_exec.v0+json": ""
     },
     "metadata": {
      "application/vnd.bokehjs_exec.v0+json": {
       "id": "2576"
      }
     },
     "output_type": "display_data"
    }
   ],
   "source": [
    "fig = figure(plot_width=900, plot_height=450)\n",
    "fig.line(xsp, ysp, line_color='navy', legend_label=\"p\")\n",
    "fig.circle(np.multiply(xs,bs), np.multiply(ys,bs), color='navy', legend_label=\"p\")\n",
    "fig.circle(np.multiply(x_obf,bs), np.multiply(y_obf,bs), color='orange', legend_label=\"p GeoI\")\n",
    "fig.line(barxk, baryk, line_color='navy', legend_label=\"centr\", alpha=0.2)\n",
    "fig.circle(barxk, baryk, color='navy', legend_label=\"centr\", fill_alpha=0.2, alpha=0.2)\n",
    "fig.line(barxk_obf, baryk_obf, line_color='orange', legend_label=\"centr obf\", alpha=0.2)\n",
    "fig.circle(barxk_obf, baryk_obf, color='orange', legend_label=\"centr obf\", fill_alpha=0.2, alpha=0.2)\n",
    "fig.xaxis.axis_label = \"time [s]\"\n",
    "fig.yaxis.axis_label = \"y\"\n",
    "show(fig)\n",
    "\n",
    "fig = figure(plot_width=900, plot_height=250)\n",
    "fig.line(Time[bs>0], np.array(privk)[bs>0], line_color='navy', legend_label=\"p\")\n",
    "fig.circle(Time[bs>0], np.array(privk)[bs>0], color='navy', legend_label=\"p\")\n",
    "fig.line(Time[bs>0], np.array(privk_obf)[bs>0], line_color='orange', legend_label=\"p GeoI\")\n",
    "fig.circle(Time[bs>0], np.array(privk_obf)[bs>0], color='orange', legend_label=\"p GeoI\")\n",
    "# fig.circle(Time, bs, color='green', legend_label=\"transm\")\n",
    "fig.xaxis.axis_label = \"time [s]\"\n",
    "fig.yaxis.axis_label = \"privacy\"\n",
    "show(fig)\n",
    "\n",
    "fig = figure(plot_width=900, plot_height=250)\n",
    "fig.line(Time[(bs>0) & (np.array(privk)>0)], np.log10(np.array(privk)[(bs>0) & (np.array(privk)>0)]), line_color='navy', legend_label=\"p\")\n",
    "fig.circle(Time[(bs>0) & (np.array(privk)>0)], np.log10(np.array(privk)[(bs>0) & (np.array(privk)>0)]), color='navy', legend_label=\"p GeoI\")\n",
    "fig.line(Time[(bs>0) & (np.array(privk)>0)], np.log10(np.array(privk_obf)[(bs>0) & (np.array(privk)>0)]), line_color='orange', legend_label=\"p GeoI\")\n",
    "fig.circle(Time[(bs>0) & (np.array(privk)>0)], np.log10(np.array(privk_obf)[(bs>0) & (np.array(privk)>0)]), color='orange', legend_label=\"p GeoI\")\n",
    "# fig.circle(Time, bs, color='green', legend_label=\"transm\")\n",
    "fig.xaxis.axis_label = \"time [s]\"\n",
    "fig.yaxis.axis_label = \"privacy (log10)\"\n",
    "show(fig)\n",
    "\n",
    "fig = figure(plot_width=900, plot_height=250)\n",
    "# fig.line(Time, util, line_color='navy', legend_label=\"u\")\n",
    "# fig.circle(Time, np.log10(util), color='navy', legend_label=\"u\")\n",
    "fig.circle(Time, util, color='navy', legend_label=\"u\")\n",
    "# fig.circle(Time, bs, color='green', legend_label=\"transm\")\n",
    "fig.xaxis.axis_label = \"time [s]\"\n",
    "fig.yaxis.axis_label = \"utility loss\"\n",
    "show(fig)\n"
   ]
  },
  {
   "cell_type": "markdown",
   "id": "a5123763",
   "metadata": {},
   "source": [
    "## Model predictive control"
   ]
  },
  {
   "cell_type": "code",
   "execution_count": 18,
   "id": "bb7653fb",
   "metadata": {},
   "outputs": [
    {
     "name": "stdout",
     "output_type": "stream",
     "text": [
      "{'P': DM(0.421962), 'xbar': DM(-0.0143868), 'ybar': DM(0.0332125)}\n"
     ]
    },
    {
     "data": {
      "text/plain": [
       "(-0.014386816708249156, 0.033212504235380164, 0.4219621090334319)"
      ]
     },
     "execution_count": 18,
     "metadata": {},
     "output_type": "execute_result"
    }
   ],
   "source": [
    "from sys import path\n",
    "from casadi import *\n",
    "from pylab import *\n",
    "\n",
    "nbuf = n\n",
    "# Control\n",
    "u = MX.sym(\"u\")\n",
    "v = MX.sym(\"v\")\n",
    "b = MX.sym(\"b\")\n",
    "\n",
    "# State\n",
    "x = MX.sym(\"x\",nbuf)\n",
    "y = MX.sym(\"y\",nbuf)\n",
    "nx = MX.sym(\"nx\",nbuf)\n",
    "\n",
    "# Matrices\n",
    "A = np.zeros((nbuf, nbuf))\n",
    "B = np.zeros((nbuf, 1))\n",
    "for i in range(nbuf-1):\n",
    "    A[i,i+1] = 1\n",
    "\n",
    "B[nbuf-1,0] = 1\n",
    "A.tolist()\n",
    "B.tolist()\n",
    "A = DM(A)\n",
    "B = DM(B)\n",
    "\n",
    "# Dynamics\n",
    "xplus = A@x + B@u\n",
    "yplus = A@y + B@v\n",
    "nplus = A@nx + B@b\n",
    "\n",
    "# Discrete time dynamics function\n",
    "F = Function('F', [x,u],[xplus])\n",
    "\n",
    "#Privacity function\n",
    "O = DM(np.ones((1,nbuf)))\n",
    "xbar = (O@(x*nx))/((O@nx)+1e-8)\n",
    "ybar = O@(y*nx)/((O@nx)+1e-8)\n",
    "P = (O@( sqrt((x-xbar)**2 + (y-ybar)**2)*nx) )/((O@nx)+1e-8)\n",
    "J = Function('J', [x,y,nx],[xbar, ybar, P],['x','y','nx'],['xbar', 'ybar','P'])\n",
    "\n",
    "# Test privacy functions\n",
    "x1 = np.random.normal(loc=0.0, scale=0.35, size=(1,nbuf)).tolist()[0]\n",
    "y1 = np.random.normal(loc=0.0, scale=0.35, size=(1,nbuf)).tolist()[0]\n",
    "nx1 = [1]*nbuf\n",
    "\n",
    "Jk = J(x=x1,y=y1,nx=nx1)\n",
    "print(Jk)\n",
    "\n",
    "df = pd.DataFrame()\n",
    "df['X'] = x1\n",
    "df['Y'] = y1\n",
    "df['N'] = nx1\n",
    "\n",
    "privacy(df)"
   ]
  },
  {
   "cell_type": "code",
   "execution_count": 19,
   "id": "160a7188",
   "metadata": {},
   "outputs": [],
   "source": [
    "def solve_mpc(xs,ys,bs,horizon,nbuf,util_bound):\n",
    "    nt = len(xs)\n",
    "    x_mpc = []\n",
    "    y_mpc = []\n",
    "    U_mpc = []\n",
    "    V_mpc = []\n",
    "    barx_mpc = []\n",
    "    bary_mpc = []\n",
    "    priv_mpc = []\n",
    "    util_mpc = []\n",
    "    time_mpc = []\n",
    "    X0 = np.array([0]*nbuf).tolist()\n",
    "    Y0 = np.array([0]*nbuf).tolist()\n",
    "    N0 = np.array([0]*nbuf).tolist()\n",
    "\n",
    "    system_opt = pd.DataFrame()\n",
    "    system_opt['X'] = X0\n",
    "    system_opt['Y'] = Y0\n",
    "    system_opt['N'] = N0\n",
    "\n",
    "    for tk in range(0,nt-horizon):#nt-horizon):\n",
    "\n",
    "        if bs[tk] == 0:\n",
    "            U_mpc += [0]\n",
    "            V_mpc += [0]\n",
    "            x_mpc += [xs[tk]]\n",
    "            y_mpc += [ys[tk]]\n",
    "            system_opt = system_update(system_opt, xs[tk], ys[tk], 0)\n",
    "            barxt, baryt, privt = privacy(system_opt)\n",
    "            barx_mpc += [barxt] \n",
    "            bary_mpc += [baryt] \n",
    "            priv_mpc += [privt] \n",
    "            # Compute utility\n",
    "            util_mpc += [-1]\n",
    "            time_mpc += [0]\n",
    "            #system_opt = system_update(system_opt, xs[tk], ys[tk], 0)\n",
    "\n",
    "        else:\n",
    "            time_0= time.time()\n",
    "            X0 = system_opt['X'].tolist()\n",
    "            Y0 = system_opt['Y'].tolist()\n",
    "            N0 = system_opt['N'].tolist()\n",
    "\n",
    "            # Initial conditions\n",
    "            Jk = 0\n",
    "            w=[]\n",
    "            w0 = []\n",
    "            lbw = []\n",
    "            ubw = []\n",
    "            g=[]\n",
    "            lbg = []\n",
    "            ubg = []\n",
    "\n",
    "            # Constraints on input\n",
    "            U = MX.sym(\"U\",1)\n",
    "            V = MX.sym(\"V\",1)\n",
    "            w += [U, V]\n",
    "            lbw += [-inf]*2\n",
    "            ubw += [inf]*2\n",
    "            w0 += [0]*2\n",
    "            g   += [U**2 + V**2]\n",
    "            lbg += [0]\n",
    "            ubg += [util_bound[tk]**2]\n",
    "\n",
    "            # Initial conditions\n",
    "            Xk = MX.sym(\"Xk\",nbuf)\n",
    "            w += [Xk]\n",
    "            lbw += X0\n",
    "            ubw += X0\n",
    "            w0 += X0\n",
    "            Yk = MX.sym(\"Yk\",nbuf)\n",
    "            w += [Yk]\n",
    "            lbw += Y0\n",
    "            ubw += Y0\n",
    "            w0 += Y0\n",
    "            Nk = MX.sym(\"Nk\",nbuf)\n",
    "            w += [Nk]\n",
    "            lbw += N0\n",
    "            ubw += N0\n",
    "            w0 += N0\n",
    "\n",
    "            # Future values of x, y and n\n",
    "            Xf = xs[tk:tk+horizon]\n",
    "            Xf = Xf[::].tolist()\n",
    "            Xkfut = MX.sym(\"Xkfut\",horizon) \n",
    "            w += [Xkfut]\n",
    "            lbw += Xf\n",
    "            ubw += Xf\n",
    "            w0 += Xf\n",
    "            Yf = ys[tk:tk+horizon]\n",
    "            Yf = Yf[::].tolist()\n",
    "            Ykfut = MX.sym(\"Ykfut\",horizon) \n",
    "            w += [Ykfut]\n",
    "            lbw += Yf\n",
    "            ubw += Yf\n",
    "            w0 += Yf\n",
    "            Nf = bs[tk:tk+horizon]\n",
    "            Nf = Nf[::].tolist()\n",
    "            Nkfut = MX.sym(\"Nkfut\",horizon) \n",
    "            w += [Nkfut]\n",
    "            lbw += Nf\n",
    "            ubw += Nf\n",
    "            w0 += Nf\n",
    "\n",
    "            # Apply the first input \n",
    "            Xk = F(Xk,Xkfut[0]+U)\n",
    "            Yk = F(Yk,Ykfut[0]+V)\n",
    "            Nk = F(Nk,1)\n",
    "            Jt = J(x=Xk,y=Yk,nx=Nk)\n",
    "            Jk += Jt['P']\n",
    "            for k in range(horizon-1):\n",
    "                # New NLP variable for the control\n",
    "                Uk = MX.sym('U_' + str(k))\n",
    "                Vk = MX.sym('V_' + str(k))\n",
    "                w   += [Uk, Vk]\n",
    "                lbw += [-util_bound[tk+k+1]*Nf[k+1]]*2\n",
    "                ubw += [util_bound[tk+k+1]*Nf[k+1]]*2\n",
    "                w0 += [0]*2\n",
    "\n",
    "                g   += [Uk**2 + Vk**2]\n",
    "                lbg += [0]\n",
    "                ubg += [util_bound[tk+k+1]**2]\n",
    "\n",
    "                Xk = F(Xk,Xkfut[k+1]+Uk)\n",
    "                Yk = F(Yk,Ykfut[k+1]+Vk)\n",
    "                Nk = F(Nk,Nkfut[k+1])\n",
    "                Jt = J(x=Xk,y=Yk,nx=Nk)\n",
    "                Jk += Jt['P']\n",
    "\n",
    "\n",
    "            prob = {'f': -Jk, 'x': vertcat(*w), 'g': vertcat(*g)}\n",
    "            solver = nlpsol('solver', 'ipopt', prob);\n",
    "            sol = solver(x0=w0, lbx=lbw, ubx=ubw, lbg=lbg, ubg=ubg)\n",
    "            w_opt = sol['x'].full().flatten()\n",
    "            J_opt = -sol['f']\n",
    "\n",
    "            # Plot the solution\n",
    "            u_opt = w_opt[0]\n",
    "            v_opt = w_opt[1]\n",
    "            U_mpc += [u_opt]\n",
    "            V_mpc += [v_opt]\n",
    "            x_mpc += [Xf[0] + u_opt]\n",
    "            y_mpc += [Yf[0] + v_opt]\n",
    "            system_opt = system_update(system_opt, Xf[0] + u_opt, Yf[0] + v_opt, 1)\n",
    "            barxt, baryt, privt = privacy(system_opt)\n",
    "            barx_mpc += [barxt] \n",
    "            bary_mpc += [baryt] \n",
    "            priv_mpc += [privt] \n",
    "            # Compute utility\n",
    "            util_mpc += [utility(u_opt,v_opt)]\n",
    "            time_mpc += [time.time()-time_0]\n",
    "            #system_opt = system_update(system_opt, Xf[0] + u_opt, Yf[0] + v_opt, 1)\n",
    "   \n",
    "    clear_output(wait=False)\n",
    "\n",
    "    data_mpc = pd.DataFrame()\n",
    "    data_mpc['x'] = x_mpc\n",
    "    data_mpc['y'] = y_mpc\n",
    "    data_mpc['u_enu']= us[:len(x_mpc)]\n",
    "    data_mpc['U'] = U_mpc\n",
    "    data_mpc['V'] = V_mpc\n",
    "    data_mpc['barx'] = barx_mpc\n",
    "    data_mpc['bary'] = bary_mpc\n",
    "    data_mpc['priv'] = priv_mpc\n",
    "    data_mpc['util'] = util_mpc\n",
    "    data_mpc['time'] = time_mpc\n",
    "    \n",
    "    return data_mpc#U_mpc, V_mpc, x_mpc, y_mpc, barx_mpc, bary_mpc, priv_mpc, util_mpc \n"
   ]
  },
  {
   "cell_type": "code",
   "execution_count": 20,
   "id": "ba2c73c9",
   "metadata": {},
   "outputs": [
    {
     "name": "stdout",
     "output_type": "stream",
     "text": [
      "0:00:00.672000\n",
      "0    0.607316\n",
      "Name: time, dtype: float64\n"
     ]
    }
   ],
   "source": [
    "start_time = time.monotonic()\n",
    "h = 15\n",
    "data_mpc = solve_mpc(xs[:h+1],ys,bs,h,nbuf,util)\n",
    "end_time = time.monotonic()\n",
    "print(timedelta(seconds=end_time - start_time))\n",
    "print(data_mpc['time'])\n"
   ]
  },
  {
   "cell_type": "code",
   "execution_count": 21,
   "id": "baae84ba",
   "metadata": {
    "scrolled": true
   },
   "outputs": [
    {
     "name": "stdout",
     "output_type": "stream",
     "text": [
      "15 0:04:22.953000\n",
      "0:04:22.953000\n"
     ]
    }
   ],
   "source": [
    "start_time = time.monotonic()\n",
    "horizons = [1, 2, 5, 10, 15]#, 20, 25, 30] \n",
    "Data_MPC = {} # Empty dictionary\n",
    "for h in horizons:\n",
    "    data_mpc = solve_mpc(xs,ys,bs,h,nbuf,util)\n",
    "    Data_MPC[h] = data_mpc\n",
    "    end_time = time.monotonic()\n",
    "    print(h,timedelta(seconds=end_time - start_time))\n",
    "    Data_MPC[h].to_csv(sol_file+'/solMPC_h_'+str(h)+'_util_var.csv')\n",
    "\n",
    "end_time = time.monotonic()\n",
    "print(timedelta(seconds=end_time - start_time))\n"
   ]
  },
  {
   "cell_type": "code",
   "execution_count": 22,
   "id": "85c65422",
   "metadata": {},
   "outputs": [
    {
     "name": "stdout",
     "output_type": "stream",
     "text": [
      "Horizon  1\n",
      "count    78.000000\n",
      "mean      0.089868\n",
      "std       0.020823\n",
      "min       0.062826\n",
      "25%       0.076051\n",
      "50%       0.086774\n",
      "75%       0.100140\n",
      "max       0.209147\n",
      "Name: time, dtype: float64\n",
      "Horizon  2\n",
      "count    77.000000\n",
      "mean      0.145676\n",
      "std       0.030256\n",
      "min       0.081815\n",
      "25%       0.118692\n",
      "50%       0.144643\n",
      "75%       0.163661\n",
      "max       0.232376\n",
      "Name: time, dtype: float64\n",
      "Horizon  5\n",
      "count    76.000000\n",
      "mean      0.444379\n",
      "std       0.113571\n",
      "min       0.151651\n",
      "25%       0.391672\n",
      "50%       0.425374\n",
      "75%       0.484954\n",
      "max       0.880679\n",
      "Name: time, dtype: float64\n",
      "Horizon  10\n",
      "count    73.000000\n",
      "mean      1.180870\n",
      "std       0.367199\n",
      "min       0.300187\n",
      "25%       0.942482\n",
      "50%       1.142967\n",
      "75%       1.329068\n",
      "max       2.553175\n",
      "Name: time, dtype: float64\n",
      "Horizon  15\n",
      "count    71.000000\n",
      "mean      1.741060\n",
      "std       0.667536\n",
      "min       0.519600\n",
      "25%       1.248961\n",
      "50%       1.607610\n",
      "75%       2.108426\n",
      "max       3.262136\n",
      "Name: time, dtype: float64\n"
     ]
    }
   ],
   "source": [
    "#solution time statistics\n",
    "for h in horizons:\n",
    "    tiempos=Data_MPC[h]['time']\n",
    "    print('Horizon ',h)\n",
    "    print(tiempos.loc[tiempos>0].describe())"
   ]
  },
  {
   "cell_type": "code",
   "execution_count": 23,
   "id": "860a3d05",
   "metadata": {},
   "outputs": [],
   "source": [
    "# Save data MPC\n",
    "pickle.dump( horizons, open( sol_file+\"/Horizons_MPC.pkl\", \"wb\" ) )\n",
    "pickle.dump( Data_MPC, open( sol_file+\"/Data_MPC.pkl\", \"wb\" ) )\n"
   ]
  },
  {
   "cell_type": "markdown",
   "id": "362c26f8",
   "metadata": {},
   "source": [
    "## Evaluate the obfuscation algorithms"
   ]
  },
  {
   "cell_type": "code",
   "execution_count": 24,
   "id": "99779a34",
   "metadata": {},
   "outputs": [],
   "source": [
    "# Load data MPC\n",
    "horizons = pickle.load( open( sol_file+\"/Horizons_MPC.pkl\", \"rb\" ) )\n",
    "Data_MPC = pickle.load( open( sol_file+\"/Data_MPC.pkl\", \"rb\" ) )\n"
   ]
  },
  {
   "cell_type": "code",
   "execution_count": 25,
   "id": "4fab5525",
   "metadata": {
    "scrolled": false
   },
   "outputs": [
    {
     "name": "stdout",
     "output_type": "stream",
     "text": [
      "Privacy raw:  1043.9616311083319\n",
      "Privacy Gauss:  1140.888970207371    0.09284569107787535\n",
      "Privacy MPC: h = 1   1169.9031005117117    0.12063802504855749\n",
      "Privacy MPC: h = 2   1179.8341984941094    0.13015092062485775\n",
      "Privacy MPC: h = 5   1192.2382109281587    0.1420325952615783\n",
      "Privacy MPC: h = 10   1232.2818536976868    0.1803899846294379\n",
      "Privacy MPC: h = 15   1268.067729025007    0.21466890280129441\n"
     ]
    },
    {
     "data": {
      "text/html": [
       "<div>\n",
       "<style scoped>\n",
       "    .dataframe tbody tr th:only-of-type {\n",
       "        vertical-align: middle;\n",
       "    }\n",
       "\n",
       "    .dataframe tbody tr th {\n",
       "        vertical-align: top;\n",
       "    }\n",
       "\n",
       "    .dataframe thead th {\n",
       "        text-align: right;\n",
       "    }\n",
       "</style>\n",
       "<table border=\"1\" class=\"dataframe\">\n",
       "  <thead>\n",
       "    <tr style=\"text-align: right;\">\n",
       "      <th></th>\n",
       "      <th>util</th>\n",
       "    </tr>\n",
       "  </thead>\n",
       "  <tbody>\n",
       "    <tr>\n",
       "      <th>count</th>\n",
       "      <td>70.000000</td>\n",
       "    </tr>\n",
       "    <tr>\n",
       "      <th>mean</th>\n",
       "      <td>416.199308</td>\n",
       "    </tr>\n",
       "    <tr>\n",
       "      <th>std</th>\n",
       "      <td>290.384961</td>\n",
       "    </tr>\n",
       "    <tr>\n",
       "      <th>min</th>\n",
       "      <td>28.020346</td>\n",
       "    </tr>\n",
       "    <tr>\n",
       "      <th>25%</th>\n",
       "      <td>216.034382</td>\n",
       "    </tr>\n",
       "    <tr>\n",
       "      <th>50%</th>\n",
       "      <td>354.191428</td>\n",
       "    </tr>\n",
       "    <tr>\n",
       "      <th>75%</th>\n",
       "      <td>560.881550</td>\n",
       "    </tr>\n",
       "    <tr>\n",
       "      <th>max</th>\n",
       "      <td>1418.316063</td>\n",
       "    </tr>\n",
       "  </tbody>\n",
       "</table>\n",
       "</div>"
      ],
      "text/plain": [
       "              util\n",
       "count    70.000000\n",
       "mean    416.199308\n",
       "std     290.384961\n",
       "min      28.020346\n",
       "25%     216.034382\n",
       "50%     354.191428\n",
       "75%     560.881550\n",
       "max    1418.316063"
      ]
     },
     "execution_count": 25,
     "metadata": {},
     "output_type": "execute_result"
    }
   ],
   "source": [
    "# Privacy evaluation\n",
    "ntemp = len(xs)\n",
    "for h in horizons:\n",
    "    ntemp = np.min([ntemp,len(np.array(Data_MPC[h].x))])\n",
    "\n",
    "#p_raw = np.array(privk[0:ntemp]).mean()\n",
    "#p_obf = np.array(privk_obf[0:ntemp]).mean()\n",
    "\n",
    "p_raw = np.array([privk[i] for i in range(ntemp) if bs[i]!=0]).mean()\n",
    "p_obf = np.array([privk_obf[i] for i in range(ntemp) if bs[i]!=0]).mean()\n",
    "print(\"Privacy raw: \", p_raw)\n",
    "print(\"Privacy Gauss: \", p_obf, \"  \", (p_obf-p_raw)/p_raw)\n",
    "\n",
    "P_mpc = []\n",
    "Pper_mpc = []\n",
    "for h in horizons:\n",
    "    #p_mpc = np.array(Data_MPC[h].priv)[0:ntemp].mean()\n",
    "    p_mpc = Data_MPC[h].loc[Data_MPC[h].util>=0].priv.mean()\n",
    "    print(\"Privacy MPC: h = \" + str(h) + \"  \", p_mpc, \"  \", (p_mpc-p_raw)/p_raw)\n",
    "    P_mpc += [p_mpc]\n",
    "    Pper_mpc += [(p_mpc-p_raw)/p_raw]\n",
    "    #print(Data_MPC[h].loc[Data_MPC[h].util>0].priv.describe())\n",
    "\n",
    "util_mpc = Data_MPC[h].util\n",
    "Util_mpc = pd.DataFrame(util_mpc)\n",
    "Util_mpc[Util_mpc > 0].describe()\n"
   ]
  },
  {
   "cell_type": "code",
   "execution_count": 26,
   "id": "cdae45c4",
   "metadata": {},
   "outputs": [
    {
     "data": {
      "image/png": "[encoded data removed]",
      "text/plain": [
       "<Figure size 432x288 with 1 Axes>"
      ]
     },
     "metadata": {
      "needs_background": "light"
     },
     "output_type": "display_data"
    },
    {
     "data": {
      "image/png": "[encoded data removed]",
      "text/plain": [
       "<Figure size 432x288 with 1 Axes>"
      ]
     },
     "metadata": {
      "needs_background": "light"
     },
     "output_type": "display_data"
    },
    {
     "data": {
      "image/png": "[encoded data removed]",
      "text/plain": [
       "<Figure size 432x288 with 1 Axes>"
      ]
     },
     "metadata": {
      "needs_background": "light"
     },
     "output_type": "display_data"
    },
    {
     "data": {
      "image/png": "[encoded data removed]",
      "text/plain": [
       "<Figure size 432x288 with 1 Axes>"
      ]
     },
     "metadata": {
      "needs_background": "light"
     },
     "output_type": "display_data"
    },
    {
     "data": {
      "image/png": "[encoded data removed]",
      "text/plain": [
       "<Figure size 432x288 with 1 Axes>"
      ]
     },
     "metadata": {
      "needs_background": "light"
     },
     "output_type": "display_data"
    }
   ],
   "source": [
    "#Privacy distribution\n",
    "for h in horizons:\n",
    "    plt.figure()\n",
    "    plt.title('privacy horizon '+str(h))\n",
    "    Data_MPC[h].priv.loc[Data_MPC[h].util>0].plot.hist(grid=True, bins=20, rwidth=0.75)\n",
    "    plt.show()"
   ]
  },
  {
   "cell_type": "code",
   "execution_count": 27,
   "id": "501d97f5",
   "metadata": {
    "scrolled": false
   },
   "outputs": [
    {
     "data": {
      "text/html": [
       "<div class=\"bk-root\">\n",
       "        <a href=\"https://bokeh.org\" target=\"_blank\" class=\"bk-logo bk-logo-small bk-logo-notebook\"></a>\n",
       "        <span id=\"2791\">Loading BokehJS ...</span>\n",
       "    </div>\n"
      ]
     },
     "metadata": {},
     "output_type": "display_data"
    },
    {
     "data": {
      "application/javascript": [
       "(function(root) {\n",
       "  function now() {\n",
       "    return new Date();\n",
       "  }\n",
       "\n",
       "  const force = true;\n",
       "\n",
       "  if (typeof root._bokeh_onload_callbacks === \"undefined\" || force === true) {\n",
       "    root._bokeh_onload_callbacks = [];\n",
       "    root._bokeh_is_loading = undefined;\n",
       "  }\n",
       "\n",
       "const JS_MIME_TYPE = 'application/javascript';\n",
       "  const HTML_MIME_TYPE = 'text/html';\n",
       "  const EXEC_MIME_TYPE = 'application/vnd.bokehjs_exec.v0+json';\n",
       "  const CLASS_NAME = 'output_bokeh rendered_html';\n",
       "\n",
       "  /**\n",
       "   * Render data to the DOM node\n",
       "   */\n",
       "  function render(props, node) {\n",
       "    const script = document.createElement(\"script\");\n",
       "    node.appendChild(script);\n",
       "  }\n",
       "\n",
       "  /**\n",
       "   * Handle when an output is cleared or removed\n",
       "   */\n",
       "  function handleClearOutput(event, handle) {\n",
       "    const cell = handle.cell;\n",
       "\n",
       "    const id = cell.output_area._bokeh_element_id;\n",
       "    const server_id = cell.output_area._bokeh_server_id;\n",
       "    // Clean up Bokeh references\n",
       "    if (id != null && id in Bokeh.index) {\n",
       "      Bokeh.index[id].model.document.clear();\n",
       "      delete Bokeh.index[id];\n",
       "    }\n",
       "\n",
       "    if (server_id !== undefined) {\n",
       "      // Clean up Bokeh references\n",
       "      const cmd_clean = \"from bokeh.io.state import curstate; print(curstate().uuid_to_server['\" + server_id + \"'].get_sessions()[0].document.roots[0]._id)\";\n",
       "      cell.notebook.kernel.execute(cmd_clean, {\n",
       "        iopub: {\n",
       "          output: function(msg) {\n",
       "            const id = msg.content.text.trim();\n",
       "            if (id in Bokeh.index) {\n",
       "              Bokeh.index[id].model.document.clear();\n",
       "              delete Bokeh.index[id];\n",
       "            }\n",
       "          }\n",
       "        }\n",
       "      });\n",
       "      // Destroy server and session\n",
       "      const cmd_destroy = \"import bokeh.io.notebook as ion; ion.destroy_server('\" + server_id + \"')\";\n",
       "      cell.notebook.kernel.execute(cmd_destroy);\n",
       "    }\n",
       "  }\n",
       "\n",
       "  /**\n",
       "   * Handle when a new output is added\n",
       "   */\n",
       "  function handleAddOutput(event, handle) {\n",
       "    const output_area = handle.output_area;\n",
       "    const output = handle.output;\n",
       "\n",
       "    // limit handleAddOutput to display_data with EXEC_MIME_TYPE content only\n",
       "    if ((output.output_type != \"display_data\") || (!Object.prototype.hasOwnProperty.call(output.data, EXEC_MIME_TYPE))) {\n",
       "      return\n",
       "    }\n",
       "\n",
       "    const toinsert = output_area.element.find(\".\" + CLASS_NAME.split(' ')[0]);\n",
       "\n",
       "    if (output.metadata[EXEC_MIME_TYPE][\"id\"] !== undefined) {\n",
       "      toinsert[toinsert.length - 1].firstChild.textContent = output.data[JS_MIME_TYPE];\n",
       "      // store reference to embed id on output_area\n",
       "      output_area._bokeh_element_id = output.metadata[EXEC_MIME_TYPE][\"id\"];\n",
       "    }\n",
       "    if (output.metadata[EXEC_MIME_TYPE][\"server_id\"] !== undefined) {\n",
       "      const bk_div = document.createElement(\"div\");\n",
       "      bk_div.innerHTML = output.data[HTML_MIME_TYPE];\n",
       "      const script_attrs = bk_div.children[0].attributes;\n",
       "      for (let i = 0; i < script_attrs.length; i++) {\n",
       "        toinsert[toinsert.length - 1].firstChild.setAttribute(script_attrs[i].name, script_attrs[i].value);\n",
       "        toinsert[toinsert.length - 1].firstChild.textContent = bk_div.children[0].textContent\n",
       "      }\n",
       "      // store reference to server id on output_area\n",
       "      output_area._bokeh_server_id = output.metadata[EXEC_MIME_TYPE][\"server_id\"];\n",
       "    }\n",
       "  }\n",
       "\n",
       "  function register_renderer(events, OutputArea) {\n",
       "\n",
       "    function append_mime(data, metadata, element) {\n",
       "      // create a DOM node to render to\n",
       "      const toinsert = this.create_output_subarea(\n",
       "        metadata,\n",
       "        CLASS_NAME,\n",
       "        EXEC_MIME_TYPE\n",
       "      );\n",
       "      this.keyboard_manager.register_events(toinsert);\n",
       "      // Render to node\n",
       "      const props = {data: data, metadata: metadata[EXEC_MIME_TYPE]};\n",
       "      render(props, toinsert[toinsert.length - 1]);\n",
       "      element.append(toinsert);\n",
       "      return toinsert\n",
       "    }\n",
       "\n",
       "    /* Handle when an output is cleared or removed */\n",
       "    events.on('clear_output.CodeCell', handleClearOutput);\n",
       "    events.on('delete.Cell', handleClearOutput);\n",
       "\n",
       "    /* Handle when a new output is added */\n",
       "    events.on('output_added.OutputArea', handleAddOutput);\n",
       "\n",
       "    /**\n",
       "     * Register the mime type and append_mime function with output_area\n",
       "     */\n",
       "    OutputArea.prototype.register_mime_type(EXEC_MIME_TYPE, append_mime, {\n",
       "      /* Is output safe? */\n",
       "      safe: true,\n",
       "      /* Index of renderer in `output_area.display_order` */\n",
       "      index: 0\n",
       "    });\n",
       "  }\n",
       "\n",
       "  // register the mime type if in Jupyter Notebook environment and previously unregistered\n",
       "  if (root.Jupyter !== undefined) {\n",
       "    const events = require('base/js/events');\n",
       "    const OutputArea = require('notebook/js/outputarea').OutputArea;\n",
       "\n",
       "    if (OutputArea.prototype.mime_types().indexOf(EXEC_MIME_TYPE) == -1) {\n",
       "      register_renderer(events, OutputArea);\n",
       "    }\n",
       "  }\n",
       "  if (typeof (root._bokeh_timeout) === \"undefined\" || force === true) {\n",
       "    root._bokeh_timeout = Date.now() + 5000;\n",
       "    root._bokeh_failed_load = false;\n",
       "  }\n",
       "\n",
       "  const NB_LOAD_WARNING = {'data': {'text/html':\n",
       "     \"<div style='background-color: #fdd'>\\n\"+\n",
       "     \"<p>\\n\"+\n",
       "     \"BokehJS does not appear to have successfully loaded. If loading BokehJS from CDN, this \\n\"+\n",
       "     \"may be due to a slow or bad network connection. Possible fixes:\\n\"+\n",
       "     \"</p>\\n\"+\n",
       "     \"<ul>\\n\"+\n",
       "     \"<li>re-rerun `output_notebook()` to attempt to load from CDN again, or</li>\\n\"+\n",
       "     \"<li>use INLINE resources instead, as so:</li>\\n\"+\n",
       "     \"</ul>\\n\"+\n",
       "     \"<code>\\n\"+\n",
       "     \"from bokeh.resources import INLINE\\n\"+\n",
       "     \"output_notebook(resources=INLINE)\\n\"+\n",
       "     \"</code>\\n\"+\n",
       "     \"</div>\"}};\n",
       "\n",
       "  function display_loaded() {\n",
       "    const el = document.getElementById(\"2791\");\n",
       "    if (el != null) {\n",
       "      el.textContent = \"BokehJS is loading...\";\n",
       "    }\n",
       "    if (root.Bokeh !== undefined) {\n",
       "      if (el != null) {\n",
       "        el.textContent = \"BokehJS \" + root.Bokeh.version + \" successfully loaded.\";\n",
       "      }\n",
       "    } else if (Date.now() < root._bokeh_timeout) {\n",
       "      setTimeout(display_loaded, 100)\n",
       "    }\n",
       "  }\n",
       "\n",
       "  function run_callbacks() {\n",
       "    try {\n",
       "      root._bokeh_onload_callbacks.forEach(function(callback) {\n",
       "        if (callback != null)\n",
       "          callback();\n",
       "      });\n",
       "    } finally {\n",
       "      delete root._bokeh_onload_callbacks\n",
       "    }\n",
       "    console.debug(\"Bokeh: all callbacks have finished\");\n",
       "  }\n",
       "\n",
       "  function load_libs(css_urls, js_urls, callback) {\n",
       "    if (css_urls == null) css_urls = [];\n",
       "    if (js_urls == null) js_urls = [];\n",
       "\n",
       "    root._bokeh_onload_callbacks.push(callback);\n",
       "    if (root._bokeh_is_loading > 0) {\n",
       "      console.debug(\"Bokeh: BokehJS is being loaded, scheduling callback at\", now());\n",
       "      return null;\n",
       "    }\n",
       "    if (js_urls == null || js_urls.length === 0) {\n",
       "      run_callbacks();\n",
       "      return null;\n",
       "    }\n",
       "    console.debug(\"Bokeh: BokehJS not loaded, scheduling load and callback at\", now());\n",
       "    root._bokeh_is_loading = css_urls.length + js_urls.length;\n",
       "\n",
       "    function on_load() {\n",
       "      root._bokeh_is_loading--;\n",
       "      if (root._bokeh_is_loading === 0) {\n",
       "        console.debug(\"Bokeh: all BokehJS libraries/stylesheets loaded\");\n",
       "        run_callbacks()\n",
       "      }\n",
       "    }\n",
       "\n",
       "    function on_error(url) {\n",
       "      console.error(\"failed to load \" + url);\n",
       "    }\n",
       "\n",
       "    for (let i = 0; i < css_urls.length; i++) {\n",
       "      const url = css_urls[i];\n",
       "      const element = document.createElement(\"link\");\n",
       "      element.onload = on_load;\n",
       "      element.onerror = on_error.bind(null, url);\n",
       "      element.rel = \"stylesheet\";\n",
       "      element.type = \"text/css\";\n",
       "      element.href = url;\n",
       "      console.debug(\"Bokeh: injecting link tag for BokehJS stylesheet: \", url);\n",
       "      document.body.appendChild(element);\n",
       "    }\n",
       "\n",
       "    for (let i = 0; i < js_urls.length; i++) {\n",
       "      const url = js_urls[i];\n",
       "      const element = document.createElement('script');\n",
       "      element.onload = on_load;\n",
       "      element.onerror = on_error.bind(null, url);\n",
       "      element.async = false;\n",
       "      element.src = url;\n",
       "      console.debug(\"Bokeh: injecting script tag for BokehJS library: \", url);\n",
       "      document.head.appendChild(element);\n",
       "    }\n",
       "  };\n",
       "\n",
       "  function inject_raw_css(css) {\n",
       "    const element = document.createElement(\"style\");\n",
       "    element.appendChild(document.createTextNode(css));\n",
       "    document.body.appendChild(element);\n",
       "  }\n",
       "\n",
       "  const js_urls = [\"https://cdn.bokeh.org/bokeh/release/bokeh-2.4.3.min.js\", \"https://cdn.bokeh.org/bokeh/release/bokeh-gl-2.4.3.min.js\", \"https://cdn.bokeh.org/bokeh/release/bokeh-widgets-2.4.3.min.js\", \"https://cdn.bokeh.org/bokeh/release/bokeh-tables-2.4.3.min.js\", \"https://cdn.bokeh.org/bokeh/release/bokeh-mathjax-2.4.3.min.js\"];\n",
       "  const css_urls = [];\n",
       "\n",
       "  const inline_js = [    function(Bokeh) {\n",
       "      Bokeh.set_log_level(\"info\");\n",
       "    },\n",
       "function(Bokeh) {\n",
       "    }\n",
       "  ];\n",
       "\n",
       "  function run_inline_js() {\n",
       "    if (root.Bokeh !== undefined || force === true) {\n",
       "          for (let i = 0; i < inline_js.length; i++) {\n",
       "      inline_js[i].call(root, root.Bokeh);\n",
       "    }\n",
       "if (force === true) {\n",
       "        display_loaded();\n",
       "      }} else if (Date.now() < root._bokeh_timeout) {\n",
       "      setTimeout(run_inline_js, 100);\n",
       "    } else if (!root._bokeh_failed_load) {\n",
       "      console.log(\"Bokeh: BokehJS failed to load within specified timeout.\");\n",
       "      root._bokeh_failed_load = true;\n",
       "    } else if (force !== true) {\n",
       "      const cell = $(document.getElementById(\"2791\")).parents('.cell').data().cell;\n",
       "      cell.output_area.append_execute_result(NB_LOAD_WARNING)\n",
       "    }\n",
       "  }\n",
       "\n",
       "  if (root._bokeh_is_loading === 0) {\n",
       "    console.debug(\"Bokeh: BokehJS loaded, going straight to plotting\");\n",
       "    run_inline_js();\n",
       "  } else {\n",
       "    load_libs(css_urls, js_urls, function() {\n",
       "      console.debug(\"Bokeh: BokehJS plotting callback run at\", now());\n",
       "      run_inline_js();\n",
       "    });\n",
       "  }\n",
       "}(window));"
      ],
      "application/vnd.bokehjs_load.v0+json": "(function(root) {\n  function now() {\n    return new Date();\n  }\n\n  const force = true;\n\n  if (typeof root._bokeh_onload_callbacks === \"undefined\" || force === true) {\n    root._bokeh_onload_callbacks = [];\n    root._bokeh_is_loading = undefined;\n  }\n\n\n  if (typeof (root._bokeh_timeout) === \"undefined\" || force === true) {\n    root._bokeh_timeout = Date.now() + 5000;\n    root._bokeh_failed_load = false;\n  }\n\n  const NB_LOAD_WARNING = {'data': {'text/html':\n     \"<div style='background-color: #fdd'>\\n\"+\n     \"<p>\\n\"+\n     \"BokehJS does not appear to have successfully loaded. If loading BokehJS from CDN, this \\n\"+\n     \"may be due to a slow or bad network connection. Possible fixes:\\n\"+\n     \"</p>\\n\"+\n     \"<ul>\\n\"+\n     \"<li>re-rerun `output_notebook()` to attempt to load from CDN again, or</li>\\n\"+\n     \"<li>use INLINE resources instead, as so:</li>\\n\"+\n     \"</ul>\\n\"+\n     \"<code>\\n\"+\n     \"from bokeh.resources import INLINE\\n\"+\n     \"output_notebook(resources=INLINE)\\n\"+\n     \"</code>\\n\"+\n     \"</div>\"}};\n\n  function display_loaded() {\n    const el = document.getElementById(\"2791\");\n    if (el != null) {\n      el.textContent = \"BokehJS is loading...\";\n    }\n    if (root.Bokeh !== undefined) {\n      if (el != null) {\n        el.textContent = \"BokehJS \" + root.Bokeh.version + \" successfully loaded.\";\n      }\n    } else if (Date.now() < root._bokeh_timeout) {\n      setTimeout(display_loaded, 100)\n    }\n  }\n\n  function run_callbacks() {\n    try {\n      root._bokeh_onload_callbacks.forEach(function(callback) {\n        if (callback != null)\n          callback();\n      });\n    } finally {\n      delete root._bokeh_onload_callbacks\n    }\n    console.debug(\"Bokeh: all callbacks have finished\");\n  }\n\n  function load_libs(css_urls, js_urls, callback) {\n    if (css_urls == null) css_urls = [];\n    if (js_urls == null) js_urls = [];\n\n    root._bokeh_onload_callbacks.push(callback);\n    if (root._bokeh_is_loading > 0) {\n      console.debug(\"Bokeh: BokehJS is being loaded, scheduling callback at\", now());\n      return null;\n    }\n    if (js_urls == null || js_urls.length === 0) {\n      run_callbacks();\n      return null;\n    }\n    console.debug(\"Bokeh: BokehJS not loaded, scheduling load and callback at\", now());\n    root._bokeh_is_loading = css_urls.length + js_urls.length;\n\n    function on_load() {\n      root._bokeh_is_loading--;\n      if (root._bokeh_is_loading === 0) {\n        console.debug(\"Bokeh: all BokehJS libraries/stylesheets loaded\");\n        run_callbacks()\n      }\n    }\n\n    function on_error(url) {\n      console.error(\"failed to load \" + url);\n    }\n\n    for (let i = 0; i < css_urls.length; i++) {\n      const url = css_urls[i];\n      const element = document.createElement(\"link\");\n      element.onload = on_load;\n      element.onerror = on_error.bind(null, url);\n      element.rel = \"stylesheet\";\n      element.type = \"text/css\";\n      element.href = url;\n      console.debug(\"Bokeh: injecting link tag for BokehJS stylesheet: \", url);\n      document.body.appendChild(element);\n    }\n\n    for (let i = 0; i < js_urls.length; i++) {\n      const url = js_urls[i];\n      const element = document.createElement('script');\n      element.onload = on_load;\n      element.onerror = on_error.bind(null, url);\n      element.async = false;\n      element.src = url;\n      console.debug(\"Bokeh: injecting script tag for BokehJS library: \", url);\n      document.head.appendChild(element);\n    }\n  };\n\n  function inject_raw_css(css) {\n    const element = document.createElement(\"style\");\n    element.appendChild(document.createTextNode(css));\n    document.body.appendChild(element);\n  }\n\n  const js_urls = [\"https://cdn.bokeh.org/bokeh/release/bokeh-2.4.3.min.js\", \"https://cdn.bokeh.org/bokeh/release/bokeh-gl-2.4.3.min.js\", \"https://cdn.bokeh.org/bokeh/release/bokeh-widgets-2.4.3.min.js\", \"https://cdn.bokeh.org/bokeh/release/bokeh-tables-2.4.3.min.js\", \"https://cdn.bokeh.org/bokeh/release/bokeh-mathjax-2.4.3.min.js\"];\n  const css_urls = [];\n\n  const inline_js = [    function(Bokeh) {\n      Bokeh.set_log_level(\"info\");\n    },\nfunction(Bokeh) {\n    }\n  ];\n\n  function run_inline_js() {\n    if (root.Bokeh !== undefined || force === true) {\n          for (let i = 0; i < inline_js.length; i++) {\n      inline_js[i].call(root, root.Bokeh);\n    }\nif (force === true) {\n        display_loaded();\n      }} else if (Date.now() < root._bokeh_timeout) {\n      setTimeout(run_inline_js, 100);\n    } else if (!root._bokeh_failed_load) {\n      console.log(\"Bokeh: BokehJS failed to load within specified timeout.\");\n      root._bokeh_failed_load = true;\n    } else if (force !== true) {\n      const cell = $(document.getElementById(\"2791\")).parents('.cell').data().cell;\n      cell.output_area.append_execute_result(NB_LOAD_WARNING)\n    }\n  }\n\n  if (root._bokeh_is_loading === 0) {\n    console.debug(\"Bokeh: BokehJS loaded, going straight to plotting\");\n    run_inline_js();\n  } else {\n    load_libs(css_urls, js_urls, function() {\n      console.debug(\"Bokeh: BokehJS plotting callback run at\", now());\n      run_inline_js();\n    });\n  }\n}(window));"
     },
     "metadata": {},
     "output_type": "display_data"
    },
    {
     "data": {
      "text/html": [
       "\n",
       "  <div class=\"bk-root\" id=\"cc58c9ba-d197-455e-800c-d76acb20d13c\" data-root-id=\"2792\"></div>\n"
      ]
     },
     "metadata": {},
     "output_type": "display_data"
    },
    {
     "data": {
      "application/javascript": [
       "(function(root) {\n",
       "  function embed_document(root) {\n",
       "  const docs_json = {\"0bc93b30-c34a-4373-b3a9-dc1fdf81dd2b\":{\"defs\":[],\"roots\":{\"references\":[{\"attributes\":{\"below\":[{\"id\":\"2801\"}],\"center\":[{\"id\":\"2804\"},{\"id\":\"2808\"},{\"id\":\"2840\"}],\"height\":450,\"left\":[{\"id\":\"2805\"}],\"renderers\":[{\"id\":\"2827\"},{\"id\":\"2846\"},{\"id\":\"2865\"},{\"id\":\"2887\"},{\"id\":\"2910\"},{\"id\":\"2936\"},{\"id\":\"2964\"},{\"id\":\"2994\"},{\"id\":\"3026\"},{\"id\":\"3060\"}],\"title\":{\"id\":\"2829\"},\"toolbar\":{\"id\":\"2816\"},\"width\":900,\"x_range\":{\"id\":\"2793\"},\"x_scale\":{\"id\":\"2797\"},\"y_range\":{\"id\":\"2795\"},\"y_scale\":{\"id\":\"2799\"}},\"id\":\"2792\",\"subtype\":\"Figure\",\"type\":\"Plot\"},{\"attributes\":{},\"id\":\"2814\",\"type\":\"HelpTool\"},{\"attributes\":{},\"id\":\"2957\",\"type\":\"Selection\"},{\"attributes\":{},\"id\":\"2835\",\"type\":\"BasicTickFormatter\"},{\"attributes\":{\"label\":{\"value\":\"p mpc 1\"},\"renderers\":[{\"id\":\"2936\"}]},\"id\":\"2959\",\"type\":\"LegendItem\"},{\"attributes\":{},\"id\":\"3089\",\"type\":\"Selection\"},{\"attributes\":{\"data\":{\"x\":{\"__ndarray__\":\"AAAAAAAAAAAAAAAAAAAAAG7wmYZUFHdAAAAAAAAAAAAAAAAAAAAAAAAAAAAAAAAAaaehPYkch8BGmluOlRuUwAAAAAAAAAAAAAAAAAAAAACbO9PblgqUwAAAAAAAAAAAjpny9Uq0hcDWEKK4qVV2wAAAAAAAAAAA0EVZqi/OW8AAAAAAAAAAAAAAAAAAAAAAkDcORKuPN8Dim3fY5uCEwAAAAAAAAAAAAAAAAAAAAAAzsfaFkEqNwIkdY1MVAJfAAAAAAAAAAABnQE5/Zf1swAAAAAAAAAAA0k8CEkWMeUAAAAAAAAAAAAAAAAAAAAAAunBuAF4tdUAAAAAAAAAAADhRvcDD44FAAAAAAAAAAAC6v9nL/p6QQAAAAAAAAAAAW4StZ9KreEAAAAAAAAAAAFyOiToNqInAAAAAAAAAAABQmewbsTeNwAAAAAAAAAAAhHW3DOzflMAAAAAAAAAAAPDi4SmyUpTAAAAAAAAAAAAoT7FQu4WTwAAAAAAAAAAAZDtac3rdmMAAAAAAAAAAAI7OeCbtxJnAAAAAAAAAAABeCXMg0IijwAAAAAAAAAAAMj6O+GmjpcAAAAAAAAAAADATlxAdca3AAAAAAAAAAAAGX9dGBrawwAAAAAAAAAAA4pjJfgT2s8AAAAAAAAAAAPTqNKH28rPAAAAAAAAAAABeE9sufJK3wAAAAAAAAAAATD0kYe0+u8AAAAAAAAAAADh/jFqUNbjAAAAAAAAAAACXC5glY/+2wAAAAAAAAAAAmyL9QwFZuMAAAAAAAAAAAC/URs2pWLjALlOiAETntsAAAAAAAAAAAPE++55ENbfAAAAAAAAAAAD0p03GkymywAAAAAAAAAAA7yTIay9tpMAAAAAAAAAAABfDnZHI26nAAAAAAAAAAAC//c5BHUmjwAAAAAAAAAAAo0bQxAWnn8AAAAAAAAAAAGz3CNNFxZzAAAAAAAAAAAC4T2JZgzSXwAAAAAAAAAAAuhxCHCn4hcAAAAAAAAAAAP0tZi1lxGXAAAAAAAAAAABOIOzmSLFjQAAAAAAAAAAAYFjoRchpdEAAAAAAAAAAAGex3ZLvt4dAAAAAAAAAAACAMIOWzAmDQAAAAAAAAAAA9d4YjEollEB+9YRZQuWgQAAAAAAAAAAArhExSAJFpEAAAAAAAAAAAKcqVCw7b6JAAAAAAAAAAAAAAAAAAAAAAOR0FQAWhaNAn6XQaO/EqUAAAAAAAAAAAJS23xeqn6hAAAAAAAAAAAAMb8ANIyGnQAAAAAAAAAAACnS9aa8YqkAAAAAAAAAAAEf6H/ZRYqhAAAAAAAAAAADQcpa7zLerQAAAAAAAAAAAAAAAAAAAAAAAAAAAAAAAAAAAAAAAAAAAAAAAAAAAAADsX52PZjqjQAAAAAAAAAAApR5Q9rwjpEAAAAAAAAAAAGYThgHD1aJAAAAAAAAAAAD2aQyPDnGiQAAAAAAAAAAAn1fMaO0CokAAAAAAAAAAAErTHqZscaFAAAAAAAAAAAA0yETNxuCkQAAAAAAAAAAAUXFXrISSq0A=\",\"dtype\":\"float64\",\"order\":\"little\",\"shape\":[145]},\"y\":{\"__ndarray__\":\"AAAAAAAAAAAAAAAAAAAAADRLmkIyGoJAAAAAAAAAAAAAAAAAAAAAAAAAAAAAAAAA7GZpiIwNhEDeC3gaWLCWQAAAAAAAAAAAAAAAAAAAAACIZUxPIVqlQAAAAAAAAAAAPCLB2kZxnkBfwkRyYPmhQAAAAAAAAAAAAS7eA6VyoUAAAAAAAAAAAAAAAAAAAAAAIwoGlMLqmkBz5GdotfSaQAAAAAAAAAAAAAAAAAAAAABlOo6HbHqaQE8MkOHG5ppAAAAAAAAAAADaJFFXJsqkQAAAAAAAAAAAiBVgf7VUpEAAAAAAAAAAAAAAAAAAAAAAKddOS1M0pEAAAAAAAAAAADoLEtM9LqRAAAAAAAAAAABg9wXyrG2gQAAAAAAAAAAAERx24jIyn0AAAAAAAAAAALMhlS1REJdAAAAAAAAAAADtwpFMWfmiQAAAAAAAAAAAvF4U9pfcokAAAAAAAAAAAAnx9E0ZhaZAAAAAAAAAAACRXK3Sqp6nQAAAAAAAAAAAy8DZEInKrkAAAAAAAAAAACTMT6AKB6lAAAAAAAAAAABHBf+UwqqnQAAAAAAAAAAAGrpCRzLWqkAAAAAAAAAAABCytDtJ/qhAAAAAAAAAAABB5FNRLJ6nQAAAAAAAAAAAYI+M6i8sp0AAAAAAAAAAAOuhvjmVQqdAAAAAAAAAAAAaonH5dKqmQAAAAAAAAAAAApVoTHIzqUAAAAAAAAAAAC6ULzyMvKhAAAAAAAAAAABm6lDMozWoQAAAAAAAAAAALiiQbn+7qEAAAAAAAAAAAD4H7rzZ5KhApSdvflUjqEAAAAAAAAAAAFPPqieUqKZAAAAAAAAAAABSZoV0Md2mQAAAAAAAAAAAu9oVzukVqUAAAAAAAAAAAFglbuvfAKhAAAAAAAAAAAAo5ND94AWpQAAAAAAAAAAABlLju92YqUAAAAAAAAAAAAY9fteRNaVAAAAAAAAAAABK6VpfqWemQAAAAAAAAAAAZe2yLo2Jp0AAAAAAAAAAAMOwQqNlqahAAAAAAAAAAAD2Yk2MOi+pQAAAAAAAAAAAooI7yBOVqUAAAAAAAAAAAHhxfZyL16pAAAAAAAAAAADcGGBH4PKnQAAAAAAAAAAASDIr4oyQpEBf3SwAP0yiQAAAAAAAAAAAT4cAnWKbhEAAAAAAAAAAANh+x5Jm03bAAAAAAAAAAAAAAAAAAAAAAHri5kb9tXVAmutLlARib0AAAAAAAAAAAFT+22KkHXJAAAAAAAAAAADf0Z2oAdJ+QAAAAAAAAAAAPKgnYbCpZEAAAAAAAAAAAMHXg5DEpnhAAAAAAAAAAAClxmVCT/eCQAAAAAAAAAAAAAAAAAAAAAAAAAAAAAAAAAAAAAAAAAAAAAAAAAAAAADx5mADA4CBQAAAAAAAAAAATY/IGsWlj0AAAAAAAAAAAB9mi49T85NAAAAAAAAAAAASNXtb89KUQAAAAAAAAAAA+rYNiknViEAAAAAAAAAAAN7VjJWPEpBAAAAAAAAAAAAFNjOoCf58QAAAAAAAAAAA2FhbcdwzgEA=\",\"dtype\":\"float64\",\"order\":\"little\",\"shape\":[145]}},\"selected\":{\"id\":\"3089\"},\"selection_policy\":{\"id\":\"3088\"}},\"id\":\"3056\",\"type\":\"ColumnDataSource\"},{\"attributes\":{\"data\":{\"x\":{\"__ndarray__\":\"AAAAAAAAAAAAAAAAAAAAAOps0T5ARFPAAAAAAAAAAAAAAAAAAAAAAAAAAAAAAAAAJNn+Y3M+iMATHnJ7eXqOwAAAAAAAAAAAAAAAAAAAAABA3R/EVvWNwAAAAAAAAAAAQKA7M3GChcDjMAmvlPV1wAAAAAAAAAAAT0BLu8yRW8AAAAAAAAAAAAAAAAAAAAAAuD+d0ADmN8ALebu4KPmDwAAAAAAAAAAAAAAAAAAAAAAiemj+jZWNwC869oXKKJfAAAAAAAAAAACwjWqnmG1DwAAAAAAAAAAAQCwP3XYKekAAAAAAAAAAAAAAAAAAAAAACrok5NYidUAAAAAAAAAAAIweuasM4oFAAAAAAAAAAAAMzHWZS6WQQAAAAAAAAAAAnOVsT689d0AAAAAAAAAAAG7LHkwTFpHAAAAAAAAAAABSt+Bc/0WMwAAAAAAAAAAAy+3b40W6lMAAAAAAAAAAABqWTn+FZ5TAAAAAAAAAAAApO+PZXq2TwAAAAAAAAAAAIpnccH0qncAAAAAAAAAAAHr2R7yTp5rAAAAAAAAAAAC29MoJ2KCjwAAAAAAAAAAA7B3O+TcapsAAAAAAAAAAAFYas/5dea3AAAAAAAAAAAA3i+MXg7awwAAAAAAAAAAAS0A2lk33s8AAAAAAAAAAAM5sQqYi87PAAAAAAAAAAABvYHTsfZK3wAAAAAAAAAAAfz+08TVBu8AAAAAAAAAAAIN0U1O0NrjAAAAAAAAAAAB869a+Zf+2wAAAAAAAAAAAITUJ02FeuMAAAAAAAAAAAIBDqqItYbjATPxA/JHntsAAAAAAAAAAAEKrHrYDL7fAAAAAAAAAAAC5ELJmBBqywAAAAAAAAAAAAKSZ9TJ7pMAAAAAAAAAAAMKXSRpb3qnAAAAAAAAAAABsQ6gEaU2jwAAAAAAAAAAA54RiyNqin8AAAAAAAAAAADKziUeqgJzAAAAAAAAAAAAcPQ2YkhyXwAAAAAAAAAAA72WhFe/2hcAAAAAAAAAAAIDzt49UmmXAAAAAAAAAAAAvUohgu0FkQAAAAAAAAAAAE9WIvpsldUAAAAAAAAAAAIgEBhdgGIlAAAAAAAAAAAAcaB8aMf+DQAAAAAAAAAAAn3yGxPgklEDU0x2HmdqgQAAAAAAAAAAA/II4PvDDpEAAAAAAAAAAAGtn7pFkUqNAAAAAAAAAAAAAAAAAAAAAAPzlQN2xmqNAauzkn8qsqUAAAAAAAAAAAOctZYe6lahAAAAAAAAAAABTnoEdfxmnQAAAAAAAAAAAHzEeYNulqUAAAAAAAAAAAM5oTNOw+6dAAAAAAAAAAACNq1Jvuc+pQAAAAAAAAAAAAAAAAAAAAAAAAAAAAAAAAAAAAAAAAAAAAAAAAAAAAADC55gOfYKnQAAAAAAAAAAAPYDMN6ItpkAAAAAAAAAAAOUsol980aFAAAAAAAAAAABgVBkQ1HagQAAAAAAAAAAAbgKhat/nokAAAAAAAAAAAKlW5wARtqFAAAAAAAAAAABuNPotnWWkQAAAAAAAAAAAu9ipwbwyokAAAAAAAAAAACkvEIQHAaxAAAAAAAAAAABH5gSqAwWoQAAAAAAAAAAA9XIto3nAp0AAAAAAAAAAACYVyqujKKdAAAAAAAAAAADSJuc/qRKnQAAAAAAAAAAABI0318UJqEAAAAAAAAAAAA==\",\"dtype\":\"float64\",\"order\":\"little\",\"shape\":[158]},\"y\":{\"__ndarray__\":\"AAAAAAAAAAAAAAAAAAAAAEP7o2I7F4tAAAAAAAAAAAAAAAAAAAAAAAAAAAAAAAAA/MhdbbgDh0AMs3Xvek2cQAAAAAAAAAAAAAAAAAAAAACuWrlpIEymQAAAAAAAAAAAaJ/ABcd4nkBq/4l5cvWhQAAAAAAAAAAAJVqfpxZxoUAAAAAAAAAAAAAAAAAAAAAA+TQqzacxm0BYgar/LBScQAAAAAAAAAAAAAAAAAAAAAB7UVcfyaqbQLRDY+Dps59AAAAAAAAAAABu/JNl0d6jQAAAAAAAAAAA1mJ/bk07pEAAAAAAAAAAAAAAAAAAAAAATB1kWko2pEAAAAAAAAAAAJIeV+ctL6RAAAAAAAAAAABFSdbUzJmgQAAAAAAAAAAAptmkfsFZnkAAAAAAAAAAAAiDuMS2WJtAAAAAAAAAAACXHpiCCNyjQAAAAAAAAAAAjtFMlo+go0AAAAAAAAAAALg2/95cdqZAAAAAAAAAAAD+dalsso2nQAAAAAAAAAAAeqZipAF2rUAAAAAAAAAAAGwObiOSm6hAAAAAAAAAAADN9MnWBmSnQAAAAAAAAAAANI6koVkdqkAAAAAAAAAAAJf1s+ip06hAAAAAAAAAAAD61E5YJtmnQAAAAAAAAAAAMjueGRxap0AAAAAAAAAAAFaoLxjtRqdAAAAAAAAAAAAupYU1lKqmQAAAAAAAAAAAkdpPEfBEqEAAAAAAAAAAAFKg2yzgg6hAAAAAAAAAAAA3wHCX0yOoQAAAAAAAAAAAE9DpgI44qEAAAAAAAAAAAGsK4lgBXqhATsRdvAQaqEAAAAAAAAAAAISRAmZ1XKZAAAAAAAAAAAA1q8aWyUenQAAAAAAAAAAAoch3PsV3qUAAAAAAAAAAABaUle7vIahAAAAAAAAAAACwK2eLziSpQAAAAAAAAAAAgSn6YfqIqUAAAAAAAAAAALmsA9YwKKZAAAAAAAAAAADWGApejMymQAAAAAAAAAAAVOtD0H2ap0AAAAAAAAAAAFln8hPyf6hAAAAAAAAAAACns8K7XdaoQAAAAAAAAAAAOCNSwyP8qEAAAAAAAAAAAAo51E6yxahAAAAAAAAAAACsWRbT4nSmQAAAAAAAAAAAPz2R4UJ7pEA3wgOQNhSiQAAAAAAAAAAA8CmvzJukhkAAAAAAAAAAANqDuH1X8nLAAAAAAAAAAAAAAAAAAAAAAE0yJNvjKHZAeorfJ17fbUAAAAAAAAAAAP0MpWWi0HFAAAAAAAAAAAAerdWPwJR+QAAAAAAAAAAAoEqz3QShWkAAAAAAAAAAAPEt1nl/G3VAAAAAAAAAAABwUECwSDpWQAAAAAAAAAAAAAAAAAAAAAAAAAAAAAAAAAAAAAAAAAAAAAAAAAAAAACEL7bFlpR9QAAAAAAAAAAA2vEvc1ZokEAAAAAAAAAAAKFffQC9gpJAAAAAAAAAAABuAYngJjqRQAAAAAAAAAAAWMIoP0B/jkAAAAAAAAAAAAqufNF1vJBAAAAAAAAAAACCAJ099diGQAAAAAAAAAAAkOqleXrNQkAAAAAAAAAAAN2L37AWOn1AAAAAAAAAAACua3fTg5d+QAAAAAAAAAAAUh6HCkX3ekAAAAAAAAAAAJ6KLMNCtX5AAAAAAAAAAADP9xI3prB/QAAAAAAAAAAAkBhdpeaSaEAAAAAAAAAAAA==\",\"dtype\":\"float64\",\"order\":\"little\",\"shape\":[158]}},\"selected\":{\"id\":\"2987\"},\"selection_policy\":{\"id\":\"2986\"}},\"id\":\"2960\",\"type\":\"ColumnDataSource\"},{\"attributes\":{\"coordinates\":null,\"data_source\":{\"id\":\"3056\"},\"glyph\":{\"id\":\"3057\"},\"group\":null,\"hover_glyph\":null,\"muted_glyph\":{\"id\":\"3059\"},\"nonselection_glyph\":{\"id\":\"3058\"},\"view\":{\"id\":\"3061\"}},\"id\":\"3060\",\"type\":\"GlyphRenderer\"},{\"attributes\":{\"fill_alpha\":{\"value\":0.1},\"fill_color\":{\"value\":\"navy\"},\"hatch_alpha\":{\"value\":0.1},\"hatch_color\":{\"value\":\"navy\"},\"line_alpha\":{\"value\":0.1},\"line_color\":{\"value\":\"navy\"},\"x\":{\"field\":\"x\"},\"y\":{\"field\":\"y\"}},\"id\":\"2844\",\"type\":\"Circle\"},{\"attributes\":{},\"id\":\"2793\",\"type\":\"DataRange1d\"},{\"attributes\":{},\"id\":\"3088\",\"type\":\"UnionRenderers\"},{\"attributes\":{},\"id\":\"2836\",\"type\":\"AllLabels\"},{\"attributes\":{},\"id\":\"2837\",\"type\":\"UnionRenderers\"},{\"attributes\":{\"coordinates\":null,\"group\":null,\"items\":[{\"id\":\"2841\"},{\"id\":\"2882\"},{\"id\":\"2931\"},{\"id\":\"2959\"},{\"id\":\"2989\"},{\"id\":\"3021\"},{\"id\":\"3055\"},{\"id\":\"3091\"}]},\"id\":\"2840\",\"type\":\"Legend\"},{\"attributes\":{\"label\":{\"value\":\"p\"},\"renderers\":[{\"id\":\"2827\"},{\"id\":\"2846\"}]},\"id\":\"2841\",\"type\":\"LegendItem\"},{\"attributes\":{\"line_alpha\":0.1,\"line_color\":\"navy\",\"x\":{\"field\":\"x\"},\"y\":{\"field\":\"y\"}},\"id\":\"2825\",\"type\":\"Line\"},{\"attributes\":{},\"id\":\"2858\",\"type\":\"UnionRenderers\"},{\"attributes\":{\"axis\":{\"id\":\"2801\"},\"coordinates\":null,\"group\":null,\"ticker\":null},\"id\":\"2804\",\"type\":\"Grid\"},{\"attributes\":{\"source\":{\"id\":\"3056\"}},\"id\":\"3061\",\"type\":\"CDSView\"},{\"attributes\":{},\"id\":\"2880\",\"type\":\"Selection\"},{\"attributes\":{\"fill_color\":{\"value\":\"rgb(163, 193, 203)\"},\"hatch_color\":{\"value\":\"rgb(163, 193, 203)\"},\"line_color\":{\"value\":\"rgb(163, 193, 203)\"},\"x\":{\"field\":\"x\"},\"y\":{\"field\":\"y\"}},\"id\":\"3057\",\"type\":\"Circle\"},{\"attributes\":{\"line_alpha\":0.1,\"line_color\":\"navy\",\"x\":{\"field\":\"x\"},\"y\":{\"field\":\"y\"}},\"id\":\"2863\",\"type\":\"Line\"},{\"attributes\":{\"fill_alpha\":{\"value\":0.1},\"fill_color\":{\"value\":\"rgb(163, 193, 203)\"},\"hatch_alpha\":{\"value\":0.1},\"hatch_color\":{\"value\":\"rgb(163, 193, 203)\"},\"line_alpha\":{\"value\":0.1},\"line_color\":{\"value\":\"rgb(163, 193, 203)\"},\"x\":{\"field\":\"x\"},\"y\":{\"field\":\"y\"}},\"id\":\"3058\",\"type\":\"Circle\"},{\"attributes\":{\"coordinates\":null,\"data_source\":{\"id\":\"2960\"},\"glyph\":{\"id\":\"2961\"},\"group\":null,\"hover_glyph\":null,\"muted_glyph\":{\"id\":\"2963\"},\"nonselection_glyph\":{\"id\":\"2962\"},\"view\":{\"id\":\"2965\"}},\"id\":\"2964\",\"type\":\"GlyphRenderer\"},{\"attributes\":{},\"id\":\"2859\",\"type\":\"Selection\"},{\"attributes\":{\"label\":{\"value\":\"p mpc 15\"},\"renderers\":[{\"id\":\"3060\"}]},\"id\":\"3091\",\"type\":\"LegendItem\"},{\"attributes\":{},\"id\":\"2986\",\"type\":\"UnionRenderers\"},{\"attributes\":{\"coordinates\":null,\"data_source\":{\"id\":\"2842\"},\"glyph\":{\"id\":\"2843\"},\"group\":null,\"hover_glyph\":null,\"muted_glyph\":{\"id\":\"2845\"},\"nonselection_glyph\":{\"id\":\"2844\"},\"view\":{\"id\":\"2847\"}},\"id\":\"2846\",\"type\":\"GlyphRenderer\"},{\"attributes\":{\"data\":{\"x\":[0.0,0.0,-19.388640847140834,-19.388640847140834,-19.388640847140834,-19.388640847140834,-228.54322896675515,-342.8038151435875,-342.8038151435875,-342.8038151435875,-418.0491568279007,-418.0491568279007,-462.0418094080207,-451.1683368275512,-451.1683368275512,-416.0292550321749,-416.0292550321749,-416.0292550321749,-385.86054253062895,-397.85345331131606,-397.85345331131606,-397.85345331131606,-427.6918871605332,-449.76591264425775,-449.76591264425775,-443.7707803212761,-443.7707803212761,-420.5063130254058,-420.5063130254058,-420.5063130254058,-409.0522108771074,-409.0522108771074,-380.9198015308053,-380.9198015308053,-327.03567559841656,-327.03567559841656,-279.9764976700327,-251.0044208126004,-268.04737382418875,-268.04737382418875,-262.2281585726325,-262.2281585726325,-283.72388519470076,-276.42362689826984,-337.58348344341687,-349.54975494190796,-407.6536058022217,-407.6536058022217,-481.83371456433764,-480.1225762948261,-551.9575868425003,-551.9575868425003,-655.1492670301061,-652.4756294633116,-777.3079670856389,-806.2707367027919,-971.3641753818731,-1032.3138851820718,-1226.9189049427587,-1226.9189049427587,-1555.131953403546,-1555.131953403546,-1917.4128878839645,-1917.4128878839645,-2320.4590521068117,-2320.4590521068117,-2713.3910971185237,-2713.3910971185237,-3074.1320450258654,-3074.1320450258654,-3419.898655117693,-3419.898655117693,-3740.8184777838133,-3740.8184777838133,-4049.1128813119285,-4159.601261909766,-4355.50084484731,-4426.66455879009,-4637.961364446096,-4646.867578326583,-4852.815567914358,-4800.881804829508,-4969.343829920355,-4884.301396070888,-5041.590776222399,-4905.942339154301,-5014.160340638655,-4856.988583130729,-4917.361876566619,-4755.34402143314,-4754.844403072974,-4564.106846796352,-4529.7714653792855,-4312.957904844556,-4225.931740108348,-3985.488246526016,-3862.191102197357,-3624.7136345208114,-3471.8436811824286,-3249.3471599360428,-3078.0875408538313,-2871.1704843550565,-2674.699295869964,-2489.579464153322,-2267.66892656373,-1796.7597434008283,-1566.8362084839957,-1305.0172711874761,-1098.3219345396053,-852.8460110733207,-671.9182913279978,-448.5878201794141,-448.5878201794141,-44.381569138368256,142.52583082006782,343.44193841692817,495.8638370606803,695.5489075655152,826.0192004608571,1036.092226786978,1145.0033734616795,1334.87316520226,1425.1656766331787,1590.8936881969644,1665.2399968603104,1801.5117195037337,1801.5117195037337,1934.6591008520452,1934.6591008520452,2076.7020579360687,2125.080612708555,2270.657170368708,2305.9370920958927,2461.2231752112457,2483.206115443769,2578.321141511274,2646.7529571568657,2646.7529571568657,2705.7435505309845,2705.7435505309845,2761.936921464582,2761.936921464582,2763.006952781473,2786.743727819524,2774.879492456458,2774.879492456458,2777.9990559120856,2777.9990559120856,2780.5764089670283,2780.5764089670283,2783.5602176872753,2783.5602176872753,2786.543911628624,2786.543911628624,2789.66310014908,2789.66310014908,2791.7115750397534,2791.7115750397534,2794.0155880214224,2796.8026972816215],\"y\":[0.0,0.0,218.0987513634725,218.0987513634725,218.0987513634725,218.0987513634725,389.2194617125005,603.2536513857667,603.2536513857667,603.2536513857667,826.2398507771592,826.2398507771592,1008.1943856547988,1178.9090977675016,1178.9090977675016,1301.6721005743468,1301.6721005743468,1301.6721005743468,1349.1811746001683,1384.4150591843622,1384.4150591843622,1384.4150591843622,1418.4911712458133,1458.7268355326617,1458.7268355326617,1516.8475348556788,1516.8475348556788,1570.3909002719197,1570.3909002719197,1570.3909002719197,1746.6302576680105,1746.6302576680105,1892.9022861366325,1892.9022861366325,1910.6659709748262,1910.6659709748262,2002.343611129413,2056.4141390382592,2056.7288036526465,2056.7288036526465,2102.7530164935374,2102.7530164935374,2137.014755782848,2132.2874261642146,2176.9030716770067,2178.0380682094883,2231.5170949555372,2231.5170949555372,2322.4629048010634,2366.8159679695605,2412.375252888248,2412.375252888248,2490.6064306549333,2532.69837979543,2578.01804144415,2603.998192495026,2636.6648782564794,2663.1084659402954,2688.4502613274235,2688.4502613274235,2723.7633568726087,2723.7633568726087,2756.868787795254,2756.868787795254,2809.4209147244896,2809.4209147244896,2878.595621112409,2878.595621112409,2950.5850360714994,2950.5850360714994,2996.3010320473627,2996.3010320473627,3040.7566532118913,3040.7566532118913,3060.6443385160824,3062.1226645034258,3067.5826108436395,3060.4971531517253,3058.300902395865,3054.2650877761944,3054.5357441779493,3053.2766413491063,3061.3137535483393,3061.0758486237282,3050.9813515635606,3057.4756829666867,3055.0408299033443,3064.7423828332635,3066.176181905667,3052.3558213112474,3056.0430469504604,3047.494308347565,3051.954771228914,3050.175612356902,3057.0113556708247,3061.780081236397,3056.2823479489466,3063.940282407119,3058.8046123915647,3067.5535821509684,3065.771302254763,3074.9174710085913,3073.330137952458,3063.482167198196,3061.058485783478,3030.5901355704646,2989.990150678378,2992.375141538736,2886.598992104152,2879.457067012353,2721.427658104756,2700.563495383976,2700.563495383976,2525.0939037551707,2404.2131656383003,2354.167999746615,2248.683723476651,2184.5782599229574,2089.693360973319,2039.336224211876,1952.904530904513,1888.480617677872,1811.199938899014,1730.3807195405,1662.981302958946,1564.9593255082104,1564.9593255082104,1449.684327381675,1449.684327381675,1315.1378811385714,1266.580348099631,1116.9242208522169,1082.7628986093175,941.7629211266296,919.7168266809973,788.3664055704297,653.4024519768216,653.4024519768216,601.7656194732078,601.7656194732078,623.041209470696,623.041209470696,623.4440226830046,638.6733013261214,640.9743885570648,640.9743885570648,637.474938276059,637.474938276059,633.6337897748491,633.6337897748491,630.646561588755,630.646561588755,628.0008468755443,628.0008468755443,625.6113136872323,625.6113136872323,624.9594732994649,624.9594732994649,624.6907039379538,624.5251653976914]},\"selected\":{\"id\":\"2880\"},\"selection_policy\":{\"id\":\"2879\"}},\"id\":\"2861\",\"type\":\"ColumnDataSource\"},{\"attributes\":{\"fill_alpha\":{\"value\":0.2},\"fill_color\":{\"value\":\"rgb(163, 193, 203)\"},\"hatch_alpha\":{\"value\":0.2},\"hatch_color\":{\"value\":\"rgb(163, 193, 203)\"},\"line_alpha\":{\"value\":0.2},\"line_color\":{\"value\":\"rgb(163, 193, 203)\"},\"x\":{\"field\":\"x\"},\"y\":{\"field\":\"y\"}},\"id\":\"3059\",\"type\":\"Circle\"},{\"attributes\":{\"coordinates\":null,\"data_source\":{\"id\":\"2861\"},\"glyph\":{\"id\":\"2862\"},\"group\":null,\"hover_glyph\":null,\"muted_glyph\":{\"id\":\"2864\"},\"nonselection_glyph\":{\"id\":\"2863\"},\"view\":{\"id\":\"2866\"}},\"id\":\"2865\",\"type\":\"GlyphRenderer\"},{\"attributes\":{\"bottom_units\":\"screen\",\"coordinates\":null,\"fill_alpha\":0.5,\"fill_color\":\"lightgrey\",\"group\":null,\"left_units\":\"screen\",\"level\":\"overlay\",\"line_alpha\":1.0,\"line_color\":\"black\",\"line_dash\":[4,4],\"line_width\":2,\"right_units\":\"screen\",\"syncable\":false,\"top_units\":\"screen\"},\"id\":\"2815\",\"type\":\"BoxAnnotation\"},{\"attributes\":{\"tools\":[{\"id\":\"2809\"},{\"id\":\"2810\"},{\"id\":\"2811\"},{\"id\":\"2812\"},{\"id\":\"2813\"},{\"id\":\"2814\"}]},\"id\":\"2816\",\"type\":\"Toolbar\"},{\"attributes\":{\"fill_color\":{\"value\":\"navy\"},\"hatch_color\":{\"value\":\"navy\"},\"line_color\":{\"value\":\"navy\"},\"x\":{\"field\":\"x\"},\"y\":{\"field\":\"y\"}},\"id\":\"2843\",\"type\":\"Circle\"},{\"attributes\":{},\"id\":\"2987\",\"type\":\"Selection\"},{\"attributes\":{\"source\":{\"id\":\"2842\"}},\"id\":\"2847\",\"type\":\"CDSView\"},{\"attributes\":{\"source\":{\"id\":\"2960\"}},\"id\":\"2965\",\"type\":\"CDSView\"},{\"attributes\":{\"source\":{\"id\":\"2861\"}},\"id\":\"2866\",\"type\":\"CDSView\"},{\"attributes\":{},\"id\":\"2809\",\"type\":\"PanTool\"},{\"attributes\":{},\"id\":\"2833\",\"type\":\"AllLabels\"},{\"attributes\":{\"fill_color\":{\"value\":\"rgb(182, 163, 188)\"},\"hatch_color\":{\"value\":\"rgb(182, 163, 188)\"},\"line_color\":{\"value\":\"rgb(182, 163, 188)\"},\"x\":{\"field\":\"x\"},\"y\":{\"field\":\"y\"}},\"id\":\"2961\",\"type\":\"Circle\"},{\"attributes\":{\"fill_alpha\":{\"value\":0.1},\"fill_color\":{\"value\":\"rgb(182, 163, 188)\"},\"hatch_alpha\":{\"value\":0.1},\"hatch_color\":{\"value\":\"rgb(182, 163, 188)\"},\"line_alpha\":{\"value\":0.1},\"line_color\":{\"value\":\"rgb(182, 163, 188)\"},\"x\":{\"field\":\"x\"},\"y\":{\"field\":\"y\"}},\"id\":\"2962\",\"type\":\"Circle\"},{\"attributes\":{\"axis_label\":\"x\",\"coordinates\":null,\"formatter\":{\"id\":\"2835\"},\"group\":null,\"major_label_policy\":{\"id\":\"2836\"},\"ticker\":{\"id\":\"2802\"}},\"id\":\"2801\",\"type\":\"LinearAxis\"},{\"attributes\":{\"fill_alpha\":{\"value\":0.2},\"fill_color\":{\"value\":\"navy\"},\"hatch_alpha\":{\"value\":0.2},\"hatch_color\":{\"value\":\"navy\"},\"line_alpha\":{\"value\":0.2},\"line_color\":{\"value\":\"navy\"},\"x\":{\"field\":\"x\"},\"y\":{\"field\":\"y\"}},\"id\":\"2845\",\"type\":\"Circle\"},{\"attributes\":{\"fill_alpha\":{\"value\":0.2},\"fill_color\":{\"value\":\"rgb(182, 163, 188)\"},\"hatch_alpha\":{\"value\":0.2},\"hatch_color\":{\"value\":\"rgb(182, 163, 188)\"},\"line_alpha\":{\"value\":0.2},\"line_color\":{\"value\":\"rgb(182, 163, 188)\"},\"x\":{\"field\":\"x\"},\"y\":{\"field\":\"y\"}},\"id\":\"2963\",\"type\":\"Circle\"},{\"attributes\":{\"axis_label\":\"y\",\"coordinates\":null,\"formatter\":{\"id\":\"2832\"},\"group\":null,\"major_label_policy\":{\"id\":\"2833\"},\"ticker\":{\"id\":\"2806\"}},\"id\":\"2805\",\"type\":\"LinearAxis\"},{\"attributes\":{\"label\":{\"value\":\"centr\"},\"renderers\":[{\"id\":\"2865\"},{\"id\":\"2887\"}]},\"id\":\"2882\",\"type\":\"LegendItem\"},{\"attributes\":{\"label\":{\"value\":\"p mpc 2\"},\"renderers\":[{\"id\":\"2964\"}]},\"id\":\"2989\",\"type\":\"LegendItem\"},{\"attributes\":{},\"id\":\"2879\",\"type\":\"UnionRenderers\"},{\"attributes\":{\"data\":{\"x\":[0.0,0.0,-19.388640847140834,-19.388640847140834,-19.388640847140834,-19.388640847140834,-228.54322896675515,-342.8038151435875,-342.8038151435875,-342.8038151435875,-418.0491568279007,-418.0491568279007,-462.0418094080207,-451.1683368275512,-451.1683368275512,-416.0292550321749,-416.0292550321749,-416.0292550321749,-385.86054253062895,-397.85345331131606,-397.85345331131606,-397.85345331131606,-427.6918871605332,-449.76591264425775,-449.76591264425775,-443.7707803212761,-443.7707803212761,-420.5063130254058,-420.5063130254058,-420.5063130254058,-409.0522108771074,-409.0522108771074,-380.9198015308053,-380.9198015308053,-327.03567559841656,-327.03567559841656,-279.9764976700327,-251.0044208126004,-268.04737382418875,-268.04737382418875,-262.2281585726325,-262.2281585726325,-283.72388519470076,-276.42362689826984,-337.58348344341687,-349.54975494190796,-407.6536058022217,-407.6536058022217,-481.83371456433764,-480.1225762948261,-551.9575868425003,-551.9575868425003,-655.1492670301061,-652.4756294633116,-777.3079670856389,-806.2707367027919,-971.3641753818731,-1032.3138851820718,-1226.9189049427587,-1226.9189049427587,-1555.131953403546,-1555.131953403546,-1917.4128878839645,-1917.4128878839645,-2320.4590521068117,-2320.4590521068117,-2713.3910971185237,-2713.3910971185237,-3074.1320450258654,-3074.1320450258654,-3419.898655117693,-3419.898655117693,-3740.8184777838133,-3740.8184777838133,-4049.1128813119285,-4159.601261909766,-4355.50084484731,-4426.66455879009,-4637.961364446096,-4646.867578326583,-4852.815567914358,-4800.881804829508,-4969.343829920355,-4884.301396070888,-5041.590776222399,-4905.942339154301,-5014.160340638655,-4856.988583130729,-4917.361876566619,-4755.34402143314,-4754.844403072974,-4564.106846796352,-4529.7714653792855,-4312.957904844556,-4225.931740108348,-3985.488246526016,-3862.191102197357,-3624.7136345208114,-3471.8436811824286,-3249.3471599360428,-3078.0875408538313,-2871.1704843550565,-2674.699295869964,-2489.579464153322,-2267.66892656373,-1796.7597434008283,-1566.8362084839957,-1305.0172711874761,-1098.3219345396053,-852.8460110733207,-671.9182913279978,-448.5878201794141,-448.5878201794141,-44.381569138368256,142.52583082006782,343.44193841692817,495.8638370606803,695.5489075655152,826.0192004608571,1036.092226786978,1145.0033734616795,1334.87316520226,1425.1656766331787,1590.8936881969644,1665.2399968603104,1801.5117195037337,1801.5117195037337,1934.6591008520452,1934.6591008520452,2076.7020579360687,2125.080612708555,2270.657170368708,2305.9370920958927,2461.2231752112457,2483.206115443769,2578.321141511274,2646.7529571568657,2646.7529571568657,2705.7435505309845,2705.7435505309845,2761.936921464582,2761.936921464582,2763.006952781473,2786.743727819524,2774.879492456458,2774.879492456458,2777.9990559120856,2777.9990559120856,2780.5764089670283,2780.5764089670283,2783.5602176872753,2783.5602176872753,2786.543911628624,2786.543911628624,2789.66310014908,2789.66310014908,2791.7115750397534,2791.7115750397534,2794.0155880214224,2796.8026972816215],\"y\":[0.0,0.0,218.0987513634725,218.0987513634725,218.0987513634725,218.0987513634725,389.2194617125005,603.2536513857667,603.2536513857667,603.2536513857667,826.2398507771592,826.2398507771592,1008.1943856547988,1178.9090977675016,1178.9090977675016,1301.6721005743468,1301.6721005743468,1301.6721005743468,1349.1811746001683,1384.4150591843622,1384.4150591843622,1384.4150591843622,1418.4911712458133,1458.7268355326617,1458.7268355326617,1516.8475348556788,1516.8475348556788,1570.3909002719197,1570.3909002719197,1570.3909002719197,1746.6302576680105,1746.6302576680105,1892.9022861366325,1892.9022861366325,1910.6659709748262,1910.6659709748262,2002.343611129413,2056.4141390382592,2056.7288036526465,2056.7288036526465,2102.7530164935374,2102.7530164935374,2137.014755782848,2132.2874261642146,2176.9030716770067,2178.0380682094883,2231.5170949555372,2231.5170949555372,2322.4629048010634,2366.8159679695605,2412.375252888248,2412.375252888248,2490.6064306549333,2532.69837979543,2578.01804144415,2603.998192495026,2636.6648782564794,2663.1084659402954,2688.4502613274235,2688.4502613274235,2723.7633568726087,2723.7633568726087,2756.868787795254,2756.868787795254,2809.4209147244896,2809.4209147244896,2878.595621112409,2878.595621112409,2950.5850360714994,2950.5850360714994,2996.3010320473627,2996.3010320473627,3040.7566532118913,3040.7566532118913,3060.6443385160824,3062.1226645034258,3067.5826108436395,3060.4971531517253,3058.300902395865,3054.2650877761944,3054.5357441779493,3053.2766413491063,3061.3137535483393,3061.0758486237282,3050.9813515635606,3057.4756829666867,3055.0408299033443,3064.7423828332635,3066.176181905667,3052.3558213112474,3056.0430469504604,3047.494308347565,3051.954771228914,3050.175612356902,3057.0113556708247,3061.780081236397,3056.2823479489466,3063.940282407119,3058.8046123915647,3067.5535821509684,3065.771302254763,3074.9174710085913,3073.330137952458,3063.482167198196,3061.058485783478,3030.5901355704646,2989.990150678378,2992.375141538736,2886.598992104152,2879.457067012353,2721.427658104756,2700.563495383976,2700.563495383976,2525.0939037551707,2404.2131656383003,2354.167999746615,2248.683723476651,2184.5782599229574,2089.693360973319,2039.336224211876,1952.904530904513,1888.480617677872,1811.199938899014,1730.3807195405,1662.981302958946,1564.9593255082104,1564.9593255082104,1449.684327381675,1449.684327381675,1315.1378811385714,1266.580348099631,1116.9242208522169,1082.7628986093175,941.7629211266296,919.7168266809973,788.3664055704297,653.4024519768216,653.4024519768216,601.7656194732078,601.7656194732078,623.041209470696,623.041209470696,623.4440226830046,638.6733013261214,640.9743885570648,640.9743885570648,637.474938276059,637.474938276059,633.6337897748491,633.6337897748491,630.646561588755,630.646561588755,628.0008468755443,628.0008468755443,625.6113136872323,625.6113136872323,624.9594732994649,624.9594732994649,624.6907039379538,624.5251653976914]},\"selected\":{\"id\":\"2904\"},\"selection_policy\":{\"id\":\"2903\"}},\"id\":\"2883\",\"type\":\"ColumnDataSource\"},{\"attributes\":{},\"id\":\"2797\",\"type\":\"LinearScale\"},{\"attributes\":{\"data\":{\"x\":{\"__ndarray__\":\"AAAAAAAAAAAAAAAAAAAAALDHnVja/wbAAAAAAAAAAAAAAAAAAAAAAAAAAAAAAAAAHLSUM9oXiMAsOhHoQ7CPwAAAAAAAAAAAAAAAAAAAAACWEQrHk6uPwAAAAAAAAAAAAX8P366hhcAH7Y5mqh52wAAAAAAAAAAAiGeJDDolXMAAAAAAAAAAAAAAAAAAAAAAuHWPzeSCN8B11FSRwJCBwAAAAAAAAAAAAAAAAAAAAADq0NFlM5ONwEBM5noGQ5fAAAAAAAAAAACYEz7ApwxUwAAAAAAAAAAAYKJWvTkvekAAAAAAAAAAAAAAAAAAAAAAMivY+UI3dUAAAAAAAAAAABxOwe1E1oFAAAAAAAAAAAB8e/a3Jp6QQAAAAAAAAAAALxK6jLk5eEAAAAAAAAAAAAAER8wtApHAAAAAAAAAAAA2PdPKDzyMwAAAAAAAAAAAWhPXCSSvlMAAAAAAAAAAANVKvaIeY5TAAAAAAAAAAAB9/l6n9K6TwAAAAAAAAAAAYMToObHmnMAAAAAAAAAAAAHoZ+yGtJrAAAAAAAAAAAAoQUcUi6KjwAAAAAAAAAAAEtNibjUnpsAAAAAAAAAAAGmft3O1ga3AAAAAAAAAAABiAJrWl7awwAAAAAAAAAAASwk59Rj3s8AAAAAAAAAAAF0Wviwc87PAAAAAAAAAAABEW2ciUZO3wAAAAAAAAAAAUw0V8EBBu8AAAAAAAAAAABOGqY+yNrjAAAAAAAAAAADyWOsfh/+2wAAAAAAAAAAAHDx9QhxeuMAAAAAAAAAAAGZ/UeiyX7jAgaiwxHfntsAAAAAAAAAAABfMSp3+M7fAAAAAAAAAAADRSc0C7RmywAAAAAAAAAAA+PE8MuN7pMAAAAAAAAAAAKnv2qQ43qnAAAAAAAAAAABfjPvLokmjwAAAAAAAAAAAPg7SQVOgn8AAAAAAAAAAADnbPhzbgZzAAAAAAAAAAAAjpf9uER2XwAAAAAAAAAAAPHZbCWz3hcAAAAAAAAAAAJJ5TqfImWXAAAAAAAAAAAAwxxavMEFkQAAAAAAAAAAArFZlrYckdUAAAAAAAAAAAAaECndAI4lAAAAAAAAAAAC7rl2xDwmEQAAAAAAAAAAAW3ObZM4ilED0WDRF7c6gQAAAAAAAAAAA4osjd36IpEAAAAAAAAAAAFB5PwQKMqNAAAAAAAAAAAAAAAAAAAAAAPoGG19AmaNAc3nY4ka0qUAAAAAAAAAAAHXzj06Il6hAAAAAAAAAAACbDivT8BinQAAAAAAAAAAAbymKqHymqUAAAAAAAAAAAOBdZC7nAahAAAAAAAAAAAAwbl8J4PGpQAAAAAAAAAAAAAAAAAAAAAAAAAAAAAAAAAAAAAAAAAAAAAAAAAAAAAB+XECNB5KnQAAAAAAAAAAA8eCwC6ZmpEAAAAAAAAAAAIXhQpzhraFAAAAAAAAAAADGGTEcL9KgQAAAAAAAAAAA3wvy57T0okAAAAAAAAAAAO0zrBgliaFAAAAAAAAAAABVZL7OpDWlQAAAAAAAAAAAyX6vl2ZqokAAAAAAAAAAAMqhuofSWqlAAAAAAAAAAADmf2X6exyoQAAAAAAAAAAA3HwIwgfcp0AAAAAAAAAAAAAem1TbRqdAAAAAAAAAAAC6SbXuhkWnQA==\",\"dtype\":\"float64\",\"order\":\"little\",\"shape\":[155]},\"y\":{\"__ndarray__\":\"AAAAAAAAAAAAAAAAAAAAAFh570ngGItAAAAAAAAAAAAAAAAAAAAAAAAAAAAAAAAAoRvNtUjBhUCMaj/9QPebQAAAAAAAAAAAAAAAAAAAAAB8MYwmOTKmQAAAAAAAAAAALiTYmbZ0nkBNAHqUOvehQAAAAAAAAAAAGeL42tB0oUAAAAAAAAAAAAAAAAAAAAAAb50kDUobm0CWGrd5Xv6cQAAAAAAAAAAAAAAAAAAAAADbgq5YbDybQFAziwkggpxAAAAAAAAAAADLvktrFimkQAAAAAAAAAAAO43WWqMzpEAAAAAAAAAAAAAAAAAAAAAAo5By9nQypEAAAAAAAAAAAONAzwx7NaRAAAAAAAAAAABU9G4uBWmgQAAAAAAAAAAAZF5+DjfjnkAAAAAAAAAAAJv0uTLeM5tAAAAAAAAAAACkaWYpDuGjQAAAAAAAAAAAwbxzlmq1o0AAAAAAAAAAAPCNZGKoeaZAAAAAAAAAAACBuwfCz4ynQAAAAAAAAAAAaOFdyb6TrUAAAAAAAAAAAI7VwkuTkahAAAAAAAAAAAARTdrFNl2nQAAAAAAAAAAABgOFnp78qUAAAAAAAAAAABzzuxQhmKhAAAAAAAAAAABfNDTcKtKnQAAAAAAAAAAA3XWK2k9Np0AAAAAAAAAAAH4WjJzmRadAAAAAAAAAAAAjIZpl1bqmQAAAAAAAAAAA6iPTvpRHqEAAAAAAAAAAAKUEGFW2gqhAAAAAAAAAAAA1KuT4fSqoQAAAAAAAAAAAE1pbmtRTqEAAAAAAAAAAAPwG+TIWiKhAE3tacO8eqEAAAAAAAAAAAHLvn+o5laZAAAAAAAAAAABtCnmYy0mnQAAAAAAAAAAADbN3XQZ8qUAAAAAAAAAAANtcm7OmIKhAAAAAAAAAAACIW5VgJwqpQAAAAAAAAAAA6daCQih+qUAAAAAAAAAAAEqziAUzE6ZAAAAAAAAAAAD7X06dgL+mQAAAAAAAAAAA2B2XHQWRp0AAAAAAAAAAAIdjbLwPe6hAAAAAAAAAAAAr7td/DdCoQAAAAAAAAAAAVdFLWt/xqEAAAAAAAAAAAMpv/jitMKlAAAAAAAAAAAB6PUdIto2mQAAAAAAAAAAApg9vhu10pEAQR1xiBeuhQAAAAAAAAAAAIPm2E+2ihUAAAAAAAAAAABzzCBRxmHPAAAAAAAAAAAAAAAAAAAAAAMkgl1YKIHZAjCIqYWBUbkAAAAAAAAAAAGTDOyl33nFAAAAAAAAAAABSfvUlZpB+QAAAAAAAAAAAeGz8J4SzWkAAAAAAAAAAAKHpuCjdSXVAAAAAAAAAAADI6aWi81FaQAAAAAAAAAAAAAAAAAAAAAAAAAAAAAAAAAAAAAAAAAAAAAAAAAAAAABoGVQSrGN+QAAAAAAAAAAAL0EwIIIOkEAAAAAAAAAAAJyE6QOYQZJAAAAAAAAAAABIKFr7KiKSQAAAAAAAAAAAQ32VZOuxjkAAAAAAAAAAAL32y4WDUJBAAAAAAAAAAAAu1uXHkG2JQAAAAAAAAAAAYOw/RUiUMEAAAAAAAAAAAADprbTLGj/AAAAAAAAAAACT7MMGOCaAQAAAAAAAAAAAkw5smPUUfEAAAAAAAAAAABUN0+xo9H9AAAAAAAAAAAC7vDuMNxGBQA==\",\"dtype\":\"float64\",\"order\":\"little\",\"shape\":[155]}},\"selected\":{\"id\":\"3019\"},\"selection_policy\":{\"id\":\"3018\"}},\"id\":\"2990\",\"type\":\"ColumnDataSource\"},{\"attributes\":{},\"id\":\"2802\",\"type\":\"BasicTicker\"},{\"attributes\":{\"data\":{\"x\":{\"__ndarray__\":\"4GjtR8CcRcAAAAAAAAAAALy/wp+kf0tAAAAAAAAAAAAAAAAAAAAAAAAAAAAAAAAAWVhx72aUhsAkbQ9ccweQwAAAAAAAAACAAAAAAAAAAICW4qcIe8mawAAAAAAAAACAF+N43ng6hsC46KtZ6Fd8wAAAAAAAAAAAwoYXE6PPZcAAAAAAAAAAgAAAAAAAAAAAiNWOtaEiO8CAlICUPmiEwAAAAAAAAACAAAAAAAAAAIBepis5gDiKwPyFjpeiB4zAAAAAAAAAAIBEkLmkZCmHwAAAAAAAAAAAFi9wVUrjgMAAAAAAAAAAgAAAAAAAAACA0zptyGBLdEAAAAAAAAAAgArJJuGUkoBAAAAAAAAAAAAAgTNTmFBZQAAAAAAAAACA5P2QKJkacUAAAAAAAAAAgBSSabYIzpDAAAAAAAAAAIBvywoh2dOCwAAAAAAAAAAAjCPGcKpDlMAAAAAAAAAAgK0cpbHxmpPAAAAAAAAAAAA6CbXPGIWTwAAAAAAAAAAAISGvsb3NoMAAAAAAAAAAgOYZwyea25fAAAAAAAAAAAD2C041g1ygwAAAAAAAAACA0V0RwdTgocAAAAAAAAAAgF047t0oK6jAAAAAAAAAAIAaeNtlRVCswAAAAAAAAACAD04tgILfssAAAAAAAAAAAJzMKf7GvrPAAAAAAAAAAIDMh1cVFlC0wAAAAAAAAACAcjVOd8dhssAAAAAAAAAAgNoadONj+7fAAAAAAAAAAACEha0PdqS2wAAAAAAAAAAAPxQ3zai1tcAAAAAAAAAAAGE+BgluDLfAJd7uM3yitsAAAAAAAAAAACK6nAJwfrTAAAAAAAAAAADR4X7vQ6SywAAAAAAAAAAATwORoqY6tMAAAAAAAAAAAPaMO7N5KKrAAAAAAAAAAIACha4eakejwAAAAAAAAAAABLAX5ZSbpMAAAAAAAAAAAOox7NN686TAAAAAAAAAAIASl4N7q46YwAAAAAAAAACA+B9k4g/YlMAAAAAAAAAAAAm3g87Hb2fAAAAAAAAAAICgoY4MdFtGQAAAAAAAAAAAmJjZRkOcT8AAAAAAAAAAgI6uU6dB1WbAAAAAAAAAAIAI4QKsDPVLwAAAAAAAAACAWMcg7a+bk0CaCz+OWemgQAAAAAAAAAAA4m2Ln2QspkAAAAAAAAAAgHbMP2EgDqZAAAAAAAAAAIAAAAAAAAAAAHeBthJQ7KJAJV0IFWrYo0AAAAAAAAAAgMJhFF8X26lAAAAAAAAAAIBJrOMCSHKnQAAAAAAAAACAToE4pG/EpEAAAAAAAAAAgEU51ZgqH6NAAAAAAAAAAICf3LQEN9OmQAAAAAAAAAAAAAAAAAAAAIAAAAAAAAAAAAAAAAAAAACAAAAAAAAAAIDgJh19q2qnQAAAAAAAAAAAluGgHjhvokAAAAAAAAAAAASpWgcGLqdAAAAAAAAAAADWCdarVNaiQAAAAAAAAACAj3ioB2TtoUAAAAAAAAAAgJhNi8S4VqdAAAAAAAAAAIBx04M3ImGlQAAAAAAAAAAAd4iWrLcjq0AAAAAAAAAAgFynqCNmy6ZAAAAAAAAAAIBHTPdVcMOjQAAAAAAAAAAACixD5VjrpkAAAAAAAAAAAD9AMQJ64qVAAAAAAAAAAACG+18v462kQAAAAAAAAACA5WK7VnZuokAAAAAAAAAAAI0FsJeZwalAvjrBDLQjp0A=\",\"dtype\":\"float64\",\"order\":\"little\",\"shape\":[160]},\"y\":{\"__ndarray__\":\"P3UDZ+LZKcAAAAAAAAAAgCAiEymZKixAAAAAAAAAAIAAAAAAAAAAgAAAAAAAAACAX55cM4uXg0D//4nlsyGGQAAAAAAAAAAAAAAAAAAAAID/OAVdRBeiQAAAAAAAAAAAPgu3vpi8nUBJ0Q+OqZ6gQAAAAAAAAAAA9IIinEGcoUAAAAAAAAAAgAAAAAAAAACAl2v6dVuNmkBRSa1a2HSZQAAAAAAAAACAAAAAAAAAAICWzfaQWXSeQGVkJwL/n5FAAAAAAAAAAACQSxZl/YujQAAAAAAAAAAAEXnoJAk4nEAAAAAAAAAAgAAAAAAAAAAAvZytiVIzokAAAAAAAAAAAHV6Q943I6JAAAAAAAAAAABSxZNvsSeZQAAAAAAAAACAr7uEyH6mokAAAAAAAAAAgCBhJsHbx6JAAAAAAAAAAAAlUD+hJXSgQAAAAAAAAACA4E1b7AU6pEAAAAAAAAAAgAFzbkr60aZAAAAAAAAAAIAAjtv+356nQAAAAAAAAACAfhNBPPjFpkAAAAAAAAAAAHd+bgaSdKZAAAAAAAAAAACj9foRyJilQAAAAAAAAAAAMP2cjWJKp0AAAAAAAAAAAOISEvZ3lKRAAAAAAAAAAID/4JDrDsmnQAAAAAAAAAAA7yBaNqW+pEAAAAAAAAAAgBxnQP/dZKdAAAAAAAAAAIC4RyJuHy6nQAAAAAAAAACAseJAtFQvp0AAAAAAAAAAgDik6sCWMKdAAAAAAAAAAIB6usHeI7CoQAAAAAAAAACAJZ87jJzIqkAAAAAAAAAAANzx0vcI+aRABQtgsM3Gp0AAAAAAAAAAgF8cHUbEBKpAAAAAAAAAAACg9pafMImoQAAAAAAAAAAAHarTHRwerkAAAAAAAAAAAK7uSY+gvKZAAAAAAAAAAAD7x6vnMVWoQAAAAAAAAAAA7dBZLyGorEAAAAAAAAAAAN2PKgLB+ahAAAAAAAAAAABkHcmXJDmoQAAAAAAAAACAcr3307vQpUAAAAAAAAAAgHRGMDRqE6lAAAAAAAAAAACVgTreSmCqQAAAAAAAAACAYkptJPFup0AAAAAAAAAAANbLVpXZKqxAAAAAAAAAAIDZIHMmwRCmQAAAAAAAAACAc2wBl8TapEAjdlGBG3SiQAAAAAAAAACAiAfl4DQ1mEAAAAAAAAAAAFD8k5+1xHlAAAAAAAAAAAAAAAAAAAAAgDBQZs1N0n9AUEKfUbDUc0AAAAAAAAAAgAcT9gz7QIRAAAAAAAAAAIB784cdVIWIQAAAAAAAAAAA/EqrTwLDlUAAAAAAAAAAAH534JznzoxAAAAAAAAAAABIFkrGY+5ZwAAAAAAAAAAAAAAAAAAAAIAAAAAAAAAAgAAAAAAAAAAAAAAAAAAAAIDJFCbyYH58QAAAAAAAAACAxmsX8L22gEAAAAAAAAAAgJD0aut4+pRAAAAAAAAAAACAAZBiQ71awAAAAAAAAAAAoLTzDUPGh0AAAAAAAAAAAKfGzlxBw5NAAAAAAAAAAAAYiGH495yJQAAAAAAAAAAAFD21TJy7jEAAAAAAAAAAAG2K/TaSwJVAAAAAAAAAAIAGgIArAt6DQAAAAAAAAACADdT44QKdi0AAAAAAAAAAAPNUB2vFTolAAAAAAAAAAACbloByQdeDQAAAAAAAAACAWyOoTlHjiEAAAAAAAAAAgAxMNkl2831AKPt+5N0QVMA=\",\"dtype\":\"float64\",\"order\":\"little\",\"shape\":[160]}},\"selected\":{\"id\":\"2929\"},\"selection_policy\":{\"id\":\"2928\"}},\"id\":\"2906\",\"type\":\"ColumnDataSource\"},{\"attributes\":{\"fill_alpha\":{\"value\":0.2},\"fill_color\":{\"value\":\"navy\"},\"hatch_alpha\":{\"value\":0.2},\"hatch_color\":{\"value\":\"navy\"},\"line_alpha\":{\"value\":0.2},\"line_color\":{\"value\":\"navy\"},\"x\":{\"field\":\"x\"},\"y\":{\"field\":\"y\"}},\"id\":\"2886\",\"type\":\"Circle\"},{\"attributes\":{\"fill_alpha\":{\"value\":0.1},\"fill_color\":{\"value\":\"navy\"},\"hatch_alpha\":{\"value\":0.1},\"hatch_color\":{\"value\":\"navy\"},\"line_alpha\":{\"value\":0.1},\"line_color\":{\"value\":\"navy\"},\"x\":{\"field\":\"x\"},\"y\":{\"field\":\"y\"}},\"id\":\"2885\",\"type\":\"Circle\"},{\"attributes\":{\"source\":{\"id\":\"2883\"}},\"id\":\"2888\",\"type\":\"CDSView\"},{\"attributes\":{\"fill_alpha\":{\"value\":0.2},\"fill_color\":{\"value\":\"navy\"},\"hatch_alpha\":{\"value\":0.2},\"hatch_color\":{\"value\":\"navy\"},\"line_alpha\":{\"value\":0.2},\"line_color\":{\"value\":\"navy\"},\"x\":{\"field\":\"x\"},\"y\":{\"field\":\"y\"}},\"id\":\"2884\",\"type\":\"Circle\"},{\"attributes\":{\"coordinates\":null,\"data_source\":{\"id\":\"2883\"},\"glyph\":{\"id\":\"2884\"},\"group\":null,\"hover_glyph\":null,\"muted_glyph\":{\"id\":\"2886\"},\"nonselection_glyph\":{\"id\":\"2885\"},\"view\":{\"id\":\"2888\"}},\"id\":\"2887\",\"type\":\"GlyphRenderer\"},{\"attributes\":{},\"id\":\"3018\",\"type\":\"UnionRenderers\"},{\"attributes\":{},\"id\":\"2799\",\"type\":\"LinearScale\"},{\"attributes\":{\"source\":{\"id\":\"2990\"}},\"id\":\"2995\",\"type\":\"CDSView\"},{\"attributes\":{\"line_alpha\":0.2,\"line_color\":\"navy\",\"x\":{\"field\":\"x\"},\"y\":{\"field\":\"y\"}},\"id\":\"2862\",\"type\":\"Line\"},{\"attributes\":{},\"id\":\"2904\",\"type\":\"Selection\"},{\"attributes\":{\"coordinates\":null,\"data_source\":{\"id\":\"2990\"},\"glyph\":{\"id\":\"2991\"},\"group\":null,\"hover_glyph\":null,\"muted_glyph\":{\"id\":\"2993\"},\"nonselection_glyph\":{\"id\":\"2992\"},\"view\":{\"id\":\"2995\"}},\"id\":\"2994\",\"type\":\"GlyphRenderer\"},{\"attributes\":{},\"id\":\"2903\",\"type\":\"UnionRenderers\"},{\"attributes\":{\"source\":{\"id\":\"2823\"}},\"id\":\"2828\",\"type\":\"CDSView\"},{\"attributes\":{\"source\":{\"id\":\"2906\"}},\"id\":\"2911\",\"type\":\"CDSView\"},{\"attributes\":{\"fill_color\":{\"value\":\"rgb(182, 31, 179)\"},\"hatch_color\":{\"value\":\"rgb(182, 31, 179)\"},\"line_color\":{\"value\":\"rgb(182, 31, 179)\"},\"x\":{\"field\":\"x\"},\"y\":{\"field\":\"y\"}},\"id\":\"2991\",\"type\":\"Circle\"},{\"attributes\":{},\"id\":\"3019\",\"type\":\"Selection\"},{\"attributes\":{\"fill_alpha\":{\"value\":0.1},\"fill_color\":{\"value\":\"rgb(182, 31, 179)\"},\"hatch_alpha\":{\"value\":0.1},\"hatch_color\":{\"value\":\"rgb(182, 31, 179)\"},\"line_alpha\":{\"value\":0.1},\"line_color\":{\"value\":\"rgb(182, 31, 179)\"},\"x\":{\"field\":\"x\"},\"y\":{\"field\":\"y\"}},\"id\":\"2992\",\"type\":\"Circle\"},{\"attributes\":{\"label\":{\"value\":\"p mpc 5\"},\"renderers\":[{\"id\":\"2994\"}]},\"id\":\"3021\",\"type\":\"LegendItem\"},{\"attributes\":{\"fill_alpha\":{\"value\":0.2},\"fill_color\":{\"value\":\"rgb(182, 31, 179)\"},\"hatch_alpha\":{\"value\":0.2},\"hatch_color\":{\"value\":\"rgb(182, 31, 179)\"},\"line_alpha\":{\"value\":0.2},\"line_color\":{\"value\":\"rgb(182, 31, 179)\"},\"x\":{\"field\":\"x\"},\"y\":{\"field\":\"y\"}},\"id\":\"2993\",\"type\":\"Circle\"},{\"attributes\":{\"data\":{\"x\":{\"__ndarray__\":\"AAAAAAAAAAAAAAAAAAAAANQkkqyu43FAAAAAAAAAAAAAAAAAAAAAAAAAAAAAAAAAr889vB6Ch8ALSHsYpKGSwAAAAAAAAAAAAAAAAAAAAAAYVDMGx3WSwAAAAAAAAAAAAEYs/RG4hcAgNIfIcW12wAAAAAAAAAAAz8DFGxP+W8AAAAAAAAAAAAAAAAAAAAAArDsXGlliN8Cm5V6418J5wAAAAAAAAAAAAAAAAAAAAADaB5MewnmNwPiW5eA2P5fAAAAAAAAAAADxcuLE8EdpwAAAAAAAAAAAi9bI67ZQeEAAAAAAAAAAAAAAAAAAAAAAwqIJ6UDldEAAAAAAAAAAAIo8bYqYxIFAAAAAAAAAAABUlrGQraGQQAAAAAAAAAAA5fnv5fmVeEAAAAAAAAAAAODCnmvvcpDAAAAAAAAAAACewa91fV+MwAAAAAAAAAAAbp0JlfHQlMAAAAAAAAAAADwaaaFLdJTAAAAAAAAAAAA+5YpxlLCTwAAAAAAAAAAAM40Khz3xm8AAAAAAAAAAAKFkwjhcmprAAAAAAAAAAAAd34Bt+qijwAAAAAAAAAAAeLvNG5ojpsAAAAAAAAAAAF25v14ig63AAAAAAAAAAABfHMTlorawwAAAAAAAAAAAhkEx6/T2s8AAAAAAAAAAALmoth8W87PAAAAAAAAAAAA+iQG5ApO3wAAAAAAAAAAASaZc5tJBu8AAAAAAAAAAAGZC+h+VNrjAAAAAAAAAAADkUlT2gf+2wAAAAAAAAAAAz2ny3ahbuMAAAAAAAAAAAE0wTVQBW7jAfvKDsErntsAAAAAAAAAAAKeOVS7ENLfAAAAAAAAAAAD5OqntRhqywAAAAAAAAAAA/DFhWvZxpMAAAAAAAAAAAPrgR2q53KnAAAAAAAAAAAAUt7wkmUejwAAAAAAAAAAAeoW+Aquen8AAAAAAAAAAAP8wALc+ipzAAAAAAAAAAADCr+CsYB+XwAAAAAAAAAAAAvMMqnX7hcAAAAAAAAAAAA8hgNwTmmXAAAAAAAAAAAB5t6bJzz1kQAAAAAAAAAAAvpgdUV0bdUAAAAAAAAAAAMmW/VhrBYlAAAAAAAAAAABoAsIciRGEQAAAAAAAAAAAYgwcCNsjlEDTVGICrM+gQAAAAAAAAAAAUl296ftnpEAAAAAAAAAAAIF8FyAp76JAAAAAAAAAAAAAAAAAAAAAAK4CnmzKkqNAVjapWrG4qUAAAAAAAAAAAJkZsmc0lqhAAAAAAAAAAABd7XuLMRqnQAAAAAAAAAAANOoQs0nDqUAAAAAAAAAAAFIdvUE8IqhAAAAAAAAAAAAEfUfAfh6rQAAAAAAAAAAAAAAAAAAAAAAAAAAAAAAAAAAAAAAAAAAAAAAAAAAAAAAcanTneiijQAAAAAAAAAAA9iJzkIAOpUAAAAAAAAAAAG2TCmdbzqJAAAAAAAAAAADf/mt9UxaiQAAAAAAAAAAAveHfQgKWokAAAAAAAAAAAOShifHq46FAAAAAAAAAAABidq/Tq32kQAAAAAAAAAAAHrLcv2gqq0AAAAAAAAAAADDe9QUSF6xAAAAAAAAAAAC7sN9z3QSnQAAAAAAAAAAA\",\"dtype\":\"float64\",\"order\":\"little\",\"shape\":[150]},\"y\":{\"__ndarray__\":\"AAAAAAAAAAAAAAAAAAAAAOBFKgZBi4ZAAAAAAAAAAAAAAAAAAAAAAAAAAAAAAAAA2NQqmxyIhEDumMXGV3WZQAAAAAAAAAAAAAAAAAAAAADVfXAU/b2lQAAAAAAAAAAA1ctjy3pwnkApxbw3OfqhQAAAAAAAAAAAi3wzdtlzoUAAAAAAAAAAAAAAAAAAAAAA1z6cjesGm0DvetCm5bCcQAAAAAAAAAAAAAAAAAAAAADMoDUsbtqaQLCD9kbkXJxAAAAAAAAAAAAxRrDBWrWkQAAAAAAAAAAAd8gnlOWOpEAAAAAAAAAAAAAAAAAAAAAAUeOmz1ZBpEAAAAAAAAAAAJbvPP+CPqRAAAAAAAAAAAD1Ovi69X2gQAAAAAAAAAAAvjZgC+Ehn0AAAAAAAAAAAIuAWkZyTJpAAAAAAAAAAAD26EEHlc6jQAAAAAAAAAAALHhZ7TVpo0AAAAAAAAAAAFC7y2wnbKZAAAAAAAAAAABaQhv04YunQAAAAAAAAAAAbLy3rPjzrUAAAAAAAAAAALycE5cSpahAAAAAAAAAAAAuW5IyTj6nQAAAAAAAAAAAgY8faDsGqkAAAAAAAAAAAO0qYEkxiqhAAAAAAAAAAAAbEQZeV8unQAAAAAAAAAAAaA/dZyhHp0AAAAAAAAAAAEeqtI0sRadAAAAAAAAAAAD0T64VbLSmQAAAAAAAAAAApqashrSaqEAAAAAAAAAAAHTJfE2Um6hAAAAAAAAAAADdHy3FgzCoQAAAAAAAAAAAdDkabQKVqEAAAAAAAAAAALykiu2uzKhALX2Ugt8iqEAAAAAAAAAAABPtIp+PoKZAAAAAAAAAAADd7erMv0KnQAAAAAAAAAAAzEKw8hk6qUAAAAAAAAAAAA5GmoLnD6hAAAAAAAAAAACltp+8L/ioQAAAAAAAAAAAvWGakml2qUAAAAAAAAAAAB6rbXSg1qVAAAAAAAAAAABgvJ/IDqumQAAAAAAAAAAAtudban92p0AAAAAAAAAAAC6k5g21dqhAAAAAAAAAAABg8B3eeOSoQAAAAAAAAAAAlF0dRmIhqUAAAAAAAAAAAOjs7dzjnKlAAAAAAAAAAADBQF0ZH7WmQAAAAAAAAAAAwSL3jaV3pEBPuO8xVe2hQAAAAAAAAAAAb8JihGgghUAAAAAAAAAAABi2cI5v1HTAAAAAAAAAAAAAAAAAAAAAAE45oCaf+nVAPmoNOpeabkAAAAAAAAAAAGKjXEZH1HFAAAAAAAAAAACqiyP4Opp+QAAAAAAAAAAA2A4vX2gYXkAAAAAAAAAAAAIxnRTwSnZAAAAAAAAAAABVJ0qxEapzQAAAAAAAAAAAAAAAAAAAAAAAAAAAAAAAAAAAAAAAAAAAAAAAAAAAAADDp+r7kUWDQAAAAAAAAAAAQik6z8NrkEAAAAAAAAAAAFGybigI65NAAAAAAAAAAACbMJjaNWGUQAAAAAAAAAAACMFBlqcJjUAAAAAAAAAAAHwUB7/QH5FAAAAAAAAAAAAURAoVi85/QAAAAAAAAAAACxBXU02idEAAAAAAAAAAACxQ7Z4T3oBAAAAAAAAAAAC8CSLSlX92QAAAAAAAAAAA\",\"dtype\":\"float64\",\"order\":\"little\",\"shape\":[150]}},\"selected\":{\"id\":\"3053\"},\"selection_policy\":{\"id\":\"3052\"}},\"id\":\"3022\",\"type\":\"ColumnDataSource\"},{\"attributes\":{\"coordinates\":null,\"data_source\":{\"id\":\"2906\"},\"glyph\":{\"id\":\"2907\"},\"group\":null,\"hover_glyph\":null,\"muted_glyph\":{\"id\":\"2909\"},\"nonselection_glyph\":{\"id\":\"2908\"},\"view\":{\"id\":\"2911\"}},\"id\":\"2910\",\"type\":\"GlyphRenderer\"},{\"attributes\":{},\"id\":\"2795\",\"type\":\"DataRange1d\"},{\"attributes\":{},\"id\":\"3052\",\"type\":\"UnionRenderers\"},{\"attributes\":{\"fill_color\":{\"value\":\"orange\"},\"hatch_color\":{\"value\":\"orange\"},\"line_color\":{\"value\":\"orange\"},\"x\":{\"field\":\"x\"},\"y\":{\"field\":\"y\"}},\"id\":\"2907\",\"type\":\"Circle\"},{\"attributes\":{\"fill_alpha\":{\"value\":0.1},\"fill_color\":{\"value\":\"orange\"},\"hatch_alpha\":{\"value\":0.1},\"hatch_color\":{\"value\":\"orange\"},\"line_alpha\":{\"value\":0.1},\"line_color\":{\"value\":\"orange\"},\"x\":{\"field\":\"x\"},\"y\":{\"field\":\"y\"}},\"id\":\"2908\",\"type\":\"Circle\"},{\"attributes\":{},\"id\":\"2929\",\"type\":\"Selection\"},{\"attributes\":{\"fill_alpha\":{\"value\":0.2},\"fill_color\":{\"value\":\"orange\"},\"hatch_alpha\":{\"value\":0.2},\"hatch_color\":{\"value\":\"orange\"},\"line_alpha\":{\"value\":0.2},\"line_color\":{\"value\":\"orange\"},\"x\":{\"field\":\"x\"},\"y\":{\"field\":\"y\"}},\"id\":\"2909\",\"type\":\"Circle\"},{\"attributes\":{},\"id\":\"2928\",\"type\":\"UnionRenderers\"},{\"attributes\":{\"label\":{\"value\":\"p obf\"},\"renderers\":[{\"id\":\"2910\"}]},\"id\":\"2931\",\"type\":\"LegendItem\"},{\"attributes\":{\"coordinates\":null,\"data_source\":{\"id\":\"3022\"},\"glyph\":{\"id\":\"3023\"},\"group\":null,\"hover_glyph\":null,\"muted_glyph\":{\"id\":\"3025\"},\"nonselection_glyph\":{\"id\":\"3024\"},\"view\":{\"id\":\"3027\"}},\"id\":\"3026\",\"type\":\"GlyphRenderer\"},{\"attributes\":{\"line_alpha\":0.2,\"line_color\":\"navy\",\"x\":{\"field\":\"x\"},\"y\":{\"field\":\"y\"}},\"id\":\"2826\",\"type\":\"Line\"},{\"attributes\":{},\"id\":\"2832\",\"type\":\"BasicTickFormatter\"},{\"attributes\":{\"coordinates\":null,\"data_source\":{\"id\":\"2823\"},\"glyph\":{\"id\":\"2824\"},\"group\":null,\"hover_glyph\":null,\"muted_glyph\":{\"id\":\"2826\"},\"nonselection_glyph\":{\"id\":\"2825\"},\"view\":{\"id\":\"2828\"}},\"id\":\"2827\",\"type\":\"GlyphRenderer\"},{\"attributes\":{},\"id\":\"2806\",\"type\":\"BasicTicker\"},{\"attributes\":{\"line_color\":\"navy\",\"x\":{\"field\":\"x\"},\"y\":{\"field\":\"y\"}},\"id\":\"2824\",\"type\":\"Line\"},{\"attributes\":{\"data\":{\"x\":{\"__ndarray__\":\"AAAAAAAAAAAQXHD3fWNDwCAV0rnRNoTAuxxAQa9shcC+kCODPniGwB+9WWMKUIXADGqmC9ceeMA+hZcmyEFlwOKqaNJYEGLAZW1kaKKcf8DZ6zEcnLCGwDGYNTykpIXA+DdMX0Q9d8CA4qoDXoRdwDz5MhFwC2RAPIC/IjkxdkBM+7EwebV6QPCUhYWDhE1AbKEDJGGqf8CCdkA48L2DwOaVIxyHY4/Akh7DMEmnksDDiygZbhSTwA1qxZLZpJPAtSK3R5dWmMC0yqEh58OhwKi5DuDruaPArlXrOVilqcDqRs9Cx96uwGQVn5rWmrLAue2oNyPXs8Dq8juyWfK1wGA0fAbyyrbAMIWuT8Mdt8COiGrPPbq2wFK3/QE9urbA4IOizjy6tsCAovZN7bi2wMoR4ckedrXAcjUb9nWsssACK/8uwGuvwAU4PmxUMazAKHUge25upsA2IpEO04ajwDDa9AInKqLAFjn1iyycmsBKudCaBJOQwLTBsJxfrXfAYKSudptGT8BgSXAxcQZWQLCbc0u7Em1AtES6+XzzcUBU6s/V13qTQACRBTgRaJ1Aqs6+tW5In0Aacelx/eefQLTBzZXbLKNAFYebDkYEp0CmM1Z3YrylQPA1Ga4lvqVAQqprVVe1pUCCF3FQG7elQCDCZ4feuKVApnos7wCEpUCQSj7zJpmlQD4kNvv3oaVAFBk8xkKnpUCujZW++KGlQEqrpswFqaVAXGsysNWxpUBsJNy0zc+lQEYk0Ed+DaZAxeXAiigBpkC2H4SQ6wKmQAUf9seuBKZA6R4E2fcJpkDdx6z5rgSmQK0XaCWLFKZAVpLp+jctpkA=\",\"dtype\":\"float64\",\"order\":\"little\",\"shape\":[79]},\"y\":{\"__ndarray__\":\"AAAAAAAAAACYkZ74KEN7QCIFHuOv24ZASsAKxWx1k0AghXQUvdiaQMTn/ETe951A7CG9DWU2oUATm7G3BuKgQAwfctsDBZtAbiA9gBSWmkCOJMxYAn2bQLw+V81GtZ1A6ma1g5dMoUCkbfnH6LShQHSXvLazRqNA7Fp+BQNoo0C2Z+8Rt96gQH/RiD9AdaBAtkrWqUQaoECfG5x+GNGiQPE54ErJ/6JAwBvaUQvjpUAzy5RqckinQKlCi7/hKqhA6FZyFWnUp0C02mGecOmmQFIuaZL8GKlACOugOP8rqEDCJeyFeManQDRMoEkYaqdAYDkfuyxJp0Dp8KVnRwenQAQFRf59kKhAqsLMXvOJqEC2X/pXkyyoQGf4iHZ0NahAAcMsvqw3qEAx+wlZmBioQKbwMjpuFKdAjnQtq3Rjp0DIkAu7x7SnQORBhLkD46dAuIjNA8ilqEBshMkGiBSpQFhHp88ZOqZAKcn9xYbOpkDsEDD5+Z6nQBCNxDafeqhABaZ5XJ7VqEAXkpWFk/2oQIY7OVI4GKlASUlHdIbHpkAsXA1ri4akQE2ruxL7maJAv+psttNPlEAQi+fNyO91QIfgdBZql3pAJIXMSQR4gkDKbnVMW9OEQH+SVOhb04RAqk1j3G6DhEBy0tQF61+EQI4ajqHrX4RAEloUy6jag0ALG3pfU/WDQF6Ir9fwyINAvqoC/quTg0AwEIllbKWDQGb20rWNnINAzNR/23Glg0AvZElvVGeDQG/hM+9pZ4NA1+l6K+FDg0BuSc3lwkyDQJ4opoPDTINA62UQs2hng0C6FiBn4kODQN51EmhsZ4NACPLcMVZwg0A=\",\"dtype\":\"float64\",\"order\":\"little\",\"shape\":[79]}},\"selected\":{\"id\":\"2838\"},\"selection_policy\":{\"id\":\"2837\"}},\"id\":\"2823\",\"type\":\"ColumnDataSource\"},{\"attributes\":{\"line_alpha\":0.2,\"line_color\":\"navy\",\"x\":{\"field\":\"x\"},\"y\":{\"field\":\"y\"}},\"id\":\"2864\",\"type\":\"Line\"},{\"attributes\":{\"fill_alpha\":{\"value\":0.2},\"fill_color\":{\"value\":\"rgb(65, 227, 238)\"},\"hatch_alpha\":{\"value\":0.2},\"hatch_color\":{\"value\":\"rgb(65, 227, 238)\"},\"line_alpha\":{\"value\":0.2},\"line_color\":{\"value\":\"rgb(65, 227, 238)\"},\"x\":{\"field\":\"x\"},\"y\":{\"field\":\"y\"}},\"id\":\"2935\",\"type\":\"Circle\"},{\"attributes\":{},\"id\":\"2838\",\"type\":\"Selection\"},{\"attributes\":{\"data\":{\"x\":{\"__ndarray__\":\"AAAAAAAAAAAAAAAAAAAAAOov0T5ARFPAAAAAAAAAAAAAAAAAAAAAAAAAAAAAAAAArTjpyQwQiMAgEQ2KhIuOwAAAAAAAAAAAAAAAAAAAAADcnL98maWNwAAAAAAAAAAAes00e/hzhcBgYXdLofN1wAAAAAAAAAAATyzkAjWKW8AAAAAAAAAAAAAAAAAAAAAAECOJvLq5OMApXNrnOB2EwAAAAAAAAAAAAAAAAAAAAADv9ZlCWJGNwNKMqCenKZfAAAAAAAAAAADAbMFy2NtDwAAAAAAAAAAARDeZS632eUAAAAAAAAAAAAAAAAAAAAAATVKm5+YidUAAAAAAAAAAAMDsioKG4oFAAAAAAAAAAAAbfnObIKWQQAAAAAAAAAAAlvkj/NggeEAAAAAAAAAAALFLlxlTEJHAAAAAAAAAAACFGwPXAE2MwAAAAAAAAAAAgQnoedPClMAAAAAAAAAAAP/Ltf+rbpTAAAAAAAAAAACW+/xAp62TwAAAAAAAAAAAENzD2vzGnMAAAAAAAAAAAClASEKLqJrAAAAAAAAAAAC+sqejI56jwAAAAAAAAAAAw537e+kdpsAAAAAAAAAAAKi7FH7ldK3AAAAAAAAAAACNRvpHhrawwAAAAAAAAAAABCNkBlD3s8AAAAAAAAAAAMycu+ki87PAAAAAAAAAAACQ4tZuf5K3wAAAAAAAAAAAh6hrAi1Bu8AAAAAAAAAAANle4h2zNrjAAAAAAAAAAADWcDN8Zf+2wAAAAAAAAAAAIei3eWJeuMAAAAAAAAAAAGAGiRIYYbjAMbEFr5LntsAAAAAAAAAAAFFwCItdLrfAAAAAAAAAAACyyBv3yRuywAAAAAAAAAAAIqKGYXpwpMAAAAAAAAAAABZbxCok36nAAAAAAAAAAAARQrpxPEujwAAAAAAAAAAAsRf+B/2hn8AAAAAAAAAAAEaMksKDgJzAAAAAAAAAAACsSJ4NkhyXwAAAAAAAAAAAPnrcx+D2hcAAAAAAAAAAAAQ2SUKzmmXAAAAAAAAAAADpkMyYbUBkQAAAAAAAAAAAcvjgsD0ldUAAAAAAAAAAAPYg155kFolAAAAAAAAAAABykhiTPviDQAAAAAAAAAAAM+HdypYllEA48Pg71t2gQAAAAAAAAAAAfDKLQbvapEAAAAAAAAAAABI8z5rkcaNAAAAAAAAAAAAAAAAAAAAAAPnyU1XZmaNAzuguFMyvqUAAAAAAAAAAAEnBgJg8mahAAAAAAAAAAAC2i40dkhynQAAAAAAAAAAAYRxfqyWwqUAAAAAAAAAAANUfht7Q/qdAAAAAAAAAAAAfHBaQXMWpQAAAAAAAAAAAAAAAAAAAAAAAAAAAAAAAAAAAAAAAAAAAAAAAAAAAAAD4UZpZISWnQAAAAAAAAAAAPU3r+9kgqEAAAAAAAAAAAAlIBmfR1aFAAAAAAAAAAADXg30lFm+gQAAAAAAAAAAAwi5+D1/ZokAAAAAAAAAAAJlh53LdxqFAAAAAAAAAAAADinHfEpykQAAAAAAAAAAAy/bU28RioEAAAAAAAAAAAEHxDB/1x6tAAAAAAAAAAAA+Mzqot/inQAAAAAAAAAAA6AflzdS5p0AAAAAAAAAAAO5wWrSQJ6dAAAAAAAAAAADFqV5ucBCnQAAAAAAAAAAAxWQXjUHIp0AAAAAAAAAAAMRJr5jahalA\",\"dtype\":\"float64\",\"order\":\"little\",\"shape\":[159]},\"y\":{\"__ndarray__\":\"AAAAAAAAAAAAAAAAAAAAAH+lo2I7F4tAAAAAAAAAAAAAAAAAAAAAAAAAAAAAAAAAqSJs3jUQiEAiOosXGUmcQAAAAAAAAAAAAAAAAAAAAADiDMS3PVCmQAAAAAAAAAAAbc7Vtvt5nkAtKmDVW/WhQAAAAAAAAAAAfqP4zuNwoUAAAAAAAAAAAAAAAAAAAAAAAV3+7vFMm0AnHeQ/qPmbQAAAAAAAAAAAAAAAAAAAAAB2S8AYNcmbQNYMFM6Nrp9AAAAAAAAAAADy46hmjuCjQAAAAAAAAAAApnfkimA/pEAAAAAAAAAAAAAAAAAAAAAAoCW1YUc2pEAAAAAAAAAAAFi9FmzrLqRAAAAAAAAAAACyd+c7Q5igQAAAAAAAAAAA8d6x+L3TnkAAAAAAAAAAAHvNTqrrTZtAAAAAAAAAAADbYsGma9ijQAAAAAAAAAAAIF7Ye1WOo0AAAAAAAAAAAA0YKj/GcKZAAAAAAAAAAAB0As1dio2nQAAAAAAAAAAAi5O3OCehrUAAAAAAAAAAAEoTVWjZmqhAAAAAAAAAAADF9AQCG26nQAAAAAAAAAAA0XCDyosUqkAAAAAAAAAAANT26y/566hAAAAAAAAAAADwZ7KNQdinQAAAAAAAAAAAvLe4ifZap0AAAAAAAAAAAIaCDWD6RqdAAAAAAAAAAAD+oKtTr6qmQAAAAAAAAAAApH2LGttCqEAAAAAAAAAAAB65JbAOg6hAAAAAAAAAAAB5S2VgyyOoQAAAAAAAAAAAm6pign02qEAAAAAAAAAAAIWYxdCOYahA+eIrY5kZqEAAAAAAAAAAAGNiHrBXVqZAAAAAAAAAAAAxHrFKRS6nQAAAAAAAAAAAbCThFTwvqUAAAAAAAAAAAL/ssFz3KKhAAAAAAAAAAADPPRlQPhapQAAAAAAAAAAACrj+DWSFqUAAAAAAAAAAAK3Sur0PLaZAAAAAAAAAAAB5uky+P9CmQAAAAAAAAAAA4ovM7KGep0AAAAAAAAAAABtFVpSBgahAAAAAAAAAAAC8I9AKNd6oQAAAAAAAAAAAavxKu4EEqUAAAAAAAAAAAJhrpf4bv6hAAAAAAAAAAADhdYAFNmemQAAAAAAAAAAA4fC4r+Z9pEAyNoPTUSKiQAAAAAAAAAAAJokkY6gOh0AAAAAAAAAAANBjwy/NR3LAAAAAAAAAAAAAAAAAAAAAADhmMHKuI3ZAthj0FA0ObkAAAAAAAAAAAKStU/OX63FAAAAAAAAAAACz5nsKFK1+QAAAAAAAAAAAsPB57NPRW0AAAAAAAAAAAMjMbxm1MnVAAAAAAAAAAAAw13jI2AhVQAAAAAAAAAAAAAAAAAAAAAAAAAAAAAAAAAAAAAAAAAAAAAAAAAAAAADBElqtOQd6QAAAAAAAAAAADFW2AmQ4jEAAAAAAAAAAAHCBqqlgipJAAAAAAAAAAADdxIuVXCSRQAAAAAAAAAAAHL6AerJDjkAAAAAAAAAAAKTtxl0I4pBAAAAAAAAAAAAs+r5ST+6HQAAAAAAAAAAAJpAweloOdkAAAAAAAAAAAG2q+D5Yu3ZAAAAAAAAAAADwAsmk4dp9QAAAAAAAAAAANyI3fMm4ekAAAAAAAAAAAIyELoFeq35AAAAAAAAAAABE4KybMZx/QAAAAAAAAAAAElZmHFtDZkAAAAAAAAAAABKgq1JYM4pA\",\"dtype\":\"float64\",\"order\":\"little\",\"shape\":[159]}},\"selected\":{\"id\":\"2957\"},\"selection_policy\":{\"id\":\"2956\"}},\"id\":\"2932\",\"type\":\"ColumnDataSource\"},{\"attributes\":{},\"id\":\"3053\",\"type\":\"Selection\"},{\"attributes\":{\"source\":{\"id\":\"3022\"}},\"id\":\"3027\",\"type\":\"CDSView\"},{\"attributes\":{\"fill_color\":{\"value\":\"rgb(130, 97, 244)\"},\"hatch_color\":{\"value\":\"rgb(130, 97, 244)\"},\"line_color\":{\"value\":\"rgb(130, 97, 244)\"},\"x\":{\"field\":\"x\"},\"y\":{\"field\":\"y\"}},\"id\":\"3023\",\"type\":\"Circle\"},{\"attributes\":{\"fill_alpha\":{\"value\":0.1},\"fill_color\":{\"value\":\"rgb(130, 97, 244)\"},\"hatch_alpha\":{\"value\":0.1},\"hatch_color\":{\"value\":\"rgb(130, 97, 244)\"},\"line_alpha\":{\"value\":0.1},\"line_color\":{\"value\":\"rgb(130, 97, 244)\"},\"x\":{\"field\":\"x\"},\"y\":{\"field\":\"y\"}},\"id\":\"3024\",\"type\":\"Circle\"},{\"attributes\":{\"coordinates\":null,\"data_source\":{\"id\":\"2932\"},\"glyph\":{\"id\":\"2933\"},\"group\":null,\"hover_glyph\":null,\"muted_glyph\":{\"id\":\"2935\"},\"nonselection_glyph\":{\"id\":\"2934\"},\"view\":{\"id\":\"2937\"}},\"id\":\"2936\",\"type\":\"GlyphRenderer\"},{\"attributes\":{\"fill_alpha\":{\"value\":0.1},\"fill_color\":{\"value\":\"rgb(65, 227, 238)\"},\"hatch_alpha\":{\"value\":0.1},\"hatch_color\":{\"value\":\"rgb(65, 227, 238)\"},\"line_alpha\":{\"value\":0.1},\"line_color\":{\"value\":\"rgb(65, 227, 238)\"},\"x\":{\"field\":\"x\"},\"y\":{\"field\":\"y\"}},\"id\":\"2934\",\"type\":\"Circle\"},{\"attributes\":{\"data\":{\"x\":{\"__ndarray__\":\"AAAAAAAAAAAAAAAAAAAAABBccPd9Y0PAAAAAAAAAAAAAAAAAAAAAAAAAAAAAAAAAIBXSudE2hMC7HEBBr2yFwAAAAAAAAAAAAAAAAAAAAAC+kCODPniGwAAAAAAAAAAAH71ZYwpQhcAMaqYL1x54wAAAAAAAAAAAPoWXJshBZcAAAAAAAAAAAAAAAAAAAAAA4qpo0lgQYsBlbWRoopx/wAAAAAAAAAAAAAAAAAAAAADZ6zEcnLCGwDGYNTykpIXAAAAAAAAAAAD4N0xfRD13wAAAAAAAAAAAgOKqA16EXcAAAAAAAAAAAAAAAAAAAAAAPPkyEXALZEAAAAAAAAAAADyAvyI5MXZAAAAAAAAAAABM+7EwebV6QAAAAAAAAAAA8JSFhYOETUAAAAAAAAAAAGyhAyRhqn/AAAAAAAAAAACCdkA48L2DwAAAAAAAAAAA5pUjHIdjj8AAAAAAAAAAAJIewzBJp5LAAAAAAAAAAADDiygZbhSTwAAAAAAAAAAADWrFktmkk8AAAAAAAAAAALUit0eXVpjAAAAAAAAAAAC0yqEh58OhwAAAAAAAAAAAqLkO4Ou5o8AAAAAAAAAAAK5V6zlYpanAAAAAAAAAAADqRs9Cx96uwAAAAAAAAAAAZBWfmtaassAAAAAAAAAAALntqDcj17PAAAAAAAAAAADq8juyWfK1wAAAAAAAAAAAYDR8BvLKtsAAAAAAAAAAADCFrk/DHbfAAAAAAAAAAACOiGrPPbq2wAAAAAAAAAAAUrf9AT26tsAAAAAAAAAAAOCDos48urbAgKL2Te24tsAAAAAAAAAAAMoR4ckedrXAAAAAAAAAAAByNRv2dayywAAAAAAAAAAAAiv/LsBrr8AAAAAAAAAAAAU4PmxUMazAAAAAAAAAAAAodSB7bm6mwAAAAAAAAAAANiKRDtOGo8AAAAAAAAAAADDa9AInKqLAAAAAAAAAAAAWOfWLLJyawAAAAAAAAAAASrnQmgSTkMAAAAAAAAAAALTBsJxfrXfAAAAAAAAAAABgpK52m0ZPwAAAAAAAAAAAYElwMXEGVkAAAAAAAAAAALCbc0u7Em1AAAAAAAAAAAC0RLr5fPNxQAAAAAAAAAAAVOrP1dd6k0AAkQU4EWidQAAAAAAAAAAAqs6+tW5In0AAAAAAAAAAABpx6XH9559AAAAAAAAAAAAAAAAAAAAAALTBzZXbLKNAFYebDkYEp0AAAAAAAAAAAKYzVndivKVAAAAAAAAAAADwNRmuJb6lQAAAAAAAAAAAQqprVVe1pUAAAAAAAAAAAIIXcVAbt6VAAAAAAAAAAAAgwmeH3rilQAAAAAAAAAAAAAAAAAAAAAAAAAAAAAAAAAAAAAAAAAAAAAAAAAAAAACmeizvAISlQAAAAAAAAAAAkEo+8yaZpUAAAAAAAAAAAD4kNvv3oaVAAAAAAAAAAAAUGTzGQqelQAAAAAAAAAAAro2VvvihpUAAAAAAAAAAAEqrpswFqaVAAAAAAAAAAABcazKw1bGlQAAAAAAAAAAAbCTctM3PpUAAAAAAAAAAAEYk0Ed+DaZAAAAAAAAAAADF5cCKKAGmQAAAAAAAAAAAth+EkOsCpkAAAAAAAAAAAAUf9seuBKZAAAAAAAAAAADpHgTZ9wmmQAAAAAAAAAAA3ces+a4EpkAAAAAAAAAAAK0XaCWLFKZAVpLp+jctpkA=\",\"dtype\":\"float64\",\"order\":\"little\",\"shape\":[160]},\"y\":{\"__ndarray__\":\"AAAAAAAAAAAAAAAAAAAAAJiRnvgoQ3tAAAAAAAAAAAAAAAAAAAAAAAAAAAAAAAAAIgUe46/bhkBKwArFbHWTQAAAAAAAAAAAAAAAAAAAAAAghXQUvdiaQAAAAAAAAAAAxOf8RN73nUDsIb0NZTahQAAAAAAAAAAAE5uxtwbioEAAAAAAAAAAAAAAAAAAAAAADB9y2wMFm0BuID2AFJaaQAAAAAAAAAAAAAAAAAAAAACOJMxYAn2bQLw+V81GtZ1AAAAAAAAAAADqZrWDl0yhQAAAAAAAAAAApG35x+i0oUAAAAAAAAAAAAAAAAAAAAAAdJe8trNGo0AAAAAAAAAAAOxafgUDaKNAAAAAAAAAAAC2Z+8Rt96gQAAAAAAAAAAAf9GIP0B1oEAAAAAAAAAAALZK1qlEGqBAAAAAAAAAAACfG5x+GNGiQAAAAAAAAAAA8TngSsn/okAAAAAAAAAAAMAb2lEL46VAAAAAAAAAAAAzy5RqckinQAAAAAAAAAAAqUKLv+EqqEAAAAAAAAAAAOhWchVp1KdAAAAAAAAAAAC02mGecOmmQAAAAAAAAAAAUi5pkvwYqUAAAAAAAAAAAAjroDj/K6hAAAAAAAAAAADCJeyFeManQAAAAAAAAAAANEygSRhqp0AAAAAAAAAAAGA5H7ssSadAAAAAAAAAAADp8KVnRwenQAAAAAAAAAAABAVF/n2QqEAAAAAAAAAAAKrCzF7ziahAAAAAAAAAAAC2X/pXkyyoQAAAAAAAAAAAZ/iIdnQ1qEAAAAAAAAAAAAHDLL6sN6hAMfsJWZgYqEAAAAAAAAAAAKbwMjpuFKdAAAAAAAAAAACOdC2rdGOnQAAAAAAAAAAAyJALu8e0p0AAAAAAAAAAAORBhLkD46dAAAAAAAAAAAC4iM0DyKWoQAAAAAAAAAAAbITJBogUqUAAAAAAAAAAAFhHp88ZOqZAAAAAAAAAAAApyf3Fhs6mQAAAAAAAAAAA7BAw+fmep0AAAAAAAAAAABCNxDafeqhAAAAAAAAAAAAFpnlcntWoQAAAAAAAAAAAF5KVhZP9qEAAAAAAAAAAAIY7OVI4GKlAAAAAAAAAAABJSUd0hsemQAAAAAAAAAAALFwNa4uGpEBNq7sS+5miQAAAAAAAAAAAv+psttNPlEAAAAAAAAAAABCL583I73VAAAAAAAAAAAAAAAAAAAAAAIfgdBZql3pAJIXMSQR4gkAAAAAAAAAAAMpudUxb04RAAAAAAAAAAAB/klToW9OEQAAAAAAAAAAAqk1j3G6DhEAAAAAAAAAAAHLS1AXrX4RAAAAAAAAAAACOGo6h61+EQAAAAAAAAAAAAAAAAAAAAAAAAAAAAAAAAAAAAAAAAAAAAAAAAAAAAAASWhTLqNqDQAAAAAAAAAAACxt6X1P1g0AAAAAAAAAAAF6Ir9fwyINAAAAAAAAAAAC+qgL+q5ODQAAAAAAAAAAAMBCJZWylg0AAAAAAAAAAAGb20rWNnINAAAAAAAAAAADM1H/bcaWDQAAAAAAAAAAAL2RJb1Rng0AAAAAAAAAAAG/hM+9pZ4NAAAAAAAAAAADX6Xor4UODQAAAAAAAAAAAbknN5cJMg0AAAAAAAAAAAJ4opoPDTINAAAAAAAAAAADrZRCzaGeDQAAAAAAAAAAAuhYgZ+JDg0AAAAAAAAAAAN51EmhsZ4NACPLcMVZwg0A=\",\"dtype\":\"float64\",\"order\":\"little\",\"shape\":[160]}},\"selected\":{\"id\":\"2859\"},\"selection_policy\":{\"id\":\"2858\"}},\"id\":\"2842\",\"type\":\"ColumnDataSource\"},{\"attributes\":{\"fill_alpha\":{\"value\":0.2},\"fill_color\":{\"value\":\"rgb(130, 97, 244)\"},\"hatch_alpha\":{\"value\":0.2},\"hatch_color\":{\"value\":\"rgb(130, 97, 244)\"},\"line_alpha\":{\"value\":0.2},\"line_color\":{\"value\":\"rgb(130, 97, 244)\"},\"x\":{\"field\":\"x\"},\"y\":{\"field\":\"y\"}},\"id\":\"3025\",\"type\":\"Circle\"},{\"attributes\":{\"coordinates\":null,\"group\":null},\"id\":\"2829\",\"type\":\"Title\"},{\"attributes\":{\"fill_color\":{\"value\":\"rgb(65, 227, 238)\"},\"hatch_color\":{\"value\":\"rgb(65, 227, 238)\"},\"line_color\":{\"value\":\"rgb(65, 227, 238)\"},\"x\":{\"field\":\"x\"},\"y\":{\"field\":\"y\"}},\"id\":\"2933\",\"type\":\"Circle\"},{\"attributes\":{\"label\":{\"value\":\"p mpc 10\"},\"renderers\":[{\"id\":\"3026\"}]},\"id\":\"3055\",\"type\":\"LegendItem\"},{\"attributes\":{\"source\":{\"id\":\"2932\"}},\"id\":\"2937\",\"type\":\"CDSView\"},{\"attributes\":{},\"id\":\"2810\",\"type\":\"WheelZoomTool\"},{\"attributes\":{\"overlay\":{\"id\":\"2815\"}},\"id\":\"2811\",\"type\":\"BoxZoomTool\"},{\"attributes\":{},\"id\":\"2956\",\"type\":\"UnionRenderers\"},{\"attributes\":{\"axis\":{\"id\":\"2805\"},\"coordinates\":null,\"dimension\":1,\"group\":null,\"ticker\":null},\"id\":\"2808\",\"type\":\"Grid\"},{\"attributes\":{},\"id\":\"2812\",\"type\":\"SaveTool\"},{\"attributes\":{},\"id\":\"2813\",\"type\":\"ResetTool\"}],\"root_ids\":[\"2792\"]},\"title\":\"Bokeh Application\",\"version\":\"2.4.3\"}};\n",
       "  const render_items = [{\"docid\":\"0bc93b30-c34a-4373-b3a9-dc1fdf81dd2b\",\"root_ids\":[\"2792\"],\"roots\":{\"2792\":\"cc58c9ba-d197-455e-800c-d76acb20d13c\"}}];\n",
       "  root.Bokeh.embed.embed_items_notebook(docs_json, render_items);\n",
       "  }\n",
       "  if (root.Bokeh !== undefined) {\n",
       "    embed_document(root);\n",
       "  } else {\n",
       "    let attempts = 0;\n",
       "    const timer = setInterval(function(root) {\n",
       "      if (root.Bokeh !== undefined) {\n",
       "        clearInterval(timer);\n",
       "        embed_document(root);\n",
       "      } else {\n",
       "        attempts++;\n",
       "        if (attempts > 100) {\n",
       "          clearInterval(timer);\n",
       "          console.log(\"Bokeh: ERROR: Unable to run BokehJS code because BokehJS library is missing\");\n",
       "        }\n",
       "      }\n",
       "    }, 10, root)\n",
       "  }\n",
       "})(window);"
      ],
      "application/vnd.bokehjs_exec.v0+json": ""
     },
     "metadata": {
      "application/vnd.bokehjs_exec.v0+json": {
       "id": "2792"
      }
     },
     "output_type": "display_data"
    },
    {
     "data": {
      "text/html": [
       "\n",
       "  <div class=\"bk-root\" id=\"f75222e7-dc19-4c7d-b771-a1636eb27cf4\" data-root-id=\"3376\"></div>\n"
      ]
     },
     "metadata": {},
     "output_type": "display_data"
    },
    {
     "data": {
      "application/javascript": [
       "(function(root) {\n",
       "  function embed_document(root) {\n",
       "  const docs_json = {\"2e3c1f7d-9588-47f1-8f51-52ebbc704c8e\":{\"defs\":[],\"roots\":{\"references\":[{\"attributes\":{\"below\":[{\"id\":\"3385\"}],\"center\":[{\"id\":\"3388\"},{\"id\":\"3392\"},{\"id\":\"3424\"}],\"height\":450,\"left\":[{\"id\":\"3389\"}],\"renderers\":[{\"id\":\"3411\"},{\"id\":\"3430\"},{\"id\":\"3450\"},{\"id\":\"3472\"},{\"id\":\"3495\"},{\"id\":\"3521\"},{\"id\":\"3548\"},{\"id\":\"3578\"},{\"id\":\"3609\"},{\"id\":\"3643\"},{\"id\":\"3678\"},{\"id\":\"3716\"},{\"id\":\"3755\"},{\"id\":\"3797\"}],\"title\":{\"id\":\"3413\"},\"toolbar\":{\"id\":\"3400\"},\"width\":900,\"x_range\":{\"id\":\"3377\"},\"x_scale\":{\"id\":\"3381\"},\"y_range\":{\"id\":\"3379\"},\"y_scale\":{\"id\":\"3383\"}},\"id\":\"3376\",\"subtype\":\"Figure\",\"type\":\"Plot\"},{\"attributes\":{},\"id\":\"3749\",\"type\":\"Selection\"},{\"attributes\":{},\"id\":\"3636\",\"type\":\"Selection\"},{\"attributes\":{},\"id\":\"3390\",\"type\":\"BasicTicker\"},{\"attributes\":{\"line_alpha\":0.1,\"line_color\":\"rgb(163, 193, 203)\",\"x\":{\"field\":\"x\"},\"y\":{\"field\":\"y\"}},\"id\":\"3753\",\"type\":\"Line\"},{\"attributes\":{\"label\":{\"value\":\"p mpc 5\"},\"renderers\":[{\"id\":\"3609\"},{\"id\":\"3643\"}]},\"id\":\"3638\",\"type\":\"LegendItem\"},{\"attributes\":{\"coordinates\":null,\"data_source\":{\"id\":\"3751\"},\"glyph\":{\"id\":\"3752\"},\"group\":null,\"hover_glyph\":null,\"muted_glyph\":{\"id\":\"3754\"},\"nonselection_glyph\":{\"id\":\"3753\"},\"view\":{\"id\":\"3756\"}},\"id\":\"3755\",\"type\":\"GlyphRenderer\"},{\"attributes\":{\"data\":{\"x\":{\"__ndarray__\":\"HgAAADwAAABaAAAAeAAAAJYAAAC0AAAA0gAAAPAAAAAOAQAALAEAAEoBAABoAQAAhgEAAKQBAADCAQAA4AEAAP4BAAAcAgAAOgIAAFgCAAB2AgAAlAIAALICAADQAgAA7gIAAAwDAAAqAwAASAMAAGYDAACEAwAAogMAAMADAADeAwAA/AMAABoEAAA4BAAAVgQAAHQEAACSBAAAsAQAAM4EAADsBAAACgUAACgFAABGBQAAZAUAAIIFAACgBQAAvgUAANwFAAD6BQAAGAYAADYGAABUBgAAcgYAAJAGAACuBgAAzAYAAOoGAAAIBwAAJgcAAEQHAABiBwAAgAcAAJ4HAAC8BwAA2gcAAPgHAAAWCAAANAgAAFIIAABwCAAAjggAAKwIAADKCAAA6AgAAAYJAAAkCQAAQgkAAGAJAAB+CQAAnAkAALoJAADYCQAA9gkAABQKAAAyCgAAUAoAAG4KAACMCgAAqgoAAMgKAADmCgAABAsAACILAABACwAAXgsAAHwLAACaCwAAuAsAANYLAAD0CwAAEgwAADAMAABODAAAbAwAAIoMAACoDAAAxgwAAOQMAAACDQAAIA0AAD4NAABcDQAAeg0AAJgNAAC2DQAA1A0AAPINAAAQDgAALg4AAEwOAABqDgAAiA4AAKYOAADEDgAA4g4AAAAPAAAeDwAAPA8AAFoPAAB4DwAAlg8AALQPAADSDwAA8A8AAA4QAAAsEAAAShAAAGgQAACGEAAApBAAAMIQAADgEAAA/hAAAA==\",\"dtype\":\"int32\",\"order\":\"little\",\"shape\":[145]},\"y\":{\"__ndarray__\":\"AAAAAAAAAAAAAAAAAAAAABxin6i2d3VAHGKfqLZ3dUAcYp+otnd1QBxin6i2d3VA1NhfXDO8gEAyL9gzWQSIQDIv2DNZBIhAMi/YM1kEiEC0IdyzzL+QQLQh3LPMv5BAGyi4Pkg8kEArmWwLcDWQQCuZbAtwNZBAzvY7KQq+j0DO9jspCr6PQM72OykKvo9AaZnh2zDujUDtbOv6DrSLQO1s6/oOtItA7Wzr+g60i0B8FhhhTVKKQDU4KqDHNIpANTgqoMc0ikCsG1ugiHKKQKwbW6CIcopA89JnNSBui0Dw0mc1IG6LQPLSZzUgbotAKngvE21KiUAqeC8TbUqJQBNHihJsNIhAE0eKEmw0iECAE7PHAq6JQIATs8cCrolAMYfdbQbXh0Dyr2ht4IyGQD65iwOeC4dAPrmLA54Lh0AnAEbVciOGQCcARtVyI4ZAV8iDafVth0CRKBvFH7aIQL4jiGHEvYlAVVkWbWkPi0CkDmA6G72LQKQOYDobvYtAnIRc5IpajkC+fPznHvyOQLQlZdMhoo9AtCVl0yGij0BaFnWgQtiQQILW7CuhxJBA11rO797jkUCFEDSYKX6SQCt1yQywA5RAeQdgM3Opk0A5kVJ4fXGVQDmRUnh9cZVArfOC1wXxl0Ct84LXBfGXQDMRtmZlk5lAMxG2ZmWTmUA3f/LZ2qeaQDd/8tnap5pAv/jM/pOjnEC/+Mz+k6OcQNpC1esIPp1A2kLV6wg+nUAAtZGSI9GcQAC1kZIj0ZxArBlBfPlXnECsGUF8+VecQE0ghZIo+JpA8WctCJyHmkDGWfw6cEiYQJPUOI5gtZdAtz/SlGbKlECISlePcOaTQLvFR8vF8JBAqM8nfGLAkkDfLH3kWNWQQGPTuhKF0JFAXOnIu7QhkEA8whv24RuSQORm++L8qZFAaFj3yvIwlEB8lx8Zj6WUQJgnkHAsKZdARwujKJRtmEBtK5e2uq2aQGeHuh3H+ptArqBCUDVjnkB6KyRaI7KeQO1Eh+XeVaBAHGzDCRVyn0BnJcVKyWWgQNMip9JqoZ9AW8BhsM1hoEDN+XGPKHKfQLBj81tXH6BAwsa4JYYCnkACgOFJir6eQE0E5aJ8H5xAi9ErkiOsmkCZ4Rg74nOcQPXSD2vhF5lAAcPK+GOAm0AF9XMfcgOZQEQB1yq2FJxAktOmIt18m0CS06Yi3XybQCnZ9hm5HZxAKGOWZKeEnkAtAq70wZedQK9joyNfO59AYtWIG5FTnkCH13Kh9hGfQMaEwRzO8J1Anpc59oW5nkA7xM0Utl6dQKZCmunLXp1Ao63IEwgVnEAswepMtumbQMczjVcFV5pAxzONVwVXmkCbCS7NoV+YQJoJLs2hX5hA5Db4plqrlUBjpPTtv4WUQNJSnGqi+5BAWdBglFnrj0Dqexj0ztKIQL9p8sC8wYhAGt/sRu7Mg0CmXnpboR+BQKZeeluhH4FAAmyR5/bxgUACbJHn9vGBQDKITAbvUoFAMohMBu9SgUBC9BDln4aAQE+yaLVd4YBA1YDruEotgUA=\",\"dtype\":\"float64\",\"order\":\"little\",\"shape\":[145]}},\"selected\":{\"id\":\"3834\"},\"selection_policy\":{\"id\":\"3833\"}},\"id\":\"3793\",\"type\":\"ColumnDataSource\"},{\"attributes\":{\"source\":{\"id\":\"3751\"}},\"id\":\"3756\",\"type\":\"CDSView\"},{\"attributes\":{\"line_alpha\":0.2,\"line_color\":\"rgb(163, 193, 203)\",\"x\":{\"field\":\"x\"},\"y\":{\"field\":\"y\"}},\"id\":\"3754\",\"type\":\"Line\"},{\"attributes\":{},\"id\":\"3672\",\"type\":\"Selection\"},{\"attributes\":{},\"id\":\"3383\",\"type\":\"LinearScale\"},{\"attributes\":{},\"id\":\"3671\",\"type\":\"UnionRenderers\"},{\"attributes\":{},\"id\":\"3789\",\"type\":\"UnionRenderers\"},{\"attributes\":{},\"id\":\"3790\",\"type\":\"Selection\"},{\"attributes\":{\"source\":{\"id\":\"3639\"}},\"id\":\"3644\",\"type\":\"CDSView\"},{\"attributes\":{\"coordinates\":null,\"data_source\":{\"id\":\"3639\"},\"glyph\":{\"id\":\"3640\"},\"group\":null,\"hover_glyph\":null,\"muted_glyph\":{\"id\":\"3642\"},\"nonselection_glyph\":{\"id\":\"3641\"},\"view\":{\"id\":\"3644\"}},\"id\":\"3643\",\"type\":\"GlyphRenderer\"},{\"attributes\":{\"coordinates\":null,\"data_source\":{\"id\":\"3674\"},\"glyph\":{\"id\":\"3675\"},\"group\":null,\"hover_glyph\":null,\"muted_glyph\":{\"id\":\"3677\"},\"nonselection_glyph\":{\"id\":\"3676\"},\"view\":{\"id\":\"3679\"}},\"id\":\"3678\",\"type\":\"GlyphRenderer\"},{\"attributes\":{\"data\":{\"x\":{\"__ndarray__\":\"HgAAAFoAAADSAAAA8AAAAEoBAACGAQAApAEAAOABAAA6AgAAWAIAALICAADQAgAADAMAAEgDAACiAwAA3gMAABoEAABWBAAAkgQAAM4EAAAKBQAARgUAAIIFAAC+BQAA+gUAADYGAAByBgAArgYAAOoGAAAmBwAAYgcAAJ4HAADaBwAAFggAAFIIAACOCAAAyggAAOgIAAAkCQAAYAkAAJwJAADYCQAAFAoAAFAKAACMCgAAyAoAAAQLAABACwAAfAsAALgLAAD0CwAAMAwAAGwMAACKDAAAxgwAAAINAABcDQAAeg0AALYNAADyDQAALg4AAGoOAACmDgAAWg8AAJYPAADSDwAADhAAAEoQAACGEAAAwhAAAP4QAAA6EQAAdhEAALIRAADuEQAAKhIAAGYSAACiEgAAwBIAAA==\",\"dtype\":\"int32\",\"order\":\"little\",\"shape\":[79]},\"y\":{\"__ndarray__\":\"AAAAAAAAAABUZoEGr15rQM0ERGpnvHhAJL9r4DBlgEBnsx66BLqDQKO7JctxuIVAUgD5wB1sh0DppHJIYSeIQNSw6Y2LF4dAWejkYjmphUBsPeArpLOEQNmG/ETn84NAd1AwgTy1g0D3APCnvrCDQFEvDQRl1YBAu/PwCr0Hf0CKEqkDlVGAQHO+YW7prnxAe/uuA966eUA7S1n47Cl5QKUFJ69IYHpAwC+yaAiDfkB2uxzp4HCBQJlOExgNE4NAdkloFLWzhEAU26h01lGHQC4UVHYKkYpAhenY9vWkjkDJQDXO1muRQEJMIZIMMZRAJcoJaeSUlkDtzds0y2mYQCmvB0wyGZpAs7/Vp7c0m0CZ12K3H1SbQNqvPYuv3ZpAzXYY8b+amUAR+1W004OZQPca61+76ZZAyfBWy6jlkkAx/tfP14GPQK70ESiXg4xASwPPlu27i0BEzkFgc4CNQPQNF5Uoo5BA+k4wkd5GlEACODYZgK2XQNyalDCLUppAWuTwufBYnECvngSnK7idQNE4diz4+Z1AL79hg5GRnUDcS3r+Kk+bQKsVXptgCZ1AWVleiHlWnEDW9N3X60acQA4POXLV1ZpACbp+vKD+nECziruHz0ydQAcBKrDB+pxA0kf99Jbim0CAmcsIvXOaQDi6+pS/s5hAQJwHAZE2kkA9DUqvzSKNQMLiSmPKqoRAIWdy+nwTcEDgYNo8kN5jQIqH2aFf1k9AD+xQOrXITUBG1Mxu6qMwQGck/jHOdzJAWj3U/SevM0AFEm7x3IU1QEewLSAqKTdAwA9Z9REnOEDSHSebIKQ4QEZlXPsGVTlAPMXA5K96OkA=\",\"dtype\":\"float64\",\"order\":\"little\",\"shape\":[79]}},\"selected\":{\"id\":\"3422\"},\"selection_policy\":{\"id\":\"3421\"}},\"id\":\"3407\",\"type\":\"ColumnDataSource\"},{\"attributes\":{\"label\":{\"value\":\"p mpc 15\"},\"renderers\":[{\"id\":\"3755\"},{\"id\":\"3797\"}]},\"id\":\"3792\",\"type\":\"LegendItem\"},{\"attributes\":{\"data\":{\"x\":{\"__ndarray__\":\"HgAAAFoAAADSAAAA8AAAAEoBAACGAQAApAEAAOABAAA6AgAAWAIAALICAADQAgAADAMAAEgDAACiAwAA3gMAABoEAABWBAAAkgQAAM4EAAAKBQAARgUAAIIFAAC+BQAA+gUAADYGAAByBgAArgYAAOoGAAAmBwAAYgcAAJ4HAADaBwAAFggAAFIIAACOCAAAyggAAOgIAAAkCQAAYAkAAJwJAADYCQAAFAoAAFAKAACMCgAAyAoAAAQLAABACwAAfAsAALgLAAD0CwAAMAwAAGwMAACKDAAAxgwAAAINAABcDQAAeg0AALYNAADyDQAALg4AAGoOAACmDgAAWg8AAJYPAADSDwAADhAAAEoQAACGEAAAwhAAAP4QAAA6EQAAdhEAALIRAADuEQAAKhIAAGYSAACiEgAAwBIAAA==\",\"dtype\":\"int32\",\"order\":\"little\",\"shape\":[79]},\"y\":{\"__ndarray__\":\"AAAAAAAAAABUZoEGr15rQM0ERGpnvHhAJL9r4DBlgEBnsx66BLqDQKO7JctxuIVAUgD5wB1sh0DppHJIYSeIQNSw6Y2LF4dAWejkYjmphUBsPeArpLOEQNmG/ETn84NAd1AwgTy1g0D3APCnvrCDQFEvDQRl1YBAu/PwCr0Hf0CKEqkDlVGAQHO+YW7prnxAe/uuA966eUA7S1n47Cl5QKUFJ69IYHpAwC+yaAiDfkB2uxzp4HCBQJlOExgNE4NAdkloFLWzhEAU26h01lGHQC4UVHYKkYpAhenY9vWkjkDJQDXO1muRQEJMIZIMMZRAJcoJaeSUlkDtzds0y2mYQCmvB0wyGZpAs7/Vp7c0m0CZ12K3H1SbQNqvPYuv3ZpAzXYY8b+amUAR+1W004OZQPca61+76ZZAyfBWy6jlkkAx/tfP14GPQK70ESiXg4xASwPPlu27i0BEzkFgc4CNQPQNF5Uoo5BA+k4wkd5GlEACODYZgK2XQNyalDCLUppAWuTwufBYnECvngSnK7idQNE4diz4+Z1AL79hg5GRnUDcS3r+Kk+bQKsVXptgCZ1AWVleiHlWnEDW9N3X60acQA4POXLV1ZpACbp+vKD+nECziruHz0ydQAcBKrDB+pxA0kf99Jbim0CAmcsIvXOaQDi6+pS/s5hAQJwHAZE2kkA9DUqvzSKNQMLiSmPKqoRAIWdy+nwTcEDgYNo8kN5jQIqH2aFf1k9AD+xQOrXITUBG1Mxu6qMwQGck/jHOdzJAWj3U/SevM0AFEm7x3IU1QEewLSAqKTdAwA9Z9REnOEDSHSebIKQ4QEZlXPsGVTlAPMXA5K96OkA=\",\"dtype\":\"float64\",\"order\":\"little\",\"shape\":[79]}},\"selected\":{\"id\":\"3443\"},\"selection_policy\":{\"id\":\"3442\"}},\"id\":\"3426\",\"type\":\"ColumnDataSource\"},{\"attributes\":{\"fill_alpha\":{\"value\":0.1},\"fill_color\":{\"value\":\"rgb(182, 31, 179)\"},\"hatch_alpha\":{\"value\":0.1},\"hatch_color\":{\"value\":\"rgb(182, 31, 179)\"},\"line_alpha\":{\"value\":0.1},\"line_color\":{\"value\":\"rgb(182, 31, 179)\"},\"x\":{\"field\":\"x\"},\"y\":{\"field\":\"y\"}},\"id\":\"3641\",\"type\":\"Circle\"},{\"attributes\":{\"fill_alpha\":{\"value\":0.2},\"fill_color\":{\"value\":\"rgb(182, 31, 179)\"},\"hatch_alpha\":{\"value\":0.2},\"hatch_color\":{\"value\":\"rgb(182, 31, 179)\"},\"line_alpha\":{\"value\":0.2},\"line_color\":{\"value\":\"rgb(182, 31, 179)\"},\"x\":{\"field\":\"x\"},\"y\":{\"field\":\"y\"}},\"id\":\"3642\",\"type\":\"Circle\"},{\"attributes\":{\"source\":{\"id\":\"3793\"}},\"id\":\"3798\",\"type\":\"CDSView\"},{\"attributes\":{\"axis\":{\"id\":\"3385\"},\"coordinates\":null,\"group\":null,\"ticker\":null},\"id\":\"3388\",\"type\":\"Grid\"},{\"attributes\":{\"line_color\":\"rgb(130, 97, 244)\",\"x\":{\"field\":\"x\"},\"y\":{\"field\":\"y\"}},\"id\":\"3675\",\"type\":\"Line\"},{\"attributes\":{\"fill_color\":{\"value\":\"rgb(163, 193, 203)\"},\"hatch_color\":{\"value\":\"rgb(163, 193, 203)\"},\"line_color\":{\"value\":\"rgb(163, 193, 203)\"},\"x\":{\"field\":\"x\"},\"y\":{\"field\":\"y\"}},\"id\":\"3794\",\"type\":\"Circle\"},{\"attributes\":{},\"id\":\"3379\",\"type\":\"DataRange1d\"},{\"attributes\":{\"label\":{\"value\":\"p mpc 10\"},\"renderers\":[{\"id\":\"3678\"},{\"id\":\"3716\"}]},\"id\":\"3711\",\"type\":\"LegendItem\"},{\"attributes\":{},\"id\":\"3377\",\"type\":\"DataRange1d\"},{\"attributes\":{\"data\":{\"x\":{\"__ndarray__\":\"HgAAAFoAAADSAAAA8AAAAEoBAACGAQAApAEAAOABAAA6AgAAWAIAALICAADQAgAADAMAAEgDAACiAwAA3gMAABoEAABWBAAAkgQAAM4EAAAKBQAARgUAAIIFAAC+BQAA+gUAADYGAAByBgAArgYAAOoGAAAmBwAAYgcAAJ4HAADaBwAAFggAAFIIAACOCAAAyggAAOgIAAAkCQAAYAkAAJwJAADYCQAAFAoAAFAKAACMCgAAyAoAAAQLAABACwAAfAsAALgLAAD0CwAAMAwAAGwMAACKDAAAxgwAAAINAABcDQAAeg0AALYNAADyDQAALg4AAGoOAACmDgAAWg8AAJYPAADSDwAADhAAAEoQAACGEAAAwhAAAP4QAAA6EQAAdhEAALIRAADuEQAAKhIAAGYSAACiEgAAwBIAAA==\",\"dtype\":\"int32\",\"order\":\"little\",\"shape\":[79]},\"y\":{\"__ndarray__\":\"AAAAAAAAAAC7BsArhndJQHVd0fiDzXpA/lnUu6xUgUBWk3h83jGLQB+s0joUzI1AX4P7Iap0j0Drt0B0DTCQQI69BNQFJo9ApbHeRmj7jEDjpGAf1uaLQPkASTnmrIpAvLt3/vzYikCHLr3lxZCJQGmUCel2XodABmEgqRRJhUCcnKNizWKFQJOEJ7XpsoRA1sY/XVRmg0DwXe46wEGBQLfPHP9Ml4JAolXSRe7YhEAwhPMU4IWGQPrsWF+5gohAqoaccJZQiUBdCcZOsjOLQAu+4hd6ZotAhejsvxzgjkCwo4S/x7SQQMTjty2owpJA5pvMUKpFlECqRnV9qqmVQMUlnzSIN5ZAUQRolSWGmEB0C8otsfmYQI29xmx37JhAEhoZtOtqmEB7rd+IzHmYQBhmhSHLAZZAl0duC5J6k0Be5HQebzaQQNzlpF7fTo1AEYZ7OAPijECuOjw7FwqOQNInI4V3PZBASxgBHwHPk0BCHAHmTSqXQM9cd367yZpAsjm9m274nUCqRa8ZoJSeQHhqNZgmdZ5AZ4SAmbLMnUC6+tLTGsWbQFMhy2uAm51AZ8VgH0oKnkACA/7VfpSeQIJ6LzZpeZxATObIyom6nkAZHNWCtRSgQJxTMleGzZ9ATNmehr67nUC0fEj4dOmbQJ/TPeXbf5pAED47ia5VlECjcd5rj02PQO/ZrJkdrYdAp6VlRsW/gEB+uQTc3dx+QLHVRGsklIBA2easBFNtf0C1UnBvjo+AQHPKUt+LnYBAf0go57ipgEA8vP3Gb7N/QAeLhl81Y35AnovL1uiNekBXznbGhGd6QMMt6VjwYHtAaFDsfB1ZfUA=\",\"dtype\":\"float64\",\"order\":\"little\",\"shape\":[79]}},\"selected\":{\"id\":\"3465\"},\"selection_policy\":{\"id\":\"3464\"}},\"id\":\"3446\",\"type\":\"ColumnDataSource\"},{\"attributes\":{\"line_alpha\":0.2,\"line_color\":\"rgb(130, 97, 244)\",\"x\":{\"field\":\"x\"},\"y\":{\"field\":\"y\"}},\"id\":\"3677\",\"type\":\"Line\"},{\"attributes\":{},\"id\":\"3834\",\"type\":\"Selection\"},{\"attributes\":{\"line_alpha\":0.1,\"line_color\":\"rgb(130, 97, 244)\",\"x\":{\"field\":\"x\"},\"y\":{\"field\":\"y\"}},\"id\":\"3676\",\"type\":\"Line\"},{\"attributes\":{\"coordinates\":null,\"data_source\":{\"id\":\"3793\"},\"glyph\":{\"id\":\"3794\"},\"group\":null,\"hover_glyph\":null,\"muted_glyph\":{\"id\":\"3796\"},\"nonselection_glyph\":{\"id\":\"3795\"},\"view\":{\"id\":\"3798\"}},\"id\":\"3797\",\"type\":\"GlyphRenderer\"},{\"attributes\":{\"axis_label\":\"privacy\",\"coordinates\":null,\"formatter\":{\"id\":\"3416\"},\"group\":null,\"major_label_policy\":{\"id\":\"3417\"},\"ticker\":{\"id\":\"3390\"}},\"id\":\"3389\",\"type\":\"LinearAxis\"},{\"attributes\":{\"source\":{\"id\":\"3674\"}},\"id\":\"3679\",\"type\":\"CDSView\"},{\"attributes\":{\"axis_label\":\"time [s]\",\"coordinates\":null,\"formatter\":{\"id\":\"3419\"},\"group\":null,\"major_label_policy\":{\"id\":\"3420\"},\"ticker\":{\"id\":\"3386\"}},\"id\":\"3385\",\"type\":\"LinearAxis\"},{\"attributes\":{},\"id\":\"3748\",\"type\":\"UnionRenderers\"},{\"attributes\":{},\"id\":\"3833\",\"type\":\"UnionRenderers\"},{\"attributes\":{},\"id\":\"3708\",\"type\":\"UnionRenderers\"},{\"attributes\":{\"fill_alpha\":{\"value\":0.1},\"fill_color\":{\"value\":\"rgb(163, 193, 203)\"},\"hatch_alpha\":{\"value\":0.1},\"hatch_color\":{\"value\":\"rgb(163, 193, 203)\"},\"line_alpha\":{\"value\":0.1},\"line_color\":{\"value\":\"rgb(163, 193, 203)\"},\"x\":{\"field\":\"x\"},\"y\":{\"field\":\"y\"}},\"id\":\"3795\",\"type\":\"Circle\"},{\"attributes\":{\"line_color\":\"rgb(182, 163, 188)\",\"x\":{\"field\":\"x\"},\"y\":{\"field\":\"y\"}},\"id\":\"3545\",\"type\":\"Line\"},{\"attributes\":{\"fill_alpha\":{\"value\":0.2},\"fill_color\":{\"value\":\"rgb(163, 193, 203)\"},\"hatch_alpha\":{\"value\":0.2},\"hatch_color\":{\"value\":\"rgb(163, 193, 203)\"},\"line_alpha\":{\"value\":0.2},\"line_color\":{\"value\":\"rgb(163, 193, 203)\"},\"x\":{\"field\":\"x\"},\"y\":{\"field\":\"y\"}},\"id\":\"3796\",\"type\":\"Circle\"},{\"attributes\":{},\"id\":\"3709\",\"type\":\"Selection\"},{\"attributes\":{\"line_color\":\"orange\",\"x\":{\"field\":\"x\"},\"y\":{\"field\":\"y\"}},\"id\":\"3447\",\"type\":\"Line\"},{\"attributes\":{\"data\":{\"x\":{\"__ndarray__\":\"HgAAADwAAABaAAAAeAAAAJYAAAC0AAAA0gAAAPAAAAAOAQAALAEAAEoBAABoAQAAhgEAAKQBAADCAQAA4AEAAP4BAAAcAgAAOgIAAFgCAAB2AgAAlAIAALICAADQAgAA7gIAAAwDAAAqAwAASAMAAGYDAACEAwAAogMAAMADAADeAwAA/AMAABoEAAA4BAAAVgQAAHQEAACSBAAAsAQAAM4EAADsBAAACgUAACgFAABGBQAAZAUAAIIFAACgBQAAvgUAANwFAAD6BQAAGAYAADYGAABUBgAAcgYAAJAGAACuBgAAzAYAAOoGAAAIBwAAJgcAAEQHAABiBwAAgAcAAJ4HAAC8BwAA2gcAAPgHAAAWCAAANAgAAFIIAABwCAAAjggAAKwIAADKCAAA6AgAAAYJAAAkCQAAQgkAAGAJAAB+CQAAnAkAALoJAADYCQAA9gkAABQKAAAyCgAAUAoAAG4KAACMCgAAqgoAAMgKAADmCgAABAsAACILAABACwAAXgsAAHwLAACaCwAAuAsAANYLAAD0CwAAEgwAADAMAABODAAAbAwAAIoMAACoDAAAxgwAAOQMAAACDQAAIA0AAD4NAABcDQAAeg0AAJgNAAC2DQAA1A0AAPINAAAQDgAALg4AAEwOAABqDgAAiA4AAKYOAADEDgAA4g4AAAAPAAAeDwAAPA8AAFoPAAB4DwAAlg8AALQPAADSDwAA8A8AAA4QAAAsEAAAShAAAGgQAACGEAAApBAAAMIQAADgEAAA/hAAAA==\",\"dtype\":\"int32\",\"order\":\"little\",\"shape\":[145]},\"y\":{\"__ndarray__\":\"AAAAAAAAAAAAAAAAAAAAABxin6i2d3VAHGKfqLZ3dUAcYp+otnd1QBxin6i2d3VA1NhfXDO8gEAyL9gzWQSIQDIv2DNZBIhAMi/YM1kEiEC0IdyzzL+QQLQh3LPMv5BAGyi4Pkg8kEArmWwLcDWQQCuZbAtwNZBAzvY7KQq+j0DO9jspCr6PQM72OykKvo9AaZnh2zDujUDtbOv6DrSLQO1s6/oOtItA7Wzr+g60i0B8FhhhTVKKQDU4KqDHNIpANTgqoMc0ikCsG1ugiHKKQKwbW6CIcopA89JnNSBui0Dw0mc1IG6LQPLSZzUgbotAKngvE21KiUAqeC8TbUqJQBNHihJsNIhAE0eKEmw0iECAE7PHAq6JQIATs8cCrolAMYfdbQbXh0Dyr2ht4IyGQD65iwOeC4dAPrmLA54Lh0AnAEbVciOGQCcARtVyI4ZAV8iDafVth0CRKBvFH7aIQL4jiGHEvYlAVVkWbWkPi0CkDmA6G72LQKQOYDobvYtAnIRc5IpajkC+fPznHvyOQLQlZdMhoo9AtCVl0yGij0BaFnWgQtiQQILW7CuhxJBA11rO797jkUCFEDSYKX6SQCt1yQywA5RAeQdgM3Opk0A5kVJ4fXGVQDmRUnh9cZVArfOC1wXxl0Ct84LXBfGXQDMRtmZlk5lAMxG2ZmWTmUA3f/LZ2qeaQDd/8tnap5pAv/jM/pOjnEC/+Mz+k6OcQNpC1esIPp1A2kLV6wg+nUAAtZGSI9GcQAC1kZIj0ZxArBlBfPlXnECsGUF8+VecQE0ghZIo+JpA8WctCJyHmkDGWfw6cEiYQJPUOI5gtZdAtz/SlGbKlECISlePcOaTQLvFR8vF8JBAqM8nfGLAkkDfLH3kWNWQQGPTuhKF0JFAXOnIu7QhkEA8whv24RuSQORm++L8qZFAaFj3yvIwlEB8lx8Zj6WUQJgnkHAsKZdARwujKJRtmEBtK5e2uq2aQGeHuh3H+ptArqBCUDVjnkB6KyRaI7KeQO1Eh+XeVaBAHGzDCRVyn0BnJcVKyWWgQNMip9JqoZ9AW8BhsM1hoEDN+XGPKHKfQLBj81tXH6BAwsa4JYYCnkACgOFJir6eQE0E5aJ8H5xAi9ErkiOsmkCZ4Rg74nOcQPXSD2vhF5lAAcPK+GOAm0AF9XMfcgOZQEQB1yq2FJxAktOmIt18m0CS06Yi3XybQCnZ9hm5HZxAKGOWZKeEnkAtAq70wZedQK9joyNfO59AYtWIG5FTnkCH13Kh9hGfQMaEwRzO8J1Anpc59oW5nkA7xM0Utl6dQKZCmunLXp1Ao63IEwgVnEAswepMtumbQMczjVcFV5pAxzONVwVXmkCbCS7NoV+YQJoJLs2hX5hA5Db4plqrlUBjpPTtv4WUQNJSnGqi+5BAWdBglFnrj0Dqexj0ztKIQL9p8sC8wYhAGt/sRu7Mg0CmXnpboR+BQKZeeluhH4FAAmyR5/bxgUACbJHn9vGBQDKITAbvUoFAMohMBu9SgUBC9BDln4aAQE+yaLVd4YBA1YDruEotgUA=\",\"dtype\":\"float64\",\"order\":\"little\",\"shape\":[145]}},\"selected\":{\"id\":\"3790\"},\"selection_policy\":{\"id\":\"3789\"}},\"id\":\"3751\",\"type\":\"ColumnDataSource\"},{\"attributes\":{\"coordinates\":null,\"data_source\":{\"id\":\"3712\"},\"glyph\":{\"id\":\"3713\"},\"group\":null,\"hover_glyph\":null,\"muted_glyph\":{\"id\":\"3715\"},\"nonselection_glyph\":{\"id\":\"3714\"},\"view\":{\"id\":\"3717\"}},\"id\":\"3716\",\"type\":\"GlyphRenderer\"},{\"attributes\":{\"fill_color\":{\"value\":\"rgb(130, 97, 244)\"},\"hatch_color\":{\"value\":\"rgb(130, 97, 244)\"},\"line_color\":{\"value\":\"rgb(130, 97, 244)\"},\"x\":{\"field\":\"x\"},\"y\":{\"field\":\"y\"}},\"id\":\"3713\",\"type\":\"Circle\"},{\"attributes\":{},\"id\":\"3386\",\"type\":\"BasicTicker\"},{\"attributes\":{\"fill_alpha\":{\"value\":0.1},\"fill_color\":{\"value\":\"rgb(130, 97, 244)\"},\"hatch_alpha\":{\"value\":0.1},\"hatch_color\":{\"value\":\"rgb(130, 97, 244)\"},\"line_alpha\":{\"value\":0.1},\"line_color\":{\"value\":\"rgb(130, 97, 244)\"},\"x\":{\"field\":\"x\"},\"y\":{\"field\":\"y\"}},\"id\":\"3714\",\"type\":\"Circle\"},{\"attributes\":{\"source\":{\"id\":\"3712\"}},\"id\":\"3717\",\"type\":\"CDSView\"},{\"attributes\":{\"fill_color\":{\"value\":\"navy\"},\"hatch_color\":{\"value\":\"navy\"},\"line_color\":{\"value\":\"navy\"},\"x\":{\"field\":\"x\"},\"y\":{\"field\":\"y\"}},\"id\":\"3427\",\"type\":\"Circle\"},{\"attributes\":{\"line_alpha\":0.2,\"line_color\":\"navy\",\"x\":{\"field\":\"x\"},\"y\":{\"field\":\"y\"}},\"id\":\"3410\",\"type\":\"Line\"},{\"attributes\":{\"line_alpha\":0.1,\"line_color\":\"navy\",\"x\":{\"field\":\"x\"},\"y\":{\"field\":\"y\"}},\"id\":\"3409\",\"type\":\"Line\"},{\"attributes\":{\"line_color\":\"rgb(163, 193, 203)\",\"x\":{\"field\":\"x\"},\"y\":{\"field\":\"y\"}},\"id\":\"3752\",\"type\":\"Line\"},{\"attributes\":{},\"id\":\"3381\",\"type\":\"LinearScale\"},{\"attributes\":{\"fill_alpha\":{\"value\":0.2},\"fill_color\":{\"value\":\"rgb(130, 97, 244)\"},\"hatch_alpha\":{\"value\":0.2},\"hatch_color\":{\"value\":\"rgb(130, 97, 244)\"},\"line_alpha\":{\"value\":0.2},\"line_color\":{\"value\":\"rgb(130, 97, 244)\"},\"x\":{\"field\":\"x\"},\"y\":{\"field\":\"y\"}},\"id\":\"3715\",\"type\":\"Circle\"},{\"attributes\":{\"coordinates\":null,\"group\":null},\"id\":\"3413\",\"type\":\"Title\"},{\"attributes\":{\"tools\":[{\"id\":\"3393\"},{\"id\":\"3394\"},{\"id\":\"3395\"},{\"id\":\"3396\"},{\"id\":\"3397\"},{\"id\":\"3398\"}]},\"id\":\"3400\",\"type\":\"Toolbar\"},{\"attributes\":{\"data\":{\"x\":{\"__ndarray__\":\"HgAAADwAAABaAAAAeAAAAJYAAAC0AAAA0gAAAPAAAAAOAQAALAEAAEoBAABoAQAAhgEAAKQBAADCAQAA4AEAAP4BAAAcAgAAOgIAAFgCAAB2AgAAlAIAALICAADQAgAA7gIAAAwDAAAqAwAASAMAAGYDAACEAwAAogMAAMADAADeAwAA/AMAABoEAAA4BAAAVgQAAHQEAACSBAAAsAQAAM4EAADsBAAACgUAACgFAABGBQAAZAUAAIIFAACgBQAAvgUAANwFAAD6BQAAGAYAADYGAABUBgAAcgYAAJAGAACuBgAAzAYAAOoGAAAIBwAAJgcAAEQHAABiBwAAgAcAAJ4HAAC8BwAA2gcAAPgHAAAWCAAANAgAAFIIAABwCAAAjggAAKwIAADKCAAA6AgAAAYJAAAkCQAAQgkAAGAJAAB+CQAAnAkAALoJAADYCQAA9gkAABQKAAAyCgAAUAoAAG4KAACMCgAAqgoAAMgKAADmCgAABAsAACILAABACwAAXgsAAHwLAACaCwAAuAsAANYLAAD0CwAAEgwAADAMAABODAAAbAwAAIoMAACoDAAAxgwAAOQMAAACDQAAIA0AAD4NAABcDQAAeg0AAJgNAAC2DQAA1A0AAPINAAAQDgAALg4AAEwOAABqDgAAiA4AAKYOAADEDgAA4g4AAAAPAAAeDwAAPA8AAFoPAAB4DwAAlg8AALQPAADSDwAA8A8AAA4QAAAsEAAAShAAAGgQAACGEAAApBAAAMIQAADgEAAA/hAAABwRAAA6EQAAWBEAAHYRAACUEQAAshEAANARAADuEQAADBIAACoSAABIEgAAZhIAAIQSAACiEgAA\",\"dtype\":\"int32\",\"order\":\"little\",\"shape\":[159]},\"y\":{\"__ndarray__\":\"AAAAAAAAAAAAAAAAAAAAADX2JheVMntANfYmF5Uye0A19iYXlTJ7QDX2JheVMntAa+rD0+Xsf0Do1viN9ZaFQOjW+I31loVA6Nb4jfWWhUDtVUlVO26OQO1VSVU7bo5AOHe6zibfjEB4+/Jou36MQHj78mi7foxAgeWEvP/Ii0CB5YS8/8iLQIHlhLz/yItAMv1OYNhGikDeGMPDZVWIQN4Yw8NlVYhA3hjDw2VViEA8iUT14UyHQHeOPd9df4dAd449311/h0Auk0b278iHQC6TRvbvyIdAWW4LtePRiEBZbgu149GIQFluC7Xj0YhAKiaNcvVxhkAqJo1y9XGGQArVfWfTJoZACtV9Z9MmhkBmetdXkKKHQGZ611eQoodAloSePJbRhUCpoUsvpVCFQJxWk+q1GoZAm1aT6rUahkD2zU0CR6uFQPbNTQJHq4VAUwkZtSP4hkDOWY39blOIQAv9bcobYYlA4PnxVKyuikB8fZjoyFSLQHx9mOjIVItA/tZvvbnojUBnUfJd4JuOQKmDbjMgL49AqYNuMyAvj0DmMedhYJaQQF6zKC1zwpBAJ79Cy+fKkUA5LBZI8xOSQI0mGM2Gj5NAqX6IQQgbk0APoZw0y+mUQA+hnDTL6ZRAxepHxIVYl0DF6kfEhViXQHzfPnkU3JhAfN8+eRTcmEBcw5ZiL9iZQFzDlmIv2JlALHx3EqPNm0AsfHcSo82bQM01Uah7wpxAzTVRqHvCnEAwuzadk1KcQDC7Np2TUpxA7pRTMyjVm0DulFMzKNWbQN9MoBTDbppAAS6FocUFmkDDbLFtFbqXQC2JOjlsKpdAoVa4P5CKlEAXOOqSma2TQIuwvvqLxpBAN6MiYcOYkkDrEk4NY6+QQOLz3+ruqpFAV6kA/EoXkEBSXZr1ow+SQKqb8y2Im5FAxqovEkgolED9+CE0+ZqUQN8T5DpvJJdAQBE6zn9omEAR+wCewKWaQKHu0R4U85tA57Q4qy5fnkBChzlOC66eQCgyDHoZVKBAkr6Z7j1un0D6BTL802OgQC0e/ws3n59AbT1yx1ZgoEDjgGQzn22fQOp2CSYeIqBAFM/1x9cBnkDijwgm2L2eQIxoDfzSCZxA0S6OL0KLmkDRQzZKw2OcQL4vXmD/C5lAWha0T0l7m0Bkjw+jB/iYQKMRIPC3+JtAPtwDndVNm0A+3AOd1U2bQC0d7cclvptAONJaQiAZnkDhVHkhkhqdQJhTPOmrwJ5AJGV48k7PnUAMynGo9JGeQOHcuNAKZp1AlVCrScsxnkBszZCTKcacQPYJbJr4yJxAJSJsWe9qm0BH1e4wrF2bQN0BBlw/s5lA3QEGXD+zmUCYXoIUi6GXQJleghSLoZdAawxdhU/UlEAt/evTS+CTQJmUtXLpb5BAWsypqmJbj0CnnrWOALCHQDMLfhftEYhAEQOqDb8YgkA/jLoXZ5x+QD+MuhdnnH5ALslwLCVRgEAuyXAsJVGAQB+Uh4VtlYBAH5SHhW2VgEDiLQDT8g2AQEyVyNhFTYBAr+m/VvTdgECv6b9W9N2AQIpP6i4vlIFAik/qLi+UgUB+CSj5S86BQH4JKPlLzoFA0YEA0eXigEDRgQDR5eKAQMSVHdNTeIBAxJUd01N4gEAmwT4jvXx+QCbBPiO9fH5A+cPE9xq0fkD5w8T3GrR+QPVFdvO0qn5A\",\"dtype\":\"float64\",\"order\":\"little\",\"shape\":[159]}},\"selected\":{\"id\":\"3514\"},\"selection_policy\":{\"id\":\"3513\"}},\"id\":\"3491\",\"type\":\"ColumnDataSource\"},{\"attributes\":{\"coordinates\":null,\"data_source\":{\"id\":\"3407\"},\"glyph\":{\"id\":\"3408\"},\"group\":null,\"hover_glyph\":null,\"muted_glyph\":{\"id\":\"3410\"},\"nonselection_glyph\":{\"id\":\"3409\"},\"view\":{\"id\":\"3412\"}},\"id\":\"3411\",\"type\":\"GlyphRenderer\"},{\"attributes\":{\"fill_alpha\":{\"value\":0.1},\"fill_color\":{\"value\":\"rgb(65, 227, 238)\"},\"hatch_alpha\":{\"value\":0.1},\"hatch_color\":{\"value\":\"rgb(65, 227, 238)\"},\"line_alpha\":{\"value\":0.1},\"line_color\":{\"value\":\"rgb(65, 227, 238)\"},\"x\":{\"field\":\"x\"},\"y\":{\"field\":\"y\"}},\"id\":\"3519\",\"type\":\"Circle\"},{\"attributes\":{\"label\":{\"value\":\"p GeoI\"},\"renderers\":[{\"id\":\"3450\"},{\"id\":\"3472\"}]},\"id\":\"3467\",\"type\":\"LegendItem\"},{\"attributes\":{\"coordinates\":null,\"data_source\":{\"id\":\"3446\"},\"glyph\":{\"id\":\"3447\"},\"group\":null,\"hover_glyph\":null,\"muted_glyph\":{\"id\":\"3449\"},\"nonselection_glyph\":{\"id\":\"3448\"},\"view\":{\"id\":\"3451\"}},\"id\":\"3450\",\"type\":\"GlyphRenderer\"},{\"attributes\":{},\"id\":\"3393\",\"type\":\"PanTool\"},{\"attributes\":{\"line_color\":\"navy\",\"x\":{\"field\":\"x\"},\"y\":{\"field\":\"y\"}},\"id\":\"3408\",\"type\":\"Line\"},{\"attributes\":{\"source\":{\"id\":\"3446\"}},\"id\":\"3451\",\"type\":\"CDSView\"},{\"attributes\":{},\"id\":\"3397\",\"type\":\"ResetTool\"},{\"attributes\":{},\"id\":\"3541\",\"type\":\"UnionRenderers\"},{\"attributes\":{\"line_alpha\":0.1,\"line_color\":\"orange\",\"x\":{\"field\":\"x\"},\"y\":{\"field\":\"y\"}},\"id\":\"3448\",\"type\":\"Line\"},{\"attributes\":{},\"id\":\"3394\",\"type\":\"WheelZoomTool\"},{\"attributes\":{\"source\":{\"id\":\"3517\"}},\"id\":\"3522\",\"type\":\"CDSView\"},{\"attributes\":{\"overlay\":{\"id\":\"3399\"}},\"id\":\"3395\",\"type\":\"BoxZoomTool\"},{\"attributes\":{\"coordinates\":null,\"data_source\":{\"id\":\"3517\"},\"glyph\":{\"id\":\"3518\"},\"group\":null,\"hover_glyph\":null,\"muted_glyph\":{\"id\":\"3520\"},\"nonselection_glyph\":{\"id\":\"3519\"},\"view\":{\"id\":\"3522\"}},\"id\":\"3521\",\"type\":\"GlyphRenderer\"},{\"attributes\":{\"line_alpha\":0.2,\"line_color\":\"orange\",\"x\":{\"field\":\"x\"},\"y\":{\"field\":\"y\"}},\"id\":\"3449\",\"type\":\"Line\"},{\"attributes\":{\"fill_alpha\":{\"value\":0.2},\"fill_color\":{\"value\":\"rgb(65, 227, 238)\"},\"hatch_alpha\":{\"value\":0.2},\"hatch_color\":{\"value\":\"rgb(65, 227, 238)\"},\"line_alpha\":{\"value\":0.2},\"line_color\":{\"value\":\"rgb(65, 227, 238)\"},\"x\":{\"field\":\"x\"},\"y\":{\"field\":\"y\"}},\"id\":\"3520\",\"type\":\"Circle\"},{\"attributes\":{},\"id\":\"3396\",\"type\":\"SaveTool\"},{\"attributes\":{\"source\":{\"id\":\"3407\"}},\"id\":\"3412\",\"type\":\"CDSView\"},{\"attributes\":{\"line_alpha\":0.1,\"line_color\":\"rgb(182, 163, 188)\",\"x\":{\"field\":\"x\"},\"y\":{\"field\":\"y\"}},\"id\":\"3546\",\"type\":\"Line\"},{\"attributes\":{},\"id\":\"3464\",\"type\":\"UnionRenderers\"},{\"attributes\":{},\"id\":\"3542\",\"type\":\"Selection\"},{\"attributes\":{},\"id\":\"3398\",\"type\":\"HelpTool\"},{\"attributes\":{},\"id\":\"3465\",\"type\":\"Selection\"},{\"attributes\":{\"fill_color\":{\"value\":\"orange\"},\"hatch_color\":{\"value\":\"orange\"},\"line_color\":{\"value\":\"orange\"},\"x\":{\"field\":\"x\"},\"y\":{\"field\":\"y\"}},\"id\":\"3469\",\"type\":\"Circle\"},{\"attributes\":{\"label\":{\"value\":\"p \"},\"renderers\":[{\"id\":\"3430\"}]},\"id\":\"3445\",\"type\":\"LegendItem\"},{\"attributes\":{\"label\":{\"value\":\"p mpc 2\"},\"renderers\":[{\"id\":\"3548\"},{\"id\":\"3578\"}]},\"id\":\"3573\",\"type\":\"LegendItem\"},{\"attributes\":{\"coordinates\":null,\"data_source\":{\"id\":\"3544\"},\"glyph\":{\"id\":\"3545\"},\"group\":null,\"hover_glyph\":null,\"muted_glyph\":{\"id\":\"3547\"},\"nonselection_glyph\":{\"id\":\"3546\"},\"view\":{\"id\":\"3549\"}},\"id\":\"3548\",\"type\":\"GlyphRenderer\"},{\"attributes\":{\"source\":{\"id\":\"3544\"}},\"id\":\"3549\",\"type\":\"CDSView\"},{\"attributes\":{\"line_alpha\":0.2,\"line_color\":\"rgb(182, 163, 188)\",\"x\":{\"field\":\"x\"},\"y\":{\"field\":\"y\"}},\"id\":\"3547\",\"type\":\"Line\"},{\"attributes\":{\"bottom_units\":\"screen\",\"coordinates\":null,\"fill_alpha\":0.5,\"fill_color\":\"lightgrey\",\"group\":null,\"left_units\":\"screen\",\"level\":\"overlay\",\"line_alpha\":1.0,\"line_color\":\"black\",\"line_dash\":[4,4],\"line_width\":2,\"right_units\":\"screen\",\"syncable\":false,\"top_units\":\"screen\"},\"id\":\"3399\",\"type\":\"BoxAnnotation\"},{\"attributes\":{},\"id\":\"3488\",\"type\":\"UnionRenderers\"},{\"attributes\":{},\"id\":\"3570\",\"type\":\"UnionRenderers\"},{\"attributes\":{\"coordinates\":null,\"data_source\":{\"id\":\"3468\"},\"glyph\":{\"id\":\"3469\"},\"group\":null,\"hover_glyph\":null,\"muted_glyph\":{\"id\":\"3471\"},\"nonselection_glyph\":{\"id\":\"3470\"},\"view\":{\"id\":\"3473\"}},\"id\":\"3472\",\"type\":\"GlyphRenderer\"},{\"attributes\":{},\"id\":\"3489\",\"type\":\"Selection\"},{\"attributes\":{\"source\":{\"id\":\"3468\"}},\"id\":\"3473\",\"type\":\"CDSView\"},{\"attributes\":{},\"id\":\"3417\",\"type\":\"AllLabels\"},{\"attributes\":{},\"id\":\"3571\",\"type\":\"Selection\"},{\"attributes\":{},\"id\":\"3419\",\"type\":\"BasicTickFormatter\"},{\"attributes\":{\"coordinates\":null,\"data_source\":{\"id\":\"3491\"},\"glyph\":{\"id\":\"3492\"},\"group\":null,\"hover_glyph\":null,\"muted_glyph\":{\"id\":\"3494\"},\"nonselection_glyph\":{\"id\":\"3493\"},\"view\":{\"id\":\"3496\"}},\"id\":\"3495\",\"type\":\"GlyphRenderer\"},{\"attributes\":{\"fill_alpha\":{\"value\":0.1},\"fill_color\":{\"value\":\"orange\"},\"hatch_alpha\":{\"value\":0.1},\"hatch_color\":{\"value\":\"orange\"},\"line_alpha\":{\"value\":0.1},\"line_color\":{\"value\":\"orange\"},\"x\":{\"field\":\"x\"},\"y\":{\"field\":\"y\"}},\"id\":\"3470\",\"type\":\"Circle\"},{\"attributes\":{\"fill_alpha\":{\"value\":0.2},\"fill_color\":{\"value\":\"orange\"},\"hatch_alpha\":{\"value\":0.2},\"hatch_color\":{\"value\":\"orange\"},\"line_alpha\":{\"value\":0.2},\"line_color\":{\"value\":\"orange\"},\"x\":{\"field\":\"x\"},\"y\":{\"field\":\"y\"}},\"id\":\"3471\",\"type\":\"Circle\"},{\"attributes\":{},\"id\":\"3416\",\"type\":\"BasicTickFormatter\"},{\"attributes\":{\"data\":{\"x\":{\"__ndarray__\":\"HgAAADwAAABaAAAAeAAAAJYAAAC0AAAA0gAAAPAAAAAOAQAALAEAAEoBAABoAQAAhgEAAKQBAADCAQAA4AEAAP4BAAAcAgAAOgIAAFgCAAB2AgAAlAIAALICAADQAgAA7gIAAAwDAAAqAwAASAMAAGYDAACEAwAAogMAAMADAADeAwAA/AMAABoEAAA4BAAAVgQAAHQEAACSBAAAsAQAAM4EAADsBAAACgUAACgFAABGBQAAZAUAAIIFAACgBQAAvgUAANwFAAD6BQAAGAYAADYGAABUBgAAcgYAAJAGAACuBgAAzAYAAOoGAAAIBwAAJgcAAEQHAABiBwAAgAcAAJ4HAAC8BwAA2gcAAPgHAAAWCAAANAgAAFIIAABwCAAAjggAAKwIAADKCAAA6AgAAAYJAAAkCQAAQgkAAGAJAAB+CQAAnAkAALoJAADYCQAA9gkAABQKAAAyCgAAUAoAAG4KAACMCgAAqgoAAMgKAADmCgAABAsAACILAABACwAAXgsAAHwLAACaCwAAuAsAANYLAAD0CwAAEgwAADAMAABODAAAbAwAAIoMAACoDAAAxgwAAOQMAAACDQAAIA0AAD4NAABcDQAAeg0AAJgNAAC2DQAA1A0AAPINAAAQDgAALg4AAEwOAABqDgAAiA4AAKYOAADEDgAA4g4AAAAPAAAeDwAAPA8AAFoPAAB4DwAAlg8AALQPAADSDwAA8A8AAA4QAAAsEAAAShAAAGgQAACGEAAApBAAAMIQAADgEAAA/hAAABwRAAA6EQAAWBEAAHYRAACUEQAA\",\"dtype\":\"int32\",\"order\":\"little\",\"shape\":[150]},\"y\":{\"__ndarray__\":\"AAAAAAAAAAAAAAAAAAAAAPCSr7XsQHhA8JKvtexAeEDwkq+17EB4QPCSr7XsQHhAAwlKOTLzgEDgCGyq3xaIQOAIbKrfFohA4Ahsqt8WiECmVdi02ZGQQKZV2LTZkZBASCs4K3Grj0Cglw4SOFOPQKCXDhI4U49AMCcdW8yHjkAwJx1bzIeOQDAnHVvMh45AkuqUbfbFjEAgXwnGjJKKQCBfCcaMkopAIF8JxoySikD2u8DMPHeJQNmiG4gIsolA16IbiAiyiUDM3P4eSc2JQM7c/h5JzYlAQS80qBh0ikBBLzSoGHSKQEIvNKgYdIpAomZrKAkDiECiZmsoCQOIQCKsFTECN4dAIqwVMQI3h0DmkiDPiZ+IQOaSIM+Jn4hAs8SAqVq2hkDKV65TA7SFQLc8woVLZIZAtzzChUtkhkAgIFma/qSFQCAgWZr+pIVAHQUhAhbvhkBWf0GKFj+IQNpgglqXUolAR1hAXzijikBqEOWlb1KLQGoQ5aVvUotA2XXjBbjqjUALBdtFq66OQArLv/OfP49ACsu/858/j0CNA2jjQJKQQMaUN0Jnk5BAz2GqGsmhkUDQNuntVB6SQEwNU+qenJNAEavZ8tE1k0Cs9dRQdwSVQKz11FB3BJVAJdC0iAx3l0Al0LSIDHeXQII3SIO2/phAgjdIg7b+mEBCdMI7k/WZQEJ0wjuT9ZlAkWz9LrPrm0CRbP0us+ubQFKj8dTOz5xAUqPx1M7PnEARmGmrzVecQBGYaavNV5xAXP9KYdThm0Bc/0ph1OGbQK4KgX+efZpAlqLDH6MTmkDxnqosbMqXQDZCKc9zOpdA9zN9OvGIlEDBjrFoCayTQCSVa86axpBAzO8+DUeXkkBTpfwPX7GQQFXgNpX+rJFA95ATp30ZkEDqHjxyQhKSQKbWSvRdpZFAEHHOo6sslECt0vKPCqGUQOwX5DK3JpdAaz7hA/RpmEBOZWc6IKaaQP47FQAz85tA+6qSozlfnkBaT2iC8q2eQFRUVicVVKBA0wVmgeZtn0D1qYbauWOgQGsO09ZgnZ9AEe5OCC1goEAkJfx2WG2fQCjhgeszIaBA6tqxNcIAnkBfTlR17r+eQDebv0giFJxAEmUeMhyZmkCHcQNyZGqcQETi98OsEJlAFihhhwB6m0CBs0MGtPyYQF5kGiLVAJxAB2CkJlZcm0AHYKQmVlybQB38e/Pk2ZtAOQmZTLc1nkBTOQyP7TudQA1KccmQ3p5AHwb2IQDvnUDyJ4Gyaq6eQApzc20AhZ1A4l0xDmpOnkDVUxmDdeacQGsiFsIG6JxAi14o6a+Qm0AFZNwMrXybQB0FY/Go2plAHQVj8ajamUAIFYOwvtKXQAgVg7C+0pdAVgDGMiYQlUDn155mqd+TQMjDu1vzc5BA4BWRorwwj0CBkXkkp1OIQB/5ZJShV4hAdpQTXQ1cg0BHlroD8cqAQEeWugPxyoBAvzNT4a6vgUC/M1Phrq+BQKdv2Vt5PIFAp2/ZW3k8gUBe6aVGrXGAQCHRDxHhzYBATsJGvvAXgUBOwka+8BeBQKZPht+z2IFApk+G37PYgUCM++WlAhqCQIz75aUCGoJA\",\"dtype\":\"float64\",\"order\":\"little\",\"shape\":[150]}},\"selected\":{\"id\":\"3749\"},\"selection_policy\":{\"id\":\"3748\"}},\"id\":\"3712\",\"type\":\"ColumnDataSource\"},{\"attributes\":{},\"id\":\"3420\",\"type\":\"AllLabels\"},{\"attributes\":{},\"id\":\"3421\",\"type\":\"UnionRenderers\"},{\"attributes\":{\"line_color\":\"rgb(65, 227, 238)\",\"x\":{\"field\":\"x\"},\"y\":{\"field\":\"y\"}},\"id\":\"3492\",\"type\":\"Line\"},{\"attributes\":{\"source\":{\"id\":\"3574\"}},\"id\":\"3579\",\"type\":\"CDSView\"},{\"attributes\":{\"fill_color\":{\"value\":\"rgb(182, 163, 188)\"},\"hatch_color\":{\"value\":\"rgb(182, 163, 188)\"},\"line_color\":{\"value\":\"rgb(182, 163, 188)\"},\"x\":{\"field\":\"x\"},\"y\":{\"field\":\"y\"}},\"id\":\"3575\",\"type\":\"Circle\"},{\"attributes\":{},\"id\":\"3422\",\"type\":\"Selection\"},{\"attributes\":{\"coordinates\":null,\"group\":null,\"items\":[{\"id\":\"3425\"},{\"id\":\"3445\"},{\"id\":\"3467\"},{\"id\":\"3516\"},{\"id\":\"3573\"},{\"id\":\"3638\"},{\"id\":\"3711\"},{\"id\":\"3792\"}]},\"id\":\"3424\",\"type\":\"Legend\"},{\"attributes\":{\"data\":{\"x\":{\"__ndarray__\":\"HgAAADwAAABaAAAAeAAAAJYAAAC0AAAA0gAAAPAAAAAOAQAALAEAAEoBAABoAQAAhgEAAKQBAADCAQAA4AEAAP4BAAAcAgAAOgIAAFgCAAB2AgAAlAIAALICAADQAgAA7gIAAAwDAAAqAwAASAMAAGYDAACEAwAAogMAAMADAADeAwAA/AMAABoEAAA4BAAAVgQAAHQEAACSBAAAsAQAAM4EAADsBAAACgUAACgFAABGBQAAZAUAAIIFAACgBQAAvgUAANwFAAD6BQAAGAYAADYGAABUBgAAcgYAAJAGAACuBgAAzAYAAOoGAAAIBwAAJgcAAEQHAABiBwAAgAcAAJ4HAAC8BwAA2gcAAPgHAAAWCAAANAgAAFIIAABwCAAAjggAAKwIAADKCAAA6AgAAAYJAAAkCQAAQgkAAGAJAAB+CQAAnAkAALoJAADYCQAA9gkAABQKAAAyCgAAUAoAAG4KAACMCgAAqgoAAMgKAADmCgAABAsAACILAABACwAAXgsAAHwLAACaCwAAuAsAANYLAAD0CwAAEgwAADAMAABODAAAbAwAAIoMAACoDAAAxgwAAOQMAAACDQAAIA0AAD4NAABcDQAAeg0AAJgNAAC2DQAA1A0AAPINAAAQDgAALg4AAEwOAABqDgAAiA4AAKYOAADEDgAA4g4AAAAPAAAeDwAAPA8AAFoPAAB4DwAAlg8AALQPAADSDwAA8A8AAA4QAAAsEAAAShAAAGgQAACGEAAApBAAAMIQAADgEAAA/hAAABwRAAA6EQAAWBEAAHYRAACUEQAA\",\"dtype\":\"int32\",\"order\":\"little\",\"shape\":[150]},\"y\":{\"__ndarray__\":\"AAAAAAAAAAAAAAAAAAAAAPCSr7XsQHhA8JKvtexAeEDwkq+17EB4QPCSr7XsQHhAAwlKOTLzgEDgCGyq3xaIQOAIbKrfFohA4Ahsqt8WiECmVdi02ZGQQKZV2LTZkZBASCs4K3Grj0Cglw4SOFOPQKCXDhI4U49AMCcdW8yHjkAwJx1bzIeOQDAnHVvMh45AkuqUbfbFjEAgXwnGjJKKQCBfCcaMkopAIF8JxoySikD2u8DMPHeJQNmiG4gIsolA16IbiAiyiUDM3P4eSc2JQM7c/h5JzYlAQS80qBh0ikBBLzSoGHSKQEIvNKgYdIpAomZrKAkDiECiZmsoCQOIQCKsFTECN4dAIqwVMQI3h0DmkiDPiZ+IQOaSIM+Jn4hAs8SAqVq2hkDKV65TA7SFQLc8woVLZIZAtzzChUtkhkAgIFma/qSFQCAgWZr+pIVAHQUhAhbvhkBWf0GKFj+IQNpgglqXUolAR1hAXzijikBqEOWlb1KLQGoQ5aVvUotA2XXjBbjqjUALBdtFq66OQArLv/OfP49ACsu/858/j0CNA2jjQJKQQMaUN0Jnk5BAz2GqGsmhkUDQNuntVB6SQEwNU+qenJNAEavZ8tE1k0Cs9dRQdwSVQKz11FB3BJVAJdC0iAx3l0Al0LSIDHeXQII3SIO2/phAgjdIg7b+mEBCdMI7k/WZQEJ0wjuT9ZlAkWz9LrPrm0CRbP0us+ubQFKj8dTOz5xAUqPx1M7PnEARmGmrzVecQBGYaavNV5xAXP9KYdThm0Bc/0ph1OGbQK4KgX+efZpAlqLDH6MTmkDxnqosbMqXQDZCKc9zOpdA9zN9OvGIlEDBjrFoCayTQCSVa86axpBAzO8+DUeXkkBTpfwPX7GQQFXgNpX+rJFA95ATp30ZkEDqHjxyQhKSQKbWSvRdpZFAEHHOo6sslECt0vKPCqGUQOwX5DK3JpdAaz7hA/RpmEBOZWc6IKaaQP47FQAz85tA+6qSozlfnkBaT2iC8q2eQFRUVicVVKBA0wVmgeZtn0D1qYbauWOgQGsO09ZgnZ9AEe5OCC1goEAkJfx2WG2fQCjhgeszIaBA6tqxNcIAnkBfTlR17r+eQDebv0giFJxAEmUeMhyZmkCHcQNyZGqcQETi98OsEJlAFihhhwB6m0CBs0MGtPyYQF5kGiLVAJxAB2CkJlZcm0AHYKQmVlybQB38e/Pk2ZtAOQmZTLc1nkBTOQyP7TudQA1KccmQ3p5AHwb2IQDvnUDyJ4Gyaq6eQApzc20AhZ1A4l0xDmpOnkDVUxmDdeacQGsiFsIG6JxAi14o6a+Qm0AFZNwMrXybQB0FY/Go2plAHQVj8ajamUAIFYOwvtKXQAgVg7C+0pdAVgDGMiYQlUDn155mqd+TQMjDu1vzc5BA4BWRorwwj0CBkXkkp1OIQB/5ZJShV4hAdpQTXQ1cg0BHlroD8cqAQEeWugPxyoBAvzNT4a6vgUC/M1Phrq+BQKdv2Vt5PIFAp2/ZW3k8gUBe6aVGrXGAQCHRDxHhzYBATsJGvvAXgUBOwka+8BeBQKZPht+z2IFApk+G37PYgUCM++WlAhqCQIz75aUCGoJA\",\"dtype\":\"float64\",\"order\":\"little\",\"shape\":[150]}},\"selected\":{\"id\":\"3709\"},\"selection_policy\":{\"id\":\"3708\"}},\"id\":\"3674\",\"type\":\"ColumnDataSource\"},{\"attributes\":{\"line_alpha\":0.2,\"line_color\":\"rgb(65, 227, 238)\",\"x\":{\"field\":\"x\"},\"y\":{\"field\":\"y\"}},\"id\":\"3494\",\"type\":\"Line\"},{\"attributes\":{\"label\":{\"value\":\"p\"},\"renderers\":[{\"id\":\"3411\"}]},\"id\":\"3425\",\"type\":\"LegendItem\"},{\"attributes\":{\"line_alpha\":0.1,\"line_color\":\"rgb(65, 227, 238)\",\"x\":{\"field\":\"x\"},\"y\":{\"field\":\"y\"}},\"id\":\"3493\",\"type\":\"Line\"},{\"attributes\":{\"fill_color\":{\"value\":\"rgb(65, 227, 238)\"},\"hatch_color\":{\"value\":\"rgb(65, 227, 238)\"},\"line_color\":{\"value\":\"rgb(65, 227, 238)\"},\"x\":{\"field\":\"x\"},\"y\":{\"field\":\"y\"}},\"id\":\"3518\",\"type\":\"Circle\"},{\"attributes\":{},\"id\":\"3603\",\"type\":\"Selection\"},{\"attributes\":{\"source\":{\"id\":\"3491\"}},\"id\":\"3496\",\"type\":\"CDSView\"},{\"attributes\":{\"coordinates\":null,\"data_source\":{\"id\":\"3574\"},\"glyph\":{\"id\":\"3575\"},\"group\":null,\"hover_glyph\":null,\"muted_glyph\":{\"id\":\"3577\"},\"nonselection_glyph\":{\"id\":\"3576\"},\"view\":{\"id\":\"3579\"}},\"id\":\"3578\",\"type\":\"GlyphRenderer\"},{\"attributes\":{},\"id\":\"3635\",\"type\":\"UnionRenderers\"},{\"attributes\":{\"fill_alpha\":{\"value\":0.1},\"fill_color\":{\"value\":\"navy\"},\"hatch_alpha\":{\"value\":0.1},\"hatch_color\":{\"value\":\"navy\"},\"line_alpha\":{\"value\":0.1},\"line_color\":{\"value\":\"navy\"},\"x\":{\"field\":\"x\"},\"y\":{\"field\":\"y\"}},\"id\":\"3428\",\"type\":\"Circle\"},{\"attributes\":{\"fill_alpha\":{\"value\":0.2},\"fill_color\":{\"value\":\"navy\"},\"hatch_alpha\":{\"value\":0.2},\"hatch_color\":{\"value\":\"navy\"},\"line_alpha\":{\"value\":0.2},\"line_color\":{\"value\":\"navy\"},\"x\":{\"field\":\"x\"},\"y\":{\"field\":\"y\"}},\"id\":\"3429\",\"type\":\"Circle\"},{\"attributes\":{},\"id\":\"3602\",\"type\":\"UnionRenderers\"},{\"attributes\":{},\"id\":\"3513\",\"type\":\"UnionRenderers\"},{\"attributes\":{\"fill_alpha\":{\"value\":0.1},\"fill_color\":{\"value\":\"rgb(182, 163, 188)\"},\"hatch_alpha\":{\"value\":0.1},\"hatch_color\":{\"value\":\"rgb(182, 163, 188)\"},\"line_alpha\":{\"value\":0.1},\"line_color\":{\"value\":\"rgb(182, 163, 188)\"},\"x\":{\"field\":\"x\"},\"y\":{\"field\":\"y\"}},\"id\":\"3576\",\"type\":\"Circle\"},{\"attributes\":{\"coordinates\":null,\"data_source\":{\"id\":\"3426\"},\"glyph\":{\"id\":\"3427\"},\"group\":null,\"hover_glyph\":null,\"muted_glyph\":{\"id\":\"3429\"},\"nonselection_glyph\":{\"id\":\"3428\"},\"view\":{\"id\":\"3431\"}},\"id\":\"3430\",\"type\":\"GlyphRenderer\"},{\"attributes\":{},\"id\":\"3514\",\"type\":\"Selection\"},{\"attributes\":{\"axis\":{\"id\":\"3389\"},\"coordinates\":null,\"dimension\":1,\"group\":null,\"ticker\":null},\"id\":\"3392\",\"type\":\"Grid\"},{\"attributes\":{\"fill_alpha\":{\"value\":0.2},\"fill_color\":{\"value\":\"rgb(182, 163, 188)\"},\"hatch_alpha\":{\"value\":0.2},\"hatch_color\":{\"value\":\"rgb(182, 163, 188)\"},\"line_alpha\":{\"value\":0.2},\"line_color\":{\"value\":\"rgb(182, 163, 188)\"},\"x\":{\"field\":\"x\"},\"y\":{\"field\":\"y\"}},\"id\":\"3577\",\"type\":\"Circle\"},{\"attributes\":{\"data\":{\"x\":{\"__ndarray__\":\"HgAAADwAAABaAAAAeAAAAJYAAAC0AAAA0gAAAPAAAAAOAQAALAEAAEoBAABoAQAAhgEAAKQBAADCAQAA4AEAAP4BAAAcAgAAOgIAAFgCAAB2AgAAlAIAALICAADQAgAA7gIAAAwDAAAqAwAASAMAAGYDAACEAwAAogMAAMADAADeAwAA/AMAABoEAAA4BAAAVgQAAHQEAACSBAAAsAQAAM4EAADsBAAACgUAACgFAABGBQAAZAUAAIIFAACgBQAAvgUAANwFAAD6BQAAGAYAADYGAABUBgAAcgYAAJAGAACuBgAAzAYAAOoGAAAIBwAAJgcAAEQHAABiBwAAgAcAAJ4HAAC8BwAA2gcAAPgHAAAWCAAANAgAAFIIAABwCAAAjggAAKwIAADKCAAA6AgAAAYJAAAkCQAAQgkAAGAJAAB+CQAAnAkAALoJAADYCQAA9gkAABQKAAAyCgAAUAoAAG4KAACMCgAAqgoAAMgKAADmCgAABAsAACILAABACwAAXgsAAHwLAACaCwAAuAsAANYLAAD0CwAAEgwAADAMAABODAAAbAwAAIoMAACoDAAAxgwAAOQMAAACDQAAIA0AAD4NAABcDQAAeg0AAJgNAAC2DQAA1A0AAPINAAAQDgAALg4AAEwOAABqDgAAiA4AAKYOAADEDgAA4g4AAAAPAAAeDwAAPA8AAFoPAAB4DwAAlg8AALQPAADSDwAA8A8AAA4QAAAsEAAAShAAAGgQAACGEAAApBAAAMIQAADgEAAA/hAAABwRAAA6EQAAWBEAAHYRAACUEQAAshEAANARAADuEQAADBIAACoSAABIEgAAZhIAAIQSAAA=\",\"dtype\":\"int32\",\"order\":\"little\",\"shape\":[158]},\"y\":{\"__ndarray__\":\"AAAAAAAAAAAAAAAAAAAAAFBMJxeVMntAUEwnF5Uye0BQTCcXlTJ7QFBMJxeVMntA6F/t0hXYf0DwJDMAMrKFQPAkMwAysoVA8CQzADKyhUD97HzkO5uOQP3sfOQ7m45ABwuvQboLjUDK9oeza6iMQMr2h7NrqIxAS8GKfMjvi0BLwYp8yO+LQEvBinzI74tAHlcnOWBqikBHSBHaXXaIQEdIEdpddohAR0gR2l12iEAtyt4xaWuHQBzvi4lmnYdAHe+LiWadh0AhMO9PEeKHQCEw708R4odAPQFEez7niEA9AUR7PueIQD0BRHs+54hAUF5RgeaGhkBQXlGB5oaGQNnkdVW6PYZA2OR1Vbo9hkCienhVEbmHQKR6eFURuYdA4nIsyWvVhUAw5m3TR1iFQPBXEynLH4ZA8FcTKcsfhkC+kAWtn6yFQL6QBa2frIVAOjDoXSr5hkAwEE6Y3lOIQDm4/ASQYYlAOUuG+AKvikCGwTGspFWLQIbBMaykVYtAoM6Q/EXnjUAK210ekp+OQEwbSSY8MY9ATBtJJjwxj0CDfwMK1ZSQQFbvceEWwpBAr2vBgBHJkUCpAKa/yxCSQE8UHGMHjJNAMJeDMGkWk0DVBIi62+aUQNUEiLrb5pRAvbvuprFUl0C9u+6msVSXQMn2pGPo1ZhAyfakY+jVmECDYErKsNCZQINgSsqw0JlAjFyz/mrGm0CMXLP+asabQFDZYcwwu5xAUNlhzDC7nEDP1uqUnkicQM/W6pSeSJxAAVxMlDjMm0ABXEyUOMybQOZ7HFR/ZZpAjym+iub8mUB9lPpOJ7CXQPzTFR+9IJdA3bG4CciJlEAtvVnDx6yTQKROVFATxpBAh0/NmO2XkkC6GYwwmq+QQCkrhgIEq5FAKTQ1QoUWkEDqWQt1ug6SQKRSmwSnnJFAjaw6o9QnlEA/ORNgwpqUQMAIxAUQI5dAnRYadrdmmEB2QfE9GqOaQF0GQb588JtAPit1VbddnkAPgBn/qKyeQNCVYYSoU6BALBMs7LJtn0BHGgpOyWOgQAVJ/XTFnp9AWQtUagBhoEDnXzoBN3GfQMK6Cjp1JqBA4ITlIGwJnkA62Uq+UcOeQF/21f7xDpxA0YhFoS6QmkB++CzFCGecQP9MsRmrDplAdQoSR0d8m0Az3yIr5fmYQFzCbuc1+ptAXz0Q2UpOm0BfPRDZSk6bQHXS5Ap0v5tARpk6FmQankD3swxfzBudQKvnqkpXwZ5AdYjf4s/PnUAzEV4K+5GeQPKxoYQoZp1AyUcpV4MxnkDkjLTvGcacQIY3ENO3yJxAZp/GQSBrm0AjktH7yV2bQBenz9W9s5lAGafP1b2zmUAyPHdyS6OXQDI8d3JLo5dAG1iPudfXlEALDnMtP+OTQEZGr+vOc5BA25Ame1lPj0BqBhoajeiHQKffmnTOJohAiMoG1Qp8gkCRC4Nh8It/QJELg2Hwi39ApXTEtWLDgECldMS1YsOAQEP3PFRG0YBAQ/c8VEbRgEBj69BcKjGAQAV1truWeoBAEqL5aODhgEASovlo4OGAQILa4bnynIFAgtrhufKcgUCsED0UkdiBQKwQPRSR2IFAJZuFsynpgEAlm4WzKemAQBHm88jFfIBAEebzyMV8gEBr3rbD5Ht+QGvetsPke35ALfKJYPO4fkAt8olg87h+QA==\",\"dtype\":\"float64\",\"order\":\"little\",\"shape\":[158]}},\"selected\":{\"id\":\"3603\"},\"selection_policy\":{\"id\":\"3602\"}},\"id\":\"3574\",\"type\":\"ColumnDataSource\"},{\"attributes\":{\"data\":{\"x\":{\"__ndarray__\":\"HgAAADwAAABaAAAAeAAAAJYAAAC0AAAA0gAAAPAAAAAOAQAALAEAAEoBAABoAQAAhgEAAKQBAADCAQAA4AEAAP4BAAAcAgAAOgIAAFgCAAB2AgAAlAIAALICAADQAgAA7gIAAAwDAAAqAwAASAMAAGYDAACEAwAAogMAAMADAADeAwAA/AMAABoEAAA4BAAAVgQAAHQEAACSBAAAsAQAAM4EAADsBAAACgUAACgFAABGBQAAZAUAAIIFAACgBQAAvgUAANwFAAD6BQAAGAYAADYGAABUBgAAcgYAAJAGAACuBgAAzAYAAOoGAAAIBwAAJgcAAEQHAABiBwAAgAcAAJ4HAAC8BwAA2gcAAPgHAAAWCAAANAgAAFIIAABwCAAAjggAAKwIAADKCAAA6AgAAAYJAAAkCQAAQgkAAGAJAAB+CQAAnAkAALoJAADYCQAA9gkAABQKAAAyCgAAUAoAAG4KAACMCgAAqgoAAMgKAADmCgAABAsAACILAABACwAAXgsAAHwLAACaCwAAuAsAANYLAAD0CwAAEgwAADAMAABODAAAbAwAAIoMAACoDAAAxgwAAOQMAAACDQAAIA0AAD4NAABcDQAAeg0AAJgNAAC2DQAA1A0AAPINAAAQDgAALg4AAEwOAABqDgAAiA4AAKYOAADEDgAA4g4AAAAPAAAeDwAAPA8AAFoPAAB4DwAAlg8AALQPAADSDwAA8A8AAA4QAAAsEAAAShAAAGgQAACGEAAApBAAAMIQAADgEAAA/hAAABwRAAA6EQAAWBEAAHYRAACUEQAAshEAANARAADuEQAADBIAACoSAABIEgAAZhIAAIQSAACiEgAA\",\"dtype\":\"int32\",\"order\":\"little\",\"shape\":[159]},\"y\":{\"__ndarray__\":\"AAAAAAAAAAAAAAAAAAAAADX2JheVMntANfYmF5Uye0A19iYXlTJ7QDX2JheVMntAa+rD0+Xsf0Do1viN9ZaFQOjW+I31loVA6Nb4jfWWhUDtVUlVO26OQO1VSVU7bo5AOHe6zibfjEB4+/Jou36MQHj78mi7foxAgeWEvP/Ii0CB5YS8/8iLQIHlhLz/yItAMv1OYNhGikDeGMPDZVWIQN4Yw8NlVYhA3hjDw2VViEA8iUT14UyHQHeOPd9df4dAd449311/h0Auk0b278iHQC6TRvbvyIdAWW4LtePRiEBZbgu149GIQFluC7Xj0YhAKiaNcvVxhkAqJo1y9XGGQArVfWfTJoZACtV9Z9MmhkBmetdXkKKHQGZ611eQoodAloSePJbRhUCpoUsvpVCFQJxWk+q1GoZAm1aT6rUahkD2zU0CR6uFQPbNTQJHq4VAUwkZtSP4hkDOWY39blOIQAv9bcobYYlA4PnxVKyuikB8fZjoyFSLQHx9mOjIVItA/tZvvbnojUBnUfJd4JuOQKmDbjMgL49AqYNuMyAvj0DmMedhYJaQQF6zKC1zwpBAJ79Cy+fKkUA5LBZI8xOSQI0mGM2Gj5NAqX6IQQgbk0APoZw0y+mUQA+hnDTL6ZRAxepHxIVYl0DF6kfEhViXQHzfPnkU3JhAfN8+eRTcmEBcw5ZiL9iZQFzDlmIv2JlALHx3EqPNm0AsfHcSo82bQM01Uah7wpxAzTVRqHvCnEAwuzadk1KcQDC7Np2TUpxA7pRTMyjVm0DulFMzKNWbQN9MoBTDbppAAS6FocUFmkDDbLFtFbqXQC2JOjlsKpdAoVa4P5CKlEAXOOqSma2TQIuwvvqLxpBAN6MiYcOYkkDrEk4NY6+QQOLz3+ruqpFAV6kA/EoXkEBSXZr1ow+SQKqb8y2Im5FAxqovEkgolED9+CE0+ZqUQN8T5DpvJJdAQBE6zn9omEAR+wCewKWaQKHu0R4U85tA57Q4qy5fnkBChzlOC66eQCgyDHoZVKBAkr6Z7j1un0D6BTL802OgQC0e/ws3n59AbT1yx1ZgoEDjgGQzn22fQOp2CSYeIqBAFM/1x9cBnkDijwgm2L2eQIxoDfzSCZxA0S6OL0KLmkDRQzZKw2OcQL4vXmD/C5lAWha0T0l7m0Bkjw+jB/iYQKMRIPC3+JtAPtwDndVNm0A+3AOd1U2bQC0d7cclvptAONJaQiAZnkDhVHkhkhqdQJhTPOmrwJ5AJGV48k7PnUAMynGo9JGeQOHcuNAKZp1AlVCrScsxnkBszZCTKcacQPYJbJr4yJxAJSJsWe9qm0BH1e4wrF2bQN0BBlw/s5lA3QEGXD+zmUCYXoIUi6GXQJleghSLoZdAawxdhU/UlEAt/evTS+CTQJmUtXLpb5BAWsypqmJbj0CnnrWOALCHQDMLfhftEYhAEQOqDb8YgkA/jLoXZ5x+QD+MuhdnnH5ALslwLCVRgEAuyXAsJVGAQB+Uh4VtlYBAH5SHhW2VgEDiLQDT8g2AQEyVyNhFTYBAr+m/VvTdgECv6b9W9N2AQIpP6i4vlIFAik/qLi+UgUB+CSj5S86BQH4JKPlLzoFA0YEA0eXigEDRgQDR5eKAQMSVHdNTeIBAxJUd01N4gEAmwT4jvXx+QCbBPiO9fH5A+cPE9xq0fkD5w8T3GrR+QPVFdvO0qn5A\",\"dtype\":\"float64\",\"order\":\"little\",\"shape\":[159]}},\"selected\":{\"id\":\"3542\"},\"selection_policy\":{\"id\":\"3541\"}},\"id\":\"3517\",\"type\":\"ColumnDataSource\"},{\"attributes\":{\"line_alpha\":0.2,\"line_color\":\"rgb(182, 31, 179)\",\"x\":{\"field\":\"x\"},\"y\":{\"field\":\"y\"}},\"id\":\"3608\",\"type\":\"Line\"},{\"attributes\":{\"data\":{\"x\":{\"__ndarray__\":\"HgAAAFoAAADSAAAA8AAAAEoBAACGAQAApAEAAOABAAA6AgAAWAIAALICAADQAgAADAMAAEgDAACiAwAA3gMAABoEAABWBAAAkgQAAM4EAAAKBQAARgUAAIIFAAC+BQAA+gUAADYGAAByBgAArgYAAOoGAAAmBwAAYgcAAJ4HAADaBwAAFggAAFIIAACOCAAAyggAAOgIAAAkCQAAYAkAAJwJAADYCQAAFAoAAFAKAACMCgAAyAoAAAQLAABACwAAfAsAALgLAAD0CwAAMAwAAGwMAACKDAAAxgwAAAINAABcDQAAeg0AALYNAADyDQAALg4AAGoOAACmDgAAWg8AAJYPAADSDwAADhAAAEoQAACGEAAAwhAAAP4QAAA6EQAAdhEAALIRAADuEQAAKhIAAGYSAACiEgAAwBIAAA==\",\"dtype\":\"int32\",\"order\":\"little\",\"shape\":[79]},\"y\":{\"__ndarray__\":\"AAAAAAAAAAC7BsArhndJQHVd0fiDzXpA/lnUu6xUgUBWk3h83jGLQB+s0joUzI1AX4P7Iap0j0Drt0B0DTCQQI69BNQFJo9ApbHeRmj7jEDjpGAf1uaLQPkASTnmrIpAvLt3/vzYikCHLr3lxZCJQGmUCel2XodABmEgqRRJhUCcnKNizWKFQJOEJ7XpsoRA1sY/XVRmg0DwXe46wEGBQLfPHP9Ml4JAolXSRe7YhEAwhPMU4IWGQPrsWF+5gohAqoaccJZQiUBdCcZOsjOLQAu+4hd6ZotAhejsvxzgjkCwo4S/x7SQQMTjty2owpJA5pvMUKpFlECqRnV9qqmVQMUlnzSIN5ZAUQRolSWGmEB0C8otsfmYQI29xmx37JhAEhoZtOtqmEB7rd+IzHmYQBhmhSHLAZZAl0duC5J6k0Be5HQebzaQQNzlpF7fTo1AEYZ7OAPijECuOjw7FwqOQNInI4V3PZBASxgBHwHPk0BCHAHmTSqXQM9cd367yZpAsjm9m274nUCqRa8ZoJSeQHhqNZgmdZ5AZ4SAmbLMnUC6+tLTGsWbQFMhy2uAm51AZ8VgH0oKnkACA/7VfpSeQIJ6LzZpeZxATObIyom6nkAZHNWCtRSgQJxTMleGzZ9ATNmehr67nUC0fEj4dOmbQJ/TPeXbf5pAED47ia5VlECjcd5rj02PQO/ZrJkdrYdAp6VlRsW/gEB+uQTc3dx+QLHVRGsklIBA2easBFNtf0C1UnBvjo+AQHPKUt+LnYBAf0go57ipgEA8vP3Gb7N/QAeLhl81Y35AnovL1uiNekBXznbGhGd6QMMt6VjwYHtAaFDsfB1ZfUA=\",\"dtype\":\"float64\",\"order\":\"little\",\"shape\":[79]}},\"selected\":{\"id\":\"3489\"},\"selection_policy\":{\"id\":\"3488\"}},\"id\":\"3468\",\"type\":\"ColumnDataSource\"},{\"attributes\":{\"label\":{\"value\":\"p mpc 1\"},\"renderers\":[{\"id\":\"3495\"},{\"id\":\"3521\"}]},\"id\":\"3516\",\"type\":\"LegendItem\"},{\"attributes\":{},\"id\":\"3443\",\"type\":\"Selection\"},{\"attributes\":{\"line_alpha\":0.1,\"line_color\":\"rgb(182, 31, 179)\",\"x\":{\"field\":\"x\"},\"y\":{\"field\":\"y\"}},\"id\":\"3607\",\"type\":\"Line\"},{\"attributes\":{\"data\":{\"x\":{\"__ndarray__\":\"HgAAADwAAABaAAAAeAAAAJYAAAC0AAAA0gAAAPAAAAAOAQAALAEAAEoBAABoAQAAhgEAAKQBAADCAQAA4AEAAP4BAAAcAgAAOgIAAFgCAAB2AgAAlAIAALICAADQAgAA7gIAAAwDAAAqAwAASAMAAGYDAACEAwAAogMAAMADAADeAwAA/AMAABoEAAA4BAAAVgQAAHQEAACSBAAAsAQAAM4EAADsBAAACgUAACgFAABGBQAAZAUAAIIFAACgBQAAvgUAANwFAAD6BQAAGAYAADYGAABUBgAAcgYAAJAGAACuBgAAzAYAAOoGAAAIBwAAJgcAAEQHAABiBwAAgAcAAJ4HAAC8BwAA2gcAAPgHAAAWCAAANAgAAFIIAABwCAAAjggAAKwIAADKCAAA6AgAAAYJAAAkCQAAQgkAAGAJAAB+CQAAnAkAALoJAADYCQAA9gkAABQKAAAyCgAAUAoAAG4KAACMCgAAqgoAAMgKAADmCgAABAsAACILAABACwAAXgsAAHwLAACaCwAAuAsAANYLAAD0CwAAEgwAADAMAABODAAAbAwAAIoMAACoDAAAxgwAAOQMAAACDQAAIA0AAD4NAABcDQAAeg0AAJgNAAC2DQAA1A0AAPINAAAQDgAALg4AAEwOAABqDgAAiA4AAKYOAADEDgAA4g4AAAAPAAAeDwAAPA8AAFoPAAB4DwAAlg8AALQPAADSDwAA8A8AAA4QAAAsEAAAShAAAGgQAACGEAAApBAAAMIQAADgEAAA/hAAABwRAAA6EQAAWBEAAHYRAACUEQAAshEAANARAADuEQAADBIAACoSAAA=\",\"dtype\":\"int32\",\"order\":\"little\",\"shape\":[155]},\"y\":{\"__ndarray__\":\"AAAAAAAAAAAAAAAAAAAAAFyJqQzqGHtAXImpDOoYe0BciakM6hh7QFyJqQzqGHtAN8gF2WMugEC51+lBDFGGQLnX6UEMUYZAudfpQQxRhkBLh2ReEzGPQEuHZF4TMY9AlPsq6aiXjUBniLCSNSyNQGeIsJI1LI1A24D8xw9rjEDbgPzHD2uMQNuA/McPa4xAfx5LDUzZikCkpLcUhtiIQKSktxSG2IhApKS3FIbYiEAT4zP44c+HQBlMFrTQDYhAGUwWtNANiEC1E4LF9D2IQLUTgsX0PYhA7cfap44diUDtx9qnjh2JQO3H2qeOHYlApY43FzqzhkCljjcXOrOGQLq6XgH2bYZAurpeAfZthkBt/icCQeyHQG3+JwJB7IdAhD7xTLn/hUAjtIscX3CFQKteXCwvMYZArF5cLC8xhkDEZk9nGayFQMVmT2cZrIVAwa7w+Jr2hkCr2OTF/UqIQBDeD071WolAXq5YC1erikBUzvfcNFiLQFPO99w0WItAwijdJk33jUB13szDHtaOQNHezMQXaY9A0d7MxBdpj0DGGsv95a2QQJ8YWNletZBANztZpoa9kUAOhYLB+xKSQM2ow4UxjpNADqRoZqIYk0DXK9w/demUQNcr3D916ZRAkcVU7thYl0CRxVTu2FiXQOuGFtMU3JhA64YW0xTcmECmuLle1NOZQKa4uV7U05lAoNrLyE3Im0Cg2svITcibQONI0dp8u5xA40jR2ny7nEDBjcouH0ScQMGNyi4fRJxAFFMSzzzMm0AUUxLPPMybQHUgOGwdZppAHxOvHmT9mUDUhdey/rCXQDsECshzIZdAvxC6cAqElEAZD1yAn6eTQHcN0VPvwpBAnywZqVuUkkDyg0m4oKyQQGwsFglbqJFAafE7/w4WkEBglyCrrg6SQHAOBm88oJFAug/t82oplEAXsmur35yUQD1JRqw6JJdA87usnptnmEDHk7z8+qOaQLk93xhN8ZtA4XhZymtenkD+XNHfYa2eQKw6EgsFVKBAEbNco31un0CzrQiCKGSgQETwQ0lHn59AVt/B+UthoEAftlLPonGfQK9AXZ0UJqBAgoNKd2MHnkB/DW+w+cKeQMHBsOMkEZxAIUzk/pCUmkD9BtL00WicQPpdCsp6D5lAo46PGad7m0AWuCHDx/qYQKWLiANN/JtA/v/Du3BSm0D+/8O7cFKbQDX1e5pXyJtA1fbalYMjnkCEpSM8/SadQPvHRLrryp5AghTKPdTZnUDynxHId5qeQN28/Wzybp1AgKPMaQY5nkDbUXuDQ86cQCNVeuxO0JxA19vI00B0m0AIVqVFrGabQNRRv0++vplA1FG/T76+mUBJv8aGXLGXQEm/xoZcsZdAkcnVvNDqlEACVyLYpvWTQC9EIGa1eJBA/W5GBfozj0DMXsdutQCIQHkYSi7FMIhAfuu5o7WlgkB0db6Nwf9/QHR1vo3B/39AMt7zy/X6gEAy3vPL9fqAQLmgCJRo7IBAuaAIlGjsgEAl2B++T0CAQNsWyfh1hYBA4weYQhTvgEDjB5hCFO+AQP8aNv2gpoFA/xo2/aCmgUBW6rc1iuWBQFbqtzWK5YFAXwm3eKD3gEBfCbd4oPeAQJR25L8ZjYBAlHbkvxmNgEDr82Orpph+QA==\",\"dtype\":\"float64\",\"order\":\"little\",\"shape\":[155]}},\"selected\":{\"id\":\"3672\"},\"selection_policy\":{\"id\":\"3671\"}},\"id\":\"3639\",\"type\":\"ColumnDataSource\"},{\"attributes\":{},\"id\":\"3442\",\"type\":\"UnionRenderers\"},{\"attributes\":{\"source\":{\"id\":\"3426\"}},\"id\":\"3431\",\"type\":\"CDSView\"},{\"attributes\":{\"data\":{\"x\":{\"__ndarray__\":\"HgAAADwAAABaAAAAeAAAAJYAAAC0AAAA0gAAAPAAAAAOAQAALAEAAEoBAABoAQAAhgEAAKQBAADCAQAA4AEAAP4BAAAcAgAAOgIAAFgCAAB2AgAAlAIAALICAADQAgAA7gIAAAwDAAAqAwAASAMAAGYDAACEAwAAogMAAMADAADeAwAA/AMAABoEAAA4BAAAVgQAAHQEAACSBAAAsAQAAM4EAADsBAAACgUAACgFAABGBQAAZAUAAIIFAACgBQAAvgUAANwFAAD6BQAAGAYAADYGAABUBgAAcgYAAJAGAACuBgAAzAYAAOoGAAAIBwAAJgcAAEQHAABiBwAAgAcAAJ4HAAC8BwAA2gcAAPgHAAAWCAAANAgAAFIIAABwCAAAjggAAKwIAADKCAAA6AgAAAYJAAAkCQAAQgkAAGAJAAB+CQAAnAkAALoJAADYCQAA9gkAABQKAAAyCgAAUAoAAG4KAACMCgAAqgoAAMgKAADmCgAABAsAACILAABACwAAXgsAAHwLAACaCwAAuAsAANYLAAD0CwAAEgwAADAMAABODAAAbAwAAIoMAACoDAAAxgwAAOQMAAACDQAAIA0AAD4NAABcDQAAeg0AAJgNAAC2DQAA1A0AAPINAAAQDgAALg4AAEwOAABqDgAAiA4AAKYOAADEDgAA4g4AAAAPAAAeDwAAPA8AAFoPAAB4DwAAlg8AALQPAADSDwAA8A8AAA4QAAAsEAAAShAAAGgQAACGEAAApBAAAMIQAADgEAAA/hAAABwRAAA6EQAAWBEAAHYRAACUEQAAshEAANARAADuEQAADBIAACoSAABIEgAAZhIAAIQSAAA=\",\"dtype\":\"int32\",\"order\":\"little\",\"shape\":[158]},\"y\":{\"__ndarray__\":\"AAAAAAAAAAAAAAAAAAAAAFBMJxeVMntAUEwnF5Uye0BQTCcXlTJ7QFBMJxeVMntA6F/t0hXYf0DwJDMAMrKFQPAkMwAysoVA8CQzADKyhUD97HzkO5uOQP3sfOQ7m45ABwuvQboLjUDK9oeza6iMQMr2h7NrqIxAS8GKfMjvi0BLwYp8yO+LQEvBinzI74tAHlcnOWBqikBHSBHaXXaIQEdIEdpddohAR0gR2l12iEAtyt4xaWuHQBzvi4lmnYdAHe+LiWadh0AhMO9PEeKHQCEw708R4odAPQFEez7niEA9AUR7PueIQD0BRHs+54hAUF5RgeaGhkBQXlGB5oaGQNnkdVW6PYZA2OR1Vbo9hkCienhVEbmHQKR6eFURuYdA4nIsyWvVhUAw5m3TR1iFQPBXEynLH4ZA8FcTKcsfhkC+kAWtn6yFQL6QBa2frIVAOjDoXSr5hkAwEE6Y3lOIQDm4/ASQYYlAOUuG+AKvikCGwTGspFWLQIbBMaykVYtAoM6Q/EXnjUAK210ekp+OQEwbSSY8MY9ATBtJJjwxj0CDfwMK1ZSQQFbvceEWwpBAr2vBgBHJkUCpAKa/yxCSQE8UHGMHjJNAMJeDMGkWk0DVBIi62+aUQNUEiLrb5pRAvbvuprFUl0C9u+6msVSXQMn2pGPo1ZhAyfakY+jVmECDYErKsNCZQINgSsqw0JlAjFyz/mrGm0CMXLP+asabQFDZYcwwu5xAUNlhzDC7nEDP1uqUnkicQM/W6pSeSJxAAVxMlDjMm0ABXEyUOMybQOZ7HFR/ZZpAjym+iub8mUB9lPpOJ7CXQPzTFR+9IJdA3bG4CciJlEAtvVnDx6yTQKROVFATxpBAh0/NmO2XkkC6GYwwmq+QQCkrhgIEq5FAKTQ1QoUWkEDqWQt1ug6SQKRSmwSnnJFAjaw6o9QnlEA/ORNgwpqUQMAIxAUQI5dAnRYadrdmmEB2QfE9GqOaQF0GQb588JtAPit1VbddnkAPgBn/qKyeQNCVYYSoU6BALBMs7LJtn0BHGgpOyWOgQAVJ/XTFnp9AWQtUagBhoEDnXzoBN3GfQMK6Cjp1JqBA4ITlIGwJnkA62Uq+UcOeQF/21f7xDpxA0YhFoS6QmkB++CzFCGecQP9MsRmrDplAdQoSR0d8m0Az3yIr5fmYQFzCbuc1+ptAXz0Q2UpOm0BfPRDZSk6bQHXS5Ap0v5tARpk6FmQankD3swxfzBudQKvnqkpXwZ5AdYjf4s/PnUAzEV4K+5GeQPKxoYQoZp1AyUcpV4MxnkDkjLTvGcacQIY3ENO3yJxAZp/GQSBrm0AjktH7yV2bQBenz9W9s5lAGafP1b2zmUAyPHdyS6OXQDI8d3JLo5dAG1iPudfXlEALDnMtP+OTQEZGr+vOc5BA25Ame1lPj0BqBhoajeiHQKffmnTOJohAiMoG1Qp8gkCRC4Nh8It/QJELg2Hwi39ApXTEtWLDgECldMS1YsOAQEP3PFRG0YBAQ/c8VEbRgEBj69BcKjGAQAV1truWeoBAEqL5aODhgEASovlo4OGAQILa4bnynIFAgtrhufKcgUCsED0UkdiBQKwQPRSR2IFAJZuFsynpgEAlm4WzKemAQBHm88jFfIBAEebzyMV8gEBr3rbD5Ht+QGvetsPke35ALfKJYPO4fkAt8olg87h+QA==\",\"dtype\":\"float64\",\"order\":\"little\",\"shape\":[158]}},\"selected\":{\"id\":\"3571\"},\"selection_policy\":{\"id\":\"3570\"}},\"id\":\"3544\",\"type\":\"ColumnDataSource\"},{\"attributes\":{\"line_color\":\"rgb(182, 31, 179)\",\"x\":{\"field\":\"x\"},\"y\":{\"field\":\"y\"}},\"id\":\"3606\",\"type\":\"Line\"},{\"attributes\":{\"coordinates\":null,\"data_source\":{\"id\":\"3605\"},\"glyph\":{\"id\":\"3606\"},\"group\":null,\"hover_glyph\":null,\"muted_glyph\":{\"id\":\"3608\"},\"nonselection_glyph\":{\"id\":\"3607\"},\"view\":{\"id\":\"3610\"}},\"id\":\"3609\",\"type\":\"GlyphRenderer\"},{\"attributes\":{\"data\":{\"x\":{\"__ndarray__\":\"HgAAADwAAABaAAAAeAAAAJYAAAC0AAAA0gAAAPAAAAAOAQAALAEAAEoBAABoAQAAhgEAAKQBAADCAQAA4AEAAP4BAAAcAgAAOgIAAFgCAAB2AgAAlAIAALICAADQAgAA7gIAAAwDAAAqAwAASAMAAGYDAACEAwAAogMAAMADAADeAwAA/AMAABoEAAA4BAAAVgQAAHQEAACSBAAAsAQAAM4EAADsBAAACgUAACgFAABGBQAAZAUAAIIFAACgBQAAvgUAANwFAAD6BQAAGAYAADYGAABUBgAAcgYAAJAGAACuBgAAzAYAAOoGAAAIBwAAJgcAAEQHAABiBwAAgAcAAJ4HAAC8BwAA2gcAAPgHAAAWCAAANAgAAFIIAABwCAAAjggAAKwIAADKCAAA6AgAAAYJAAAkCQAAQgkAAGAJAAB+CQAAnAkAALoJAADYCQAA9gkAABQKAAAyCgAAUAoAAG4KAACMCgAAqgoAAMgKAADmCgAABAsAACILAABACwAAXgsAAHwLAACaCwAAuAsAANYLAAD0CwAAEgwAADAMAABODAAAbAwAAIoMAACoDAAAxgwAAOQMAAACDQAAIA0AAD4NAABcDQAAeg0AAJgNAAC2DQAA1A0AAPINAAAQDgAALg4AAEwOAABqDgAAiA4AAKYOAADEDgAA4g4AAAAPAAAeDwAAPA8AAFoPAAB4DwAAlg8AALQPAADSDwAA8A8AAA4QAAAsEAAAShAAAGgQAACGEAAApBAAAMIQAADgEAAA/hAAABwRAAA6EQAAWBEAAHYRAACUEQAAshEAANARAADuEQAADBIAACoSAAA=\",\"dtype\":\"int32\",\"order\":\"little\",\"shape\":[155]},\"y\":{\"__ndarray__\":\"AAAAAAAAAAAAAAAAAAAAAFyJqQzqGHtAXImpDOoYe0BciakM6hh7QFyJqQzqGHtAN8gF2WMugEC51+lBDFGGQLnX6UEMUYZAudfpQQxRhkBLh2ReEzGPQEuHZF4TMY9AlPsq6aiXjUBniLCSNSyNQGeIsJI1LI1A24D8xw9rjEDbgPzHD2uMQNuA/McPa4xAfx5LDUzZikCkpLcUhtiIQKSktxSG2IhApKS3FIbYiEAT4zP44c+HQBlMFrTQDYhAGUwWtNANiEC1E4LF9D2IQLUTgsX0PYhA7cfap44diUDtx9qnjh2JQO3H2qeOHYlApY43FzqzhkCljjcXOrOGQLq6XgH2bYZAurpeAfZthkBt/icCQeyHQG3+JwJB7IdAhD7xTLn/hUAjtIscX3CFQKteXCwvMYZArF5cLC8xhkDEZk9nGayFQMVmT2cZrIVAwa7w+Jr2hkCr2OTF/UqIQBDeD071WolAXq5YC1erikBUzvfcNFiLQFPO99w0WItAwijdJk33jUB13szDHtaOQNHezMQXaY9A0d7MxBdpj0DGGsv95a2QQJ8YWNletZBANztZpoa9kUAOhYLB+xKSQM2ow4UxjpNADqRoZqIYk0DXK9w/demUQNcr3D916ZRAkcVU7thYl0CRxVTu2FiXQOuGFtMU3JhA64YW0xTcmECmuLle1NOZQKa4uV7U05lAoNrLyE3Im0Cg2svITcibQONI0dp8u5xA40jR2ny7nEDBjcouH0ScQMGNyi4fRJxAFFMSzzzMm0AUUxLPPMybQHUgOGwdZppAHxOvHmT9mUDUhdey/rCXQDsECshzIZdAvxC6cAqElEAZD1yAn6eTQHcN0VPvwpBAnywZqVuUkkDyg0m4oKyQQGwsFglbqJFAafE7/w4WkEBglyCrrg6SQHAOBm88oJFAug/t82oplEAXsmur35yUQD1JRqw6JJdA87usnptnmEDHk7z8+qOaQLk93xhN8ZtA4XhZymtenkD+XNHfYa2eQKw6EgsFVKBAEbNco31un0CzrQiCKGSgQETwQ0lHn59AVt/B+UthoEAftlLPonGfQK9AXZ0UJqBAgoNKd2MHnkB/DW+w+cKeQMHBsOMkEZxAIUzk/pCUmkD9BtL00WicQPpdCsp6D5lAo46PGad7m0AWuCHDx/qYQKWLiANN/JtA/v/Du3BSm0D+/8O7cFKbQDX1e5pXyJtA1fbalYMjnkCEpSM8/SadQPvHRLrryp5AghTKPdTZnUDynxHId5qeQN28/Wzybp1AgKPMaQY5nkDbUXuDQ86cQCNVeuxO0JxA19vI00B0m0AIVqVFrGabQNRRv0++vplA1FG/T76+mUBJv8aGXLGXQEm/xoZcsZdAkcnVvNDqlEACVyLYpvWTQC9EIGa1eJBA/W5GBfozj0DMXsdutQCIQHkYSi7FMIhAfuu5o7WlgkB0db6Nwf9/QHR1vo3B/39AMt7zy/X6gEAy3vPL9fqAQLmgCJRo7IBAuaAIlGjsgEAl2B++T0CAQNsWyfh1hYBA4weYQhTvgEDjB5hCFO+AQP8aNv2gpoFA/xo2/aCmgUBW6rc1iuWBQFbqtzWK5YFAXwm3eKD3gEBfCbd4oPeAQJR25L8ZjYBAlHbkvxmNgEDr82Orpph+QA==\",\"dtype\":\"float64\",\"order\":\"little\",\"shape\":[155]}},\"selected\":{\"id\":\"3636\"},\"selection_policy\":{\"id\":\"3635\"}},\"id\":\"3605\",\"type\":\"ColumnDataSource\"},{\"attributes\":{\"source\":{\"id\":\"3605\"}},\"id\":\"3610\",\"type\":\"CDSView\"},{\"attributes\":{\"fill_color\":{\"value\":\"rgb(182, 31, 179)\"},\"hatch_color\":{\"value\":\"rgb(182, 31, 179)\"},\"line_color\":{\"value\":\"rgb(182, 31, 179)\"},\"x\":{\"field\":\"x\"},\"y\":{\"field\":\"y\"}},\"id\":\"3640\",\"type\":\"Circle\"}],\"root_ids\":[\"3376\"]},\"title\":\"Bokeh Application\",\"version\":\"2.4.3\"}};\n",
       "  const render_items = [{\"docid\":\"2e3c1f7d-9588-47f1-8f51-52ebbc704c8e\",\"root_ids\":[\"3376\"],\"roots\":{\"3376\":\"f75222e7-dc19-4c7d-b771-a1636eb27cf4\"}}];\n",
       "  root.Bokeh.embed.embed_items_notebook(docs_json, render_items);\n",
       "  }\n",
       "  if (root.Bokeh !== undefined) {\n",
       "    embed_document(root);\n",
       "  } else {\n",
       "    let attempts = 0;\n",
       "    const timer = setInterval(function(root) {\n",
       "      if (root.Bokeh !== undefined) {\n",
       "        clearInterval(timer);\n",
       "        embed_document(root);\n",
       "      } else {\n",
       "        attempts++;\n",
       "        if (attempts > 100) {\n",
       "          clearInterval(timer);\n",
       "          console.log(\"Bokeh: ERROR: Unable to run BokehJS code because BokehJS library is missing\");\n",
       "        }\n",
       "      }\n",
       "    }, 10, root)\n",
       "  }\n",
       "})(window);"
      ],
      "application/vnd.bokehjs_exec.v0+json": ""
     },
     "metadata": {
      "application/vnd.bokehjs_exec.v0+json": {
       "id": "3376"
      }
     },
     "output_type": "display_data"
    },
    {
     "name": "stderr",
     "output_type": "stream",
     "text": [
      "C:\\Users\\emolina\\AppData\\Local\\Continuum\\anaconda3\\lib\\site-packages\\pandas\\core\\series.py:726: RuntimeWarning: divide by zero encountered in log10\n",
      "  result = getattr(ufunc, method)(*inputs, **kwargs)\n"
     ]
    },
    {
     "data": {
      "text/html": [
       "\n",
       "  <div class=\"bk-root\" id=\"13bdf3df-4781-4486-9794-962ed6fd227c\" data-root-id=\"4197\"></div>\n"
      ]
     },
     "metadata": {},
     "output_type": "display_data"
    },
    {
     "data": {
      "application/javascript": [
       "(function(root) {\n",
       "  function embed_document(root) {\n",
       "  const docs_json = {\"b441a1fe-1943-4c96-a390-d0fd66493212\":{\"defs\":[],\"roots\":{\"references\":[{\"attributes\":{\"below\":[{\"id\":\"4206\"}],\"center\":[{\"id\":\"4209\"},{\"id\":\"4213\"},{\"id\":\"4245\"}],\"height\":450,\"left\":[{\"id\":\"4210\"}],\"renderers\":[{\"id\":\"4232\"},{\"id\":\"4251\"},{\"id\":\"4271\"},{\"id\":\"4292\"},{\"id\":\"4315\"},{\"id\":\"4341\"},{\"id\":\"4368\"},{\"id\":\"4398\"},{\"id\":\"4429\"},{\"id\":\"4463\"},{\"id\":\"4498\"},{\"id\":\"4536\"},{\"id\":\"4575\"},{\"id\":\"4617\"}],\"title\":{\"id\":\"4234\"},\"toolbar\":{\"id\":\"4221\"},\"width\":900,\"x_range\":{\"id\":\"4198\"},\"x_scale\":{\"id\":\"4202\"},\"y_range\":{\"id\":\"4200\"},\"y_scale\":{\"id\":\"4204\"}},\"id\":\"4197\",\"subtype\":\"Figure\",\"type\":\"Plot\"},{\"attributes\":{},\"id\":\"4240\",\"type\":\"BasicTickFormatter\"},{\"attributes\":{},\"id\":\"4361\",\"type\":\"UnionRenderers\"},{\"attributes\":{\"data\":{\"x\":{\"__ndarray__\":\"HgAAADwAAABaAAAAeAAAAJYAAAC0AAAA0gAAAPAAAAAOAQAALAEAAEoBAABoAQAAhgEAAKQBAADCAQAA4AEAAP4BAAAcAgAAOgIAAFgCAAB2AgAAlAIAALICAADQAgAA7gIAAAwDAAAqAwAASAMAAGYDAACEAwAAogMAAMADAADeAwAA/AMAABoEAAA4BAAAVgQAAHQEAACSBAAAsAQAAM4EAADsBAAACgUAACgFAABGBQAAZAUAAIIFAACgBQAAvgUAANwFAAD6BQAAGAYAADYGAABUBgAAcgYAAJAGAACuBgAAzAYAAOoGAAAIBwAAJgcAAEQHAABiBwAAgAcAAJ4HAAC8BwAA2gcAAPgHAAAWCAAANAgAAFIIAABwCAAAjggAAKwIAADKCAAA6AgAAAYJAAAkCQAAQgkAAGAJAAB+CQAAnAkAALoJAADYCQAA9gkAABQKAAAyCgAAUAoAAG4KAACMCgAAqgoAAMgKAADmCgAABAsAACILAABACwAAXgsAAHwLAACaCwAAuAsAANYLAAD0CwAAEgwAADAMAABODAAAbAwAAIoMAACoDAAAxgwAAOQMAAACDQAAIA0AAD4NAABcDQAAeg0AAJgNAAC2DQAA1A0AAPINAAAQDgAALg4AAEwOAABqDgAAiA4AAKYOAADEDgAA4g4AAAAPAAAeDwAAPA8AAFoPAAB4DwAAlg8AALQPAADSDwAA8A8AAA4QAAAsEAAAShAAAGgQAACGEAAApBAAAMIQAADgEAAA/hAAABwRAAA6EQAAWBEAAHYRAACUEQAAshEAANARAADuEQAADBIAACoSAABIEgAAZhIAAIQSAACiEgAA\",\"dtype\":\"int32\",\"order\":\"little\",\"shape\":[159]},\"y\":{\"__ndarray__\":\"AAAAAAAA8P8AAAAAAADw/+gM47j0GwVA6AzjuPQbBUDoDOO49BsFQOgM47j0GwVAz89gKoKqBUBqGHJkFbcGQGoYcmQVtwZAahhyZBW3BkAcBv/rXegHQBwG/+td6AdABxxrF5i5B0DhMFMz6q0HQOEwUzPqrQdA/qFyyXmXB0D+oXLJeZcHQP6hcsl5lwdArVnHW9RlB0BqrANJfyEHQGqsA0l/IQdAaqwDSX8hB0CtbSSH5/oGQDu8NIdmAgdAO7w0h2YCB0Dx5C10Ng0HQPHkLXQ2DQdArn70zxgzB0CufvTPGDMHQK5+9M8YMwdAe+UPaKXZBkB75Q9opdkGQPUSunjwzQZA9RK6ePDNBkC0/zDwlgcHQLT/MPCWBwdAS3Ua+HfABkDL8KgRsqsGQBcoW4AJzAZAFyhbgAnMBkBjtQXpWLoGQGO1BelYugZAfmsndS3uBkBTZNZ8NyEHQKtyNirsRgdAjGel9XNzB0D5yAnp0ogHQPnICenSiAdAujty7/3YB0C1ZzslkO0HQCsgXDgf/gdAKyBcOB/+B0BvjKu7KTUIQHtGbNFYPghApGVGAIxzCEDvTs15soEIQOp2iUDPxwhAby4vmN+yCEBU22S5RwMJQFTbZLlHAwlAN9WT1SVlCUA31ZPVJWUJQCfY1B0InQlAJ9jUHQidCUA9Rcbplb8JQD1FxumVvwlApMojn5AACkCkyiOfkAAKQJAOepylHgpAkA56nKUeCkCJozgsBhEKQImjOCwGEQpA2AUTEIEBCkDYBRMQgQEKQH76JOqZ0wlAxMzYZrHFCUAAjQ+9jHMJQBuFvbNCXglA4RTtJlHzCEDSr5SdIs0IQOXAIyMyPwhAchPG3tyaCEAiEcbiYjoIQIJzWhtIbQhAaSpKUiMaCEAGxgBV3oAIQMrnsHE/aghAT3fZR4niCEAXD7SYFvYIQCRoi6tcXQlALhUq1bqMCUD8Dg3QzNoJQIDUFkA7BQpAcIxCCihPCkBwoiTeIVgKQP7L6kaujwpAA2RbwqJtCkA+R2RsBZMKQL7BumoIcwpAuFGIAEiSCkD6qlk2kW0KQHfni0z7hApAVfndEGpECkCXZ8V361kKQDGsou4NCApA2yleyFbXCUByOxo/IRMKQO5Anhm0owlAKTxa1zb2CUA+7EDs7aAJQEfZdajuBQpAsHr7BnPwCUCwevsGc/AJQM3nCJKg/glA0k+NJhtHCkBv7EavOSkKQKU1X0A9WgpArcvoPIs+CkCm+4cZ8lQKQEBxTYwwMgpAgs3b9PJJCkB9OmZfFx8KQEp4/ixuHwpA/6n+AyX0CUAVMFRgdvIJQAIBuyWbuglAAgG7JZu6CUBnzpDx8m8JQGfOkPHybwlA5+HENrT/CEBS6v2XCtYIQEZkR9IRLQhAccVOHAoDCEB0dRoXkAkHQFOil6LPFwdAUfTg5hsaBkDkDeQFHYUFQOQN5AUdhQVAMalkdwi+BUAxqWR3CL4FQIkCrHF0zAVAiQKscXTMBUDxuYDOm68FQDAeTEk1vQVAOHUpa4XbBUA4dSlrhdsFQFdupJBJAAZAV26kkEkABkDfDoENswsGQN8OgQ2zCwZAmqxz8IncBUCarHPwidwFQDfvzFNWxgVAN+/MU1bGBUBwdD0hg4EFQHB0PSGDgQVAGRSksMyHBUAZFKSwzIcFQLA4Q0S8hgVA\",\"dtype\":\"float64\",\"order\":\"little\",\"shape\":[159]}},\"selected\":{\"id\":\"4362\"},\"selection_policy\":{\"id\":\"4361\"}},\"id\":\"4337\",\"type\":\"ColumnDataSource\"},{\"attributes\":{},\"id\":\"4362\",\"type\":\"Selection\"},{\"attributes\":{\"data\":{\"x\":{\"__ndarray__\":\"WgAAANIAAADwAAAASgEAAIYBAACkAQAA4AEAADoCAABYAgAAsgIAANACAAAMAwAASAMAAKIDAADeAwAAGgQAAFYEAACSBAAAzgQAAAoFAABGBQAAggUAAL4FAAD6BQAANgYAAHIGAACuBgAA6gYAACYHAABiBwAAngcAANoHAAAWCAAAUggAAI4IAADKCAAA6AgAACQJAABgCQAAnAkAANgJAAAUCgAAUAoAAIwKAADICgAABAsAAEALAAB8CwAAuAsAAPQLAAAwDAAAbAwAAIoMAADGDAAAAg0AAFwNAAB6DQAAtg0AAPINAAAuDgAAag4AAKYOAABaDwAAlg8AANIPAAAOEAAAShAAAIYQAADCEAAA/hAAADoRAAB2EQAAshEAAO4RAAAqEgAAZhIAAKISAADAEgAA\",\"dtype\":\"int32\",\"order\":\"little\",\"shape\":[78]},\"y\":{\"__ndarray__\":\"8WAC/g+5AkAef6Ylk8cEQIsufYpKwgVA4tjK0dBmBkC+emq7dLwGQDSvia+M/wZA/8h2BecaB0D0Ff1V6vIGQHYxJZ4EugZAWv01frqRBkD8tXvk83AGQJxy3Rn5ZQZA6nUzTS5lBkD5Zh2XwdkFQOnOyZ02kQVAL119RyC+BUAb74y1QksFQH/5At+d6gRAUq0SktPWBECyvIJjrQAFQG/ngq06ggVAv6u4KEj5BUDhUsdT6UgGQNQoqVS9kQZAdm31mKT7BkCKkkUKlm8HQDm5cPeX7gdAAwYpbslgCEA0+XnRC+QIQHQVcfCLRwlA9p0qAOqMCUCCn0paSMgJQOF4eFw/7QlAVXLb0D/xCUAinDwiEOIJQNeOrL5JtwlAjze3ESy0CUB73XNJgVQJQOnjKTwdqQhAxQ1VWUoHCEBWUk3Mga4HQNwE1vzWlQdAJOZ1tMvMB0DJBBcX1jcIQMTHY/nK5whAEo7Ri7RxCUA0q4to4s8JQNE4Ce7NEQpALmoR09c7CkBTcSqSgEMKQAq9GJxRNwpA7Bx5dp7wCUDoj8ChKycKQPWjMo6AEQpAGgoy25cPCkB+SiEJDOEJQO6x3B7iJQpAs1mg5jMvCkBt57BVayUKQG9QY+stAwpAb3TGTUHUCUCohzGIYJcJQG6xfEBTiAhATqMrurLBB0DHlwbpPZAGQHDBuBZMSANAHFU7zDWcAUCvJ4oSDd38Pw13FEl0Zvw/LRX2KeCJ8z/SX1A7QUP0Pxs19+y0tPQ/czy81I9T9T+3DGDOB9b1P9Cm8BOfIPY/aobEyT1E9j+fWdyacHX2PzyDS684xPY/\",\"dtype\":\"float64\",\"order\":\"little\",\"shape\":[78]}},\"selected\":{\"id\":\"4264\"},\"selection_policy\":{\"id\":\"4263\"}},\"id\":\"4247\",\"type\":\"ColumnDataSource\"},{\"attributes\":{\"source\":{\"id\":\"4337\"}},\"id\":\"4342\",\"type\":\"CDSView\"},{\"attributes\":{\"coordinates\":null,\"data_source\":{\"id\":\"4337\"},\"glyph\":{\"id\":\"4338\"},\"group\":null,\"hover_glyph\":null,\"muted_glyph\":{\"id\":\"4340\"},\"nonselection_glyph\":{\"id\":\"4339\"},\"view\":{\"id\":\"4342\"}},\"id\":\"4341\",\"type\":\"GlyphRenderer\"},{\"attributes\":{\"fill_alpha\":{\"value\":0.1},\"fill_color\":{\"value\":\"rgb(65, 227, 238)\"},\"hatch_alpha\":{\"value\":0.1},\"hatch_color\":{\"value\":\"rgb(65, 227, 238)\"},\"line_alpha\":{\"value\":0.1},\"line_color\":{\"value\":\"rgb(65, 227, 238)\"},\"x\":{\"field\":\"x\"},\"y\":{\"field\":\"y\"}},\"id\":\"4339\",\"type\":\"Circle\"},{\"attributes\":{\"fill_alpha\":{\"value\":0.2},\"fill_color\":{\"value\":\"rgb(65, 227, 238)\"},\"hatch_alpha\":{\"value\":0.2},\"hatch_color\":{\"value\":\"rgb(65, 227, 238)\"},\"line_alpha\":{\"value\":0.2},\"line_color\":{\"value\":\"rgb(65, 227, 238)\"},\"x\":{\"field\":\"x\"},\"y\":{\"field\":\"y\"}},\"id\":\"4340\",\"type\":\"Circle\"},{\"attributes\":{},\"id\":\"4200\",\"type\":\"DataRange1d\"},{\"attributes\":{\"fill_alpha\":{\"value\":0.2},\"fill_color\":{\"value\":\"rgb(182, 163, 188)\"},\"hatch_alpha\":{\"value\":0.2},\"hatch_color\":{\"value\":\"rgb(182, 163, 188)\"},\"line_alpha\":{\"value\":0.2},\"line_color\":{\"value\":\"rgb(182, 163, 188)\"},\"x\":{\"field\":\"x\"},\"y\":{\"field\":\"y\"}},\"id\":\"4397\",\"type\":\"Circle\"},{\"attributes\":{\"data\":{\"x\":{\"__ndarray__\":\"HgAAADwAAABaAAAAeAAAAJYAAAC0AAAA0gAAAPAAAAAOAQAALAEAAEoBAABoAQAAhgEAAKQBAADCAQAA4AEAAP4BAAAcAgAAOgIAAFgCAAB2AgAAlAIAALICAADQAgAA7gIAAAwDAAAqAwAASAMAAGYDAACEAwAAogMAAMADAADeAwAA/AMAABoEAAA4BAAAVgQAAHQEAACSBAAAsAQAAM4EAADsBAAACgUAACgFAABGBQAAZAUAAIIFAACgBQAAvgUAANwFAAD6BQAAGAYAADYGAABUBgAAcgYAAJAGAACuBgAAzAYAAOoGAAAIBwAAJgcAAEQHAABiBwAAgAcAAJ4HAAC8BwAA2gcAAPgHAAAWCAAANAgAAFIIAABwCAAAjggAAKwIAADKCAAA6AgAAAYJAAAkCQAAQgkAAGAJAAB+CQAAnAkAALoJAADYCQAA9gkAABQKAAAyCgAAUAoAAG4KAACMCgAAqgoAAMgKAADmCgAABAsAACILAABACwAAXgsAAHwLAACaCwAAuAsAANYLAAD0CwAAEgwAADAMAABODAAAbAwAAIoMAACoDAAAxgwAAOQMAAACDQAAIA0AAD4NAABcDQAAeg0AAJgNAAC2DQAA1A0AAPINAAAQDgAALg4AAEwOAABqDgAAiA4AAKYOAADEDgAA4g4AAAAPAAAeDwAAPA8AAFoPAAB4DwAAlg8AALQPAADSDwAA8A8AAA4QAAAsEAAAShAAAGgQAACGEAAApBAAAMIQAADgEAAA/hAAABwRAAA6EQAAWBEAAHYRAACUEQAAshEAANARAADuEQAADBIAACoSAABIEgAAZhIAAIQSAAA=\",\"dtype\":\"int32\",\"order\":\"little\",\"shape\":[158]},\"y\":{\"__ndarray__\":\"AAAAAAAA8P8AAAAAAADw/+gX47j0GwVA6BfjuPQbBUDoF+O49BsFQOgX47j0GwVAuNTklz2oBUC4xHKwdLsGQLjEcrB0uwZAuMRysHS7BkD6NLp5fe0HQPo0unl97QdAkS4vMvG+B0Ad+XnA+7IHQB35ecD7sgdAXBXy8E+cB0BcFfLwT5wHQFwV8vBPnAdAKGGw3INqB0CO63kvMSYHQI7reS8xJgdAjut5LzEmB0CYFJ/mcf8GQCJSoozUBgdAIlKijNQGB0AliMVD4BAHQCWIxUPgEAdAF9uSyBQ2B0AX25LIFDYHQBfbksgUNgdA0hTCwOHcBkDSFMLA4dwGQJPCZC+G0QZAksJkL4bRBkAApik85AoHQAGmKTzkCgdAXkoJNxTBBkDxMhd08KwGQLjfW/DVzAZAuN9b8NXMBkDxvJ0qkLoGQPG8nSqQugZAMccrL1XuBkCdNVJtRyEHQLrKYRP8RgdAuMqePX9zB0Acs1nY7ogHQByzWdjuiAdAo+Q1v9LYB0A9QHd4++0HQPpbyV5b/gdA+lvJXlv+B0Ad+RHp1jQIQD4nDq9FPghA5r8hJjBzCEC1AZg5F4EIQBq+RScwxwhAQfoWWgiyCEDz2oXYygIJQPPahdjKAglANoLn7JNkCUA2gufsk2QJQBNazy0rnAlAE1rPLSucCUAbJRbYk74JQBslFtiTvglA1CeVkKn/CUDUJ5WQqf8JQGg8j/jDHQpAaDyP+MMdCkD3UP9DzQ8KQPdQ/0PNDwpAz6i6UWMACkDPqLpRYwAKQKflKfRh0glAnrCm+oHECUD+8DYwGHIJQHK2JpbOXAlAi+spSS/zCECvgYiR/cwIQN64IiUZPwhAJE8x7bSaCEBbLe5dbjoIQLVcL0FMbQhAcSnnn/gZCEDTTtdosYAIQMVKXwl4aghAYi4sYnXiCEBcQfpZDfYIQDOm7e8nXQlA9ECa3XmMCUDJDPNYdNoJQEL2rMXoBApAG9uTGf1OCkABlYS9+VcKQBRAiT2WjwpAriJ8ZJNtCkCp2cwoA5MKQDyJru/7cgpAbNgh/WuSCkDn63vf9m0KQAqZqHLqhQpAs3bQnUpFCkDcwILRiVoKQAZ6xlOwCApAkVcDtPvXCUAiPwq3hxMKQNeSK+wSpAlAmOtU8lb2CUAB30lcMKEJQCv54xgeBgpAkH7M8YHwCUCQfszxgfAJQO5ngG3K/glAimc/h0BHCkATXe0xXykKQN+w35xQWgpAQizwQ5o+CkDOujrT8lQKQFDg7g40MgpAirZ6repJCkC1a/J7FR8KQIb9WFtmHwpAqW2LNiv0CUCv6p8oevIJQMVJpz6suglAxUmnPqy6CUAilfXaNHAJQCKV9do0cAlA2K52/EoACUDOUjmXjtYIQJSFy4/kLQhAn2BudbQBCEC1rqCX0REHQO9feObRGgdAYdK+pfgsBkDufe/C5J8FQO5978LknwVAQ4ATDgjWBUBDgBMOCNYFQB2y/83n2AVAHbL/zefYBUCNIdyMMrcFQBRkXWrQxgVAkQoMJlTcBUCRCgwmVNwFQA3ykY4EAgZADfKRjgQCBkA5Un96sw0GQDlSf3qzDQZADZICs9PdBUANkgKz090FQIHR+0BGxwVAgdH7QEbHBUCG4214aoEFQIbjbXhqgQVACIxaAlmIBUAIjFoCWYgFQA==\",\"dtype\":\"float64\",\"order\":\"little\",\"shape\":[158]}},\"selected\":{\"id\":\"4391\"},\"selection_policy\":{\"id\":\"4390\"}},\"id\":\"4364\",\"type\":\"ColumnDataSource\"},{\"attributes\":{\"line_color\":\"rgb(182, 163, 188)\",\"x\":{\"field\":\"x\"},\"y\":{\"field\":\"y\"}},\"id\":\"4365\",\"type\":\"Line\"},{\"attributes\":{\"coordinates\":null,\"data_source\":{\"id\":\"4364\"},\"glyph\":{\"id\":\"4365\"},\"group\":null,\"hover_glyph\":null,\"muted_glyph\":{\"id\":\"4367\"},\"nonselection_glyph\":{\"id\":\"4366\"},\"view\":{\"id\":\"4369\"}},\"id\":\"4368\",\"type\":\"GlyphRenderer\"},{\"attributes\":{\"line_alpha\":0.2,\"line_color\":\"rgb(182, 163, 188)\",\"x\":{\"field\":\"x\"},\"y\":{\"field\":\"y\"}},\"id\":\"4367\",\"type\":\"Line\"},{\"attributes\":{\"line_alpha\":0.1,\"line_color\":\"rgb(182, 163, 188)\",\"x\":{\"field\":\"x\"},\"y\":{\"field\":\"y\"}},\"id\":\"4366\",\"type\":\"Line\"},{\"attributes\":{\"fill_color\":{\"value\":\"rgb(182, 163, 188)\"},\"hatch_color\":{\"value\":\"rgb(182, 163, 188)\"},\"line_color\":{\"value\":\"rgb(182, 163, 188)\"},\"x\":{\"field\":\"x\"},\"y\":{\"field\":\"y\"}},\"id\":\"4395\",\"type\":\"Circle\"},{\"attributes\":{\"source\":{\"id\":\"4364\"}},\"id\":\"4369\",\"type\":\"CDSView\"},{\"attributes\":{},\"id\":\"4390\",\"type\":\"UnionRenderers\"},{\"attributes\":{\"line_alpha\":0.1,\"line_color\":\"navy\",\"x\":{\"field\":\"x\"},\"y\":{\"field\":\"y\"}},\"id\":\"4230\",\"type\":\"Line\"},{\"attributes\":{},\"id\":\"4391\",\"type\":\"Selection\"},{\"attributes\":{\"coordinates\":null,\"data_source\":{\"id\":\"4394\"},\"glyph\":{\"id\":\"4395\"},\"group\":null,\"hover_glyph\":null,\"muted_glyph\":{\"id\":\"4397\"},\"nonselection_glyph\":{\"id\":\"4396\"},\"view\":{\"id\":\"4399\"}},\"id\":\"4398\",\"type\":\"GlyphRenderer\"},{\"attributes\":{},\"id\":\"4202\",\"type\":\"LinearScale\"},{\"attributes\":{\"label\":{\"value\":\"p mpc 2\"},\"renderers\":[{\"id\":\"4368\"},{\"id\":\"4398\"}]},\"id\":\"4393\",\"type\":\"LegendItem\"},{\"attributes\":{},\"id\":\"4198\",\"type\":\"DataRange1d\"},{\"attributes\":{\"data\":{\"x\":{\"__ndarray__\":\"HgAAADwAAABaAAAAeAAAAJYAAAC0AAAA0gAAAPAAAAAOAQAALAEAAEoBAABoAQAAhgEAAKQBAADCAQAA4AEAAP4BAAAcAgAAOgIAAFgCAAB2AgAAlAIAALICAADQAgAA7gIAAAwDAAAqAwAASAMAAGYDAACEAwAAogMAAMADAADeAwAA/AMAABoEAAA4BAAAVgQAAHQEAACSBAAAsAQAAM4EAADsBAAACgUAACgFAABGBQAAZAUAAIIFAACgBQAAvgUAANwFAAD6BQAAGAYAADYGAABUBgAAcgYAAJAGAACuBgAAzAYAAOoGAAAIBwAAJgcAAEQHAABiBwAAgAcAAJ4HAAC8BwAA2gcAAPgHAAAWCAAANAgAAFIIAABwCAAAjggAAKwIAADKCAAA6AgAAAYJAAAkCQAAQgkAAGAJAAB+CQAAnAkAALoJAADYCQAA9gkAABQKAAAyCgAAUAoAAG4KAACMCgAAqgoAAMgKAADmCgAABAsAACILAABACwAAXgsAAHwLAACaCwAAuAsAANYLAAD0CwAAEgwAADAMAABODAAAbAwAAIoMAACoDAAAxgwAAOQMAAACDQAAIA0AAD4NAABcDQAAeg0AAJgNAAC2DQAA1A0AAPINAAAQDgAALg4AAEwOAABqDgAAiA4AAKYOAADEDgAA4g4AAAAPAAAeDwAAPA8AAFoPAAB4DwAAlg8AALQPAADSDwAA8A8AAA4QAAAsEAAAShAAAGgQAACGEAAApBAAAMIQAADgEAAA/hAAABwRAAA6EQAAWBEAAHYRAACUEQAAshEAANARAADuEQAADBIAACoSAABIEgAAZhIAAIQSAAA=\",\"dtype\":\"int32\",\"order\":\"little\",\"shape\":[158]},\"y\":{\"__ndarray__\":\"AAAAAAAA8P8AAAAAAADw/+gX47j0GwVA6BfjuPQbBUDoF+O49BsFQOgX47j0GwVAuNTklz2oBUC4xHKwdLsGQLjEcrB0uwZAuMRysHS7BkD6NLp5fe0HQPo0unl97QdAkS4vMvG+B0Ad+XnA+7IHQB35ecD7sgdAXBXy8E+cB0BcFfLwT5wHQFwV8vBPnAdAKGGw3INqB0CO63kvMSYHQI7reS8xJgdAjut5LzEmB0CYFJ/mcf8GQCJSoozUBgdAIlKijNQGB0AliMVD4BAHQCWIxUPgEAdAF9uSyBQ2B0AX25LIFDYHQBfbksgUNgdA0hTCwOHcBkDSFMLA4dwGQJPCZC+G0QZAksJkL4bRBkAApik85AoHQAGmKTzkCgdAXkoJNxTBBkDxMhd08KwGQLjfW/DVzAZAuN9b8NXMBkDxvJ0qkLoGQPG8nSqQugZAMccrL1XuBkCdNVJtRyEHQLrKYRP8RgdAuMqePX9zB0Acs1nY7ogHQByzWdjuiAdAo+Q1v9LYB0A9QHd4++0HQPpbyV5b/gdA+lvJXlv+B0Ad+RHp1jQIQD4nDq9FPghA5r8hJjBzCEC1AZg5F4EIQBq+RScwxwhAQfoWWgiyCEDz2oXYygIJQPPahdjKAglANoLn7JNkCUA2gufsk2QJQBNazy0rnAlAE1rPLSucCUAbJRbYk74JQBslFtiTvglA1CeVkKn/CUDUJ5WQqf8JQGg8j/jDHQpAaDyP+MMdCkD3UP9DzQ8KQPdQ/0PNDwpAz6i6UWMACkDPqLpRYwAKQKflKfRh0glAnrCm+oHECUD+8DYwGHIJQHK2JpbOXAlAi+spSS/zCECvgYiR/cwIQN64IiUZPwhAJE8x7bSaCEBbLe5dbjoIQLVcL0FMbQhAcSnnn/gZCEDTTtdosYAIQMVKXwl4aghAYi4sYnXiCEBcQfpZDfYIQDOm7e8nXQlA9ECa3XmMCUDJDPNYdNoJQEL2rMXoBApAG9uTGf1OCkABlYS9+VcKQBRAiT2WjwpAriJ8ZJNtCkCp2cwoA5MKQDyJru/7cgpAbNgh/WuSCkDn63vf9m0KQAqZqHLqhQpAs3bQnUpFCkDcwILRiVoKQAZ6xlOwCApAkVcDtPvXCUAiPwq3hxMKQNeSK+wSpAlAmOtU8lb2CUAB30lcMKEJQCv54xgeBgpAkH7M8YHwCUCQfszxgfAJQO5ngG3K/glAimc/h0BHCkATXe0xXykKQN+w35xQWgpAQizwQ5o+CkDOujrT8lQKQFDg7g40MgpAirZ6repJCkC1a/J7FR8KQIb9WFtmHwpAqW2LNiv0CUCv6p8oevIJQMVJpz6suglAxUmnPqy6CUAilfXaNHAJQCKV9do0cAlA2K52/EoACUDOUjmXjtYIQJSFy4/kLQhAn2BudbQBCEC1rqCX0REHQO9feObRGgdAYdK+pfgsBkDufe/C5J8FQO5978LknwVAQ4ATDgjWBUBDgBMOCNYFQB2y/83n2AVAHbL/zefYBUCNIdyMMrcFQBRkXWrQxgVAkQoMJlTcBUCRCgwmVNwFQA3ykY4EAgZADfKRjgQCBkA5Un96sw0GQDlSf3qzDQZADZICs9PdBUANkgKz090FQIHR+0BGxwVAgdH7QEbHBUCG4214aoEFQIbjbXhqgQVACIxaAlmIBUAIjFoCWYgFQA==\",\"dtype\":\"float64\",\"order\":\"little\",\"shape\":[158]}},\"selected\":{\"id\":\"4423\"},\"selection_policy\":{\"id\":\"4422\"}},\"id\":\"4394\",\"type\":\"ColumnDataSource\"},{\"attributes\":{\"fill_alpha\":{\"value\":0.1},\"fill_color\":{\"value\":\"rgb(182, 163, 188)\"},\"hatch_alpha\":{\"value\":0.1},\"hatch_color\":{\"value\":\"rgb(182, 163, 188)\"},\"line_alpha\":{\"value\":0.1},\"line_color\":{\"value\":\"rgb(182, 163, 188)\"},\"x\":{\"field\":\"x\"},\"y\":{\"field\":\"y\"}},\"id\":\"4396\",\"type\":\"Circle\"},{\"attributes\":{\"axis_label\":\"time [s]\",\"coordinates\":null,\"formatter\":{\"id\":\"4240\"},\"group\":null,\"major_label_policy\":{\"id\":\"4241\"},\"ticker\":{\"id\":\"4207\"}},\"id\":\"4206\",\"type\":\"LinearAxis\"},{\"attributes\":{},\"id\":\"4204\",\"type\":\"LinearScale\"},{\"attributes\":{\"line_color\":\"rgb(182, 31, 179)\",\"x\":{\"field\":\"x\"},\"y\":{\"field\":\"y\"}},\"id\":\"4426\",\"type\":\"Line\"},{\"attributes\":{},\"id\":\"4207\",\"type\":\"BasicTicker\"},{\"attributes\":{\"coordinates\":null,\"data_source\":{\"id\":\"4494\"},\"glyph\":{\"id\":\"4495\"},\"group\":null,\"hover_glyph\":null,\"muted_glyph\":{\"id\":\"4497\"},\"nonselection_glyph\":{\"id\":\"4496\"},\"view\":{\"id\":\"4499\"}},\"id\":\"4498\",\"type\":\"GlyphRenderer\"},{\"attributes\":{\"data\":{\"x\":{\"__ndarray__\":\"WgAAANIAAADwAAAASgEAAIYBAACkAQAA4AEAADoCAABYAgAAsgIAANACAAAMAwAASAMAAKIDAADeAwAAGgQAAFYEAACSBAAAzgQAAAoFAABGBQAAggUAAL4FAAD6BQAANgYAAHIGAACuBgAA6gYAACYHAABiBwAAngcAANoHAAAWCAAAUggAAI4IAADKCAAA6AgAACQJAABgCQAAnAkAANgJAAAUCgAAUAoAAIwKAADICgAABAsAAEALAAB8CwAAuAsAAPQLAAAwDAAAbAwAAIoMAADGDAAAAg0AAFwNAAB6DQAAtg0AAPINAAAuDgAAag4AAKYOAABaDwAAlg8AANIPAAAOEAAAShAAAIYQAADCEAAA/hAAADoRAAB2EQAAshEAAO4RAAAqEgAAZhIAAKISAADAEgAA\",\"dtype\":\"int32\",\"order\":\"little\",\"shape\":[78]},\"y\":{\"__ndarray__\":\"TMkTcuVP+z/+K2pW8w4FQNioiEml8wVAUwYBz1+EB0A2MtdyqNUHQE604wXWBQhAUka30ncfCECAVVlvG/0HQBL8TeT8vAdARdGt6zKbB0Ao8FPSOHMHQOfOdibyeAdACtH7f2xNB0DCIbSvhf0GQA3qJDJ2qgZAryI0eKauBkDiFGAym5EGQG0hzdXzVwZAIeMlBNjvBUCa8CWAFDIGQLs7mP/2lwZAg+qJRrncBkCS4JcN8icHQMuBGXGoRAdATGqZkZuEB0C5E6DvEYsHQJ0rOF1G9QdAiBpMNYI7CEDf/VXHp6IIQE85fiaW5whAZnJALJkiCUDZa8WwEDkJQBaUs6LwkAlAAzrWICmhCUAk/cekUZ8JQPFj4A0TjQlA7ZAcXTCPCUBHa+QVnzAJQPxE0l0UxAhAQtqNL9YgCEDeQX8R8MYHQOnVHzbwuQdAAG0h/tvcB0D9BhavVyIIQBVqnnwD0whArLppJz5eCUDfK1WXet8JQEZKd/NSQwpAp2jTwj9VCkA4mRd6qlEKQFpKAlQ9PgpArb+Rgn//CUB92Yw1fDgKQETJBUtkRQpAuKNS+ztVCkAivKx2xhUKQIRzTMuLWQpAqLm43RaCCkDk/kVEG3gKQKcQvcBCPApAZsm72ggECkAMCz582NUJQBbQs8lT6ghAuXCvn4EBCEAdNp6tIwkHQGdE/ipI1QVAE32ZbmaMBUD1czZ8L8wFQAFOJvaDnAVA2+G4UjnLBUCHN5ZzJ84FQM9TG06y0AVAfvO5pzukBUDinFsWmX4FQJDsE8SqBgVAUf7hOKEBBUCDKjuu2yEFQL5VkkikXwVA\",\"dtype\":\"float64\",\"order\":\"little\",\"shape\":[78]}},\"selected\":{\"id\":\"4286\"},\"selection_policy\":{\"id\":\"4285\"}},\"id\":\"4267\",\"type\":\"ColumnDataSource\"},{\"attributes\":{},\"id\":\"4243\",\"type\":\"Selection\"},{\"attributes\":{},\"id\":\"4423\",\"type\":\"Selection\"},{\"attributes\":{\"axis_label\":\"privacy\",\"coordinates\":null,\"formatter\":{\"id\":\"4237\"},\"group\":null,\"major_label_policy\":{\"id\":\"4238\"},\"ticker\":{\"id\":\"4211\"}},\"id\":\"4210\",\"type\":\"LinearAxis\"},{\"attributes\":{},\"id\":\"4242\",\"type\":\"UnionRenderers\"},{\"attributes\":{},\"id\":\"4654\",\"type\":\"Selection\"},{\"attributes\":{\"coordinates\":null,\"group\":null,\"items\":[{\"id\":\"4246\"},{\"id\":\"4266\"},{\"id\":\"4336\"},{\"id\":\"4393\"},{\"id\":\"4458\"},{\"id\":\"4531\"},{\"id\":\"4612\"}]},\"id\":\"4245\",\"type\":\"Legend\"},{\"attributes\":{\"source\":{\"id\":\"4394\"}},\"id\":\"4399\",\"type\":\"CDSView\"},{\"attributes\":{},\"id\":\"4211\",\"type\":\"BasicTicker\"},{\"attributes\":{\"axis\":{\"id\":\"4206\"},\"coordinates\":null,\"group\":null,\"ticker\":null},\"id\":\"4209\",\"type\":\"Grid\"},{\"attributes\":{\"line_alpha\":0.2,\"line_color\":\"rgb(130, 97, 244)\",\"x\":{\"field\":\"x\"},\"y\":{\"field\":\"y\"}},\"id\":\"4497\",\"type\":\"Line\"},{\"attributes\":{},\"id\":\"4422\",\"type\":\"UnionRenderers\"},{\"attributes\":{\"source\":{\"id\":\"4494\"}},\"id\":\"4499\",\"type\":\"CDSView\"},{\"attributes\":{\"data\":{\"x\":{\"__ndarray__\":\"WgAAANIAAADwAAAASgEAAIYBAACkAQAA4AEAADoCAABYAgAAsgIAANACAAAMAwAASAMAAKIDAADeAwAAGgQAAFYEAACSBAAAzgQAAAoFAABGBQAAggUAAL4FAAD6BQAANgYAAHIGAACuBgAA6gYAACYHAABiBwAAngcAANoHAAAWCAAAUggAAI4IAADKCAAA6AgAACQJAABgCQAAnAkAANgJAAAUCgAAUAoAAIwKAADICgAABAsAAEALAAB8CwAAuAsAAPQLAAAwDAAAbAwAAIoMAADGDAAAAg0AAFwNAAB6DQAAtg0AAPINAAAuDgAAag4AAKYOAABaDwAAlg8AANIPAAAOEAAAShAAAIYQAADCEAAA/hAAADoRAAB2EQAAshEAAO4RAAAqEgAAZhIAAKISAADAEgAA\",\"dtype\":\"int32\",\"order\":\"little\",\"shape\":[78]},\"y\":{\"__ndarray__\":\"TMkTcuVP+z/+K2pW8w4FQNioiEml8wVAUwYBz1+EB0A2MtdyqNUHQE604wXWBQhAUka30ncfCECAVVlvG/0HQBL8TeT8vAdARdGt6zKbB0Ao8FPSOHMHQOfOdibyeAdACtH7f2xNB0DCIbSvhf0GQA3qJDJ2qgZAryI0eKauBkDiFGAym5EGQG0hzdXzVwZAIeMlBNjvBUCa8CWAFDIGQLs7mP/2lwZAg+qJRrncBkCS4JcN8icHQMuBGXGoRAdATGqZkZuEB0C5E6DvEYsHQJ0rOF1G9QdAiBpMNYI7CEDf/VXHp6IIQE85fiaW5whAZnJALJkiCUDZa8WwEDkJQBaUs6LwkAlAAzrWICmhCUAk/cekUZ8JQPFj4A0TjQlA7ZAcXTCPCUBHa+QVnzAJQPxE0l0UxAhAQtqNL9YgCEDeQX8R8MYHQOnVHzbwuQdAAG0h/tvcB0D9BhavVyIIQBVqnnwD0whArLppJz5eCUDfK1WXet8JQEZKd/NSQwpAp2jTwj9VCkA4mRd6qlEKQFpKAlQ9PgpArb+Rgn//CUB92Yw1fDgKQETJBUtkRQpAuKNS+ztVCkAivKx2xhUKQIRzTMuLWQpAqLm43RaCCkDk/kVEG3gKQKcQvcBCPApAZsm72ggECkAMCz582NUJQBbQs8lT6ghAuXCvn4EBCEAdNp6tIwkHQGdE/ipI1QVAE32ZbmaMBUD1czZ8L8wFQAFOJvaDnAVA2+G4UjnLBUCHN5ZzJ84FQM9TG06y0AVAfvO5pzukBUDinFsWmX4FQJDsE8SqBgVAUf7hOKEBBUCDKjuu2yEFQL5VkkikXwVA\",\"dtype\":\"float64\",\"order\":\"little\",\"shape\":[78]}},\"selected\":{\"id\":\"4309\"},\"selection_policy\":{\"id\":\"4308\"}},\"id\":\"4288\",\"type\":\"ColumnDataSource\"},{\"attributes\":{\"fill_color\":{\"value\":\"rgb(65, 227, 238)\"},\"hatch_color\":{\"value\":\"rgb(65, 227, 238)\"},\"line_color\":{\"value\":\"rgb(65, 227, 238)\"},\"x\":{\"field\":\"x\"},\"y\":{\"field\":\"y\"}},\"id\":\"4338\",\"type\":\"Circle\"},{\"attributes\":{\"coordinates\":null,\"data_source\":{\"id\":\"4228\"},\"glyph\":{\"id\":\"4229\"},\"group\":null,\"hover_glyph\":null,\"muted_glyph\":{\"id\":\"4231\"},\"nonselection_glyph\":{\"id\":\"4230\"},\"view\":{\"id\":\"4233\"}},\"id\":\"4232\",\"type\":\"GlyphRenderer\"},{\"attributes\":{\"data\":{\"x\":{\"__ndarray__\":\"HgAAADwAAABaAAAAeAAAAJYAAAC0AAAA0gAAAPAAAAAOAQAALAEAAEoBAABoAQAAhgEAAKQBAADCAQAA4AEAAP4BAAAcAgAAOgIAAFgCAAB2AgAAlAIAALICAADQAgAA7gIAAAwDAAAqAwAASAMAAGYDAACEAwAAogMAAMADAADeAwAA/AMAABoEAAA4BAAAVgQAAHQEAACSBAAAsAQAAM4EAADsBAAACgUAACgFAABGBQAAZAUAAIIFAACgBQAAvgUAANwFAAD6BQAAGAYAADYGAABUBgAAcgYAAJAGAACuBgAAzAYAAOoGAAAIBwAAJgcAAEQHAABiBwAAgAcAAJ4HAAC8BwAA2gcAAPgHAAAWCAAANAgAAFIIAABwCAAAjggAAKwIAADKCAAA6AgAAAYJAAAkCQAAQgkAAGAJAAB+CQAAnAkAALoJAADYCQAA9gkAABQKAAAyCgAAUAoAAG4KAACMCgAAqgoAAMgKAADmCgAABAsAACILAABACwAAXgsAAHwLAACaCwAAuAsAANYLAAD0CwAAEgwAADAMAABODAAAbAwAAIoMAACoDAAAxgwAAOQMAAACDQAAIA0AAD4NAABcDQAAeg0AAJgNAAC2DQAA1A0AAPINAAAQDgAALg4AAEwOAABqDgAAiA4AAKYOAADEDgAA4g4AAAAPAAAeDwAAPA8AAFoPAAB4DwAAlg8AALQPAADSDwAA8A8AAA4QAAAsEAAAShAAAGgQAACGEAAApBAAAMIQAADgEAAA/hAAABwRAAA6EQAAWBEAAHYRAACUEQAAshEAANARAADuEQAADBIAACoSAABIEgAAZhIAAIQSAACiEgAA\",\"dtype\":\"int32\",\"order\":\"little\",\"shape\":[159]},\"y\":{\"__ndarray__\":\"AAAAAAAA8P8AAAAAAADw/+gM47j0GwVA6AzjuPQbBUDoDOO49BsFQOgM47j0GwVAz89gKoKqBUBqGHJkFbcGQGoYcmQVtwZAahhyZBW3BkAcBv/rXegHQBwG/+td6AdABxxrF5i5B0DhMFMz6q0HQOEwUzPqrQdA/qFyyXmXB0D+oXLJeZcHQP6hcsl5lwdArVnHW9RlB0BqrANJfyEHQGqsA0l/IQdAaqwDSX8hB0CtbSSH5/oGQDu8NIdmAgdAO7w0h2YCB0Dx5C10Ng0HQPHkLXQ2DQdArn70zxgzB0CufvTPGDMHQK5+9M8YMwdAe+UPaKXZBkB75Q9opdkGQPUSunjwzQZA9RK6ePDNBkC0/zDwlgcHQLT/MPCWBwdAS3Ua+HfABkDL8KgRsqsGQBcoW4AJzAZAFyhbgAnMBkBjtQXpWLoGQGO1BelYugZAfmsndS3uBkBTZNZ8NyEHQKtyNirsRgdAjGel9XNzB0D5yAnp0ogHQPnICenSiAdAujty7/3YB0C1ZzslkO0HQCsgXDgf/gdAKyBcOB/+B0BvjKu7KTUIQHtGbNFYPghApGVGAIxzCEDvTs15soEIQOp2iUDPxwhAby4vmN+yCEBU22S5RwMJQFTbZLlHAwlAN9WT1SVlCUA31ZPVJWUJQCfY1B0InQlAJ9jUHQidCUA9Rcbplb8JQD1FxumVvwlApMojn5AACkCkyiOfkAAKQJAOepylHgpAkA56nKUeCkCJozgsBhEKQImjOCwGEQpA2AUTEIEBCkDYBRMQgQEKQH76JOqZ0wlAxMzYZrHFCUAAjQ+9jHMJQBuFvbNCXglA4RTtJlHzCEDSr5SdIs0IQOXAIyMyPwhAchPG3tyaCEAiEcbiYjoIQIJzWhtIbQhAaSpKUiMaCEAGxgBV3oAIQMrnsHE/aghAT3fZR4niCEAXD7SYFvYIQCRoi6tcXQlALhUq1bqMCUD8Dg3QzNoJQIDUFkA7BQpAcIxCCihPCkBwoiTeIVgKQP7L6kaujwpAA2RbwqJtCkA+R2RsBZMKQL7BumoIcwpAuFGIAEiSCkD6qlk2kW0KQHfni0z7hApAVfndEGpECkCXZ8V361kKQDGsou4NCApA2yleyFbXCUByOxo/IRMKQO5Anhm0owlAKTxa1zb2CUA+7EDs7aAJQEfZdajuBQpAsHr7BnPwCUCwevsGc/AJQM3nCJKg/glA0k+NJhtHCkBv7EavOSkKQKU1X0A9WgpArcvoPIs+CkCm+4cZ8lQKQEBxTYwwMgpAgs3b9PJJCkB9OmZfFx8KQEp4/ixuHwpA/6n+AyX0CUAVMFRgdvIJQAIBuyWbuglAAgG7JZu6CUBnzpDx8m8JQGfOkPHybwlA5+HENrT/CEBS6v2XCtYIQEZkR9IRLQhAccVOHAoDCEB0dRoXkAkHQFOil6LPFwdAUfTg5hsaBkDkDeQFHYUFQOQN5AUdhQVAMalkdwi+BUAxqWR3CL4FQIkCrHF0zAVAiQKscXTMBUDxuYDOm68FQDAeTEk1vQVAOHUpa4XbBUA4dSlrhdsFQFdupJBJAAZAV26kkEkABkDfDoENswsGQN8OgQ2zCwZAmqxz8IncBUCarHPwidwFQDfvzFNWxgVAN+/MU1bGBUBwdD0hg4EFQHB0PSGDgQVAGRSksMyHBUAZFKSwzIcFQLA4Q0S8hgVA\",\"dtype\":\"float64\",\"order\":\"little\",\"shape\":[159]}},\"selected\":{\"id\":\"4334\"},\"selection_policy\":{\"id\":\"4333\"}},\"id\":\"4311\",\"type\":\"ColumnDataSource\"},{\"attributes\":{\"line_color\":\"rgb(65, 227, 238)\",\"x\":{\"field\":\"x\"},\"y\":{\"field\":\"y\"}},\"id\":\"4312\",\"type\":\"Line\"},{\"attributes\":{},\"id\":\"4569\",\"type\":\"Selection\"},{\"attributes\":{},\"id\":\"4528\",\"type\":\"UnionRenderers\"},{\"attributes\":{},\"id\":\"4653\",\"type\":\"UnionRenderers\"},{\"attributes\":{\"label\":{\"value\":\"p\"},\"renderers\":[{\"id\":\"4232\"}]},\"id\":\"4246\",\"type\":\"LegendItem\"},{\"attributes\":{\"axis\":{\"id\":\"4210\"},\"coordinates\":null,\"dimension\":1,\"group\":null,\"ticker\":null},\"id\":\"4213\",\"type\":\"Grid\"},{\"attributes\":{},\"id\":\"4529\",\"type\":\"Selection\"},{\"attributes\":{\"data\":{\"x\":{\"__ndarray__\":\"HgAAADwAAABaAAAAeAAAAJYAAAC0AAAA0gAAAPAAAAAOAQAALAEAAEoBAABoAQAAhgEAAKQBAADCAQAA4AEAAP4BAAAcAgAAOgIAAFgCAAB2AgAAlAIAALICAADQAgAA7gIAAAwDAAAqAwAASAMAAGYDAACEAwAAogMAAMADAADeAwAA/AMAABoEAAA4BAAAVgQAAHQEAACSBAAAsAQAAM4EAADsBAAACgUAACgFAABGBQAAZAUAAIIFAACgBQAAvgUAANwFAAD6BQAAGAYAADYGAABUBgAAcgYAAJAGAACuBgAAzAYAAOoGAAAIBwAAJgcAAEQHAABiBwAAgAcAAJ4HAAC8BwAA2gcAAPgHAAAWCAAANAgAAFIIAABwCAAAjggAAKwIAADKCAAA6AgAAAYJAAAkCQAAQgkAAGAJAAB+CQAAnAkAALoJAADYCQAA9gkAABQKAAAyCgAAUAoAAG4KAACMCgAAqgoAAMgKAADmCgAABAsAACILAABACwAAXgsAAHwLAACaCwAAuAsAANYLAAD0CwAAEgwAADAMAABODAAAbAwAAIoMAACoDAAAxgwAAOQMAAACDQAAIA0AAD4NAABcDQAAeg0AAJgNAAC2DQAA1A0AAPINAAAQDgAALg4AAEwOAABqDgAAiA4AAKYOAADEDgAA4g4AAAAPAAAeDwAAPA8AAFoPAAB4DwAAlg8AALQPAADSDwAA8A8AAA4QAAAsEAAAShAAAGgQAACGEAAApBAAAMIQAADgEAAA/hAAABwRAAA6EQAAWBEAAHYRAACUEQAAshEAANARAADuEQAADBIAACoSAAA=\",\"dtype\":\"int32\",\"order\":\"little\",\"shape\":[155]},\"y\":{\"__ndarray__\":\"AAAAAAAA8P8AAAAAAADw/zJc48CrGAVAMlzjwKsYBUAyXOPAqxgFQDJc48CrGAVALg/2Cpq2BUB2Gtp+idQGQHYa2n6J1AZAdhrafonUBkCLie3TVv4HQIuJ7dNW/gdAw71nWobPB0D9kKCt0cIHQP2QoK3RwgdADvGMYoOrB0AO8Yxig6sHQA7xjGKDqwdAGUSEYfx4B0BO7W1uBjQHQE7tbW4GNAdATu1tbgY0B0CiQMEGOg4HQDXjx603FwdANePHrTcXB0AxJnfYJB4HQDEmd9gkHgdAeu95ZKA9B0B673lkoD0HQHrveWSgPQdA6ukKNrHjBkDq6Qo2seMGQDn49O0G2QZAOfj07QbZBkBnVcVMWxIHQGdVxUxbEgdALqNBAsnHBkAezrEc2rAGQHq2nAGQzwZAeracAZDPBkDTqU6keroGQNOpTqR6ugZAUmpgC/LtBkAVYgiaAiAHQNDOM4UURgdAdskA0wRzB0D6GCM8QokHQPoYIzxCiQdARKWH+q7aB0CdODVWJvQHQHR/fZaOBAhAdH99lo4ECEDnevyFEzoIQFnXVqGhOwhA8fydMO5wCEBB3UDmgoEIQJ4RUaCSxwhA/qLx72+yCECRbpdxOQMJQJFul3E5AwlAQKToNTJlCUBApOg1MmUJQH8+YyoInQlAfz5jKgidCUDow//3/74JQOjD//f/vglAIonL8uX/CUAiicvy5f8JQOdP/yrNHQpA50//Ks0dCkBetMPIPw8KQF60w8g/DwpAvsIP2WMACkC+wg/ZYwAKQP9Q8MJ20glACsFkxJLECUDDsxHHN3IJQFp9VAbqXAlA86J3izbyCEA6G4BOFMwIQIOMx41yPghAuVHVFQqaCECFuhHCzzkIQOed1E3GbAhAxXpbFd8ZCECqKy0kr4AIQIexLfIsawhAGiR7abviCEADC1WbaPYIQAGOkcdUXQlAM9d6WZqMCUC/BeWokdoJQMYVIa4CBQpAuLj8vhFPCkB55fqtDlgKQLAT3u2pjwpAwVMbzaltCkAspARXF5MKQNJzfjMKcwpAaxowBHySCkCOp/vIAm4KQD5WvanVhQpAHUwsYg5FCkCeapbff1oKQDK0eAT2CApApYXhdI7YCUC+IUCivxMKQL+L1rcvpAlAJ2C3skL2CUDvQAvhT6EJQKnwMopgBgpAHrZtBAnxCUAetm0ECfEJQBFDJS3n/wlAhAPK601ICkBoV1vitCoKQFjUsn1lWwpAg19m7cQ/CkDUDXSg6VUKQLUkoMs9MwpA2j+y28dKCkDSkKCnESAKQHpNvcZQIApASLD2GVP1CUD/kIW2mvMJQPLB46YovAlA8sHjpii8CUCDFoCJRXIJQIMWgIlFcglASvc4K3MDCUDv0bg6xNkIQM+m91LtLghATZ/jiKn+B0CbUuKGUhUHQO7654pAHAdAT2RSzsQ0BkAGQv3yjqwFQAZC/fKOrAVA6u/a1nnhBUDq79rWeeEFQIdSM1d+3gVAh1IzV37eBUD8TYgCcboFQDDCengayQVAlIDspwrfBUCUgOynCt8FQG5IIOXsAwZAbkgg5ewDBkDPFaUjORAGQM8VpSM5EAZAL6k4LMvgBUAvqTgsy+AFQOZB42O1ygVA5kHjY7XKBUADwAv9r4QFQA==\",\"dtype\":\"float64\",\"order\":\"little\",\"shape\":[155]}},\"selected\":{\"id\":\"4456\"},\"selection_policy\":{\"id\":\"4455\"}},\"id\":\"4425\",\"type\":\"ColumnDataSource\"},{\"attributes\":{\"source\":{\"id\":\"4613\"}},\"id\":\"4618\",\"type\":\"CDSView\"},{\"attributes\":{},\"id\":\"4333\",\"type\":\"UnionRenderers\"},{\"attributes\":{\"data\":{\"x\":{\"__ndarray__\":\"WgAAANIAAADwAAAASgEAAIYBAACkAQAA4AEAADoCAABYAgAAsgIAANACAAAMAwAASAMAAKIDAADeAwAAGgQAAFYEAACSBAAAzgQAAAoFAABGBQAAggUAAL4FAAD6BQAANgYAAHIGAACuBgAA6gYAACYHAABiBwAAngcAANoHAAAWCAAAUggAAI4IAADKCAAA6AgAACQJAABgCQAAnAkAANgJAAAUCgAAUAoAAIwKAADICgAABAsAAEALAAB8CwAAuAsAAPQLAAAwDAAAbAwAAIoMAADGDAAAAg0AAFwNAAB6DQAAtg0AAPINAAAuDgAAag4AAKYOAABaDwAAlg8AANIPAAAOEAAAShAAAIYQAADCEAAA/hAAADoRAAB2EQAAshEAAO4RAAAqEgAAZhIAAKISAADAEgAA\",\"dtype\":\"int32\",\"order\":\"little\",\"shape\":[78]},\"y\":{\"__ndarray__\":\"8WAC/g+5AkAef6Ylk8cEQIsufYpKwgVA4tjK0dBmBkC+emq7dLwGQDSvia+M/wZA/8h2BecaB0D0Ff1V6vIGQHYxJZ4EugZAWv01frqRBkD8tXvk83AGQJxy3Rn5ZQZA6nUzTS5lBkD5Zh2XwdkFQOnOyZ02kQVAL119RyC+BUAb74y1QksFQH/5At+d6gRAUq0SktPWBECyvIJjrQAFQG/ngq06ggVAv6u4KEj5BUDhUsdT6UgGQNQoqVS9kQZAdm31mKT7BkCKkkUKlm8HQDm5cPeX7gdAAwYpbslgCEA0+XnRC+QIQHQVcfCLRwlA9p0qAOqMCUCCn0paSMgJQOF4eFw/7QlAVXLb0D/xCUAinDwiEOIJQNeOrL5JtwlAjze3ESy0CUB73XNJgVQJQOnjKTwdqQhAxQ1VWUoHCEBWUk3Mga4HQNwE1vzWlQdAJOZ1tMvMB0DJBBcX1jcIQMTHY/nK5whAEo7Ri7RxCUA0q4to4s8JQNE4Ce7NEQpALmoR09c7CkBTcSqSgEMKQAq9GJxRNwpA7Bx5dp7wCUDoj8ChKycKQPWjMo6AEQpAGgoy25cPCkB+SiEJDOEJQO6x3B7iJQpAs1mg5jMvCkBt57BVayUKQG9QY+stAwpAb3TGTUHUCUCohzGIYJcJQG6xfEBTiAhATqMrurLBB0DHlwbpPZAGQHDBuBZMSANAHFU7zDWcAUCvJ4oSDd38Pw13FEl0Zvw/LRX2KeCJ8z/SX1A7QUP0Pxs19+y0tPQ/czy81I9T9T+3DGDOB9b1P9Cm8BOfIPY/aobEyT1E9j+fWdyacHX2PzyDS684xPY/\",\"dtype\":\"float64\",\"order\":\"little\",\"shape\":[78]}},\"selected\":{\"id\":\"4243\"},\"selection_policy\":{\"id\":\"4242\"}},\"id\":\"4228\",\"type\":\"ColumnDataSource\"},{\"attributes\":{\"coordinates\":null,\"data_source\":{\"id\":\"4613\"},\"glyph\":{\"id\":\"4614\"},\"group\":null,\"hover_glyph\":null,\"muted_glyph\":{\"id\":\"4616\"},\"nonselection_glyph\":{\"id\":\"4615\"},\"view\":{\"id\":\"4618\"}},\"id\":\"4617\",\"type\":\"GlyphRenderer\"},{\"attributes\":{\"overlay\":{\"id\":\"4220\"}},\"id\":\"4216\",\"type\":\"BoxZoomTool\"},{\"attributes\":{\"source\":{\"id\":\"4247\"}},\"id\":\"4252\",\"type\":\"CDSView\"},{\"attributes\":{\"line_alpha\":0.1,\"line_color\":\"rgb(182, 31, 179)\",\"x\":{\"field\":\"x\"},\"y\":{\"field\":\"y\"}},\"id\":\"4427\",\"type\":\"Line\"},{\"attributes\":{},\"id\":\"4215\",\"type\":\"WheelZoomTool\"},{\"attributes\":{\"label\":{\"value\":\"p mpc 10\"},\"renderers\":[{\"id\":\"4498\"},{\"id\":\"4536\"}]},\"id\":\"4531\",\"type\":\"LegendItem\"},{\"attributes\":{\"fill_alpha\":{\"value\":0.1},\"fill_color\":{\"value\":\"rgb(163, 193, 203)\"},\"hatch_alpha\":{\"value\":0.1},\"hatch_color\":{\"value\":\"rgb(163, 193, 203)\"},\"line_alpha\":{\"value\":0.1},\"line_color\":{\"value\":\"rgb(163, 193, 203)\"},\"x\":{\"field\":\"x\"},\"y\":{\"field\":\"y\"}},\"id\":\"4615\",\"type\":\"Circle\"},{\"attributes\":{},\"id\":\"4218\",\"type\":\"ResetTool\"},{\"attributes\":{},\"id\":\"4214\",\"type\":\"PanTool\"},{\"attributes\":{\"fill_alpha\":{\"value\":0.2},\"fill_color\":{\"value\":\"rgb(163, 193, 203)\"},\"hatch_alpha\":{\"value\":0.2},\"hatch_color\":{\"value\":\"rgb(163, 193, 203)\"},\"line_alpha\":{\"value\":0.2},\"line_color\":{\"value\":\"rgb(163, 193, 203)\"},\"x\":{\"field\":\"x\"},\"y\":{\"field\":\"y\"}},\"id\":\"4616\",\"type\":\"Circle\"},{\"attributes\":{},\"id\":\"4264\",\"type\":\"Selection\"},{\"attributes\":{\"coordinates\":null,\"data_source\":{\"id\":\"4425\"},\"glyph\":{\"id\":\"4426\"},\"group\":null,\"hover_glyph\":null,\"muted_glyph\":{\"id\":\"4428\"},\"nonselection_glyph\":{\"id\":\"4427\"},\"view\":{\"id\":\"4430\"}},\"id\":\"4429\",\"type\":\"GlyphRenderer\"},{\"attributes\":{\"line_color\":\"navy\",\"x\":{\"field\":\"x\"},\"y\":{\"field\":\"y\"}},\"id\":\"4229\",\"type\":\"Line\"},{\"attributes\":{\"tools\":[{\"id\":\"4214\"},{\"id\":\"4215\"},{\"id\":\"4216\"},{\"id\":\"4217\"},{\"id\":\"4218\"},{\"id\":\"4219\"}]},\"id\":\"4221\",\"type\":\"Toolbar\"},{\"attributes\":{\"source\":{\"id\":\"4425\"}},\"id\":\"4430\",\"type\":\"CDSView\"},{\"attributes\":{\"data\":{\"x\":{\"__ndarray__\":\"HgAAADwAAABaAAAAeAAAAJYAAAC0AAAA0gAAAPAAAAAOAQAALAEAAEoBAABoAQAAhgEAAKQBAADCAQAA4AEAAP4BAAAcAgAAOgIAAFgCAAB2AgAAlAIAALICAADQAgAA7gIAAAwDAAAqAwAASAMAAGYDAACEAwAAogMAAMADAADeAwAA/AMAABoEAAA4BAAAVgQAAHQEAACSBAAAsAQAAM4EAADsBAAACgUAACgFAABGBQAAZAUAAIIFAACgBQAAvgUAANwFAAD6BQAAGAYAADYGAABUBgAAcgYAAJAGAACuBgAAzAYAAOoGAAAIBwAAJgcAAEQHAABiBwAAgAcAAJ4HAAC8BwAA2gcAAPgHAAAWCAAANAgAAFIIAABwCAAAjggAAKwIAADKCAAA6AgAAAYJAAAkCQAAQgkAAGAJAAB+CQAAnAkAALoJAADYCQAA9gkAABQKAAAyCgAAUAoAAG4KAACMCgAAqgoAAMgKAADmCgAABAsAACILAABACwAAXgsAAHwLAACaCwAAuAsAANYLAAD0CwAAEgwAADAMAABODAAAbAwAAIoMAACoDAAAxgwAAOQMAAACDQAAIA0AAD4NAABcDQAAeg0AAJgNAAC2DQAA1A0AAPINAAAQDgAALg4AAEwOAABqDgAAiA4AAKYOAADEDgAA4g4AAAAPAAAeDwAAPA8AAFoPAAB4DwAAlg8AALQPAADSDwAA8A8AAA4QAAAsEAAAShAAAGgQAACGEAAApBAAAMIQAADgEAAA/hAAABwRAAA6EQAAWBEAAHYRAACUEQAA\",\"dtype\":\"int32\",\"order\":\"little\",\"shape\":[150]},\"y\":{\"__ndarray__\":\"AAAAAAAA8P8AAAAAAADw/7adtlEPtgRAtp22UQ+2BEC2nbZRD7YEQLadtlEPtgRArvP2y+LfBUBxGztihhgHQHEbO2KGGAdAcRs7YoYYB0BNPQ3pNjQIQE09Dek2NAhApnOpp90LCECU97paIgIIQJT3uloiAghAlgLK9kfrB0CWAsr2R+sHQJYCyvZH6wdAjMZAyI62B0D8QViOyG8HQPxBWI7IbwdA/EFYjshvB0CZIsxe8kkHQHuNfrXuUQdAeo1+te5RB0AI5NYVnFUHQAjk1hWcVQdA/tRe7MprB0D+1F7symsHQP7UXuzKawdAeYycvagVB0B5jJy9qBUHQFAjUACj9wZAUCNQAKP3BkCSLuNCBSwHQJIu40IFLAdAYpiUtSvkBkAPmHcxv7sGQHvfjE6H1wZAe9+MTofXBkD7THDgVrkGQPtMcOBWuQZAsX45nM7sBkAX6wxfTh4HQP72h9PuRAdAHo/u3PVxB0ACCAR3hogHQAIIBHeGiAdAVRA/NDnZB0Bj5neRse8HQAyvOlL1/wdADK86UvX/B0AtCWuLTDQIQOGpFEGKNAhAWA9vH3trCEAL+8OrsIMIQIkgV+AhyghAfzC0Q7u3CEDTjhNGswcJQNOOE0azBwlAyqEx4a1pCUDKoTHhrWkJQLSK1dzboQlAtIrV3NuhCUC62uQgh8MJQLra5CCHwwlABqGdUVAECkAGoZ1RUAQKQBtWmlRBIApAG1aaVEEgCkB9CQ9BqhEKQH0JD0GqEQpAEGvArBUDCkAQa8CsFQMKQEG3Y0uN1QlA0/xS0IrHCUAhtopm8HUJQAzwJlKpYAlAsKTN8QrzCEBavaXz28wIQIXKPzU1PwhAtkHQzZWaCECiARGlzDoIQI+hQNmvbQhAKRWvx5waCEBr0GNGX4EIQKTSFbcvbAhAwirP20rjCECaPTxdHPcIQJyODVO0XQlAf3zozu+MCUBFJkBH2doJQHwjxRY/BQpABpiESylPCkAe6EYPH1gKQAi9blutjwpAhdFGGJltCkB99kri/5IKQE93n7/UcgpALXciJT+SCkC+SHNkiW0KQBl++tnIhApAkuHe7ElECkBgyrbYJ1oKQBFel75UCQpAwb8PcybZCUDupebZ8BMKQDcAZyJapAlA5pdpRQ32CUAP6R1WlKEJQD6oY4XwBgpA/oRs8kryCUD+hGzySvIJQMJng2YYAgpA1GlfdGZKCkDw+orUMi0KQMBHmTecXQpAcFTM4DpCCkDUaZCrLFgKQKcEkUjXNQpAt1/JdTxNCkCt3dqC+yIKQOBOUb4rIwpACWbKa+r4CUCtAJ/PY/YJQIiRhxHrvwlAiJGHEeu/CUBk7TNTJ3cJQGTtM1MndwlA5eq0J6EJCUCYoB4z7tUIQCl1oEHsLQhAslunKk3+B0AUb+eBPyEHQFg4G+rQIQdAM7MrJxxWBkBExIibmNcFQETEiJuY1wVASninr7QFBkBKeKevtAUGQBIYPuHH7gVAEhg+4cfuBUA6TAzk7sQFQJ7StSY02AVAvrpgzGLnBUC+umDMYucFQHz/l0C6DQZAfP+XQLoNBkB64RkFWhoGQHrhGQVaGgZA\",\"dtype\":\"float64\",\"order\":\"little\",\"shape\":[150]}},\"selected\":{\"id\":\"4569\"},\"selection_policy\":{\"id\":\"4568\"}},\"id\":\"4532\",\"type\":\"ColumnDataSource\"},{\"attributes\":{\"line_alpha\":0.2,\"line_color\":\"rgb(182, 31, 179)\",\"x\":{\"field\":\"x\"},\"y\":{\"field\":\"y\"}},\"id\":\"4428\",\"type\":\"Line\"},{\"attributes\":{},\"id\":\"4308\",\"type\":\"UnionRenderers\"},{\"attributes\":{\"coordinates\":null,\"data_source\":{\"id\":\"4247\"},\"glyph\":{\"id\":\"4248\"},\"group\":null,\"hover_glyph\":null,\"muted_glyph\":{\"id\":\"4250\"},\"nonselection_glyph\":{\"id\":\"4249\"},\"view\":{\"id\":\"4252\"}},\"id\":\"4251\",\"type\":\"GlyphRenderer\"},{\"attributes\":{},\"id\":\"4217\",\"type\":\"SaveTool\"},{\"attributes\":{},\"id\":\"4263\",\"type\":\"UnionRenderers\"},{\"attributes\":{\"label\":{\"value\":\"p mpc 5\"},\"renderers\":[{\"id\":\"4429\"},{\"id\":\"4463\"}]},\"id\":\"4458\",\"type\":\"LegendItem\"},{\"attributes\":{},\"id\":\"4568\",\"type\":\"UnionRenderers\"},{\"attributes\":{\"source\":{\"id\":\"4228\"}},\"id\":\"4233\",\"type\":\"CDSView\"},{\"attributes\":{},\"id\":\"4456\",\"type\":\"Selection\"},{\"attributes\":{\"fill_color\":{\"value\":\"navy\"},\"hatch_color\":{\"value\":\"navy\"},\"line_color\":{\"value\":\"navy\"},\"x\":{\"field\":\"x\"},\"y\":{\"field\":\"y\"}},\"id\":\"4248\",\"type\":\"Circle\"},{\"attributes\":{\"fill_alpha\":{\"value\":0.1},\"fill_color\":{\"value\":\"navy\"},\"hatch_alpha\":{\"value\":0.1},\"hatch_color\":{\"value\":\"navy\"},\"line_alpha\":{\"value\":0.1},\"line_color\":{\"value\":\"navy\"},\"x\":{\"field\":\"x\"},\"y\":{\"field\":\"y\"}},\"id\":\"4249\",\"type\":\"Circle\"},{\"attributes\":{\"source\":{\"id\":\"4532\"}},\"id\":\"4537\",\"type\":\"CDSView\"},{\"attributes\":{},\"id\":\"4219\",\"type\":\"HelpTool\"},{\"attributes\":{\"coordinates\":null,\"data_source\":{\"id\":\"4267\"},\"glyph\":{\"id\":\"4268\"},\"group\":null,\"hover_glyph\":null,\"muted_glyph\":{\"id\":\"4270\"},\"nonselection_glyph\":{\"id\":\"4269\"},\"view\":{\"id\":\"4272\"}},\"id\":\"4271\",\"type\":\"GlyphRenderer\"},{\"attributes\":{\"coordinates\":null,\"data_source\":{\"id\":\"4532\"},\"glyph\":{\"id\":\"4533\"},\"group\":null,\"hover_glyph\":null,\"muted_glyph\":{\"id\":\"4535\"},\"nonselection_glyph\":{\"id\":\"4534\"},\"view\":{\"id\":\"4537\"}},\"id\":\"4536\",\"type\":\"GlyphRenderer\"},{\"attributes\":{},\"id\":\"4241\",\"type\":\"AllLabels\"},{\"attributes\":{\"fill_alpha\":{\"value\":0.2},\"fill_color\":{\"value\":\"navy\"},\"hatch_alpha\":{\"value\":0.2},\"hatch_color\":{\"value\":\"navy\"},\"line_alpha\":{\"value\":0.2},\"line_color\":{\"value\":\"navy\"},\"x\":{\"field\":\"x\"},\"y\":{\"field\":\"y\"}},\"id\":\"4250\",\"type\":\"Circle\"},{\"attributes\":{\"source\":{\"id\":\"4288\"}},\"id\":\"4293\",\"type\":\"CDSView\"},{\"attributes\":{\"fill_alpha\":{\"value\":0.1},\"fill_color\":{\"value\":\"rgb(130, 97, 244)\"},\"hatch_alpha\":{\"value\":0.1},\"hatch_color\":{\"value\":\"rgb(130, 97, 244)\"},\"line_alpha\":{\"value\":0.1},\"line_color\":{\"value\":\"rgb(130, 97, 244)\"},\"x\":{\"field\":\"x\"},\"y\":{\"field\":\"y\"}},\"id\":\"4534\",\"type\":\"Circle\"},{\"attributes\":{\"fill_alpha\":{\"value\":0.2},\"fill_color\":{\"value\":\"rgb(130, 97, 244)\"},\"hatch_alpha\":{\"value\":0.2},\"hatch_color\":{\"value\":\"rgb(130, 97, 244)\"},\"line_alpha\":{\"value\":0.2},\"line_color\":{\"value\":\"rgb(130, 97, 244)\"},\"x\":{\"field\":\"x\"},\"y\":{\"field\":\"y\"}},\"id\":\"4535\",\"type\":\"Circle\"},{\"attributes\":{\"line_color\":\"orange\",\"x\":{\"field\":\"x\"},\"y\":{\"field\":\"y\"}},\"id\":\"4268\",\"type\":\"Line\"},{\"attributes\":{\"data\":{\"x\":{\"__ndarray__\":\"HgAAADwAAABaAAAAeAAAAJYAAAC0AAAA0gAAAPAAAAAOAQAALAEAAEoBAABoAQAAhgEAAKQBAADCAQAA4AEAAP4BAAAcAgAAOgIAAFgCAAB2AgAAlAIAALICAADQAgAA7gIAAAwDAAAqAwAASAMAAGYDAACEAwAAogMAAMADAADeAwAA/AMAABoEAAA4BAAAVgQAAHQEAACSBAAAsAQAAM4EAADsBAAACgUAACgFAABGBQAAZAUAAIIFAACgBQAAvgUAANwFAAD6BQAAGAYAADYGAABUBgAAcgYAAJAGAACuBgAAzAYAAOoGAAAIBwAAJgcAAEQHAABiBwAAgAcAAJ4HAAC8BwAA2gcAAPgHAAAWCAAANAgAAFIIAABwCAAAjggAAKwIAADKCAAA6AgAAAYJAAAkCQAAQgkAAGAJAAB+CQAAnAkAALoJAADYCQAA9gkAABQKAAAyCgAAUAoAAG4KAACMCgAAqgoAAMgKAADmCgAABAsAACILAABACwAAXgsAAHwLAACaCwAAuAsAANYLAAD0CwAAEgwAADAMAABODAAAbAwAAIoMAACoDAAAxgwAAOQMAAACDQAAIA0AAD4NAABcDQAAeg0AAJgNAAC2DQAA1A0AAPINAAAQDgAALg4AAEwOAABqDgAAiA4AAKYOAADEDgAA4g4AAAAPAAAeDwAAPA8AAFoPAAB4DwAAlg8AALQPAADSDwAA8A8AAA4QAAAsEAAAShAAAGgQAACGEAAApBAAAMIQAADgEAAA/hAAABwRAAA6EQAAWBEAAHYRAACUEQAAshEAANARAADuEQAADBIAACoSAAA=\",\"dtype\":\"int32\",\"order\":\"little\",\"shape\":[155]},\"y\":{\"__ndarray__\":\"AAAAAAAA8P8AAAAAAADw/zJc48CrGAVAMlzjwKsYBUAyXOPAqxgFQDJc48CrGAVALg/2Cpq2BUB2Gtp+idQGQHYa2n6J1AZAdhrafonUBkCLie3TVv4HQIuJ7dNW/gdAw71nWobPB0D9kKCt0cIHQP2QoK3RwgdADvGMYoOrB0AO8Yxig6sHQA7xjGKDqwdAGUSEYfx4B0BO7W1uBjQHQE7tbW4GNAdATu1tbgY0B0CiQMEGOg4HQDXjx603FwdANePHrTcXB0AxJnfYJB4HQDEmd9gkHgdAeu95ZKA9B0B673lkoD0HQHrveWSgPQdA6ukKNrHjBkDq6Qo2seMGQDn49O0G2QZAOfj07QbZBkBnVcVMWxIHQGdVxUxbEgdALqNBAsnHBkAezrEc2rAGQHq2nAGQzwZAeracAZDPBkDTqU6keroGQNOpTqR6ugZAUmpgC/LtBkAVYgiaAiAHQNDOM4UURgdAdskA0wRzB0D6GCM8QokHQPoYIzxCiQdARKWH+q7aB0CdODVWJvQHQHR/fZaOBAhAdH99lo4ECEDnevyFEzoIQFnXVqGhOwhA8fydMO5wCEBB3UDmgoEIQJ4RUaCSxwhA/qLx72+yCECRbpdxOQMJQJFul3E5AwlAQKToNTJlCUBApOg1MmUJQH8+YyoInQlAfz5jKgidCUDow//3/74JQOjD//f/vglAIonL8uX/CUAiicvy5f8JQOdP/yrNHQpA50//Ks0dCkBetMPIPw8KQF60w8g/DwpAvsIP2WMACkC+wg/ZYwAKQP9Q8MJ20glACsFkxJLECUDDsxHHN3IJQFp9VAbqXAlA86J3izbyCEA6G4BOFMwIQIOMx41yPghAuVHVFQqaCECFuhHCzzkIQOed1E3GbAhAxXpbFd8ZCECqKy0kr4AIQIexLfIsawhAGiR7abviCEADC1WbaPYIQAGOkcdUXQlAM9d6WZqMCUC/BeWokdoJQMYVIa4CBQpAuLj8vhFPCkB55fqtDlgKQLAT3u2pjwpAwVMbzaltCkAspARXF5MKQNJzfjMKcwpAaxowBHySCkCOp/vIAm4KQD5WvanVhQpAHUwsYg5FCkCeapbff1oKQDK0eAT2CApApYXhdI7YCUC+IUCivxMKQL+L1rcvpAlAJ2C3skL2CUDvQAvhT6EJQKnwMopgBgpAHrZtBAnxCUAetm0ECfEJQBFDJS3n/wlAhAPK601ICkBoV1vitCoKQFjUsn1lWwpAg19m7cQ/CkDUDXSg6VUKQLUkoMs9MwpA2j+y28dKCkDSkKCnESAKQHpNvcZQIApASLD2GVP1CUD/kIW2mvMJQPLB46YovAlA8sHjpii8CUCDFoCJRXIJQIMWgIlFcglASvc4K3MDCUDv0bg6xNkIQM+m91LtLghATZ/jiKn+B0CbUuKGUhUHQO7654pAHAdAT2RSzsQ0BkAGQv3yjqwFQAZC/fKOrAVA6u/a1nnhBUDq79rWeeEFQIdSM1d+3gVAh1IzV37eBUD8TYgCcboFQDDCengayQVAlIDspwrfBUCUgOynCt8FQG5IIOXsAwZAbkgg5ewDBkDPFaUjORAGQM8VpSM5EAZAL6k4LMvgBUAvqTgsy+AFQOZB42O1ygVA5kHjY7XKBUADwAv9r4QFQA==\",\"dtype\":\"float64\",\"order\":\"little\",\"shape\":[155]}},\"selected\":{\"id\":\"4492\"},\"selection_policy\":{\"id\":\"4491\"}},\"id\":\"4459\",\"type\":\"ColumnDataSource\"},{\"attributes\":{\"source\":{\"id\":\"4267\"}},\"id\":\"4272\",\"type\":\"CDSView\"},{\"attributes\":{\"line_alpha\":0.2,\"line_color\":\"orange\",\"x\":{\"field\":\"x\"},\"y\":{\"field\":\"y\"}},\"id\":\"4270\",\"type\":\"Line\"},{\"attributes\":{\"source\":{\"id\":\"4459\"}},\"id\":\"4464\",\"type\":\"CDSView\"},{\"attributes\":{\"line_alpha\":0.1,\"line_color\":\"orange\",\"x\":{\"field\":\"x\"},\"y\":{\"field\":\"y\"}},\"id\":\"4269\",\"type\":\"Line\"},{\"attributes\":{\"fill_color\":{\"value\":\"rgb(182, 31, 179)\"},\"hatch_color\":{\"value\":\"rgb(182, 31, 179)\"},\"line_color\":{\"value\":\"rgb(182, 31, 179)\"},\"x\":{\"field\":\"x\"},\"y\":{\"field\":\"y\"}},\"id\":\"4460\",\"type\":\"Circle\"},{\"attributes\":{\"data\":{\"x\":{\"__ndarray__\":\"HgAAADwAAABaAAAAeAAAAJYAAAC0AAAA0gAAAPAAAAAOAQAALAEAAEoBAABoAQAAhgEAAKQBAADCAQAA4AEAAP4BAAAcAgAAOgIAAFgCAAB2AgAAlAIAALICAADQAgAA7gIAAAwDAAAqAwAASAMAAGYDAACEAwAAogMAAMADAADeAwAA/AMAABoEAAA4BAAAVgQAAHQEAACSBAAAsAQAAM4EAADsBAAACgUAACgFAABGBQAAZAUAAIIFAACgBQAAvgUAANwFAAD6BQAAGAYAADYGAABUBgAAcgYAAJAGAACuBgAAzAYAAOoGAAAIBwAAJgcAAEQHAABiBwAAgAcAAJ4HAAC8BwAA2gcAAPgHAAAWCAAANAgAAFIIAABwCAAAjggAAKwIAADKCAAA6AgAAAYJAAAkCQAAQgkAAGAJAAB+CQAAnAkAALoJAADYCQAA9gkAABQKAAAyCgAAUAoAAG4KAACMCgAAqgoAAMgKAADmCgAABAsAACILAABACwAAXgsAAHwLAACaCwAAuAsAANYLAAD0CwAAEgwAADAMAABODAAAbAwAAIoMAACoDAAAxgwAAOQMAAACDQAAIA0AAD4NAABcDQAAeg0AAJgNAAC2DQAA1A0AAPINAAAQDgAALg4AAEwOAABqDgAAiA4AAKYOAADEDgAA4g4AAAAPAAAeDwAAPA8AAFoPAAB4DwAAlg8AALQPAADSDwAA8A8AAA4QAAAsEAAAShAAAGgQAACGEAAApBAAAMIQAADgEAAA/hAAAA==\",\"dtype\":\"int32\",\"order\":\"little\",\"shape\":[145]},\"y\":{\"__ndarray__\":\"AAAAAAAA8P8AAAAAAADw/0jpCxeISQRASOkLF4hJBEBI6QsXiEkEQEjpCxeISQRAjx3KgorUBUBKp+Bb2RUHQEqn4FvZFQdASqfgW9kVB0CtFYAfzD0IQK0VgB/MPQhAhWwByxYiCECGYlaEnyAIQIZiVoSfIAhA0WrBXecNCEDRasFd5w0IQNFqwV3nDQhAOVCLZ6DZB0BcX0x42pQHQFxfTHjalAdAXF9MeNqUB0C6kNrVV2cHQKHEHQtwYwdAocQdC3BjB0Ce7cBglmsHQJ7twGCWawdA9IrxFgqMB0DzivEWCowHQPSK8RYKjAdAZcoI2s9DB0Blygjaz0MHQCV0z8bGHAdAJXTPxsYcB0D2QT9uY1EHQPZBP25jUQdAZbL9p0QPB0DUd6CXzd0GQP8Dv3Ee8QZA/wO/cR7xBkAGtBDUaM0GQAa0ENRozQZAvNZzo9L/BkBhIqmkMy8HQGg2ooGEUwdA1+F1DPZ/B0Azk5/F/JUHQDOTn8X8lQdAc+3htR3mB0D3KkrIa/gHQGiyognYCghAaLKiCdgKCEB/qRhe20IIQDJk3XbMPghArS8Ml2h4CECliX8O4ZUIQEiu/dY03AhAis5k92bMCEDac67tihkJQNpzru2KGQlAyFvm8o57CUDIW+byjnsJQD1QRydKtglAPVBHJ0q2CUA/6mD6EtsJQD/qYPoS2wlAMVH10ecaCkAxUfXR5xoKQCtXHOxyLQpAK1cc7HItCkAEiINqaiAKQASIg2pqIApAhiwIoK8RCkCGLAigrxEKQC8JiN565QlAXGRaetzWCUDzeRmHJ4gJQEy2Oz3ccglA7b/vpwz+CEDmuHxXHdcIQIvRdQDmRwhA+0+LBjyiCEBbkqGAQUIIQNSfP3ykdAhAPbKYLmIcCEDAidJpOIMIQD2+qYEYbQhAaIrzYQfkCEDkrq4Q3/cIQOa6hLwSXglAcqLM2nONCUB2MP7o1tsJQAVDLSEwBgpAuavE6J1PCkDbtfuFmFgKQJYMDLwOkApAk64AaA9uCkDGuIOqb5MKQN84/VlGcwpAxeUth5eSCkCLtC6QEW4KQJ7UNC1ihApAveT6QH5ECkDY2JqZ/1kKQPcWNxW8CgpACfHA4aHbCUC3WOu+GRUKQL7kFa9ZpQlAIELH+dv2CUCY5IE3hKIJQKpx1QpnCQpAh3yO42n2CUCHfI7jafYJQC9Q8kqECgpA8hZlwW5TCkAS+ju1CzgKQOzx5qT+ZwpAunS5oNNNCkBrEPFWYGMKQEyrQ35wQgpA9aMTam5ZCkAiV0ulUjEKQEyfbDpVMQpAnmMxLXEJCkBwXoH8EAQKQPsQK6R50AlA+xArpHnQCUC5tXB7d4sJQLm1cHt3iwlAG35ged4iCUDDySefgPIIQExtHpIfSghA3PcGdNkSCECDFIm9OTMHQAFlykDVMAdAwUcB8iNqBkAYT0+U8ugFQBhPT5Ty6AVA3LxByaESBkDcvEHJoRIGQOMhuupL8wVA4yG66kvzBUBSdB8dWckFQIhxtz853AVAQKOkFrfrBUA=\",\"dtype\":\"float64\",\"order\":\"little\",\"shape\":[145]}},\"selected\":{\"id\":\"4610\"},\"selection_policy\":{\"id\":\"4609\"}},\"id\":\"4571\",\"type\":\"ColumnDataSource\"},{\"attributes\":{\"line_color\":\"rgb(163, 193, 203)\",\"x\":{\"field\":\"x\"},\"y\":{\"field\":\"y\"}},\"id\":\"4572\",\"type\":\"Line\"},{\"attributes\":{\"label\":{\"value\":\"p GeoI\"},\"renderers\":[{\"id\":\"4251\"},{\"id\":\"4271\"},{\"id\":\"4292\"}]},\"id\":\"4266\",\"type\":\"LegendItem\"},{\"attributes\":{\"bottom_units\":\"screen\",\"coordinates\":null,\"fill_alpha\":0.5,\"fill_color\":\"lightgrey\",\"group\":null,\"left_units\":\"screen\",\"level\":\"overlay\",\"line_alpha\":1.0,\"line_color\":\"black\",\"line_dash\":[4,4],\"line_width\":2,\"right_units\":\"screen\",\"syncable\":false,\"top_units\":\"screen\"},\"id\":\"4220\",\"type\":\"BoxAnnotation\"},{\"attributes\":{\"coordinates\":null,\"data_source\":{\"id\":\"4571\"},\"glyph\":{\"id\":\"4572\"},\"group\":null,\"hover_glyph\":null,\"muted_glyph\":{\"id\":\"4574\"},\"nonselection_glyph\":{\"id\":\"4573\"},\"view\":{\"id\":\"4576\"}},\"id\":\"4575\",\"type\":\"GlyphRenderer\"},{\"attributes\":{},\"id\":\"4285\",\"type\":\"UnionRenderers\"},{\"attributes\":{\"label\":{\"value\":\"p mpc 15\"},\"renderers\":[{\"id\":\"4575\"},{\"id\":\"4617\"}]},\"id\":\"4612\",\"type\":\"LegendItem\"},{\"attributes\":{},\"id\":\"4492\",\"type\":\"Selection\"},{\"attributes\":{},\"id\":\"4238\",\"type\":\"AllLabels\"},{\"attributes\":{\"coordinates\":null,\"data_source\":{\"id\":\"4459\"},\"glyph\":{\"id\":\"4460\"},\"group\":null,\"hover_glyph\":null,\"muted_glyph\":{\"id\":\"4462\"},\"nonselection_glyph\":{\"id\":\"4461\"},\"view\":{\"id\":\"4464\"}},\"id\":\"4463\",\"type\":\"GlyphRenderer\"},{\"attributes\":{},\"id\":\"4286\",\"type\":\"Selection\"},{\"attributes\":{\"line_alpha\":0.2,\"line_color\":\"rgb(163, 193, 203)\",\"x\":{\"field\":\"x\"},\"y\":{\"field\":\"y\"}},\"id\":\"4574\",\"type\":\"Line\"},{\"attributes\":{\"label\":{\"value\":\"p mpc 1\"},\"renderers\":[{\"id\":\"4315\"},{\"id\":\"4341\"}]},\"id\":\"4336\",\"type\":\"LegendItem\"},{\"attributes\":{\"line_alpha\":0.1,\"line_color\":\"rgb(163, 193, 203)\",\"x\":{\"field\":\"x\"},\"y\":{\"field\":\"y\"}},\"id\":\"4573\",\"type\":\"Line\"},{\"attributes\":{},\"id\":\"4491\",\"type\":\"UnionRenderers\"},{\"attributes\":{\"line_alpha\":0.1,\"line_color\":\"rgb(65, 227, 238)\",\"x\":{\"field\":\"x\"},\"y\":{\"field\":\"y\"}},\"id\":\"4313\",\"type\":\"Line\"},{\"attributes\":{\"fill_color\":{\"value\":\"rgb(163, 193, 203)\"},\"hatch_color\":{\"value\":\"rgb(163, 193, 203)\"},\"line_color\":{\"value\":\"rgb(163, 193, 203)\"},\"x\":{\"field\":\"x\"},\"y\":{\"field\":\"y\"}},\"id\":\"4614\",\"type\":\"Circle\"},{\"attributes\":{\"fill_alpha\":{\"value\":0.1},\"fill_color\":{\"value\":\"rgb(182, 31, 179)\"},\"hatch_alpha\":{\"value\":0.1},\"hatch_color\":{\"value\":\"rgb(182, 31, 179)\"},\"line_alpha\":{\"value\":0.1},\"line_color\":{\"value\":\"rgb(182, 31, 179)\"},\"x\":{\"field\":\"x\"},\"y\":{\"field\":\"y\"}},\"id\":\"4461\",\"type\":\"Circle\"},{\"attributes\":{\"coordinates\":null,\"data_source\":{\"id\":\"4311\"},\"glyph\":{\"id\":\"4312\"},\"group\":null,\"hover_glyph\":null,\"muted_glyph\":{\"id\":\"4314\"},\"nonselection_glyph\":{\"id\":\"4313\"},\"view\":{\"id\":\"4316\"}},\"id\":\"4315\",\"type\":\"GlyphRenderer\"},{\"attributes\":{\"line_alpha\":0.2,\"line_color\":\"navy\",\"x\":{\"field\":\"x\"},\"y\":{\"field\":\"y\"}},\"id\":\"4231\",\"type\":\"Line\"},{\"attributes\":{\"fill_alpha\":{\"value\":0.1},\"fill_color\":{\"value\":\"orange\"},\"hatch_alpha\":{\"value\":0.1},\"hatch_color\":{\"value\":\"orange\"},\"line_alpha\":{\"value\":0.1},\"line_color\":{\"value\":\"orange\"},\"x\":{\"field\":\"x\"},\"y\":{\"field\":\"y\"}},\"id\":\"4290\",\"type\":\"Circle\"},{\"attributes\":{\"source\":{\"id\":\"4311\"}},\"id\":\"4316\",\"type\":\"CDSView\"},{\"attributes\":{\"source\":{\"id\":\"4571\"}},\"id\":\"4576\",\"type\":\"CDSView\"},{\"attributes\":{\"fill_alpha\":{\"value\":0.2},\"fill_color\":{\"value\":\"rgb(182, 31, 179)\"},\"hatch_alpha\":{\"value\":0.2},\"hatch_color\":{\"value\":\"rgb(182, 31, 179)\"},\"line_alpha\":{\"value\":0.2},\"line_color\":{\"value\":\"rgb(182, 31, 179)\"},\"x\":{\"field\":\"x\"},\"y\":{\"field\":\"y\"}},\"id\":\"4462\",\"type\":\"Circle\"},{\"attributes\":{},\"id\":\"4609\",\"type\":\"UnionRenderers\"},{\"attributes\":{\"line_alpha\":0.2,\"line_color\":\"rgb(65, 227, 238)\",\"x\":{\"field\":\"x\"},\"y\":{\"field\":\"y\"}},\"id\":\"4314\",\"type\":\"Line\"},{\"attributes\":{\"line_alpha\":0.1,\"line_color\":\"rgb(130, 97, 244)\",\"x\":{\"field\":\"x\"},\"y\":{\"field\":\"y\"}},\"id\":\"4496\",\"type\":\"Line\"},{\"attributes\":{},\"id\":\"4309\",\"type\":\"Selection\"},{\"attributes\":{},\"id\":\"4610\",\"type\":\"Selection\"},{\"attributes\":{\"fill_color\":{\"value\":\"orange\"},\"hatch_color\":{\"value\":\"orange\"},\"line_color\":{\"value\":\"orange\"},\"x\":{\"field\":\"x\"},\"y\":{\"field\":\"y\"}},\"id\":\"4289\",\"type\":\"Circle\"},{\"attributes\":{\"data\":{\"x\":{\"__ndarray__\":\"HgAAADwAAABaAAAAeAAAAJYAAAC0AAAA0gAAAPAAAAAOAQAALAEAAEoBAABoAQAAhgEAAKQBAADCAQAA4AEAAP4BAAAcAgAAOgIAAFgCAAB2AgAAlAIAALICAADQAgAA7gIAAAwDAAAqAwAASAMAAGYDAACEAwAAogMAAMADAADeAwAA/AMAABoEAAA4BAAAVgQAAHQEAACSBAAAsAQAAM4EAADsBAAACgUAACgFAABGBQAAZAUAAIIFAACgBQAAvgUAANwFAAD6BQAAGAYAADYGAABUBgAAcgYAAJAGAACuBgAAzAYAAOoGAAAIBwAAJgcAAEQHAABiBwAAgAcAAJ4HAAC8BwAA2gcAAPgHAAAWCAAANAgAAFIIAABwCAAAjggAAKwIAADKCAAA6AgAAAYJAAAkCQAAQgkAAGAJAAB+CQAAnAkAALoJAADYCQAA9gkAABQKAAAyCgAAUAoAAG4KAACMCgAAqgoAAMgKAADmCgAABAsAACILAABACwAAXgsAAHwLAACaCwAAuAsAANYLAAD0CwAAEgwAADAMAABODAAAbAwAAIoMAACoDAAAxgwAAOQMAAACDQAAIA0AAD4NAABcDQAAeg0AAJgNAAC2DQAA1A0AAPINAAAQDgAALg4AAEwOAABqDgAAiA4AAKYOAADEDgAA4g4AAAAPAAAeDwAAPA8AAFoPAAB4DwAAlg8AALQPAADSDwAA8A8AAA4QAAAsEAAAShAAAGgQAACGEAAApBAAAMIQAADgEAAA/hAAABwRAAA6EQAAWBEAAHYRAACUEQAA\",\"dtype\":\"int32\",\"order\":\"little\",\"shape\":[150]},\"y\":{\"__ndarray__\":\"AAAAAAAA8P8AAAAAAADw/7adtlEPtgRAtp22UQ+2BEC2nbZRD7YEQLadtlEPtgRArvP2y+LfBUBxGztihhgHQHEbO2KGGAdAcRs7YoYYB0BNPQ3pNjQIQE09Dek2NAhApnOpp90LCECU97paIgIIQJT3uloiAghAlgLK9kfrB0CWAsr2R+sHQJYCyvZH6wdAjMZAyI62B0D8QViOyG8HQPxBWI7IbwdA/EFYjshvB0CZIsxe8kkHQHuNfrXuUQdAeo1+te5RB0AI5NYVnFUHQAjk1hWcVQdA/tRe7MprB0D+1F7symsHQP7UXuzKawdAeYycvagVB0B5jJy9qBUHQFAjUACj9wZAUCNQAKP3BkCSLuNCBSwHQJIu40IFLAdAYpiUtSvkBkAPmHcxv7sGQHvfjE6H1wZAe9+MTofXBkD7THDgVrkGQPtMcOBWuQZAsX45nM7sBkAX6wxfTh4HQP72h9PuRAdAHo/u3PVxB0ACCAR3hogHQAIIBHeGiAdAVRA/NDnZB0Bj5neRse8HQAyvOlL1/wdADK86UvX/B0AtCWuLTDQIQOGpFEGKNAhAWA9vH3trCEAL+8OrsIMIQIkgV+AhyghAfzC0Q7u3CEDTjhNGswcJQNOOE0azBwlAyqEx4a1pCUDKoTHhrWkJQLSK1dzboQlAtIrV3NuhCUC62uQgh8MJQLra5CCHwwlABqGdUVAECkAGoZ1RUAQKQBtWmlRBIApAG1aaVEEgCkB9CQ9BqhEKQH0JD0GqEQpAEGvArBUDCkAQa8CsFQMKQEG3Y0uN1QlA0/xS0IrHCUAhtopm8HUJQAzwJlKpYAlAsKTN8QrzCEBavaXz28wIQIXKPzU1PwhAtkHQzZWaCECiARGlzDoIQI+hQNmvbQhAKRWvx5waCEBr0GNGX4EIQKTSFbcvbAhAwirP20rjCECaPTxdHPcIQJyODVO0XQlAf3zozu+MCUBFJkBH2doJQHwjxRY/BQpABpiESylPCkAe6EYPH1gKQAi9blutjwpAhdFGGJltCkB99kri/5IKQE93n7/UcgpALXciJT+SCkC+SHNkiW0KQBl++tnIhApAkuHe7ElECkBgyrbYJ1oKQBFel75UCQpAwb8PcybZCUDupebZ8BMKQDcAZyJapAlA5pdpRQ32CUAP6R1WlKEJQD6oY4XwBgpA/oRs8kryCUD+hGzySvIJQMJng2YYAgpA1GlfdGZKCkDw+orUMi0KQMBHmTecXQpAcFTM4DpCCkDUaZCrLFgKQKcEkUjXNQpAt1/JdTxNCkCt3dqC+yIKQOBOUb4rIwpACWbKa+r4CUCtAJ/PY/YJQIiRhxHrvwlAiJGHEeu/CUBk7TNTJ3cJQGTtM1MndwlA5eq0J6EJCUCYoB4z7tUIQCl1oEHsLQhAslunKk3+B0AUb+eBPyEHQFg4G+rQIQdAM7MrJxxWBkBExIibmNcFQETEiJuY1wVASninr7QFBkBKeKevtAUGQBIYPuHH7gVAEhg+4cfuBUA6TAzk7sQFQJ7StSY02AVAvrpgzGLnBUC+umDMYucFQHz/l0C6DQZAfP+XQLoNBkB64RkFWhoGQHrhGQVaGgZA\",\"dtype\":\"float64\",\"order\":\"little\",\"shape\":[150]}},\"selected\":{\"id\":\"4529\"},\"selection_policy\":{\"id\":\"4528\"}},\"id\":\"4494\",\"type\":\"ColumnDataSource\"},{\"attributes\":{\"line_color\":\"rgb(130, 97, 244)\",\"x\":{\"field\":\"x\"},\"y\":{\"field\":\"y\"}},\"id\":\"4495\",\"type\":\"Line\"},{\"attributes\":{\"data\":{\"x\":{\"__ndarray__\":\"HgAAADwAAABaAAAAeAAAAJYAAAC0AAAA0gAAAPAAAAAOAQAALAEAAEoBAABoAQAAhgEAAKQBAADCAQAA4AEAAP4BAAAcAgAAOgIAAFgCAAB2AgAAlAIAALICAADQAgAA7gIAAAwDAAAqAwAASAMAAGYDAACEAwAAogMAAMADAADeAwAA/AMAABoEAAA4BAAAVgQAAHQEAACSBAAAsAQAAM4EAADsBAAACgUAACgFAABGBQAAZAUAAIIFAACgBQAAvgUAANwFAAD6BQAAGAYAADYGAABUBgAAcgYAAJAGAACuBgAAzAYAAOoGAAAIBwAAJgcAAEQHAABiBwAAgAcAAJ4HAAC8BwAA2gcAAPgHAAAWCAAANAgAAFIIAABwCAAAjggAAKwIAADKCAAA6AgAAAYJAAAkCQAAQgkAAGAJAAB+CQAAnAkAALoJAADYCQAA9gkAABQKAAAyCgAAUAoAAG4KAACMCgAAqgoAAMgKAADmCgAABAsAACILAABACwAAXgsAAHwLAACaCwAAuAsAANYLAAD0CwAAEgwAADAMAABODAAAbAwAAIoMAACoDAAAxgwAAOQMAAACDQAAIA0AAD4NAABcDQAAeg0AAJgNAAC2DQAA1A0AAPINAAAQDgAALg4AAEwOAABqDgAAiA4AAKYOAADEDgAA4g4AAAAPAAAeDwAAPA8AAFoPAAB4DwAAlg8AALQPAADSDwAA8A8AAA4QAAAsEAAAShAAAGgQAACGEAAApBAAAMIQAADgEAAA/hAAAA==\",\"dtype\":\"int32\",\"order\":\"little\",\"shape\":[145]},\"y\":{\"__ndarray__\":\"AAAAAAAA8P8AAAAAAADw/0jpCxeISQRASOkLF4hJBEBI6QsXiEkEQEjpCxeISQRAjx3KgorUBUBKp+Bb2RUHQEqn4FvZFQdASqfgW9kVB0CtFYAfzD0IQK0VgB/MPQhAhWwByxYiCECGYlaEnyAIQIZiVoSfIAhA0WrBXecNCEDRasFd5w0IQNFqwV3nDQhAOVCLZ6DZB0BcX0x42pQHQFxfTHjalAdAXF9MeNqUB0C6kNrVV2cHQKHEHQtwYwdAocQdC3BjB0Ce7cBglmsHQJ7twGCWawdA9IrxFgqMB0DzivEWCowHQPSK8RYKjAdAZcoI2s9DB0Blygjaz0MHQCV0z8bGHAdAJXTPxsYcB0D2QT9uY1EHQPZBP25jUQdAZbL9p0QPB0DUd6CXzd0GQP8Dv3Ee8QZA/wO/cR7xBkAGtBDUaM0GQAa0ENRozQZAvNZzo9L/BkBhIqmkMy8HQGg2ooGEUwdA1+F1DPZ/B0Azk5/F/JUHQDOTn8X8lQdAc+3htR3mB0D3KkrIa/gHQGiyognYCghAaLKiCdgKCEB/qRhe20IIQDJk3XbMPghArS8Ml2h4CECliX8O4ZUIQEiu/dY03AhAis5k92bMCEDac67tihkJQNpzru2KGQlAyFvm8o57CUDIW+byjnsJQD1QRydKtglAPVBHJ0q2CUA/6mD6EtsJQD/qYPoS2wlAMVH10ecaCkAxUfXR5xoKQCtXHOxyLQpAK1cc7HItCkAEiINqaiAKQASIg2pqIApAhiwIoK8RCkCGLAigrxEKQC8JiN565QlAXGRaetzWCUDzeRmHJ4gJQEy2Oz3ccglA7b/vpwz+CEDmuHxXHdcIQIvRdQDmRwhA+0+LBjyiCEBbkqGAQUIIQNSfP3ykdAhAPbKYLmIcCEDAidJpOIMIQD2+qYEYbQhAaIrzYQfkCEDkrq4Q3/cIQOa6hLwSXglAcqLM2nONCUB2MP7o1tsJQAVDLSEwBgpAuavE6J1PCkDbtfuFmFgKQJYMDLwOkApAk64AaA9uCkDGuIOqb5MKQN84/VlGcwpAxeUth5eSCkCLtC6QEW4KQJ7UNC1ihApAveT6QH5ECkDY2JqZ/1kKQPcWNxW8CgpACfHA4aHbCUC3WOu+GRUKQL7kFa9ZpQlAIELH+dv2CUCY5IE3hKIJQKpx1QpnCQpAh3yO42n2CUCHfI7jafYJQC9Q8kqECgpA8hZlwW5TCkAS+ju1CzgKQOzx5qT+ZwpAunS5oNNNCkBrEPFWYGMKQEyrQ35wQgpA9aMTam5ZCkAiV0ulUjEKQEyfbDpVMQpAnmMxLXEJCkBwXoH8EAQKQPsQK6R50AlA+xArpHnQCUC5tXB7d4sJQLm1cHt3iwlAG35ged4iCUDDySefgPIIQExtHpIfSghA3PcGdNkSCECDFIm9OTMHQAFlykDVMAdAwUcB8iNqBkAYT0+U8ugFQBhPT5Ty6AVA3LxByaESBkDcvEHJoRIGQOMhuupL8wVA4yG66kvzBUBSdB8dWckFQIhxtz853AVAQKOkFrfrBUA=\",\"dtype\":\"float64\",\"order\":\"little\",\"shape\":[145]}},\"selected\":{\"id\":\"4654\"},\"selection_policy\":{\"id\":\"4653\"}},\"id\":\"4613\",\"type\":\"ColumnDataSource\"},{\"attributes\":{\"coordinates\":null,\"data_source\":{\"id\":\"4288\"},\"glyph\":{\"id\":\"4289\"},\"group\":null,\"hover_glyph\":null,\"muted_glyph\":{\"id\":\"4291\"},\"nonselection_glyph\":{\"id\":\"4290\"},\"view\":{\"id\":\"4293\"}},\"id\":\"4292\",\"type\":\"GlyphRenderer\"},{\"attributes\":{\"fill_color\":{\"value\":\"rgb(130, 97, 244)\"},\"hatch_color\":{\"value\":\"rgb(130, 97, 244)\"},\"line_color\":{\"value\":\"rgb(130, 97, 244)\"},\"x\":{\"field\":\"x\"},\"y\":{\"field\":\"y\"}},\"id\":\"4533\",\"type\":\"Circle\"},{\"attributes\":{},\"id\":\"4237\",\"type\":\"BasicTickFormatter\"},{\"attributes\":{},\"id\":\"4455\",\"type\":\"UnionRenderers\"},{\"attributes\":{\"coordinates\":null,\"group\":null},\"id\":\"4234\",\"type\":\"Title\"},{\"attributes\":{},\"id\":\"4334\",\"type\":\"Selection\"},{\"attributes\":{\"fill_alpha\":{\"value\":0.2},\"fill_color\":{\"value\":\"orange\"},\"hatch_alpha\":{\"value\":0.2},\"hatch_color\":{\"value\":\"orange\"},\"line_alpha\":{\"value\":0.2},\"line_color\":{\"value\":\"orange\"},\"x\":{\"field\":\"x\"},\"y\":{\"field\":\"y\"}},\"id\":\"4291\",\"type\":\"Circle\"}],\"root_ids\":[\"4197\"]},\"title\":\"Bokeh Application\",\"version\":\"2.4.3\"}};\n",
       "  const render_items = [{\"docid\":\"b441a1fe-1943-4c96-a390-d0fd66493212\",\"root_ids\":[\"4197\"],\"roots\":{\"4197\":\"13bdf3df-4781-4486-9794-962ed6fd227c\"}}];\n",
       "  root.Bokeh.embed.embed_items_notebook(docs_json, render_items);\n",
       "  }\n",
       "  if (root.Bokeh !== undefined) {\n",
       "    embed_document(root);\n",
       "  } else {\n",
       "    let attempts = 0;\n",
       "    const timer = setInterval(function(root) {\n",
       "      if (root.Bokeh !== undefined) {\n",
       "        clearInterval(timer);\n",
       "        embed_document(root);\n",
       "      } else {\n",
       "        attempts++;\n",
       "        if (attempts > 100) {\n",
       "          clearInterval(timer);\n",
       "          console.log(\"Bokeh: ERROR: Unable to run BokehJS code because BokehJS library is missing\");\n",
       "        }\n",
       "      }\n",
       "    }, 10, root)\n",
       "  }\n",
       "})(window);"
      ],
      "application/vnd.bokehjs_exec.v0+json": ""
     },
     "metadata": {
      "application/vnd.bokehjs_exec.v0+json": {
       "id": "4197"
      }
     },
     "output_type": "display_data"
    },
    {
     "data": {
      "text/html": [
       "\n",
       "  <div class=\"bk-root\" id=\"4b098bbd-5df0-40c9-ac7b-3e4e53d175fd\" data-root-id=\"5054\"></div>\n"
      ]
     },
     "metadata": {},
     "output_type": "display_data"
    },
    {
     "data": {
      "application/javascript": [
       "(function(root) {\n",
       "  function embed_document(root) {\n",
       "  const docs_json = {\"c899fb41-f22c-4f3c-9138-3d60a7f3b0da\":{\"defs\":[],\"roots\":{\"references\":[{\"attributes\":{\"below\":[{\"id\":\"5063\"}],\"center\":[{\"id\":\"5066\"},{\"id\":\"5070\"},{\"id\":\"5102\"}],\"height\":250,\"left\":[{\"id\":\"5067\"}],\"renderers\":[{\"id\":\"5089\"},{\"id\":\"5108\"},{\"id\":\"5128\"},{\"id\":\"5150\"},{\"id\":\"5174\"},{\"id\":\"5200\"}],\"title\":{\"id\":\"5091\"},\"toolbar\":{\"id\":\"5078\"},\"width\":900,\"x_range\":{\"id\":\"5055\"},\"x_scale\":{\"id\":\"5059\"},\"y_range\":{\"id\":\"5057\"},\"y_scale\":{\"id\":\"5061\"}},\"id\":\"5054\",\"subtype\":\"Figure\",\"type\":\"Plot\"},{\"attributes\":{\"fill_alpha\":{\"value\":0.2},\"fill_color\":{\"value\":\"rgb(65, 227, 238)\"},\"hatch_alpha\":{\"value\":0.2},\"hatch_color\":{\"value\":\"rgb(65, 227, 238)\"},\"line_alpha\":{\"value\":0.2},\"line_color\":{\"value\":\"rgb(65, 227, 238)\"},\"x\":{\"field\":\"x\"},\"y\":{\"field\":\"y\"}},\"id\":\"5107\",\"type\":\"Circle\"},{\"attributes\":{\"source\":{\"id\":\"5170\"}},\"id\":\"5175\",\"type\":\"CDSView\"},{\"attributes\":{\"coordinates\":null,\"data_source\":{\"id\":\"5104\"},\"glyph\":{\"id\":\"5105\"},\"group\":null,\"hover_glyph\":null,\"muted_glyph\":{\"id\":\"5107\"},\"nonselection_glyph\":{\"id\":\"5106\"},\"view\":{\"id\":\"5109\"}},\"id\":\"5108\",\"type\":\"GlyphRenderer\"},{\"attributes\":{\"label\":{\"value\":\"util mpc 10\"},\"renderers\":[{\"id\":\"5174\"}]},\"id\":\"5195\",\"type\":\"LegendItem\"},{\"attributes\":{\"coordinates\":null,\"data_source\":{\"id\":\"5170\"},\"glyph\":{\"id\":\"5171\"},\"group\":null,\"hover_glyph\":null,\"muted_glyph\":{\"id\":\"5173\"},\"nonselection_glyph\":{\"id\":\"5172\"},\"view\":{\"id\":\"5175\"}},\"id\":\"5174\",\"type\":\"GlyphRenderer\"},{\"attributes\":{\"source\":{\"id\":\"5104\"}},\"id\":\"5109\",\"type\":\"CDSView\"},{\"attributes\":{},\"id\":\"5193\",\"type\":\"Selection\"},{\"attributes\":{},\"id\":\"5192\",\"type\":\"UnionRenderers\"},{\"attributes\":{},\"id\":\"5142\",\"type\":\"UnionRenderers\"},{\"attributes\":{\"label\":{\"value\":\"util mpc 2\"},\"renderers\":[{\"id\":\"5128\"}]},\"id\":\"5145\",\"type\":\"LegendItem\"},{\"attributes\":{\"data\":{\"x\":{\"__ndarray__\":\"HgAAAFoAAADSAAAA8AAAAEoBAACGAQAApAEAAOABAAA6AgAAWAIAALICAADQAgAADAMAAEgDAACiAwAA3gMAABoEAABWBAAAkgQAAM4EAAAKBQAARgUAAIIFAAC+BQAA+gUAADYGAAByBgAArgYAAOoGAAAmBwAAYgcAAJ4HAADaBwAAFggAAFIIAACOCAAAyggAAOgIAAAkCQAAYAkAAJwJAADYCQAAFAoAAFAKAACMCgAAyAoAAAQLAABACwAAfAsAALgLAAD0CwAAMAwAAGwMAACKDAAAxgwAAAINAABcDQAAeg0AALYNAADyDQAALg4AAGoOAACmDgAAWg8AAJYPAADSDwAADhAAAEoQAACGEAAAwhAAAP4QAAA=\",\"dtype\":\"int32\",\"order\":\"little\",\"shape\":[71]},\"y\":{\"__ndarray__\":\"AAAAAAAAAAAoqc0newZ7QA+QT8ShIWBAQwb+69beg0AgQDDIhiOSQG3VaSMua0BADQ2hGORlWUAGxntyHE5XQMCHiLUqSF5ARBnDnTaBZEDfsLdzRZ1rQDVliMf2/ohAHu70isZCfUASbc31dIaDQKLXxQ4LzWpAmLXSJYXdbUAyybjvSveDQF4BJHyiFHZAwA9350nBhECHwl/ALv5yQFjxfk0ZwHRAqIaMfjXDYEA2qQzCospJQFOLB2RqeoxAu8qgKcdSZkD37zw/F8duQBqqzNJnrXRAZJxI8BcSf0ANedliGXR0QKoc1R3nyHVASWJMZTUFPEDcTJPObyt6QLZaFy6P25FA8mXee1OPcUBIGNBt1FJRQAW+FMpYQnpAN/tx8f51ekCv5ZsNCVNHQLQKHlA0JnxA5Cnm/g5jYkARhh6mQymWQFLy39ZVsnJAiN8htT5YeUC986sVGOR9QE75DNLWT39A66O0hOH8a0DqcuUGUV52QAkj5of3wGlA2yB3ymQTbECRwytWB0hvQNl4TmOd34FApGy9sH0xdkA7gf0qzXNFQHhlxuGqtHFAAqFlmtFDi0CTA9LEvnuIQOMdA9MJbFZAtkv8tWSZfkCeuVl/XX2AQPil3JYGAm9AqrqR3uFQh0A9yCu2Or16QCDkB4pNBohAhPBqGGPlckDua5TkAyF6QLjQMEvxBIdA6xrf3LCJiUCYcpsjg8V+QJMgX97oA4VAOgeW6gllaEAVGg7RgUOHQA==\",\"dtype\":\"float64\",\"order\":\"little\",\"shape\":[71]}},\"selected\":{\"id\":\"5221\"},\"selection_policy\":{\"id\":\"5220\"}},\"id\":\"5196\",\"type\":\"ColumnDataSource\"},{\"attributes\":{\"source\":{\"id\":\"5124\"}},\"id\":\"5129\",\"type\":\"CDSView\"},{\"attributes\":{},\"id\":\"5220\",\"type\":\"UnionRenderers\"},{\"attributes\":{\"coordinates\":null,\"data_source\":{\"id\":\"5124\"},\"glyph\":{\"id\":\"5125\"},\"group\":null,\"hover_glyph\":null,\"muted_glyph\":{\"id\":\"5127\"},\"nonselection_glyph\":{\"id\":\"5126\"},\"view\":{\"id\":\"5129\"}},\"id\":\"5128\",\"type\":\"GlyphRenderer\"},{\"attributes\":{},\"id\":\"5221\",\"type\":\"Selection\"},{\"attributes\":{\"fill_alpha\":{\"value\":0.1},\"fill_color\":{\"value\":\"rgb(182, 163, 188)\"},\"hatch_alpha\":{\"value\":0.1},\"hatch_color\":{\"value\":\"rgb(182, 163, 188)\"},\"line_alpha\":{\"value\":0.1},\"line_color\":{\"value\":\"rgb(182, 163, 188)\"},\"x\":{\"field\":\"x\"},\"y\":{\"field\":\"y\"}},\"id\":\"5126\",\"type\":\"Circle\"},{\"attributes\":{},\"id\":\"5143\",\"type\":\"Selection\"},{\"attributes\":{\"fill_alpha\":{\"value\":0.2},\"fill_color\":{\"value\":\"rgb(182, 163, 188)\"},\"hatch_alpha\":{\"value\":0.2},\"hatch_color\":{\"value\":\"rgb(182, 163, 188)\"},\"line_alpha\":{\"value\":0.2},\"line_color\":{\"value\":\"rgb(182, 163, 188)\"},\"x\":{\"field\":\"x\"},\"y\":{\"field\":\"y\"}},\"id\":\"5127\",\"type\":\"Circle\"},{\"attributes\":{\"label\":{\"value\":\"util mpc 1\"},\"renderers\":[{\"id\":\"5108\"}]},\"id\":\"5123\",\"type\":\"LegendItem\"},{\"attributes\":{\"source\":{\"id\":\"5196\"}},\"id\":\"5201\",\"type\":\"CDSView\"},{\"attributes\":{\"coordinates\":null,\"data_source\":{\"id\":\"5196\"},\"glyph\":{\"id\":\"5197\"},\"group\":null,\"hover_glyph\":null,\"muted_glyph\":{\"id\":\"5199\"},\"nonselection_glyph\":{\"id\":\"5198\"},\"view\":{\"id\":\"5201\"}},\"id\":\"5200\",\"type\":\"GlyphRenderer\"},{\"attributes\":{\"fill_color\":{\"value\":\"rgb(182, 163, 188)\"},\"hatch_color\":{\"value\":\"rgb(182, 163, 188)\"},\"line_color\":{\"value\":\"rgb(182, 163, 188)\"},\"x\":{\"field\":\"x\"},\"y\":{\"field\":\"y\"}},\"id\":\"5125\",\"type\":\"Circle\"},{\"attributes\":{\"data\":{\"x\":{\"__ndarray__\":\"HgAAAFoAAADSAAAA8AAAAEoBAACGAQAApAEAAOABAAA6AgAAWAIAALICAADQAgAADAMAAEgDAACiAwAA3gMAABoEAABWBAAAkgQAAM4EAAAKBQAARgUAAIIFAAC+BQAA+gUAADYGAAByBgAArgYAAOoGAAAmBwAAYgcAAJ4HAADaBwAAFggAAFIIAACOCAAAyggAAOgIAAAkCQAAYAkAAJwJAADYCQAAFAoAAFAKAACMCgAAyAoAAAQLAABACwAAfAsAALgLAAD0CwAAMAwAAGwMAACKDAAAxgwAAAINAABcDQAAeg0AALYNAADyDQAALg4AAGoOAACmDgAAWg8AAJYPAADSDwAADhAAAEoQAACGEAAAwhAAAP4QAAA6EQAAdhEAALIRAADuEQAAKhIAAA==\",\"dtype\":\"int32\",\"order\":\"little\",\"shape\":[76]},\"y\":{\"__ndarray__\":\"AAAAAAAAAACLkc0newZ7QGEPT8ShIWBA2On969beg0DmJjDIhiOSQMblZCMua0BAYXueGORlWUDj0HhyHE5XQKRdhbUqSF5A2vHAnTaBZEC5fbVzRZ1rQPXIh8f2/ohAKJDzisZCfUAv0sz1dIaDQJVkww4LzWpAHxLQJYXdbUAMHbjvSveDQCCmInyiFHZA225250nBhEBXj17ALv5yQMrDfU0ZwHRAjAqKfjXDYEAI7ALCospJQPnfBmRqeoxA82eeKcdSZkDWWTo/F8duQHhty9JnrXRAuE1H8BcSf0D4RthiGXR0QLr40x3nyHVAarM6ZTUFPEAzOZLObyt6QGMRFy6P25FAjCPde1OPcUAivcpt1FJRQAxFE8pYQnpAzEZw8f51ekD5So0NCVNHQPYzHFA0JnxAjSvk/g5jYkAhOR6mQymWQIbH3tZVsnJAXs8gtT5YeUB976oVGOR9QIXsC9LWT39AhG2yhOH8a0AeF+QGUV52QKco44f3wGlAt+hzymQTbEAMmShWB0hvQMTBTWOd34FAEz68sH0xdkAgePMqzXNFQMwBxeGqtHFAmgFlmtFDi0DWddHEvnuIQOXg/tIJbFZAvy77tWSZfkDDJll/XX2AQHk22pYGAm9ATgyR3uFQh0D4Myq2Or16QNo4AYpNBohA4b9oGGPlckAzgZPkAyF6QE5ZMEvxBIdAc6Pe3LCJiUC3fpojg8V+QCyYXt7oA4VAttqT6gllaECrkw3RgUOHQHz7ubxQSIhAVXyesBj4cUCsZP3b6SRyQKeEWYRTIGhAw/LxZzvTZUA=\",\"dtype\":\"float64\",\"order\":\"little\",\"shape\":[76]}},\"selected\":{\"id\":\"5167\"},\"selection_policy\":{\"id\":\"5166\"}},\"id\":\"5146\",\"type\":\"ColumnDataSource\"},{\"attributes\":{\"fill_alpha\":{\"value\":0.1},\"fill_color\":{\"value\":\"rgb(163, 193, 203)\"},\"hatch_alpha\":{\"value\":0.1},\"hatch_color\":{\"value\":\"rgb(163, 193, 203)\"},\"line_alpha\":{\"value\":0.1},\"line_color\":{\"value\":\"rgb(163, 193, 203)\"},\"x\":{\"field\":\"x\"},\"y\":{\"field\":\"y\"}},\"id\":\"5198\",\"type\":\"Circle\"},{\"attributes\":{\"source\":{\"id\":\"5146\"}},\"id\":\"5151\",\"type\":\"CDSView\"},{\"attributes\":{\"fill_alpha\":{\"value\":0.2},\"fill_color\":{\"value\":\"rgb(163, 193, 203)\"},\"hatch_alpha\":{\"value\":0.2},\"hatch_color\":{\"value\":\"rgb(163, 193, 203)\"},\"line_alpha\":{\"value\":0.2},\"line_color\":{\"value\":\"rgb(163, 193, 203)\"},\"x\":{\"field\":\"x\"},\"y\":{\"field\":\"y\"}},\"id\":\"5199\",\"type\":\"Circle\"},{\"attributes\":{\"fill_color\":{\"value\":\"rgb(182, 31, 179)\"},\"hatch_color\":{\"value\":\"rgb(182, 31, 179)\"},\"line_color\":{\"value\":\"rgb(182, 31, 179)\"},\"x\":{\"field\":\"x\"},\"y\":{\"field\":\"y\"}},\"id\":\"5147\",\"type\":\"Circle\"},{\"attributes\":{\"label\":{\"value\":\"util mpc 15\"},\"renderers\":[{\"id\":\"5200\"}]},\"id\":\"5223\",\"type\":\"LegendItem\"},{\"attributes\":{},\"id\":\"5167\",\"type\":\"Selection\"},{\"attributes\":{\"coordinates\":null,\"data_source\":{\"id\":\"5146\"},\"glyph\":{\"id\":\"5147\"},\"group\":null,\"hover_glyph\":null,\"muted_glyph\":{\"id\":\"5149\"},\"nonselection_glyph\":{\"id\":\"5148\"},\"view\":{\"id\":\"5151\"}},\"id\":\"5150\",\"type\":\"GlyphRenderer\"},{\"attributes\":{},\"id\":\"5166\",\"type\":\"UnionRenderers\"},{\"attributes\":{\"fill_alpha\":{\"value\":0.1},\"fill_color\":{\"value\":\"rgb(182, 31, 179)\"},\"hatch_alpha\":{\"value\":0.1},\"hatch_color\":{\"value\":\"rgb(182, 31, 179)\"},\"line_alpha\":{\"value\":0.1},\"line_color\":{\"value\":\"rgb(182, 31, 179)\"},\"x\":{\"field\":\"x\"},\"y\":{\"field\":\"y\"}},\"id\":\"5148\",\"type\":\"Circle\"},{\"attributes\":{\"fill_alpha\":{\"value\":0.2},\"fill_color\":{\"value\":\"rgb(130, 97, 244)\"},\"hatch_alpha\":{\"value\":0.2},\"hatch_color\":{\"value\":\"rgb(130, 97, 244)\"},\"line_alpha\":{\"value\":0.2},\"line_color\":{\"value\":\"rgb(130, 97, 244)\"},\"x\":{\"field\":\"x\"},\"y\":{\"field\":\"y\"}},\"id\":\"5173\",\"type\":\"Circle\"},{\"attributes\":{\"fill_alpha\":{\"value\":0.2},\"fill_color\":{\"value\":\"rgb(182, 31, 179)\"},\"hatch_alpha\":{\"value\":0.2},\"hatch_color\":{\"value\":\"rgb(182, 31, 179)\"},\"line_alpha\":{\"value\":0.2},\"line_color\":{\"value\":\"rgb(182, 31, 179)\"},\"x\":{\"field\":\"x\"},\"y\":{\"field\":\"y\"}},\"id\":\"5149\",\"type\":\"Circle\"},{\"attributes\":{\"label\":{\"value\":\"util mpc 5\"},\"renderers\":[{\"id\":\"5150\"}]},\"id\":\"5169\",\"type\":\"LegendItem\"},{\"attributes\":{\"fill_color\":{\"value\":\"rgb(130, 97, 244)\"},\"hatch_color\":{\"value\":\"rgb(130, 97, 244)\"},\"line_color\":{\"value\":\"rgb(130, 97, 244)\"},\"x\":{\"field\":\"x\"},\"y\":{\"field\":\"y\"}},\"id\":\"5171\",\"type\":\"Circle\"},{\"attributes\":{\"data\":{\"x\":{\"__ndarray__\":\"HgAAAFoAAADSAAAA8AAAAEoBAACGAQAApAEAAOABAAA6AgAAWAIAALICAADQAgAADAMAAEgDAACiAwAA3gMAABoEAABWBAAAkgQAAM4EAAAKBQAARgUAAIIFAAC+BQAA+gUAADYGAAByBgAArgYAAOoGAAAmBwAAYgcAAJ4HAADaBwAAFggAAFIIAACOCAAAyggAAOgIAAAkCQAAYAkAAJwJAADYCQAAFAoAAFAKAACMCgAAyAoAAAQLAABACwAAfAsAALgLAAD0CwAAMAwAAGwMAACKDAAAxgwAAAINAABcDQAAeg0AALYNAADyDQAALg4AAGoOAACmDgAAWg8AAJYPAADSDwAADhAAAEoQAACGEAAAwhAAAP4QAAA6EQAAdhEAAA==\",\"dtype\":\"int32\",\"order\":\"little\",\"shape\":[73]},\"y\":{\"__ndarray__\":\"AAAAAAAAAABloc0newZ7QOdlT8ShIWBAs/3969beg0AHOTDIhiOSQKyQaCMua0BAjGKgGORlWUDy/XpyHE5XQIeVh7UqSF5A3+bDnTaBZECHPbdzRZ1rQNJDiMf2/ohA3pP0isZCfUCQP831dIaDQLMtxQ4LzWpA2gTSJYXdbUAOnLjvSveDQFGmI3yiFHZArOl250nBhEBhhV/ALv5yQJWofk0ZwHRAUe6LfjXDYECH1ArCospJQMFjB2RqeoxADImgKcdSZkB7ojw/F8duQIWGzNJnrXRAF1NI8BcSf0CSM9liGXR0QB/Z1B3nyHVAXS9IZTUFPEDLCpPObyt6QKFIFy6P25FAGhHee1OPcUCZhM5t1FJRQFNTFMpYQnpACpFx8f51ekDlr5gNCVNHQP6hHVA0JnxAFQXm/g5jYkCKdB6mQymWQA2y39ZVsnJAA6IhtT5YeUButasVGOR9QEW1DNLWT39AIhi0hOH8a0DjEuUGUV52QCZf5Yf3wGlAw3B2ymQTbEC0KCtWB0hvQGVUTmOd34FATlO9sH0xdkA/8/sqzXNFQGMZxuGqtHFA0nxlmtFDi0Br49HEvnuIQPYbAtMJbFZAOwf8tWSZfkCflFl/XX2AQCMK3JYGAm9AUxCO3uFQh0DAOCC2Or16QHRiAIpNBohAipdqGGPlckCnKJTkAyF6QLuuMEvxBIdAr/fe3LCJiUCULpsjg8V+QI/3Xt7oA4VALXGV6gllaEDn9A3RgUOHQKlwurxQSIhAA2afsBj4cUA=\",\"dtype\":\"float64\",\"order\":\"little\",\"shape\":[73]}},\"selected\":{\"id\":\"5193\"},\"selection_policy\":{\"id\":\"5192\"}},\"id\":\"5170\",\"type\":\"ColumnDataSource\"},{\"attributes\":{\"fill_alpha\":{\"value\":0.1},\"fill_color\":{\"value\":\"rgb(130, 97, 244)\"},\"hatch_alpha\":{\"value\":0.1},\"hatch_color\":{\"value\":\"rgb(130, 97, 244)\"},\"line_alpha\":{\"value\":0.1},\"line_color\":{\"value\":\"rgb(130, 97, 244)\"},\"x\":{\"field\":\"x\"},\"y\":{\"field\":\"y\"}},\"id\":\"5172\",\"type\":\"Circle\"},{\"attributes\":{\"fill_color\":{\"value\":\"rgb(163, 193, 203)\"},\"hatch_color\":{\"value\":\"rgb(163, 193, 203)\"},\"line_color\":{\"value\":\"rgb(163, 193, 203)\"},\"x\":{\"field\":\"x\"},\"y\":{\"field\":\"y\"}},\"id\":\"5197\",\"type\":\"Circle\"},{\"attributes\":{},\"id\":\"5074\",\"type\":\"SaveTool\"},{\"attributes\":{\"overlay\":{\"id\":\"5077\"}},\"id\":\"5073\",\"type\":\"BoxZoomTool\"},{\"attributes\":{},\"id\":\"5075\",\"type\":\"ResetTool\"},{\"attributes\":{\"fill_color\":{\"value\":\"rgb(65, 227, 238)\"},\"hatch_color\":{\"value\":\"rgb(65, 227, 238)\"},\"line_color\":{\"value\":\"rgb(65, 227, 238)\"},\"x\":{\"field\":\"x\"},\"y\":{\"field\":\"y\"}},\"id\":\"5105\",\"type\":\"Circle\"},{\"attributes\":{\"coordinates\":null,\"group\":null},\"id\":\"5091\",\"type\":\"Title\"},{\"attributes\":{},\"id\":\"5076\",\"type\":\"HelpTool\"},{\"attributes\":{\"fill_alpha\":{\"value\":0.1},\"fill_color\":{\"value\":\"rgb(65, 227, 238)\"},\"hatch_alpha\":{\"value\":0.1},\"hatch_color\":{\"value\":\"rgb(65, 227, 238)\"},\"line_alpha\":{\"value\":0.1},\"line_color\":{\"value\":\"rgb(65, 227, 238)\"},\"x\":{\"field\":\"x\"},\"y\":{\"field\":\"y\"}},\"id\":\"5106\",\"type\":\"Circle\"},{\"attributes\":{},\"id\":\"5120\",\"type\":\"UnionRenderers\"},{\"attributes\":{},\"id\":\"5072\",\"type\":\"WheelZoomTool\"},{\"attributes\":{},\"id\":\"5057\",\"type\":\"DataRange1d\"},{\"attributes\":{\"tools\":[{\"id\":\"5071\"},{\"id\":\"5072\"},{\"id\":\"5073\"},{\"id\":\"5074\"},{\"id\":\"5075\"},{\"id\":\"5076\"}]},\"id\":\"5078\",\"type\":\"Toolbar\"},{\"attributes\":{\"data\":{\"x\":{\"__ndarray__\":\"HgAAAFoAAADSAAAA8AAAAEoBAACGAQAApAEAAOABAAA6AgAAWAIAALICAADQAgAADAMAAEgDAACiAwAA3gMAABoEAABWBAAAkgQAAM4EAAAKBQAARgUAAIIFAAC+BQAA+gUAADYGAAByBgAArgYAAOoGAAAmBwAAYgcAAJ4HAADaBwAAFggAAFIIAACOCAAAyggAAOgIAAAkCQAAYAkAAJwJAADYCQAAFAoAAFAKAACMCgAAyAoAAAQLAABACwAAfAsAALgLAAD0CwAAMAwAAGwMAACKDAAAxgwAAAINAABcDQAAeg0AALYNAADyDQAALg4AAGoOAACmDgAAWg8AAJYPAADSDwAADhAAAEoQAACGEAAAwhAAAP4QAAA6EQAAdhEAALIRAADuEQAAKhIAAGYSAAA=\",\"dtype\":\"int32\",\"order\":\"little\",\"shape\":[77]},\"y\":{\"__ndarray__\":\"AAAAAAAAAABLMs0newZ7QI7RTcShIWBAk47969beg0DU+S/IhiOSQG3nWiMua0BAKtCYGORlWUBgJHJyHE5XQPDYfbUqSF5AlYi8nTaBZEBdF7BzRZ1rQKtQhsf2/ohAJOjwisZCfUBWccv1dIaDQDELvg4LzWpARXvKJYXdbUBRobbvSveDQCCkH3yiFHZA3f5050nBhEB5a1vALv5yQHsSe00ZwHRAmpyEfjXDYECw8+rBospJQO9xBWRqeoxADu+XKcdSZkCNEDQ/F8duQMkvyNJnrXRA9O9D8BcSf0DgXtViGXR0QANW0R3nyHVAxvAOZTUFPEAuqY/Obyt6QBRwFi6P25FACWHae1OPcUADnb5t1FJRQEQjEMpYQnpAUQht8f51ekBPC3ENCVNHQEOpF1A0JnxADMre/g5jYkCHkB2mQymWQFf729ZVsnJA9iUetT5YeUBUi6gVGOR9QPNuCdLWT39Az4qthOH8a0DPbOEGUV52QErp3If3wGlAVT9tymQTbEA+MiFWB0hvQJjiS2Od34FA9bq4sH0xdkAuUdoqzXNFQBW7weGqtHFAoXxjmtFDi0C7GtDEvnuIQKR89NIJbFZAVJr4tWSZfkBX2Fd/XX2AQOm71JYGAm9A5piP3uFQh0CR/ya2Or16QGQcBYpNBohAAJ9jGGPlckDnEpHkAyF6QNJKL0vxBIdArY7d3LCJiUD2aJgjg8V+QKKIXd7oA4VAohyP6gllaEDMSwzRgUOHQIyUuLxQSIhAT9SbsBj4cUBVs/rb6SRyQFo7VIRTIGhAIuDsZzvTZUCX+GLbwNF+QA==\",\"dtype\":\"float64\",\"order\":\"little\",\"shape\":[77]}},\"selected\":{\"id\":\"5143\"},\"selection_policy\":{\"id\":\"5142\"}},\"id\":\"5124\",\"type\":\"ColumnDataSource\"},{\"attributes\":{\"fill_color\":{\"value\":\"orange\"},\"hatch_color\":{\"value\":\"orange\"},\"line_color\":{\"value\":\"orange\"},\"x\":{\"field\":\"x\"},\"y\":{\"field\":\"y\"}},\"id\":\"5086\",\"type\":\"Circle\"},{\"attributes\":{\"bottom_units\":\"screen\",\"coordinates\":null,\"fill_alpha\":0.5,\"fill_color\":\"lightgrey\",\"group\":null,\"left_units\":\"screen\",\"level\":\"overlay\",\"line_alpha\":1.0,\"line_color\":\"black\",\"line_dash\":[4,4],\"line_width\":2,\"right_units\":\"screen\",\"syncable\":false,\"top_units\":\"screen\"},\"id\":\"5077\",\"type\":\"BoxAnnotation\"},{\"attributes\":{},\"id\":\"5097\",\"type\":\"BasicTickFormatter\"},{\"attributes\":{},\"id\":\"5121\",\"type\":\"Selection\"},{\"attributes\":{\"source\":{\"id\":\"5085\"}},\"id\":\"5090\",\"type\":\"CDSView\"},{\"attributes\":{\"coordinates\":null,\"data_source\":{\"id\":\"5085\"},\"glyph\":{\"id\":\"5086\"},\"group\":null,\"hover_glyph\":null,\"muted_glyph\":{\"id\":\"5088\"},\"nonselection_glyph\":{\"id\":\"5087\"},\"view\":{\"id\":\"5090\"}},\"id\":\"5089\",\"type\":\"GlyphRenderer\"},{\"attributes\":{},\"id\":\"5071\",\"type\":\"PanTool\"},{\"attributes\":{},\"id\":\"5059\",\"type\":\"LinearScale\"},{\"attributes\":{},\"id\":\"5095\",\"type\":\"AllLabels\"},{\"attributes\":{},\"id\":\"5094\",\"type\":\"BasicTickFormatter\"},{\"attributes\":{\"axis\":{\"id\":\"5067\"},\"coordinates\":null,\"dimension\":1,\"group\":null,\"ticker\":null},\"id\":\"5070\",\"type\":\"Grid\"},{\"attributes\":{},\"id\":\"5068\",\"type\":\"BasicTicker\"},{\"attributes\":{},\"id\":\"5098\",\"type\":\"AllLabels\"},{\"attributes\":{},\"id\":\"5099\",\"type\":\"UnionRenderers\"},{\"attributes\":{\"coordinates\":null,\"group\":null,\"items\":[{\"id\":\"5103\"},{\"id\":\"5123\"},{\"id\":\"5145\"},{\"id\":\"5169\"},{\"id\":\"5195\"},{\"id\":\"5223\"}]},\"id\":\"5102\",\"type\":\"Legend\"},{\"attributes\":{},\"id\":\"5061\",\"type\":\"LinearScale\"},{\"attributes\":{\"data\":{\"x\":{\"__ndarray__\":\"HgAAAFoAAADSAAAA8AAAAEoBAACGAQAApAEAAOABAAA6AgAAWAIAALICAADQAgAADAMAAEgDAACiAwAA3gMAABoEAABWBAAAkgQAAM4EAAAKBQAARgUAAIIFAAC+BQAA+gUAADYGAAByBgAArgYAAOoGAAAmBwAAYgcAAJ4HAADaBwAAFggAAFIIAACOCAAAyggAAOgIAAAkCQAAYAkAAJwJAADYCQAAFAoAAFAKAACMCgAAyAoAAAQLAABACwAAfAsAALgLAAD0CwAAMAwAAGwMAACKDAAAxgwAAAINAABcDQAAeg0AALYNAADyDQAALg4AAGoOAACmDgAAWg8AAJYPAADSDwAADhAAAEoQAACGEAAAwhAAAP4QAAA6EQAAdhEAALIRAADuEQAAKhIAAGYSAACiEgAAwBIAAA==\",\"dtype\":\"int32\",\"order\":\"little\",\"shape\":[79]},\"y\":{\"__ndarray__\":\"oneaUtOORkBBgYklewZ7QNrS9cKhIWBAm3dT6tbeg0De0arGhiOSQAIZDSIua0BA5qqBFuRlWUCPhIlwHE5XQEJbALMqSF5A8mIMnDaBZEDmCWhxRZ1rQGfwb8X2/ohAij+BiMZCfUCxdCr0dIaDQBinhwwLzWpA3rdSI4XdbUA4WwzuSveDQCp+SnqiFHZAZq+55UnBhEA6oci+Lv5yQOIJwksZwHRAEPglfTXDYECdGum/ospJQOpUpGFqeoxA9jrDJ8dSZkAEsak8F8duQBd5EdFnrXRAcQau7RcSf0C33SJhGXR0QBPsARznyHVAoU79YjUFPEA+A2LMbyt6QE8MmCyP25FAHxNmelOPcUALRV9s1FJRQLSk4cdYQnpAMZM67/51ekDM6q0LCVNHQL1vwk00JnxARPVc/Q5jYkBhw0KkQymWQPEMT9VVsnJA3TkCsz5YeUB1tCoTGOR9QLJBbc/WT39AjCJdguH8a0Ct0wUFUV52QFSgvoX3wGlAE9IdyGQTbEA4sY1TB0hvQJwQz2Gd34FAqdLhrn0xdkACsDcpzXNFQEziSuCqtHFAVm4cmNFDi0CyjMTCvnuIQHVTJNEJbFZANONrs2SZfkCN/Pd9XX2AQLthRJQGAm9A8HGd3OFQh0B2ZO6zOr16QDlYBIhNBohAZdLVFmPlckAQ2GPiAyF6QPPAQknxBIdAIva62rCJiUD7OQchg8V+QDUanNzoA4VAdoGL6AllaECayxrPgUOHQCBlsbpQSIhAm3gerxj4cUDnmHna6SRyQF8/V4JTIGhAnnUhZjvTZUDKVdLYwNF+QGRE0kN7tn5Aabh/7UtIhkA=\",\"dtype\":\"float64\",\"order\":\"little\",\"shape\":[79]}},\"selected\":{\"id\":\"5100\"},\"selection_policy\":{\"id\":\"5099\"}},\"id\":\"5085\",\"type\":\"ColumnDataSource\"},{\"attributes\":{},\"id\":\"5100\",\"type\":\"Selection\"},{\"attributes\":{},\"id\":\"5064\",\"type\":\"BasicTicker\"},{\"attributes\":{\"axis_label\":\"time [s]\",\"coordinates\":null,\"formatter\":{\"id\":\"5097\"},\"group\":null,\"major_label_policy\":{\"id\":\"5098\"},\"ticker\":{\"id\":\"5064\"}},\"id\":\"5063\",\"type\":\"LinearAxis\"},{\"attributes\":{\"axis\":{\"id\":\"5063\"},\"coordinates\":null,\"group\":null,\"ticker\":null},\"id\":\"5066\",\"type\":\"Grid\"},{\"attributes\":{\"label\":{\"value\":\"util Geo-I\"},\"renderers\":[{\"id\":\"5089\"}]},\"id\":\"5103\",\"type\":\"LegendItem\"},{\"attributes\":{\"fill_alpha\":{\"value\":0.2},\"fill_color\":{\"value\":\"orange\"},\"hatch_alpha\":{\"value\":0.2},\"hatch_color\":{\"value\":\"orange\"},\"line_alpha\":{\"value\":0.2},\"line_color\":{\"value\":\"orange\"},\"x\":{\"field\":\"x\"},\"y\":{\"field\":\"y\"}},\"id\":\"5088\",\"type\":\"Circle\"},{\"attributes\":{\"axis_label\":\"utility loss\",\"coordinates\":null,\"formatter\":{\"id\":\"5094\"},\"group\":null,\"major_label_policy\":{\"id\":\"5095\"},\"ticker\":{\"id\":\"5068\"}},\"id\":\"5067\",\"type\":\"LinearAxis\"},{\"attributes\":{\"data\":{\"x\":{\"__ndarray__\":\"HgAAAFoAAADSAAAA8AAAAEoBAACGAQAApAEAAOABAAA6AgAAWAIAALICAADQAgAADAMAAEgDAACiAwAA3gMAABoEAABWBAAAkgQAAM4EAAAKBQAARgUAAIIFAAC+BQAA+gUAADYGAAByBgAArgYAAOoGAAAmBwAAYgcAAJ4HAADaBwAAFggAAFIIAACOCAAAyggAAOgIAAAkCQAAYAkAAJwJAADYCQAAFAoAAFAKAACMCgAAyAoAAAQLAABACwAAfAsAALgLAAD0CwAAMAwAAGwMAACKDAAAxgwAAAINAABcDQAAeg0AALYNAADyDQAALg4AAGoOAACmDgAAWg8AAJYPAADSDwAADhAAAEoQAACGEAAAwhAAAP4QAAA6EQAAdhEAALIRAADuEQAAKhIAAGYSAACiEgAA\",\"dtype\":\"int32\",\"order\":\"little\",\"shape\":[78]},\"y\":{\"__ndarray__\":\"AAAAAAAAAAAWhswnewZ7QBsjTMShIWBA3Or869beg0ADmy/IhiOSQLeLTCMua0BAhpmOGORlWUCKXGZyHE5XQGKacbUqSF5Ac2+0nTaBZEDqpadzRZ1rQKvig8f2/ohAeUTsisZCfUAaI8n1dIaDQOjhtA4LzWpAFODAJYXdbUBDIrTvSveDQK9gGnyiFHZAzZly50nBhEADWlbALv5yQGXudU0ZwHRAXxN7fjXDYEDt4MLBospJQIneAmRqeoxAkUeNKcdSZkB7Wig/F8duQC3AwtJnrXRAYlQ+8BcSf0BloNBiGXR0QErtzB3nyHVAcc7GZDUFPEA8T4vObyt6QGJWFS6P25FA2JfVe1OPcUCs/6lt1FJRQEO3CspYQnpAmOVn8f51ekDa8T8NCVNHQKSdEFA0JnxA1AvW/g5jYkAzehymQymWQEV919ZVsnJAP58ZtT5YeUAv9qMVGOR9QLQVBdLWT39ANaSkhOH8a0BLmtwGUV52QB8q0of3wGlAbDNgymQTbECGBBVWB0hvQG9aSGOd34FADXWysH0xdkBJtrIqzXNFQExRvOGqtHFA7dVgmtFDi0ACs83EvnuIQPVA5NIJbFZAGODztWSZfkARdVV/XX2AQP+9ypYGAm9AbvWM3uFQh0CNTyG2Or16QO/8AYpNBohAxstbGGPlckBMR4rkAyF6QKNyLUvxBIdAxNTb3LCJiUAd+5Qjg8V+QPLJW97oA4VAubaG6gllaEAbTgrRgUOHQM05trxQSIhAZSWXsBj4cUDr//Xb6SRyQJ/ISoRTIGhAqFLjZzvTZUABrV3bwNF+QEPNWkZ7tn5A\",\"dtype\":\"float64\",\"order\":\"little\",\"shape\":[78]}},\"selected\":{\"id\":\"5121\"},\"selection_policy\":{\"id\":\"5120\"}},\"id\":\"5104\",\"type\":\"ColumnDataSource\"},{\"attributes\":{},\"id\":\"5055\",\"type\":\"DataRange1d\"},{\"attributes\":{\"fill_alpha\":{\"value\":0.1},\"fill_color\":{\"value\":\"orange\"},\"hatch_alpha\":{\"value\":0.1},\"hatch_color\":{\"value\":\"orange\"},\"line_alpha\":{\"value\":0.1},\"line_color\":{\"value\":\"orange\"},\"x\":{\"field\":\"x\"},\"y\":{\"field\":\"y\"}},\"id\":\"5087\",\"type\":\"Circle\"}],\"root_ids\":[\"5054\"]},\"title\":\"Bokeh Application\",\"version\":\"2.4.3\"}};\n",
       "  const render_items = [{\"docid\":\"c899fb41-f22c-4f3c-9138-3d60a7f3b0da\",\"root_ids\":[\"5054\"],\"roots\":{\"5054\":\"4b098bbd-5df0-40c9-ac7b-3e4e53d175fd\"}}];\n",
       "  root.Bokeh.embed.embed_items_notebook(docs_json, render_items);\n",
       "  }\n",
       "  if (root.Bokeh !== undefined) {\n",
       "    embed_document(root);\n",
       "  } else {\n",
       "    let attempts = 0;\n",
       "    const timer = setInterval(function(root) {\n",
       "      if (root.Bokeh !== undefined) {\n",
       "        clearInterval(timer);\n",
       "        embed_document(root);\n",
       "      } else {\n",
       "        attempts++;\n",
       "        if (attempts > 100) {\n",
       "          clearInterval(timer);\n",
       "          console.log(\"Bokeh: ERROR: Unable to run BokehJS code because BokehJS library is missing\");\n",
       "        }\n",
       "      }\n",
       "    }, 10, root)\n",
       "  }\n",
       "})(window);"
      ],
      "application/vnd.bokehjs_exec.v0+json": ""
     },
     "metadata": {
      "application/vnd.bokehjs_exec.v0+json": {
       "id": "5054"
      }
     },
     "output_type": "display_data"
    }
   ],
   "source": [
    "from bokeh.plotting import figure, show, output_notebook, output_file, reset_output, save\n",
    "from bokeh.layouts import gridplot, row, column\n",
    "from bokeh.models import Range1d\n",
    "from numpy import random\n",
    "output_notebook()\n",
    "\n",
    "## Trace plot\n",
    "Colors = []\n",
    "fig = figure(plot_width=900, plot_height=450)\n",
    "fig.line(xsp, ysp, line_color='navy', legend_label=\"p\")\n",
    "fig.circle(np.multiply(xs,bs), np.multiply(ys,bs), color='navy', legend_label=\"p\")\n",
    "fig.line(barxk, baryk, line_color='navy', legend_label=\"centr\", alpha=0.2)\n",
    "fig.circle(barxk, baryk, color='navy', legend_label=\"centr\", fill_alpha=0.2, alpha=0.2)\n",
    "fig.circle(np.multiply(x_obf,bs), np.multiply(y_obf,bs), color='orange', legend_label=\"p obf\")\n",
    "#fig.line(barxk_obf, baryk_obf, line_color='orange', legend_label=\"centr obf\", alpha=0.2)\n",
    "#fig.circle(barxk_obf, baryk_obf, color='orange', legend_label=\"centr obf\", fill_alpha=0.2, alpha=0.2)\n",
    "for h in horizons:\n",
    "    x_mpc = Data_MPC[h].x\n",
    "    y_mpc = Data_MPC[h].y\n",
    "    barxk_mpc = Data_MPC[h].barx\n",
    "    baryk_mpc = Data_MPC[h].bary\n",
    "    color = (random.randint(0, 255), random.randint(0, 255), random.randint(0, 255))\n",
    "    Colors += [color]\n",
    "    fig.circle(np.multiply(x_mpc,bs[0:len(y_mpc)]), \n",
    "           np.multiply(y_mpc,bs[0:len(y_mpc)]), color=color, legend_label=\"p mpc \"+str(h))\n",
    "    #fig.line(barxk_mpc, baryk_mpc, line_color=color, legend_label=\"centr mpc \"+str(h), alpha=0.2)\n",
    "    #fig.circle(barxk_mpc, baryk_mpc, color=color, legend_label=\"centr mpc \"+str(h), fill_alpha=0.2, alpha=0.2)\n",
    "fig.xaxis.axis_label = \"x\"\n",
    "fig.yaxis.axis_label = \"y\"\n",
    "show(fig)\n",
    "\n",
    "\n",
    "##Privacy plot\n",
    "fig = figure(plot_width=900, plot_height=450)\n",
    "fig.line(Time[bs>0], np.array(privk)[bs>0], line_color='navy', legend_label=\"p\")\n",
    "fig.circle(Time[bs>0], np.array(privk)[bs>0], color='navy', legend_label=\"p \")\n",
    "fig.line(Time[bs>0], np.array(privk_obf)[bs>0], line_color='orange', legend_label=\"p GeoI\")\n",
    "fig.circle(Time[bs>0], np.array(privk_obf)[bs>0], color='orange', legend_label=\"p GeoI\")\n",
    "\n",
    "i = 0\n",
    "for h in horizons:\n",
    "    priv_mpc = Data_MPC[h].priv\n",
    "    fig.line(Time[0:len(priv_mpc)], priv_mpc, line_color=Colors[i], legend_label=\"p mpc \"+str(h))\n",
    "    fig.circle(Time[0:len(priv_mpc)], priv_mpc[0:len(priv_mpc)], color=Colors[i], legend_label=\"p mpc \"+str(h))\n",
    "    i += 1\n",
    "# fig.circle(Time, bs, color='green', legend_label=\"transm\")\n",
    "fig.xaxis.axis_label = \"time [s]\"\n",
    "fig.yaxis.axis_label = \"privacy\"\n",
    "show(fig)\n",
    "\n",
    "\n",
    "#Log privacy plot\n",
    "fig = figure(plot_width=900, plot_height=450)\n",
    "fig.line(Time[(bs>0) & (np.array(privk)>0)], np.log10(np.array(privk)[(bs>0) & (np.array(privk)>0)]), line_color='navy', legend_label=\"p\")\n",
    "fig.circle(Time[(bs>0) & (np.array(privk)>0)], np.log10(np.array(privk)[(bs>0) & (np.array(privk)>0)]), color='navy', legend_label=\"p GeoI\")\n",
    "fig.line(Time[(bs>0) & (np.array(privk)>0)], np.log10(np.array(privk_obf)[(bs>0) & (np.array(privk)>0)]), line_color='orange', legend_label=\"p GeoI\")\n",
    "fig.circle(Time[(bs>0) & (np.array(privk)>0)], np.log10(np.array(privk_obf)[(bs>0) & (np.array(privk)>0)]), color='orange', legend_label=\"p GeoI\")\n",
    "\n",
    "i = 0\n",
    "for h in horizons:\n",
    "    priv_mpc = Data_MPC[h].priv\n",
    "    fig.line(Time[0:len(priv_mpc)], np.log10(priv_mpc), line_color=Colors[i], legend_label=\"p mpc \"+str(h))\n",
    "    fig.circle(Time[0:len(priv_mpc)], np.log10(priv_mpc[0:len(priv_mpc)]), color=Colors[i], legend_label=\"p mpc \"+str(h))\n",
    "    i += 1\n",
    "# fig.circle(Time, bs, color='green', legend_label=\"transm\")\n",
    "fig.xaxis.axis_label = \"time [s]\"\n",
    "fig.yaxis.axis_label = \"privacy\"\n",
    "show(fig)\n",
    "\n",
    "\n",
    "## Log utility plot\n",
    "fig = figure(plot_width=900, plot_height=250)\n",
    "# fig.line(Time, util, line_color='orange', legend_label=\"util obf\")\n",
    "fig.circle(Time[bs>0], np.array(util)[bs>0], color='orange', legend_label=\"util Geo-I\")\n",
    "i = 0\n",
    "for h in horizons:\n",
    "    util_mpc = Data_MPC[h].util\n",
    "#     fig.line(Time[0:len(util_mpc)], util_mpc, line_color=Colors[i], legend_label=\"util mpc \"+str(h))\n",
    "    fig.circle(Time[0:len(util_mpc)][bs[0:len(util_mpc)]>0], util_mpc[bs[0:len(util_mpc)]>0], color=Colors[i], legend_label=\"util mpc \"+str(h))\n",
    "    i += 1\n",
    "# fig.circle(Time, bs, color='green', legend_label=\"transm\")\n",
    "fig.xaxis.axis_label = \"time [s]\"\n",
    "fig.yaxis.axis_label = \"utility loss\"\n",
    "show(fig)\n",
    "\n"
   ]
  },
  {
   "cell_type": "code",
   "execution_count": 28,
   "id": "1542316e",
   "metadata": {},
   "outputs": [
    {
     "data": {
      "text/html": [
       "\n",
       "  <div class=\"bk-root\" id=\"9a2cb7e9-9bf8-4bc8-905e-880dc388a2ae\" data-root-id=\"5563\"></div>\n"
      ]
     },
     "metadata": {},
     "output_type": "display_data"
    },
    {
     "data": {
      "application/javascript": [
       "(function(root) {\n",
       "  function embed_document(root) {\n",
       "  const docs_json = {\"2a169781-6dff-4c91-bcc5-faa88e8b6b5a\":{\"defs\":[],\"roots\":{\"references\":[{\"attributes\":{\"below\":[{\"id\":\"5572\"}],\"center\":[{\"id\":\"5575\"},{\"id\":\"5579\"},{\"id\":\"5611\"}],\"height\":450,\"left\":[{\"id\":\"5576\"}],\"renderers\":[{\"id\":\"5598\"},{\"id\":\"5617\"}],\"title\":{\"id\":\"5600\"},\"toolbar\":{\"id\":\"5587\"},\"width\":900,\"x_range\":{\"id\":\"5632\"},\"x_scale\":{\"id\":\"5568\"},\"y_range\":{\"id\":\"5633\"},\"y_scale\":{\"id\":\"5570\"}},\"id\":\"5563\",\"subtype\":\"Figure\",\"type\":\"Plot\"},{\"attributes\":{\"overlay\":{\"id\":\"5586\"}},\"id\":\"5582\",\"type\":\"BoxZoomTool\"},{\"attributes\":{},\"id\":\"5583\",\"type\":\"SaveTool\"},{\"attributes\":{},\"id\":\"5584\",\"type\":\"ResetTool\"},{\"attributes\":{},\"id\":\"5604\",\"type\":\"AllLabels\"},{\"attributes\":{\"end\":0.26833612850161803},\"id\":\"5633\",\"type\":\"Range1d\"},{\"attributes\":{\"axis_label\":\"privacy improvement\",\"coordinates\":null,\"formatter\":{\"id\":\"5603\"},\"group\":null,\"major_label_policy\":{\"id\":\"5604\"},\"ticker\":{\"id\":\"5577\"}},\"id\":\"5576\",\"type\":\"LinearAxis\"},{\"attributes\":{\"fill_alpha\":{\"value\":0.1},\"fill_color\":{\"value\":\"#1f77b4\"},\"hatch_alpha\":{\"value\":0.1},\"line_alpha\":{\"value\":0.1},\"line_color\":{\"value\":\"navy\"},\"x\":{\"field\":\"x\"},\"y\":{\"field\":\"y\"}},\"id\":\"5615\",\"type\":\"Circle\"},{\"attributes\":{},\"id\":\"5581\",\"type\":\"WheelZoomTool\"},{\"attributes\":{\"source\":{\"id\":\"5594\"}},\"id\":\"5599\",\"type\":\"CDSView\"},{\"attributes\":{\"line_alpha\":0.1,\"line_color\":\"navy\",\"x\":{\"field\":\"x\"},\"y\":{\"field\":\"y\"}},\"id\":\"5596\",\"type\":\"Line\"},{\"attributes\":{\"data\":{\"x\":{\"__ndarray__\":\"AAAAAAEAAAACAAAABQAAAAoAAAAPAAAA\",\"dtype\":\"int32\",\"order\":\"little\",\"shape\":[6]},\"y\":[0.09284569107787535,0.12063802504855749,0.13015092062485775,0.1420325952615783,0.1803899846294379,0.21466890280129441]},\"selected\":{\"id\":\"5630\"},\"selection_policy\":{\"id\":\"5629\"}},\"id\":\"5613\",\"type\":\"ColumnDataSource\"},{\"attributes\":{},\"id\":\"5580\",\"type\":\"PanTool\"},{\"attributes\":{},\"id\":\"5629\",\"type\":\"UnionRenderers\"},{\"attributes\":{\"coordinates\":null,\"group\":null},\"id\":\"5600\",\"type\":\"Title\"},{\"attributes\":{\"axis\":{\"id\":\"5572\"},\"coordinates\":null,\"group\":null,\"ticker\":null},\"id\":\"5575\",\"type\":\"Grid\"},{\"attributes\":{},\"id\":\"5568\",\"type\":\"LinearScale\"},{\"attributes\":{\"line_color\":\"navy\",\"x\":{\"field\":\"x\"},\"y\":{\"field\":\"y\"}},\"id\":\"5595\",\"type\":\"Line\"},{\"attributes\":{},\"id\":\"5603\",\"type\":\"BasicTickFormatter\"},{\"attributes\":{\"axis_label\":\"horizon\",\"coordinates\":null,\"formatter\":{\"id\":\"5606\"},\"group\":null,\"major_label_policy\":{\"id\":\"5607\"},\"ticker\":{\"id\":\"5573\"}},\"id\":\"5572\",\"type\":\"LinearAxis\"},{\"attributes\":{},\"id\":\"5570\",\"type\":\"LinearScale\"},{\"attributes\":{\"data\":{\"x\":{\"__ndarray__\":\"AAAAAAEAAAACAAAABQAAAAoAAAAPAAAA\",\"dtype\":\"int32\",\"order\":\"little\",\"shape\":[6]},\"y\":[0.09284569107787535,0.12063802504855749,0.13015092062485775,0.1420325952615783,0.1803899846294379,0.21466890280129441]},\"selected\":{\"id\":\"5609\"},\"selection_policy\":{\"id\":\"5608\"}},\"id\":\"5594\",\"type\":\"ColumnDataSource\"},{\"attributes\":{},\"id\":\"5606\",\"type\":\"BasicTickFormatter\"},{\"attributes\":{},\"id\":\"5607\",\"type\":\"AllLabels\"},{\"attributes\":{},\"id\":\"5609\",\"type\":\"Selection\"},{\"attributes\":{\"axis\":{\"id\":\"5576\"},\"coordinates\":null,\"dimension\":1,\"group\":null,\"ticker\":null},\"id\":\"5579\",\"type\":\"Grid\"},{\"attributes\":{},\"id\":\"5573\",\"type\":\"BasicTicker\"},{\"attributes\":{\"fill_color\":{\"value\":\"#1f77b4\"},\"line_color\":{\"value\":\"navy\"},\"x\":{\"field\":\"x\"},\"y\":{\"field\":\"y\"}},\"id\":\"5614\",\"type\":\"Circle\"},{\"attributes\":{},\"id\":\"5608\",\"type\":\"UnionRenderers\"},{\"attributes\":{\"source\":{\"id\":\"5613\"}},\"id\":\"5618\",\"type\":\"CDSView\"},{\"attributes\":{},\"id\":\"5585\",\"type\":\"HelpTool\"},{\"attributes\":{\"coordinates\":null,\"group\":null,\"items\":[{\"id\":\"5612\"}]},\"id\":\"5611\",\"type\":\"Legend\"},{\"attributes\":{},\"id\":\"5630\",\"type\":\"Selection\"},{\"attributes\":{\"label\":{\"value\":\"privacy gain %\"},\"renderers\":[{\"id\":\"5598\"},{\"id\":\"5617\"}]},\"id\":\"5612\",\"type\":\"LegendItem\"},{\"attributes\":{\"end\":15},\"id\":\"5632\",\"type\":\"Range1d\"},{\"attributes\":{\"line_alpha\":0.2,\"line_color\":\"navy\",\"x\":{\"field\":\"x\"},\"y\":{\"field\":\"y\"}},\"id\":\"5597\",\"type\":\"Line\"},{\"attributes\":{},\"id\":\"5577\",\"type\":\"BasicTicker\"},{\"attributes\":{\"fill_alpha\":{\"value\":0.2},\"fill_color\":{\"value\":\"#1f77b4\"},\"hatch_alpha\":{\"value\":0.2},\"line_alpha\":{\"value\":0.2},\"line_color\":{\"value\":\"navy\"},\"x\":{\"field\":\"x\"},\"y\":{\"field\":\"y\"}},\"id\":\"5616\",\"type\":\"Circle\"},{\"attributes\":{\"coordinates\":null,\"data_source\":{\"id\":\"5613\"},\"glyph\":{\"id\":\"5614\"},\"group\":null,\"hover_glyph\":null,\"muted_glyph\":{\"id\":\"5616\"},\"nonselection_glyph\":{\"id\":\"5615\"},\"view\":{\"id\":\"5618\"}},\"id\":\"5617\",\"type\":\"GlyphRenderer\"},{\"attributes\":{\"bottom_units\":\"screen\",\"coordinates\":null,\"fill_alpha\":0.5,\"fill_color\":\"lightgrey\",\"group\":null,\"left_units\":\"screen\",\"level\":\"overlay\",\"line_alpha\":1.0,\"line_color\":\"black\",\"line_dash\":[4,4],\"line_width\":2,\"right_units\":\"screen\",\"syncable\":false,\"top_units\":\"screen\"},\"id\":\"5586\",\"type\":\"BoxAnnotation\"},{\"attributes\":{\"tools\":[{\"id\":\"5580\"},{\"id\":\"5581\"},{\"id\":\"5582\"},{\"id\":\"5583\"},{\"id\":\"5584\"},{\"id\":\"5585\"}]},\"id\":\"5587\",\"type\":\"Toolbar\"},{\"attributes\":{\"coordinates\":null,\"data_source\":{\"id\":\"5594\"},\"glyph\":{\"id\":\"5595\"},\"group\":null,\"hover_glyph\":null,\"muted_glyph\":{\"id\":\"5597\"},\"nonselection_glyph\":{\"id\":\"5596\"},\"view\":{\"id\":\"5599\"}},\"id\":\"5598\",\"type\":\"GlyphRenderer\"}],\"root_ids\":[\"5563\"]},\"title\":\"Bokeh Application\",\"version\":\"2.4.3\"}};\n",
       "  const render_items = [{\"docid\":\"2a169781-6dff-4c91-bcc5-faa88e8b6b5a\",\"root_ids\":[\"5563\"],\"roots\":{\"5563\":\"9a2cb7e9-9bf8-4bc8-905e-880dc388a2ae\"}}];\n",
       "  root.Bokeh.embed.embed_items_notebook(docs_json, render_items);\n",
       "  }\n",
       "  if (root.Bokeh !== undefined) {\n",
       "    embed_document(root);\n",
       "  } else {\n",
       "    let attempts = 0;\n",
       "    const timer = setInterval(function(root) {\n",
       "      if (root.Bokeh !== undefined) {\n",
       "        clearInterval(timer);\n",
       "        embed_document(root);\n",
       "      } else {\n",
       "        attempts++;\n",
       "        if (attempts > 100) {\n",
       "          clearInterval(timer);\n",
       "          console.log(\"Bokeh: ERROR: Unable to run BokehJS code because BokehJS library is missing\");\n",
       "        }\n",
       "      }\n",
       "    }, 10, root)\n",
       "  }\n",
       "})(window);"
      ],
      "application/vnd.bokehjs_exec.v0+json": ""
     },
     "metadata": {
      "application/vnd.bokehjs_exec.v0+json": {
       "id": "5563"
      }
     },
     "output_type": "display_data"
    }
   ],
   "source": [
    "fig = figure(plot_width=900, plot_height=450)\n",
    "fig.line(np.array([0]+horizons), [(p_obf-p_raw)/p_raw]+Pper_mpc, line_color='navy', legend_label=\"privacy gain %\")\n",
    "fig.circle(np.array([0]+horizons), [(p_obf-p_raw)/p_raw]+Pper_mpc, line_color='navy', legend_label=\"privacy gain %\")\n",
    "fig.xaxis.axis_label = \"horizon\"\n",
    "fig.yaxis.axis_label = \"privacy improvement\"\n",
    "fig.x_range = Range1d(0, max(horizons))\n",
    "fig.y_range = Range1d(0, max(Pper_mpc)*1.25)\n",
    "show(fig)\n"
   ]
  },
  {
   "cell_type": "code",
   "execution_count": 29,
   "id": "0a8ba43a",
   "metadata": {},
   "outputs": [
    {
     "data": {
      "text/html": [
       "\n",
       "  <div class=\"bk-root\" id=\"7b328068-71ae-4dfd-b733-6cc2844598e6\" data-root-id=\"5946\"></div>\n"
      ]
     },
     "metadata": {},
     "output_type": "display_data"
    },
    {
     "data": {
      "application/javascript": [
       "(function(root) {\n",
       "  function embed_document(root) {\n",
       "  const docs_json = {\"7b3f7552-2dce-4df1-a885-a4939b833342\":{\"defs\":[],\"roots\":{\"references\":[{\"attributes\":{\"below\":[{\"id\":\"5955\"}],\"center\":[{\"id\":\"5958\"},{\"id\":\"5962\"},{\"id\":\"5994\"}],\"height\":450,\"left\":[{\"id\":\"5959\"}],\"renderers\":[{\"id\":\"5981\"},{\"id\":\"6000\"},{\"id\":\"6019\"}],\"title\":{\"id\":\"5983\"},\"toolbar\":{\"id\":\"5970\"},\"width\":900,\"x_range\":{\"id\":\"6037\"},\"x_scale\":{\"id\":\"5951\"},\"y_range\":{\"id\":\"6038\"},\"y_scale\":{\"id\":\"5953\"}},\"id\":\"5946\",\"subtype\":\"Figure\",\"type\":\"Plot\"},{\"attributes\":{\"overlay\":{\"id\":\"5969\"}},\"id\":\"5965\",\"type\":\"BoxZoomTool\"},{\"attributes\":{},\"id\":\"6012\",\"type\":\"UnionRenderers\"},{\"attributes\":{},\"id\":\"5967\",\"type\":\"ResetTool\"},{\"attributes\":{},\"id\":\"5953\",\"type\":\"LinearScale\"},{\"attributes\":{},\"id\":\"5960\",\"type\":\"BasicTicker\"},{\"attributes\":{\"end\":0.26833612850161803},\"id\":\"6038\",\"type\":\"Range1d\"},{\"attributes\":{},\"id\":\"5966\",\"type\":\"SaveTool\"},{\"attributes\":{},\"id\":\"5992\",\"type\":\"Selection\"},{\"attributes\":{\"coordinates\":null,\"group\":null,\"items\":[{\"id\":\"5995\"},{\"id\":\"6036\"}]},\"id\":\"5994\",\"type\":\"Legend\"},{\"attributes\":{\"axis_label\":\"privacy improvement\",\"coordinates\":null,\"formatter\":{\"id\":\"5986\"},\"group\":null,\"major_label_policy\":{\"id\":\"5987\"},\"ticker\":{\"id\":\"5960\"}},\"id\":\"5959\",\"type\":\"LinearAxis\"},{\"attributes\":{},\"id\":\"5964\",\"type\":\"WheelZoomTool\"},{\"attributes\":{},\"id\":\"5990\",\"type\":\"AllLabels\"},{\"attributes\":{\"label\":{\"value\":\"privacy gain gaussian %\"},\"renderers\":[{\"id\":\"6019\"}]},\"id\":\"6036\",\"type\":\"LegendItem\"},{\"attributes\":{},\"id\":\"6013\",\"type\":\"Selection\"},{\"attributes\":{\"source\":{\"id\":\"5977\"}},\"id\":\"5982\",\"type\":\"CDSView\"},{\"attributes\":{},\"id\":\"5991\",\"type\":\"UnionRenderers\"},{\"attributes\":{\"end\":15,\"start\":1},\"id\":\"6037\",\"type\":\"Range1d\"},{\"attributes\":{\"line_color\":\"navy\",\"x\":{\"field\":\"x\"},\"y\":{\"field\":\"y\"}},\"id\":\"5978\",\"type\":\"Line\"},{\"attributes\":{},\"id\":\"5951\",\"type\":\"LinearScale\"},{\"attributes\":{\"axis\":{\"id\":\"5955\"},\"coordinates\":null,\"group\":null,\"ticker\":null},\"id\":\"5958\",\"type\":\"Grid\"},{\"attributes\":{},\"id\":\"5987\",\"type\":\"AllLabels\"},{\"attributes\":{\"fill_alpha\":{\"value\":0.1},\"fill_color\":{\"value\":\"#1f77b4\"},\"hatch_alpha\":{\"value\":0.1},\"line_alpha\":{\"value\":0.1},\"line_color\":{\"value\":\"navy\"},\"x\":{\"field\":\"x\"},\"y\":{\"field\":\"y\"}},\"id\":\"5998\",\"type\":\"Circle\"},{\"attributes\":{},\"id\":\"5968\",\"type\":\"HelpTool\"},{\"attributes\":{\"fill_color\":{\"value\":\"#1f77b4\"},\"line_color\":{\"value\":\"navy\"},\"x\":{\"field\":\"x\"},\"y\":{\"field\":\"y\"}},\"id\":\"5997\",\"type\":\"Circle\"},{\"attributes\":{},\"id\":\"5989\",\"type\":\"BasicTickFormatter\"},{\"attributes\":{\"coordinates\":null,\"group\":null},\"id\":\"5983\",\"type\":\"Title\"},{\"attributes\":{\"line_alpha\":0.2,\"line_color\":\"navy\",\"x\":{\"field\":\"x\"},\"y\":{\"field\":\"y\"}},\"id\":\"5980\",\"type\":\"Line\"},{\"attributes\":{\"data\":{\"x\":{\"__ndarray__\":\"AQAAAAIAAAAFAAAACgAAAA8AAAA=\",\"dtype\":\"int32\",\"order\":\"little\",\"shape\":[5]},\"y\":[0.12063802504855749,0.13015092062485775,0.1420325952615783,0.1803899846294379,0.21466890280129441]},\"selected\":{\"id\":\"5992\"},\"selection_policy\":{\"id\":\"5991\"}},\"id\":\"5977\",\"type\":\"ColumnDataSource\"},{\"attributes\":{\"source\":{\"id\":\"5996\"}},\"id\":\"6001\",\"type\":\"CDSView\"},{\"attributes\":{\"source\":{\"id\":\"6015\"}},\"id\":\"6020\",\"type\":\"CDSView\"},{\"attributes\":{\"label\":{\"value\":\"privacy gain %\"},\"renderers\":[{\"id\":\"5981\"},{\"id\":\"6000\"}]},\"id\":\"5995\",\"type\":\"LegendItem\"},{\"attributes\":{\"line_alpha\":0.1,\"line_color\":\"red\",\"x\":{\"field\":\"x\"},\"y\":{\"field\":\"y\"}},\"id\":\"6017\",\"type\":\"Line\"},{\"attributes\":{},\"id\":\"5986\",\"type\":\"BasicTickFormatter\"},{\"attributes\":{},\"id\":\"5963\",\"type\":\"PanTool\"},{\"attributes\":{},\"id\":\"5956\",\"type\":\"BasicTicker\"},{\"attributes\":{\"line_alpha\":0.2,\"line_color\":\"red\",\"x\":{\"field\":\"x\"},\"y\":{\"field\":\"y\"}},\"id\":\"6018\",\"type\":\"Line\"},{\"attributes\":{\"coordinates\":null,\"data_source\":{\"id\":\"5996\"},\"glyph\":{\"id\":\"5997\"},\"group\":null,\"hover_glyph\":null,\"muted_glyph\":{\"id\":\"5999\"},\"nonselection_glyph\":{\"id\":\"5998\"},\"view\":{\"id\":\"6001\"}},\"id\":\"6000\",\"type\":\"GlyphRenderer\"},{\"attributes\":{\"axis_label\":\"horizon\",\"coordinates\":null,\"formatter\":{\"id\":\"5989\"},\"group\":null,\"major_label_policy\":{\"id\":\"5990\"},\"ticker\":{\"id\":\"5956\"}},\"id\":\"5955\",\"type\":\"LinearAxis\"},{\"attributes\":{\"line_color\":\"red\",\"x\":{\"field\":\"x\"},\"y\":{\"field\":\"y\"}},\"id\":\"6016\",\"type\":\"Line\"},{\"attributes\":{},\"id\":\"6033\",\"type\":\"UnionRenderers\"},{\"attributes\":{\"data\":{\"x\":{\"__ndarray__\":\"AQAAAAIAAAAFAAAACgAAAA8AAAA=\",\"dtype\":\"int32\",\"order\":\"little\",\"shape\":[5]},\"y\":[0.09284569107787535,0.09284569107787535,0.09284569107787535,0.09284569107787535,0.09284569107787535]},\"selected\":{\"id\":\"6034\"},\"selection_policy\":{\"id\":\"6033\"}},\"id\":\"6015\",\"type\":\"ColumnDataSource\"},{\"attributes\":{\"coordinates\":null,\"data_source\":{\"id\":\"5977\"},\"glyph\":{\"id\":\"5978\"},\"group\":null,\"hover_glyph\":null,\"muted_glyph\":{\"id\":\"5980\"},\"nonselection_glyph\":{\"id\":\"5979\"},\"view\":{\"id\":\"5982\"}},\"id\":\"5981\",\"type\":\"GlyphRenderer\"},{\"attributes\":{},\"id\":\"6034\",\"type\":\"Selection\"},{\"attributes\":{\"coordinates\":null,\"data_source\":{\"id\":\"6015\"},\"glyph\":{\"id\":\"6016\"},\"group\":null,\"hover_glyph\":null,\"muted_glyph\":{\"id\":\"6018\"},\"nonselection_glyph\":{\"id\":\"6017\"},\"view\":{\"id\":\"6020\"}},\"id\":\"6019\",\"type\":\"GlyphRenderer\"},{\"attributes\":{\"tools\":[{\"id\":\"5963\"},{\"id\":\"5964\"},{\"id\":\"5965\"},{\"id\":\"5966\"},{\"id\":\"5967\"},{\"id\":\"5968\"}]},\"id\":\"5970\",\"type\":\"Toolbar\"},{\"attributes\":{\"line_alpha\":0.1,\"line_color\":\"navy\",\"x\":{\"field\":\"x\"},\"y\":{\"field\":\"y\"}},\"id\":\"5979\",\"type\":\"Line\"},{\"attributes\":{\"data\":{\"x\":{\"__ndarray__\":\"AQAAAAIAAAAFAAAACgAAAA8AAAA=\",\"dtype\":\"int32\",\"order\":\"little\",\"shape\":[5]},\"y\":[0.12063802504855749,0.13015092062485775,0.1420325952615783,0.1803899846294379,0.21466890280129441]},\"selected\":{\"id\":\"6013\"},\"selection_policy\":{\"id\":\"6012\"}},\"id\":\"5996\",\"type\":\"ColumnDataSource\"},{\"attributes\":{\"fill_alpha\":{\"value\":0.2},\"fill_color\":{\"value\":\"#1f77b4\"},\"hatch_alpha\":{\"value\":0.2},\"line_alpha\":{\"value\":0.2},\"line_color\":{\"value\":\"navy\"},\"x\":{\"field\":\"x\"},\"y\":{\"field\":\"y\"}},\"id\":\"5999\",\"type\":\"Circle\"},{\"attributes\":{\"axis\":{\"id\":\"5959\"},\"coordinates\":null,\"dimension\":1,\"group\":null,\"ticker\":null},\"id\":\"5962\",\"type\":\"Grid\"},{\"attributes\":{\"bottom_units\":\"screen\",\"coordinates\":null,\"fill_alpha\":0.5,\"fill_color\":\"lightgrey\",\"group\":null,\"left_units\":\"screen\",\"level\":\"overlay\",\"line_alpha\":1.0,\"line_color\":\"black\",\"line_dash\":[4,4],\"line_width\":2,\"right_units\":\"screen\",\"syncable\":false,\"top_units\":\"screen\"},\"id\":\"5969\",\"type\":\"BoxAnnotation\"}],\"root_ids\":[\"5946\"]},\"title\":\"Bokeh Application\",\"version\":\"2.4.3\"}};\n",
       "  const render_items = [{\"docid\":\"7b3f7552-2dce-4df1-a885-a4939b833342\",\"root_ids\":[\"5946\"],\"roots\":{\"5946\":\"7b328068-71ae-4dfd-b733-6cc2844598e6\"}}];\n",
       "  root.Bokeh.embed.embed_items_notebook(docs_json, render_items);\n",
       "  }\n",
       "  if (root.Bokeh !== undefined) {\n",
       "    embed_document(root);\n",
       "  } else {\n",
       "    let attempts = 0;\n",
       "    const timer = setInterval(function(root) {\n",
       "      if (root.Bokeh !== undefined) {\n",
       "        clearInterval(timer);\n",
       "        embed_document(root);\n",
       "      } else {\n",
       "        attempts++;\n",
       "        if (attempts > 100) {\n",
       "          clearInterval(timer);\n",
       "          console.log(\"Bokeh: ERROR: Unable to run BokehJS code because BokehJS library is missing\");\n",
       "        }\n",
       "      }\n",
       "    }, 10, root)\n",
       "  }\n",
       "})(window);"
      ],
      "application/vnd.bokehjs_exec.v0+json": ""
     },
     "metadata": {
      "application/vnd.bokehjs_exec.v0+json": {
       "id": "5946"
      }
     },
     "output_type": "display_data"
    }
   ],
   "source": [
    "fig = figure(plot_width=900, plot_height=450)\n",
    "fig.line(np.array(horizons), Pper_mpc, line_color='navy', legend_label=\"privacy gain %\")\n",
    "fig.circle(np.array(horizons), Pper_mpc, line_color='navy', legend_label=\"privacy gain %\")\n",
    "fig.line(np.array(horizons), [(p_obf-p_raw)/p_raw]*len(horizons), line_color='red', legend_label=\"privacy gain gaussian %\")\n",
    "fig.xaxis.axis_label = \"horizon\"\n",
    "fig.yaxis.axis_label = \"privacy improvement\"\n",
    "fig.x_range = Range1d(1, max(horizons))\n",
    "fig.y_range = Range1d(0, max(Pper_mpc)*1.25)\n",
    "show(fig)"
   ]
  },
  {
   "cell_type": "markdown",
   "id": "9974d86f",
   "metadata": {},
   "source": [
    "# Visualisation on a map\n",
    "\n",
    "Traces will be plotted using [geojson.io](https://geojson.io/) tool, \"Open\" option in the menu. Data will be exported in csv with the following columns: marker-color,lat,lon Color should be specified using the HEX color code\n",
    "### Raw trace"
   ]
  },
  {
   "cell_type": "code",
   "execution_count": 30,
   "id": "b5213519",
   "metadata": {},
   "outputs": [],
   "source": [
    "l_raw=pd.DataFrame() \n",
    "l_raw['lat'], l_raw['lon'] = pymap3d.enu2geodetic(Data_real['x'], Data_real['y'], Data_real['u_enu'], lat0, lon0, h0, ell=ell_grs80)[0:2]\n",
    "l_raw['marker-color'] = '#000080'\n",
    "os.makedirs(sol_file+'/visualisation-map', exist_ok=True)\n",
    "l_raw.to_csv(sol_file+'/visualisation-map/'+dataset+'_'+user+'_raw.csv')"
   ]
  },
  {
   "cell_type": "markdown",
   "id": "6e8b278c",
   "metadata": {},
   "source": [
    "### GeoI trace"
   ]
  },
  {
   "cell_type": "markdown",
   "id": "4edb65c0",
   "metadata": {},
   "source": [
    "### GeoI trace"
   ]
  },
  {
   "cell_type": "code",
   "execution_count": 31,
   "id": "952da451",
   "metadata": {},
   "outputs": [],
   "source": [
    "Data_obf2=Data_obf[Data_obf.util!=0]"
   ]
  },
  {
   "cell_type": "code",
   "execution_count": 32,
   "id": "a30dd1d4",
   "metadata": {},
   "outputs": [],
   "source": [
    "#Modify to plot transmitted points\n",
    "l_geoi=pd.DataFrame() \n",
    "\n",
    "l_geoi['lat'], l_geoi['lon'] = pymap3d.enu2geodetic(Data_obf[Data_obf.util!=0]['x'], Data_obf[Data_obf.util!=0]['y'], Data_obf[Data_obf.util!=0]['u_enu'], lat0, lon0, h0, ell=ell_grs80)[0:2]\n",
    "l_geoi['marker-color'] = '#FF8000'\n",
    "l_geoi.to_csv(sol_file+'/visualisation-map/'+dataset+'_'+user+'_geoi.csv')"
   ]
  },
  {
   "cell_type": "markdown",
   "id": "434b10c8",
   "metadata": {},
   "source": [
    "### MPC trace H"
   ]
  },
  {
   "cell_type": "code",
   "execution_count": 33,
   "id": "b1830753",
   "metadata": {},
   "outputs": [],
   "source": [
    "H = 5\n",
    "l_mpc=pd.DataFrame() \n",
    "l_mpc['lat'], l_mpc['lon'] = pymap3d.enu2geodetic(Data_MPC[H]['x'], Data_MPC[H]['y'], Data_MPC[H]['u_enu'], lat0, lon0, h0, ell=ell_grs80)[0:2]\n",
    "l_mpc['marker-color'] = '#7CFC00'\n",
    "l_mpc.to_csv(sol_file+'/visualisation-map/'+dataset+'_'+user+'_mpc_'+str(H)+'.csv')"
   ]
  }
 ],
 "metadata": {
  "kernelspec": {
   "display_name": "Python 3 (ipykernel)",
   "language": "python",
   "name": "python3"
  },
  "language_info": {
   "codemirror_mode": {
    "name": "ipython",
    "version": 3
   },
   "file_extension": ".py",
   "mimetype": "text/x-python",
   "name": "python",
   "nbconvert_exporter": "python",
   "pygments_lexer": "ipython3",
   "version": "3.7.4"
  },
  "widgets": {
   "application/vnd.jupyter.widget-state+json": {
    "state": {},
    "version_major": 2,
    "version_minor": 0
   }
  }
 },
 "nbformat": 4,
 "nbformat_minor": 5
}
